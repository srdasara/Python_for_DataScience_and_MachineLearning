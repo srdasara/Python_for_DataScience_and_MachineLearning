{
 "cells": [
  {
   "cell_type": "markdown",
   "metadata": {},
   "source": [
    "___\n",
    "\n",
    "<a href='http://www.pieriandata.com'> <img src='../Pierian_Data_Logo.png' /></a>\n",
    "___\n",
    "# Plotly and Cufflinks"
   ]
  },
  {
   "cell_type": "markdown",
   "metadata": {},
   "source": [
    "Plotly is a library that allows you to create interactive plots that you can use in dashboards or websites (you can save them as html files or static images).\n",
    "\n",
    "## Installation\n",
    "\n",
    "In order for this all to work, you'll need to install plotly and cufflinks to call plots directly off of a pandas dataframe. These libraries are not currently available through **conda** but are available through **pip**. Install the libraries at your command line/terminal using:\n",
    "\n",
    "    pip install plotly\n",
    "    pip install cufflinks\n",
    "\n",
    "** NOTE: Make sure you only have one installation of Python on your computer when you do this, otherwise the installation may not work. **\n",
    "\n",
    "## Imports and Set-up"
   ]
  },
  {
   "cell_type": "code",
   "execution_count": 1,
   "metadata": {},
   "outputs": [],
   "source": [
    "import pandas as pd\n",
    "import numpy as np\n",
    "%matplotlib inline"
   ]
  },
  {
   "cell_type": "code",
   "execution_count": 2,
   "metadata": {},
   "outputs": [
    {
     "name": "stdout",
     "output_type": "stream",
     "text": [
      "5.6.0\n"
     ]
    }
   ],
   "source": [
    "from plotly import __version__\n",
    "from plotly.offline import download_plotlyjs, init_notebook_mode, plot, iplot\n",
    "\n",
    "print(__version__) # requires version >= 1.9.0"
   ]
  },
  {
   "cell_type": "code",
   "execution_count": 3,
   "metadata": {},
   "outputs": [],
   "source": [
    "import cufflinks as cf"
   ]
  },
  {
   "cell_type": "code",
   "execution_count": 4,
   "metadata": {},
   "outputs": [
    {
     "data": {
      "text/html": [
       "        <script type=\"text/javascript\">\n",
       "        window.PlotlyConfig = {MathJaxConfig: 'local'};\n",
       "        if (window.MathJax) {MathJax.Hub.Config({SVG: {font: \"STIX-Web\"}});}\n",
       "        if (typeof require !== 'undefined') {\n",
       "        require.undef(\"plotly\");\n",
       "        requirejs.config({\n",
       "            paths: {\n",
       "                'plotly': ['https://cdn.plot.ly/plotly-2.9.0.min']\n",
       "            }\n",
       "        });\n",
       "        require(['plotly'], function(Plotly) {\n",
       "            window._Plotly = Plotly;\n",
       "        });\n",
       "        }\n",
       "        </script>\n",
       "        "
      ]
     },
     "metadata": {},
     "output_type": "display_data"
    }
   ],
   "source": [
    "# For Notebooks\n",
    "init_notebook_mode(connected=True)"
   ]
  },
  {
   "cell_type": "code",
   "execution_count": 5,
   "metadata": {},
   "outputs": [
    {
     "data": {
      "text/html": [
       "        <script type=\"text/javascript\">\n",
       "        window.PlotlyConfig = {MathJaxConfig: 'local'};\n",
       "        if (window.MathJax) {MathJax.Hub.Config({SVG: {font: \"STIX-Web\"}});}\n",
       "        if (typeof require !== 'undefined') {\n",
       "        require.undef(\"plotly\");\n",
       "        requirejs.config({\n",
       "            paths: {\n",
       "                'plotly': ['https://cdn.plot.ly/plotly-2.9.0.min']\n",
       "            }\n",
       "        });\n",
       "        require(['plotly'], function(Plotly) {\n",
       "            window._Plotly = Plotly;\n",
       "        });\n",
       "        }\n",
       "        </script>\n",
       "        "
      ]
     },
     "metadata": {},
     "output_type": "display_data"
    }
   ],
   "source": [
    "# For offline use\n",
    "cf.go_offline()"
   ]
  },
  {
   "cell_type": "markdown",
   "metadata": {},
   "source": [
    "### Fake Data"
   ]
  },
  {
   "cell_type": "code",
   "execution_count": 6,
   "metadata": {},
   "outputs": [],
   "source": [
    "df = pd.DataFrame(np.random.randn(100,4),columns='A B C D'.split())"
   ]
  },
  {
   "cell_type": "code",
   "execution_count": 7,
   "metadata": {},
   "outputs": [
    {
     "data": {
      "text/html": [
       "<div>\n",
       "<style scoped>\n",
       "    .dataframe tbody tr th:only-of-type {\n",
       "        vertical-align: middle;\n",
       "    }\n",
       "\n",
       "    .dataframe tbody tr th {\n",
       "        vertical-align: top;\n",
       "    }\n",
       "\n",
       "    .dataframe thead th {\n",
       "        text-align: right;\n",
       "    }\n",
       "</style>\n",
       "<table border=\"1\" class=\"dataframe\">\n",
       "  <thead>\n",
       "    <tr style=\"text-align: right;\">\n",
       "      <th></th>\n",
       "      <th>A</th>\n",
       "      <th>B</th>\n",
       "      <th>C</th>\n",
       "      <th>D</th>\n",
       "    </tr>\n",
       "  </thead>\n",
       "  <tbody>\n",
       "    <tr>\n",
       "      <th>0</th>\n",
       "      <td>-1.940080</td>\n",
       "      <td>-0.894994</td>\n",
       "      <td>0.418275</td>\n",
       "      <td>0.949040</td>\n",
       "    </tr>\n",
       "    <tr>\n",
       "      <th>1</th>\n",
       "      <td>1.247986</td>\n",
       "      <td>-0.100817</td>\n",
       "      <td>-0.950165</td>\n",
       "      <td>-0.581790</td>\n",
       "    </tr>\n",
       "    <tr>\n",
       "      <th>2</th>\n",
       "      <td>0.005552</td>\n",
       "      <td>-0.593507</td>\n",
       "      <td>1.957249</td>\n",
       "      <td>1.375133</td>\n",
       "    </tr>\n",
       "    <tr>\n",
       "      <th>3</th>\n",
       "      <td>-1.002714</td>\n",
       "      <td>-0.393169</td>\n",
       "      <td>0.029550</td>\n",
       "      <td>0.698341</td>\n",
       "    </tr>\n",
       "    <tr>\n",
       "      <th>4</th>\n",
       "      <td>1.281720</td>\n",
       "      <td>0.405306</td>\n",
       "      <td>1.729642</td>\n",
       "      <td>1.320294</td>\n",
       "    </tr>\n",
       "  </tbody>\n",
       "</table>\n",
       "</div>"
      ],
      "text/plain": [
       "          A         B         C         D\n",
       "0 -1.940080 -0.894994  0.418275  0.949040\n",
       "1  1.247986 -0.100817 -0.950165 -0.581790\n",
       "2  0.005552 -0.593507  1.957249  1.375133\n",
       "3 -1.002714 -0.393169  0.029550  0.698341\n",
       "4  1.281720  0.405306  1.729642  1.320294"
      ]
     },
     "execution_count": 7,
     "metadata": {},
     "output_type": "execute_result"
    }
   ],
   "source": [
    "df.head()"
   ]
  },
  {
   "cell_type": "code",
   "execution_count": 8,
   "metadata": {},
   "outputs": [],
   "source": [
    "df2 = pd.DataFrame({'Category':['A','B','C'],'Values':[32,43,50]})"
   ]
  },
  {
   "cell_type": "code",
   "execution_count": 9,
   "metadata": {},
   "outputs": [
    {
     "data": {
      "text/html": [
       "<div>\n",
       "<style scoped>\n",
       "    .dataframe tbody tr th:only-of-type {\n",
       "        vertical-align: middle;\n",
       "    }\n",
       "\n",
       "    .dataframe tbody tr th {\n",
       "        vertical-align: top;\n",
       "    }\n",
       "\n",
       "    .dataframe thead th {\n",
       "        text-align: right;\n",
       "    }\n",
       "</style>\n",
       "<table border=\"1\" class=\"dataframe\">\n",
       "  <thead>\n",
       "    <tr style=\"text-align: right;\">\n",
       "      <th></th>\n",
       "      <th>Category</th>\n",
       "      <th>Values</th>\n",
       "    </tr>\n",
       "  </thead>\n",
       "  <tbody>\n",
       "    <tr>\n",
       "      <th>0</th>\n",
       "      <td>A</td>\n",
       "      <td>32</td>\n",
       "    </tr>\n",
       "    <tr>\n",
       "      <th>1</th>\n",
       "      <td>B</td>\n",
       "      <td>43</td>\n",
       "    </tr>\n",
       "    <tr>\n",
       "      <th>2</th>\n",
       "      <td>C</td>\n",
       "      <td>50</td>\n",
       "    </tr>\n",
       "  </tbody>\n",
       "</table>\n",
       "</div>"
      ],
      "text/plain": [
       "  Category  Values\n",
       "0        A      32\n",
       "1        B      43\n",
       "2        C      50"
      ]
     },
     "execution_count": 9,
     "metadata": {},
     "output_type": "execute_result"
    }
   ],
   "source": [
    "df2.head()"
   ]
  },
  {
   "cell_type": "markdown",
   "metadata": {},
   "source": [
    "## Using Cufflinks and iplot()\n",
    "\n",
    "* scatter\n",
    "* bar\n",
    "* box\n",
    "* spread\n",
    "* ratio\n",
    "* heatmap\n",
    "* surface\n",
    "* histogram\n",
    "* bubble"
   ]
  },
  {
   "cell_type": "markdown",
   "metadata": {},
   "source": [
    "## Scatter"
   ]
  },
  {
   "cell_type": "code",
   "execution_count": 10,
   "metadata": {},
   "outputs": [
    {
     "data": {
      "application/vnd.plotly.v1+json": {
       "config": {
        "linkText": "Export to plot.ly",
        "plotlyServerURL": "https://plot.ly",
        "showLink": true
       },
       "data": [
        {
         "line": {
          "color": "rgba(255, 153, 51, 1.0)",
          "dash": "solid",
          "shape": "linear",
          "width": 1.3
         },
         "marker": {
          "size": 10,
          "symbol": "circle"
         },
         "mode": "markers",
         "name": "B",
         "text": "",
         "type": "scatter",
         "x": [
          -1.940080026219166,
          1.247986255885124,
          0.005552480825121469,
          -1.0027143906099687,
          1.2817199630272835,
          0.6476225955696181,
          -0.47082217801973575,
          -0.7832385517451328,
          -0.03200880067877387,
          -1.7768059287110718,
          1.554472601034797,
          -0.5424463994084257,
          -0.6543854872054302,
          -0.11738188392573798,
          0.4472596966018866,
          0.9093536171517177,
          -1.2083688867665092,
          0.9646113134652564,
          -1.2816508421771076,
          0.21107539625334415,
          1.6477264512828698,
          -0.10189852530746328,
          0.40252833411893363,
          -0.09916223822923723,
          -0.4017650661321447,
          0.8487489560918642,
          0.43447876816581626,
          0.8597839810516802,
          -0.14736283054749616,
          -0.9783737935958959,
          2.2378199514306165,
          0.36734697202218997,
          1.451139684431283,
          -1.6859788511506248,
          0.8156220067880682,
          0.3636193503509781,
          0.33828766799380217,
          -0.6492731530581983,
          -2.8505206810637653,
          0.7693755173217187,
          0.1558705587486528,
          0.5465230891949352,
          0.15193705928030185,
          -1.826760068829946,
          -0.6431764080889432,
          -0.37872160024822626,
          0.21957155520063143,
          2.4220943729305358,
          0.5017857089929868,
          -1.1935585863968063,
          0.47459309666712834,
          0.7463595991333764,
          -1.0385638073567438,
          -2.3737232986666266,
          -1.0022689901390849,
          0.7571215212013698,
          0.9851483833519586,
          -0.6770938029644872,
          1.1955696275365801,
          -2.0258331094509665,
          -0.9855329381386819,
          0.9925207813085811,
          1.3443541412173972,
          0.13503474291828854,
          -0.4743272748816833,
          0.7481539445445763,
          -1.7348108003535843,
          -3.102177455400545,
          -1.867960929691828,
          -1.2183171880602917,
          0.39246813826290783,
          0.6284204223734368,
          1.8605513840343577,
          1.9154258112084859,
          -0.46697846254948916,
          1.5060756881486907,
          -1.1039222700653184,
          -0.7010077581019479,
          -1.8923727669450956,
          -0.7589049198697577,
          0.21997246180406196,
          -0.2527842438625434,
          -0.48854645727572715,
          1.146553248248512,
          2.6426699786080716,
          0.8951646903900001,
          -0.0710513488662732,
          -0.3578505923475407,
          -0.1634696762619168,
          0.06029513149636131,
          0.3497535135832744,
          0.2629004354778632,
          -1.6511333120143168,
          0.372438904621618,
          -0.18192482315461628,
          -1.437435952875453,
          0.11425385213665518,
          -1.311521797467715,
          -2.9587834307624434,
          1.0067860750661797
         ],
         "y": [
          -0.8949939745562235,
          -0.10081740469638696,
          -0.5935067963171174,
          -0.39316865154173963,
          0.40530630884910174,
          0.4586602330973266,
          0.9834194539677105,
          1.0008170337160616,
          0.6030604319208548,
          -1.24108213598008,
          0.6689774898417429,
          -1.7462108536179457,
          -0.49760399092156954,
          -0.35549370576405054,
          -1.042569669464304,
          -0.0012514324728663954,
          -0.6000537686913945,
          -0.5448907056572506,
          1.5360712274734536,
          -0.6416666847641722,
          -0.23730111471320048,
          -1.9023180967798081,
          1.6179485129432796,
          0.14880660875385976,
          2.0441521792700987,
          0.3403729778944682,
          -0.508956726544393,
          1.1481932564207318,
          -0.3323660527558092,
          -0.19585493608830828,
          0.009222766308319844,
          1.3766369986117681,
          0.04719858580821799,
          -1.887111341025749,
          0.8190994981172213,
          -1.0882829136872194,
          1.713900352441491,
          1.6816712616821259,
          0.2640072561934476,
          0.04329219467970145,
          -1.2530505045188787,
          0.38814340584746565,
          -0.4434718283401896,
          0.12642724807207012,
          -2.4674451497537824,
          0.7687234852560618,
          0.36184772293800566,
          -0.1459995427596467,
          -2.374448822101066,
          -0.6903197788738283,
          -0.07681640573681076,
          1.5982843804729183,
          0.6574577228634556,
          -1.3313447710935715,
          -0.8526543736985225,
          -1.8452306890564831,
          -0.1514233262920145,
          -0.8633051326821842,
          -1.0017436343534927,
          -1.3299139838047351,
          0.5916940532051198,
          -0.8651375029310416,
          -0.32009101541491985,
          -0.3654722562092443,
          -1.433984143611732,
          0.046752121963915455,
          0.8182820699799663,
          2.13535371933534,
          0.2779020791211278,
          -0.22536633800848135,
          1.370298339387019,
          1.1804702035266532,
          -0.4798839956833346,
          0.1480843397175848,
          1.4503741015343206,
          0.2572218755942087,
          1.4656438725645362,
          1.1793718781619216,
          0.1405436064845857,
          -0.4499771793631353,
          0.2343228911286889,
          -0.5273323738992424,
          -0.5375462248038378,
          1.1351118569437255,
          0.20135904847445885,
          0.8642497522520891,
          -1.8006558173862532,
          -0.636753333865244,
          0.9364758180016151,
          -1.7859586833873624,
          0.5438744516541609,
          -0.3244573292684904,
          0.7979614454157512,
          0.3750242000269216,
          1.0765539082605646,
          -0.45588275285980817,
          -0.4020319590780695,
          0.2419633355288673,
          -0.995910690697996,
          0.5744258727357455
         ]
        }
       ],
       "layout": {
        "legend": {
         "bgcolor": "#F5F6F9",
         "font": {
          "color": "#4D5663"
         }
        },
        "paper_bgcolor": "#F5F6F9",
        "plot_bgcolor": "#F5F6F9",
        "template": {
         "data": {
          "bar": [
           {
            "error_x": {
             "color": "#2a3f5f"
            },
            "error_y": {
             "color": "#2a3f5f"
            },
            "marker": {
             "line": {
              "color": "#E5ECF6",
              "width": 0.5
             },
             "pattern": {
              "fillmode": "overlay",
              "size": 10,
              "solidity": 0.2
             }
            },
            "type": "bar"
           }
          ],
          "barpolar": [
           {
            "marker": {
             "line": {
              "color": "#E5ECF6",
              "width": 0.5
             },
             "pattern": {
              "fillmode": "overlay",
              "size": 10,
              "solidity": 0.2
             }
            },
            "type": "barpolar"
           }
          ],
          "carpet": [
           {
            "aaxis": {
             "endlinecolor": "#2a3f5f",
             "gridcolor": "white",
             "linecolor": "white",
             "minorgridcolor": "white",
             "startlinecolor": "#2a3f5f"
            },
            "baxis": {
             "endlinecolor": "#2a3f5f",
             "gridcolor": "white",
             "linecolor": "white",
             "minorgridcolor": "white",
             "startlinecolor": "#2a3f5f"
            },
            "type": "carpet"
           }
          ],
          "choropleth": [
           {
            "colorbar": {
             "outlinewidth": 0,
             "ticks": ""
            },
            "type": "choropleth"
           }
          ],
          "contour": [
           {
            "colorbar": {
             "outlinewidth": 0,
             "ticks": ""
            },
            "colorscale": [
             [
              0,
              "#0d0887"
             ],
             [
              0.1111111111111111,
              "#46039f"
             ],
             [
              0.2222222222222222,
              "#7201a8"
             ],
             [
              0.3333333333333333,
              "#9c179e"
             ],
             [
              0.4444444444444444,
              "#bd3786"
             ],
             [
              0.5555555555555556,
              "#d8576b"
             ],
             [
              0.6666666666666666,
              "#ed7953"
             ],
             [
              0.7777777777777778,
              "#fb9f3a"
             ],
             [
              0.8888888888888888,
              "#fdca26"
             ],
             [
              1,
              "#f0f921"
             ]
            ],
            "type": "contour"
           }
          ],
          "contourcarpet": [
           {
            "colorbar": {
             "outlinewidth": 0,
             "ticks": ""
            },
            "type": "contourcarpet"
           }
          ],
          "heatmap": [
           {
            "colorbar": {
             "outlinewidth": 0,
             "ticks": ""
            },
            "colorscale": [
             [
              0,
              "#0d0887"
             ],
             [
              0.1111111111111111,
              "#46039f"
             ],
             [
              0.2222222222222222,
              "#7201a8"
             ],
             [
              0.3333333333333333,
              "#9c179e"
             ],
             [
              0.4444444444444444,
              "#bd3786"
             ],
             [
              0.5555555555555556,
              "#d8576b"
             ],
             [
              0.6666666666666666,
              "#ed7953"
             ],
             [
              0.7777777777777778,
              "#fb9f3a"
             ],
             [
              0.8888888888888888,
              "#fdca26"
             ],
             [
              1,
              "#f0f921"
             ]
            ],
            "type": "heatmap"
           }
          ],
          "heatmapgl": [
           {
            "colorbar": {
             "outlinewidth": 0,
             "ticks": ""
            },
            "colorscale": [
             [
              0,
              "#0d0887"
             ],
             [
              0.1111111111111111,
              "#46039f"
             ],
             [
              0.2222222222222222,
              "#7201a8"
             ],
             [
              0.3333333333333333,
              "#9c179e"
             ],
             [
              0.4444444444444444,
              "#bd3786"
             ],
             [
              0.5555555555555556,
              "#d8576b"
             ],
             [
              0.6666666666666666,
              "#ed7953"
             ],
             [
              0.7777777777777778,
              "#fb9f3a"
             ],
             [
              0.8888888888888888,
              "#fdca26"
             ],
             [
              1,
              "#f0f921"
             ]
            ],
            "type": "heatmapgl"
           }
          ],
          "histogram": [
           {
            "marker": {
             "pattern": {
              "fillmode": "overlay",
              "size": 10,
              "solidity": 0.2
             }
            },
            "type": "histogram"
           }
          ],
          "histogram2d": [
           {
            "colorbar": {
             "outlinewidth": 0,
             "ticks": ""
            },
            "colorscale": [
             [
              0,
              "#0d0887"
             ],
             [
              0.1111111111111111,
              "#46039f"
             ],
             [
              0.2222222222222222,
              "#7201a8"
             ],
             [
              0.3333333333333333,
              "#9c179e"
             ],
             [
              0.4444444444444444,
              "#bd3786"
             ],
             [
              0.5555555555555556,
              "#d8576b"
             ],
             [
              0.6666666666666666,
              "#ed7953"
             ],
             [
              0.7777777777777778,
              "#fb9f3a"
             ],
             [
              0.8888888888888888,
              "#fdca26"
             ],
             [
              1,
              "#f0f921"
             ]
            ],
            "type": "histogram2d"
           }
          ],
          "histogram2dcontour": [
           {
            "colorbar": {
             "outlinewidth": 0,
             "ticks": ""
            },
            "colorscale": [
             [
              0,
              "#0d0887"
             ],
             [
              0.1111111111111111,
              "#46039f"
             ],
             [
              0.2222222222222222,
              "#7201a8"
             ],
             [
              0.3333333333333333,
              "#9c179e"
             ],
             [
              0.4444444444444444,
              "#bd3786"
             ],
             [
              0.5555555555555556,
              "#d8576b"
             ],
             [
              0.6666666666666666,
              "#ed7953"
             ],
             [
              0.7777777777777778,
              "#fb9f3a"
             ],
             [
              0.8888888888888888,
              "#fdca26"
             ],
             [
              1,
              "#f0f921"
             ]
            ],
            "type": "histogram2dcontour"
           }
          ],
          "mesh3d": [
           {
            "colorbar": {
             "outlinewidth": 0,
             "ticks": ""
            },
            "type": "mesh3d"
           }
          ],
          "parcoords": [
           {
            "line": {
             "colorbar": {
              "outlinewidth": 0,
              "ticks": ""
             }
            },
            "type": "parcoords"
           }
          ],
          "pie": [
           {
            "automargin": true,
            "type": "pie"
           }
          ],
          "scatter": [
           {
            "marker": {
             "colorbar": {
              "outlinewidth": 0,
              "ticks": ""
             }
            },
            "type": "scatter"
           }
          ],
          "scatter3d": [
           {
            "line": {
             "colorbar": {
              "outlinewidth": 0,
              "ticks": ""
             }
            },
            "marker": {
             "colorbar": {
              "outlinewidth": 0,
              "ticks": ""
             }
            },
            "type": "scatter3d"
           }
          ],
          "scattercarpet": [
           {
            "marker": {
             "colorbar": {
              "outlinewidth": 0,
              "ticks": ""
             }
            },
            "type": "scattercarpet"
           }
          ],
          "scattergeo": [
           {
            "marker": {
             "colorbar": {
              "outlinewidth": 0,
              "ticks": ""
             }
            },
            "type": "scattergeo"
           }
          ],
          "scattergl": [
           {
            "marker": {
             "colorbar": {
              "outlinewidth": 0,
              "ticks": ""
             }
            },
            "type": "scattergl"
           }
          ],
          "scattermapbox": [
           {
            "marker": {
             "colorbar": {
              "outlinewidth": 0,
              "ticks": ""
             }
            },
            "type": "scattermapbox"
           }
          ],
          "scatterpolar": [
           {
            "marker": {
             "colorbar": {
              "outlinewidth": 0,
              "ticks": ""
             }
            },
            "type": "scatterpolar"
           }
          ],
          "scatterpolargl": [
           {
            "marker": {
             "colorbar": {
              "outlinewidth": 0,
              "ticks": ""
             }
            },
            "type": "scatterpolargl"
           }
          ],
          "scatterternary": [
           {
            "marker": {
             "colorbar": {
              "outlinewidth": 0,
              "ticks": ""
             }
            },
            "type": "scatterternary"
           }
          ],
          "surface": [
           {
            "colorbar": {
             "outlinewidth": 0,
             "ticks": ""
            },
            "colorscale": [
             [
              0,
              "#0d0887"
             ],
             [
              0.1111111111111111,
              "#46039f"
             ],
             [
              0.2222222222222222,
              "#7201a8"
             ],
             [
              0.3333333333333333,
              "#9c179e"
             ],
             [
              0.4444444444444444,
              "#bd3786"
             ],
             [
              0.5555555555555556,
              "#d8576b"
             ],
             [
              0.6666666666666666,
              "#ed7953"
             ],
             [
              0.7777777777777778,
              "#fb9f3a"
             ],
             [
              0.8888888888888888,
              "#fdca26"
             ],
             [
              1,
              "#f0f921"
             ]
            ],
            "type": "surface"
           }
          ],
          "table": [
           {
            "cells": {
             "fill": {
              "color": "#EBF0F8"
             },
             "line": {
              "color": "white"
             }
            },
            "header": {
             "fill": {
              "color": "#C8D4E3"
             },
             "line": {
              "color": "white"
             }
            },
            "type": "table"
           }
          ]
         },
         "layout": {
          "annotationdefaults": {
           "arrowcolor": "#2a3f5f",
           "arrowhead": 0,
           "arrowwidth": 1
          },
          "autotypenumbers": "strict",
          "coloraxis": {
           "colorbar": {
            "outlinewidth": 0,
            "ticks": ""
           }
          },
          "colorscale": {
           "diverging": [
            [
             0,
             "#8e0152"
            ],
            [
             0.1,
             "#c51b7d"
            ],
            [
             0.2,
             "#de77ae"
            ],
            [
             0.3,
             "#f1b6da"
            ],
            [
             0.4,
             "#fde0ef"
            ],
            [
             0.5,
             "#f7f7f7"
            ],
            [
             0.6,
             "#e6f5d0"
            ],
            [
             0.7,
             "#b8e186"
            ],
            [
             0.8,
             "#7fbc41"
            ],
            [
             0.9,
             "#4d9221"
            ],
            [
             1,
             "#276419"
            ]
           ],
           "sequential": [
            [
             0,
             "#0d0887"
            ],
            [
             0.1111111111111111,
             "#46039f"
            ],
            [
             0.2222222222222222,
             "#7201a8"
            ],
            [
             0.3333333333333333,
             "#9c179e"
            ],
            [
             0.4444444444444444,
             "#bd3786"
            ],
            [
             0.5555555555555556,
             "#d8576b"
            ],
            [
             0.6666666666666666,
             "#ed7953"
            ],
            [
             0.7777777777777778,
             "#fb9f3a"
            ],
            [
             0.8888888888888888,
             "#fdca26"
            ],
            [
             1,
             "#f0f921"
            ]
           ],
           "sequentialminus": [
            [
             0,
             "#0d0887"
            ],
            [
             0.1111111111111111,
             "#46039f"
            ],
            [
             0.2222222222222222,
             "#7201a8"
            ],
            [
             0.3333333333333333,
             "#9c179e"
            ],
            [
             0.4444444444444444,
             "#bd3786"
            ],
            [
             0.5555555555555556,
             "#d8576b"
            ],
            [
             0.6666666666666666,
             "#ed7953"
            ],
            [
             0.7777777777777778,
             "#fb9f3a"
            ],
            [
             0.8888888888888888,
             "#fdca26"
            ],
            [
             1,
             "#f0f921"
            ]
           ]
          },
          "colorway": [
           "#636efa",
           "#EF553B",
           "#00cc96",
           "#ab63fa",
           "#FFA15A",
           "#19d3f3",
           "#FF6692",
           "#B6E880",
           "#FF97FF",
           "#FECB52"
          ],
          "font": {
           "color": "#2a3f5f"
          },
          "geo": {
           "bgcolor": "white",
           "lakecolor": "white",
           "landcolor": "#E5ECF6",
           "showlakes": true,
           "showland": true,
           "subunitcolor": "white"
          },
          "hoverlabel": {
           "align": "left"
          },
          "hovermode": "closest",
          "mapbox": {
           "style": "light"
          },
          "paper_bgcolor": "white",
          "plot_bgcolor": "#E5ECF6",
          "polar": {
           "angularaxis": {
            "gridcolor": "white",
            "linecolor": "white",
            "ticks": ""
           },
           "bgcolor": "#E5ECF6",
           "radialaxis": {
            "gridcolor": "white",
            "linecolor": "white",
            "ticks": ""
           }
          },
          "scene": {
           "xaxis": {
            "backgroundcolor": "#E5ECF6",
            "gridcolor": "white",
            "gridwidth": 2,
            "linecolor": "white",
            "showbackground": true,
            "ticks": "",
            "zerolinecolor": "white"
           },
           "yaxis": {
            "backgroundcolor": "#E5ECF6",
            "gridcolor": "white",
            "gridwidth": 2,
            "linecolor": "white",
            "showbackground": true,
            "ticks": "",
            "zerolinecolor": "white"
           },
           "zaxis": {
            "backgroundcolor": "#E5ECF6",
            "gridcolor": "white",
            "gridwidth": 2,
            "linecolor": "white",
            "showbackground": true,
            "ticks": "",
            "zerolinecolor": "white"
           }
          },
          "shapedefaults": {
           "line": {
            "color": "#2a3f5f"
           }
          },
          "ternary": {
           "aaxis": {
            "gridcolor": "white",
            "linecolor": "white",
            "ticks": ""
           },
           "baxis": {
            "gridcolor": "white",
            "linecolor": "white",
            "ticks": ""
           },
           "bgcolor": "#E5ECF6",
           "caxis": {
            "gridcolor": "white",
            "linecolor": "white",
            "ticks": ""
           }
          },
          "title": {
           "x": 0.05
          },
          "xaxis": {
           "automargin": true,
           "gridcolor": "white",
           "linecolor": "white",
           "ticks": "",
           "title": {
            "standoff": 15
           },
           "zerolinecolor": "white",
           "zerolinewidth": 2
          },
          "yaxis": {
           "automargin": true,
           "gridcolor": "white",
           "linecolor": "white",
           "ticks": "",
           "title": {
            "standoff": 15
           },
           "zerolinecolor": "white",
           "zerolinewidth": 2
          }
         }
        },
        "title": {
         "font": {
          "color": "#4D5663"
         }
        },
        "xaxis": {
         "gridcolor": "#E1E5ED",
         "showgrid": true,
         "tickfont": {
          "color": "#4D5663"
         },
         "title": {
          "font": {
           "color": "#4D5663"
          },
          "text": ""
         },
         "zerolinecolor": "#E1E5ED"
        },
        "yaxis": {
         "gridcolor": "#E1E5ED",
         "showgrid": true,
         "tickfont": {
          "color": "#4D5663"
         },
         "title": {
          "font": {
           "color": "#4D5663"
          },
          "text": ""
         },
         "zerolinecolor": "#E1E5ED"
        }
       }
      },
      "text/html": [
       "<div>                            <div id=\"5125a5e4-3532-41d2-9536-4e58e49f18fb\" class=\"plotly-graph-div\" style=\"height:525px; width:100%;\"></div>            <script type=\"text/javascript\">                require([\"plotly\"], function(Plotly) {                    window.PLOTLYENV=window.PLOTLYENV || {};\n",
       "                    window.PLOTLYENV.BASE_URL='https://plot.ly';                                    if (document.getElementById(\"5125a5e4-3532-41d2-9536-4e58e49f18fb\")) {                    Plotly.newPlot(                        \"5125a5e4-3532-41d2-9536-4e58e49f18fb\",                        [{\"line\":{\"color\":\"rgba(255, 153, 51, 1.0)\",\"dash\":\"solid\",\"shape\":\"linear\",\"width\":1.3},\"marker\":{\"size\":10,\"symbol\":\"circle\"},\"mode\":\"markers\",\"name\":\"B\",\"text\":\"\",\"x\":[-1.940080026219166,1.247986255885124,0.005552480825121469,-1.0027143906099687,1.2817199630272835,0.6476225955696181,-0.47082217801973575,-0.7832385517451328,-0.03200880067877387,-1.7768059287110718,1.554472601034797,-0.5424463994084257,-0.6543854872054302,-0.11738188392573798,0.4472596966018866,0.9093536171517177,-1.2083688867665092,0.9646113134652564,-1.2816508421771076,0.21107539625334415,1.6477264512828698,-0.10189852530746328,0.40252833411893363,-0.09916223822923723,-0.4017650661321447,0.8487489560918642,0.43447876816581626,0.8597839810516802,-0.14736283054749616,-0.9783737935958959,2.2378199514306165,0.36734697202218997,1.451139684431283,-1.6859788511506248,0.8156220067880682,0.3636193503509781,0.33828766799380217,-0.6492731530581983,-2.8505206810637653,0.7693755173217187,0.1558705587486528,0.5465230891949352,0.15193705928030185,-1.826760068829946,-0.6431764080889432,-0.37872160024822626,0.21957155520063143,2.4220943729305358,0.5017857089929868,-1.1935585863968063,0.47459309666712834,0.7463595991333764,-1.0385638073567438,-2.3737232986666266,-1.0022689901390849,0.7571215212013698,0.9851483833519586,-0.6770938029644872,1.1955696275365801,-2.0258331094509665,-0.9855329381386819,0.9925207813085811,1.3443541412173972,0.13503474291828854,-0.4743272748816833,0.7481539445445763,-1.7348108003535843,-3.102177455400545,-1.867960929691828,-1.2183171880602917,0.39246813826290783,0.6284204223734368,1.8605513840343577,1.9154258112084859,-0.46697846254948916,1.5060756881486907,-1.1039222700653184,-0.7010077581019479,-1.8923727669450956,-0.7589049198697577,0.21997246180406196,-0.2527842438625434,-0.48854645727572715,1.146553248248512,2.6426699786080716,0.8951646903900001,-0.0710513488662732,-0.3578505923475407,-0.1634696762619168,0.06029513149636131,0.3497535135832744,0.2629004354778632,-1.6511333120143168,0.372438904621618,-0.18192482315461628,-1.437435952875453,0.11425385213665518,-1.311521797467715,-2.9587834307624434,1.0067860750661797],\"y\":[-0.8949939745562235,-0.10081740469638696,-0.5935067963171174,-0.39316865154173963,0.40530630884910174,0.4586602330973266,0.9834194539677105,1.0008170337160616,0.6030604319208548,-1.24108213598008,0.6689774898417429,-1.7462108536179457,-0.49760399092156954,-0.35549370576405054,-1.042569669464304,-0.0012514324728663954,-0.6000537686913945,-0.5448907056572506,1.5360712274734536,-0.6416666847641722,-0.23730111471320048,-1.9023180967798081,1.6179485129432796,0.14880660875385976,2.0441521792700987,0.3403729778944682,-0.508956726544393,1.1481932564207318,-0.3323660527558092,-0.19585493608830828,0.009222766308319844,1.3766369986117681,0.04719858580821799,-1.887111341025749,0.8190994981172213,-1.0882829136872194,1.713900352441491,1.6816712616821259,0.2640072561934476,0.04329219467970145,-1.2530505045188787,0.38814340584746565,-0.4434718283401896,0.12642724807207012,-2.4674451497537824,0.7687234852560618,0.36184772293800566,-0.1459995427596467,-2.374448822101066,-0.6903197788738283,-0.07681640573681076,1.5982843804729183,0.6574577228634556,-1.3313447710935715,-0.8526543736985225,-1.8452306890564831,-0.1514233262920145,-0.8633051326821842,-1.0017436343534927,-1.3299139838047351,0.5916940532051198,-0.8651375029310416,-0.32009101541491985,-0.3654722562092443,-1.433984143611732,0.046752121963915455,0.8182820699799663,2.13535371933534,0.2779020791211278,-0.22536633800848135,1.370298339387019,1.1804702035266532,-0.4798839956833346,0.1480843397175848,1.4503741015343206,0.2572218755942087,1.4656438725645362,1.1793718781619216,0.1405436064845857,-0.4499771793631353,0.2343228911286889,-0.5273323738992424,-0.5375462248038378,1.1351118569437255,0.20135904847445885,0.8642497522520891,-1.8006558173862532,-0.636753333865244,0.9364758180016151,-1.7859586833873624,0.5438744516541609,-0.3244573292684904,0.7979614454157512,0.3750242000269216,1.0765539082605646,-0.45588275285980817,-0.4020319590780695,0.2419633355288673,-0.995910690697996,0.5744258727357455],\"type\":\"scatter\"}],                        {\"legend\":{\"bgcolor\":\"#F5F6F9\",\"font\":{\"color\":\"#4D5663\"}},\"paper_bgcolor\":\"#F5F6F9\",\"plot_bgcolor\":\"#F5F6F9\",\"template\":{\"data\":{\"barpolar\":[{\"marker\":{\"line\":{\"color\":\"#E5ECF6\",\"width\":0.5},\"pattern\":{\"fillmode\":\"overlay\",\"size\":10,\"solidity\":0.2}},\"type\":\"barpolar\"}],\"bar\":[{\"error_x\":{\"color\":\"#2a3f5f\"},\"error_y\":{\"color\":\"#2a3f5f\"},\"marker\":{\"line\":{\"color\":\"#E5ECF6\",\"width\":0.5},\"pattern\":{\"fillmode\":\"overlay\",\"size\":10,\"solidity\":0.2}},\"type\":\"bar\"}],\"carpet\":[{\"aaxis\":{\"endlinecolor\":\"#2a3f5f\",\"gridcolor\":\"white\",\"linecolor\":\"white\",\"minorgridcolor\":\"white\",\"startlinecolor\":\"#2a3f5f\"},\"baxis\":{\"endlinecolor\":\"#2a3f5f\",\"gridcolor\":\"white\",\"linecolor\":\"white\",\"minorgridcolor\":\"white\",\"startlinecolor\":\"#2a3f5f\"},\"type\":\"carpet\"}],\"choropleth\":[{\"colorbar\":{\"outlinewidth\":0,\"ticks\":\"\"},\"type\":\"choropleth\"}],\"contourcarpet\":[{\"colorbar\":{\"outlinewidth\":0,\"ticks\":\"\"},\"type\":\"contourcarpet\"}],\"contour\":[{\"colorbar\":{\"outlinewidth\":0,\"ticks\":\"\"},\"colorscale\":[[0.0,\"#0d0887\"],[0.1111111111111111,\"#46039f\"],[0.2222222222222222,\"#7201a8\"],[0.3333333333333333,\"#9c179e\"],[0.4444444444444444,\"#bd3786\"],[0.5555555555555556,\"#d8576b\"],[0.6666666666666666,\"#ed7953\"],[0.7777777777777778,\"#fb9f3a\"],[0.8888888888888888,\"#fdca26\"],[1.0,\"#f0f921\"]],\"type\":\"contour\"}],\"heatmapgl\":[{\"colorbar\":{\"outlinewidth\":0,\"ticks\":\"\"},\"colorscale\":[[0.0,\"#0d0887\"],[0.1111111111111111,\"#46039f\"],[0.2222222222222222,\"#7201a8\"],[0.3333333333333333,\"#9c179e\"],[0.4444444444444444,\"#bd3786\"],[0.5555555555555556,\"#d8576b\"],[0.6666666666666666,\"#ed7953\"],[0.7777777777777778,\"#fb9f3a\"],[0.8888888888888888,\"#fdca26\"],[1.0,\"#f0f921\"]],\"type\":\"heatmapgl\"}],\"heatmap\":[{\"colorbar\":{\"outlinewidth\":0,\"ticks\":\"\"},\"colorscale\":[[0.0,\"#0d0887\"],[0.1111111111111111,\"#46039f\"],[0.2222222222222222,\"#7201a8\"],[0.3333333333333333,\"#9c179e\"],[0.4444444444444444,\"#bd3786\"],[0.5555555555555556,\"#d8576b\"],[0.6666666666666666,\"#ed7953\"],[0.7777777777777778,\"#fb9f3a\"],[0.8888888888888888,\"#fdca26\"],[1.0,\"#f0f921\"]],\"type\":\"heatmap\"}],\"histogram2dcontour\":[{\"colorbar\":{\"outlinewidth\":0,\"ticks\":\"\"},\"colorscale\":[[0.0,\"#0d0887\"],[0.1111111111111111,\"#46039f\"],[0.2222222222222222,\"#7201a8\"],[0.3333333333333333,\"#9c179e\"],[0.4444444444444444,\"#bd3786\"],[0.5555555555555556,\"#d8576b\"],[0.6666666666666666,\"#ed7953\"],[0.7777777777777778,\"#fb9f3a\"],[0.8888888888888888,\"#fdca26\"],[1.0,\"#f0f921\"]],\"type\":\"histogram2dcontour\"}],\"histogram2d\":[{\"colorbar\":{\"outlinewidth\":0,\"ticks\":\"\"},\"colorscale\":[[0.0,\"#0d0887\"],[0.1111111111111111,\"#46039f\"],[0.2222222222222222,\"#7201a8\"],[0.3333333333333333,\"#9c179e\"],[0.4444444444444444,\"#bd3786\"],[0.5555555555555556,\"#d8576b\"],[0.6666666666666666,\"#ed7953\"],[0.7777777777777778,\"#fb9f3a\"],[0.8888888888888888,\"#fdca26\"],[1.0,\"#f0f921\"]],\"type\":\"histogram2d\"}],\"histogram\":[{\"marker\":{\"pattern\":{\"fillmode\":\"overlay\",\"size\":10,\"solidity\":0.2}},\"type\":\"histogram\"}],\"mesh3d\":[{\"colorbar\":{\"outlinewidth\":0,\"ticks\":\"\"},\"type\":\"mesh3d\"}],\"parcoords\":[{\"line\":{\"colorbar\":{\"outlinewidth\":0,\"ticks\":\"\"}},\"type\":\"parcoords\"}],\"pie\":[{\"automargin\":true,\"type\":\"pie\"}],\"scatter3d\":[{\"line\":{\"colorbar\":{\"outlinewidth\":0,\"ticks\":\"\"}},\"marker\":{\"colorbar\":{\"outlinewidth\":0,\"ticks\":\"\"}},\"type\":\"scatter3d\"}],\"scattercarpet\":[{\"marker\":{\"colorbar\":{\"outlinewidth\":0,\"ticks\":\"\"}},\"type\":\"scattercarpet\"}],\"scattergeo\":[{\"marker\":{\"colorbar\":{\"outlinewidth\":0,\"ticks\":\"\"}},\"type\":\"scattergeo\"}],\"scattergl\":[{\"marker\":{\"colorbar\":{\"outlinewidth\":0,\"ticks\":\"\"}},\"type\":\"scattergl\"}],\"scattermapbox\":[{\"marker\":{\"colorbar\":{\"outlinewidth\":0,\"ticks\":\"\"}},\"type\":\"scattermapbox\"}],\"scatterpolargl\":[{\"marker\":{\"colorbar\":{\"outlinewidth\":0,\"ticks\":\"\"}},\"type\":\"scatterpolargl\"}],\"scatterpolar\":[{\"marker\":{\"colorbar\":{\"outlinewidth\":0,\"ticks\":\"\"}},\"type\":\"scatterpolar\"}],\"scatter\":[{\"marker\":{\"colorbar\":{\"outlinewidth\":0,\"ticks\":\"\"}},\"type\":\"scatter\"}],\"scatterternary\":[{\"marker\":{\"colorbar\":{\"outlinewidth\":0,\"ticks\":\"\"}},\"type\":\"scatterternary\"}],\"surface\":[{\"colorbar\":{\"outlinewidth\":0,\"ticks\":\"\"},\"colorscale\":[[0.0,\"#0d0887\"],[0.1111111111111111,\"#46039f\"],[0.2222222222222222,\"#7201a8\"],[0.3333333333333333,\"#9c179e\"],[0.4444444444444444,\"#bd3786\"],[0.5555555555555556,\"#d8576b\"],[0.6666666666666666,\"#ed7953\"],[0.7777777777777778,\"#fb9f3a\"],[0.8888888888888888,\"#fdca26\"],[1.0,\"#f0f921\"]],\"type\":\"surface\"}],\"table\":[{\"cells\":{\"fill\":{\"color\":\"#EBF0F8\"},\"line\":{\"color\":\"white\"}},\"header\":{\"fill\":{\"color\":\"#C8D4E3\"},\"line\":{\"color\":\"white\"}},\"type\":\"table\"}]},\"layout\":{\"annotationdefaults\":{\"arrowcolor\":\"#2a3f5f\",\"arrowhead\":0,\"arrowwidth\":1},\"autotypenumbers\":\"strict\",\"coloraxis\":{\"colorbar\":{\"outlinewidth\":0,\"ticks\":\"\"}},\"colorscale\":{\"diverging\":[[0,\"#8e0152\"],[0.1,\"#c51b7d\"],[0.2,\"#de77ae\"],[0.3,\"#f1b6da\"],[0.4,\"#fde0ef\"],[0.5,\"#f7f7f7\"],[0.6,\"#e6f5d0\"],[0.7,\"#b8e186\"],[0.8,\"#7fbc41\"],[0.9,\"#4d9221\"],[1,\"#276419\"]],\"sequential\":[[0.0,\"#0d0887\"],[0.1111111111111111,\"#46039f\"],[0.2222222222222222,\"#7201a8\"],[0.3333333333333333,\"#9c179e\"],[0.4444444444444444,\"#bd3786\"],[0.5555555555555556,\"#d8576b\"],[0.6666666666666666,\"#ed7953\"],[0.7777777777777778,\"#fb9f3a\"],[0.8888888888888888,\"#fdca26\"],[1.0,\"#f0f921\"]],\"sequentialminus\":[[0.0,\"#0d0887\"],[0.1111111111111111,\"#46039f\"],[0.2222222222222222,\"#7201a8\"],[0.3333333333333333,\"#9c179e\"],[0.4444444444444444,\"#bd3786\"],[0.5555555555555556,\"#d8576b\"],[0.6666666666666666,\"#ed7953\"],[0.7777777777777778,\"#fb9f3a\"],[0.8888888888888888,\"#fdca26\"],[1.0,\"#f0f921\"]]},\"colorway\":[\"#636efa\",\"#EF553B\",\"#00cc96\",\"#ab63fa\",\"#FFA15A\",\"#19d3f3\",\"#FF6692\",\"#B6E880\",\"#FF97FF\",\"#FECB52\"],\"font\":{\"color\":\"#2a3f5f\"},\"geo\":{\"bgcolor\":\"white\",\"lakecolor\":\"white\",\"landcolor\":\"#E5ECF6\",\"showlakes\":true,\"showland\":true,\"subunitcolor\":\"white\"},\"hoverlabel\":{\"align\":\"left\"},\"hovermode\":\"closest\",\"mapbox\":{\"style\":\"light\"},\"paper_bgcolor\":\"white\",\"plot_bgcolor\":\"#E5ECF6\",\"polar\":{\"angularaxis\":{\"gridcolor\":\"white\",\"linecolor\":\"white\",\"ticks\":\"\"},\"bgcolor\":\"#E5ECF6\",\"radialaxis\":{\"gridcolor\":\"white\",\"linecolor\":\"white\",\"ticks\":\"\"}},\"scene\":{\"xaxis\":{\"backgroundcolor\":\"#E5ECF6\",\"gridcolor\":\"white\",\"gridwidth\":2,\"linecolor\":\"white\",\"showbackground\":true,\"ticks\":\"\",\"zerolinecolor\":\"white\"},\"yaxis\":{\"backgroundcolor\":\"#E5ECF6\",\"gridcolor\":\"white\",\"gridwidth\":2,\"linecolor\":\"white\",\"showbackground\":true,\"ticks\":\"\",\"zerolinecolor\":\"white\"},\"zaxis\":{\"backgroundcolor\":\"#E5ECF6\",\"gridcolor\":\"white\",\"gridwidth\":2,\"linecolor\":\"white\",\"showbackground\":true,\"ticks\":\"\",\"zerolinecolor\":\"white\"}},\"shapedefaults\":{\"line\":{\"color\":\"#2a3f5f\"}},\"ternary\":{\"aaxis\":{\"gridcolor\":\"white\",\"linecolor\":\"white\",\"ticks\":\"\"},\"baxis\":{\"gridcolor\":\"white\",\"linecolor\":\"white\",\"ticks\":\"\"},\"bgcolor\":\"#E5ECF6\",\"caxis\":{\"gridcolor\":\"white\",\"linecolor\":\"white\",\"ticks\":\"\"}},\"title\":{\"x\":0.05},\"xaxis\":{\"automargin\":true,\"gridcolor\":\"white\",\"linecolor\":\"white\",\"ticks\":\"\",\"title\":{\"standoff\":15},\"zerolinecolor\":\"white\",\"zerolinewidth\":2},\"yaxis\":{\"automargin\":true,\"gridcolor\":\"white\",\"linecolor\":\"white\",\"ticks\":\"\",\"title\":{\"standoff\":15},\"zerolinecolor\":\"white\",\"zerolinewidth\":2}}},\"title\":{\"font\":{\"color\":\"#4D5663\"}},\"xaxis\":{\"gridcolor\":\"#E1E5ED\",\"showgrid\":true,\"tickfont\":{\"color\":\"#4D5663\"},\"title\":{\"font\":{\"color\":\"#4D5663\"},\"text\":\"\"},\"zerolinecolor\":\"#E1E5ED\"},\"yaxis\":{\"gridcolor\":\"#E1E5ED\",\"showgrid\":true,\"tickfont\":{\"color\":\"#4D5663\"},\"title\":{\"font\":{\"color\":\"#4D5663\"},\"text\":\"\"},\"zerolinecolor\":\"#E1E5ED\"}},                        {\"showLink\": true, \"linkText\": \"Export to plot.ly\", \"plotlyServerURL\": \"https://plot.ly\", \"responsive\": true}                    ).then(function(){\n",
       "                            \n",
       "var gd = document.getElementById('5125a5e4-3532-41d2-9536-4e58e49f18fb');\n",
       "var x = new MutationObserver(function (mutations, observer) {{\n",
       "        var display = window.getComputedStyle(gd).display;\n",
       "        if (!display || display === 'none') {{\n",
       "            console.log([gd, 'removed!']);\n",
       "            Plotly.purge(gd);\n",
       "            observer.disconnect();\n",
       "        }}\n",
       "}});\n",
       "\n",
       "// Listen for the removal of the full notebook cells\n",
       "var notebookContainer = gd.closest('#notebook-container');\n",
       "if (notebookContainer) {{\n",
       "    x.observe(notebookContainer, {childList: true});\n",
       "}}\n",
       "\n",
       "// Listen for the clearing of the current output cell\n",
       "var outputEl = gd.closest('.output');\n",
       "if (outputEl) {{\n",
       "    x.observe(outputEl, {childList: true});\n",
       "}}\n",
       "\n",
       "                        })                };                });            </script>        </div>"
      ]
     },
     "metadata": {},
     "output_type": "display_data"
    }
   ],
   "source": [
    "df.iplot(kind='scatter',x='A',y='B',mode='markers',size=10)"
   ]
  },
  {
   "cell_type": "markdown",
   "metadata": {},
   "source": [
    "## Bar Plots"
   ]
  },
  {
   "cell_type": "code",
   "execution_count": 11,
   "metadata": {},
   "outputs": [
    {
     "data": {
      "application/vnd.plotly.v1+json": {
       "config": {
        "linkText": "Export to plot.ly",
        "plotlyServerURL": "https://plot.ly",
        "showLink": true
       },
       "data": [
        {
         "marker": {
          "color": "rgba(255, 153, 51, 0.6)",
          "line": {
           "color": "rgba(255, 153, 51, 1.0)",
           "width": 1
          }
         },
         "name": "Values",
         "orientation": "v",
         "text": "",
         "type": "bar",
         "x": [
          "A",
          "B",
          "C"
         ],
         "y": [
          32,
          43,
          50
         ]
        }
       ],
       "layout": {
        "legend": {
         "bgcolor": "#F5F6F9",
         "font": {
          "color": "#4D5663"
         }
        },
        "paper_bgcolor": "#F5F6F9",
        "plot_bgcolor": "#F5F6F9",
        "template": {
         "data": {
          "bar": [
           {
            "error_x": {
             "color": "#2a3f5f"
            },
            "error_y": {
             "color": "#2a3f5f"
            },
            "marker": {
             "line": {
              "color": "#E5ECF6",
              "width": 0.5
             },
             "pattern": {
              "fillmode": "overlay",
              "size": 10,
              "solidity": 0.2
             }
            },
            "type": "bar"
           }
          ],
          "barpolar": [
           {
            "marker": {
             "line": {
              "color": "#E5ECF6",
              "width": 0.5
             },
             "pattern": {
              "fillmode": "overlay",
              "size": 10,
              "solidity": 0.2
             }
            },
            "type": "barpolar"
           }
          ],
          "carpet": [
           {
            "aaxis": {
             "endlinecolor": "#2a3f5f",
             "gridcolor": "white",
             "linecolor": "white",
             "minorgridcolor": "white",
             "startlinecolor": "#2a3f5f"
            },
            "baxis": {
             "endlinecolor": "#2a3f5f",
             "gridcolor": "white",
             "linecolor": "white",
             "minorgridcolor": "white",
             "startlinecolor": "#2a3f5f"
            },
            "type": "carpet"
           }
          ],
          "choropleth": [
           {
            "colorbar": {
             "outlinewidth": 0,
             "ticks": ""
            },
            "type": "choropleth"
           }
          ],
          "contour": [
           {
            "colorbar": {
             "outlinewidth": 0,
             "ticks": ""
            },
            "colorscale": [
             [
              0,
              "#0d0887"
             ],
             [
              0.1111111111111111,
              "#46039f"
             ],
             [
              0.2222222222222222,
              "#7201a8"
             ],
             [
              0.3333333333333333,
              "#9c179e"
             ],
             [
              0.4444444444444444,
              "#bd3786"
             ],
             [
              0.5555555555555556,
              "#d8576b"
             ],
             [
              0.6666666666666666,
              "#ed7953"
             ],
             [
              0.7777777777777778,
              "#fb9f3a"
             ],
             [
              0.8888888888888888,
              "#fdca26"
             ],
             [
              1,
              "#f0f921"
             ]
            ],
            "type": "contour"
           }
          ],
          "contourcarpet": [
           {
            "colorbar": {
             "outlinewidth": 0,
             "ticks": ""
            },
            "type": "contourcarpet"
           }
          ],
          "heatmap": [
           {
            "colorbar": {
             "outlinewidth": 0,
             "ticks": ""
            },
            "colorscale": [
             [
              0,
              "#0d0887"
             ],
             [
              0.1111111111111111,
              "#46039f"
             ],
             [
              0.2222222222222222,
              "#7201a8"
             ],
             [
              0.3333333333333333,
              "#9c179e"
             ],
             [
              0.4444444444444444,
              "#bd3786"
             ],
             [
              0.5555555555555556,
              "#d8576b"
             ],
             [
              0.6666666666666666,
              "#ed7953"
             ],
             [
              0.7777777777777778,
              "#fb9f3a"
             ],
             [
              0.8888888888888888,
              "#fdca26"
             ],
             [
              1,
              "#f0f921"
             ]
            ],
            "type": "heatmap"
           }
          ],
          "heatmapgl": [
           {
            "colorbar": {
             "outlinewidth": 0,
             "ticks": ""
            },
            "colorscale": [
             [
              0,
              "#0d0887"
             ],
             [
              0.1111111111111111,
              "#46039f"
             ],
             [
              0.2222222222222222,
              "#7201a8"
             ],
             [
              0.3333333333333333,
              "#9c179e"
             ],
             [
              0.4444444444444444,
              "#bd3786"
             ],
             [
              0.5555555555555556,
              "#d8576b"
             ],
             [
              0.6666666666666666,
              "#ed7953"
             ],
             [
              0.7777777777777778,
              "#fb9f3a"
             ],
             [
              0.8888888888888888,
              "#fdca26"
             ],
             [
              1,
              "#f0f921"
             ]
            ],
            "type": "heatmapgl"
           }
          ],
          "histogram": [
           {
            "marker": {
             "pattern": {
              "fillmode": "overlay",
              "size": 10,
              "solidity": 0.2
             }
            },
            "type": "histogram"
           }
          ],
          "histogram2d": [
           {
            "colorbar": {
             "outlinewidth": 0,
             "ticks": ""
            },
            "colorscale": [
             [
              0,
              "#0d0887"
             ],
             [
              0.1111111111111111,
              "#46039f"
             ],
             [
              0.2222222222222222,
              "#7201a8"
             ],
             [
              0.3333333333333333,
              "#9c179e"
             ],
             [
              0.4444444444444444,
              "#bd3786"
             ],
             [
              0.5555555555555556,
              "#d8576b"
             ],
             [
              0.6666666666666666,
              "#ed7953"
             ],
             [
              0.7777777777777778,
              "#fb9f3a"
             ],
             [
              0.8888888888888888,
              "#fdca26"
             ],
             [
              1,
              "#f0f921"
             ]
            ],
            "type": "histogram2d"
           }
          ],
          "histogram2dcontour": [
           {
            "colorbar": {
             "outlinewidth": 0,
             "ticks": ""
            },
            "colorscale": [
             [
              0,
              "#0d0887"
             ],
             [
              0.1111111111111111,
              "#46039f"
             ],
             [
              0.2222222222222222,
              "#7201a8"
             ],
             [
              0.3333333333333333,
              "#9c179e"
             ],
             [
              0.4444444444444444,
              "#bd3786"
             ],
             [
              0.5555555555555556,
              "#d8576b"
             ],
             [
              0.6666666666666666,
              "#ed7953"
             ],
             [
              0.7777777777777778,
              "#fb9f3a"
             ],
             [
              0.8888888888888888,
              "#fdca26"
             ],
             [
              1,
              "#f0f921"
             ]
            ],
            "type": "histogram2dcontour"
           }
          ],
          "mesh3d": [
           {
            "colorbar": {
             "outlinewidth": 0,
             "ticks": ""
            },
            "type": "mesh3d"
           }
          ],
          "parcoords": [
           {
            "line": {
             "colorbar": {
              "outlinewidth": 0,
              "ticks": ""
             }
            },
            "type": "parcoords"
           }
          ],
          "pie": [
           {
            "automargin": true,
            "type": "pie"
           }
          ],
          "scatter": [
           {
            "marker": {
             "colorbar": {
              "outlinewidth": 0,
              "ticks": ""
             }
            },
            "type": "scatter"
           }
          ],
          "scatter3d": [
           {
            "line": {
             "colorbar": {
              "outlinewidth": 0,
              "ticks": ""
             }
            },
            "marker": {
             "colorbar": {
              "outlinewidth": 0,
              "ticks": ""
             }
            },
            "type": "scatter3d"
           }
          ],
          "scattercarpet": [
           {
            "marker": {
             "colorbar": {
              "outlinewidth": 0,
              "ticks": ""
             }
            },
            "type": "scattercarpet"
           }
          ],
          "scattergeo": [
           {
            "marker": {
             "colorbar": {
              "outlinewidth": 0,
              "ticks": ""
             }
            },
            "type": "scattergeo"
           }
          ],
          "scattergl": [
           {
            "marker": {
             "colorbar": {
              "outlinewidth": 0,
              "ticks": ""
             }
            },
            "type": "scattergl"
           }
          ],
          "scattermapbox": [
           {
            "marker": {
             "colorbar": {
              "outlinewidth": 0,
              "ticks": ""
             }
            },
            "type": "scattermapbox"
           }
          ],
          "scatterpolar": [
           {
            "marker": {
             "colorbar": {
              "outlinewidth": 0,
              "ticks": ""
             }
            },
            "type": "scatterpolar"
           }
          ],
          "scatterpolargl": [
           {
            "marker": {
             "colorbar": {
              "outlinewidth": 0,
              "ticks": ""
             }
            },
            "type": "scatterpolargl"
           }
          ],
          "scatterternary": [
           {
            "marker": {
             "colorbar": {
              "outlinewidth": 0,
              "ticks": ""
             }
            },
            "type": "scatterternary"
           }
          ],
          "surface": [
           {
            "colorbar": {
             "outlinewidth": 0,
             "ticks": ""
            },
            "colorscale": [
             [
              0,
              "#0d0887"
             ],
             [
              0.1111111111111111,
              "#46039f"
             ],
             [
              0.2222222222222222,
              "#7201a8"
             ],
             [
              0.3333333333333333,
              "#9c179e"
             ],
             [
              0.4444444444444444,
              "#bd3786"
             ],
             [
              0.5555555555555556,
              "#d8576b"
             ],
             [
              0.6666666666666666,
              "#ed7953"
             ],
             [
              0.7777777777777778,
              "#fb9f3a"
             ],
             [
              0.8888888888888888,
              "#fdca26"
             ],
             [
              1,
              "#f0f921"
             ]
            ],
            "type": "surface"
           }
          ],
          "table": [
           {
            "cells": {
             "fill": {
              "color": "#EBF0F8"
             },
             "line": {
              "color": "white"
             }
            },
            "header": {
             "fill": {
              "color": "#C8D4E3"
             },
             "line": {
              "color": "white"
             }
            },
            "type": "table"
           }
          ]
         },
         "layout": {
          "annotationdefaults": {
           "arrowcolor": "#2a3f5f",
           "arrowhead": 0,
           "arrowwidth": 1
          },
          "autotypenumbers": "strict",
          "coloraxis": {
           "colorbar": {
            "outlinewidth": 0,
            "ticks": ""
           }
          },
          "colorscale": {
           "diverging": [
            [
             0,
             "#8e0152"
            ],
            [
             0.1,
             "#c51b7d"
            ],
            [
             0.2,
             "#de77ae"
            ],
            [
             0.3,
             "#f1b6da"
            ],
            [
             0.4,
             "#fde0ef"
            ],
            [
             0.5,
             "#f7f7f7"
            ],
            [
             0.6,
             "#e6f5d0"
            ],
            [
             0.7,
             "#b8e186"
            ],
            [
             0.8,
             "#7fbc41"
            ],
            [
             0.9,
             "#4d9221"
            ],
            [
             1,
             "#276419"
            ]
           ],
           "sequential": [
            [
             0,
             "#0d0887"
            ],
            [
             0.1111111111111111,
             "#46039f"
            ],
            [
             0.2222222222222222,
             "#7201a8"
            ],
            [
             0.3333333333333333,
             "#9c179e"
            ],
            [
             0.4444444444444444,
             "#bd3786"
            ],
            [
             0.5555555555555556,
             "#d8576b"
            ],
            [
             0.6666666666666666,
             "#ed7953"
            ],
            [
             0.7777777777777778,
             "#fb9f3a"
            ],
            [
             0.8888888888888888,
             "#fdca26"
            ],
            [
             1,
             "#f0f921"
            ]
           ],
           "sequentialminus": [
            [
             0,
             "#0d0887"
            ],
            [
             0.1111111111111111,
             "#46039f"
            ],
            [
             0.2222222222222222,
             "#7201a8"
            ],
            [
             0.3333333333333333,
             "#9c179e"
            ],
            [
             0.4444444444444444,
             "#bd3786"
            ],
            [
             0.5555555555555556,
             "#d8576b"
            ],
            [
             0.6666666666666666,
             "#ed7953"
            ],
            [
             0.7777777777777778,
             "#fb9f3a"
            ],
            [
             0.8888888888888888,
             "#fdca26"
            ],
            [
             1,
             "#f0f921"
            ]
           ]
          },
          "colorway": [
           "#636efa",
           "#EF553B",
           "#00cc96",
           "#ab63fa",
           "#FFA15A",
           "#19d3f3",
           "#FF6692",
           "#B6E880",
           "#FF97FF",
           "#FECB52"
          ],
          "font": {
           "color": "#2a3f5f"
          },
          "geo": {
           "bgcolor": "white",
           "lakecolor": "white",
           "landcolor": "#E5ECF6",
           "showlakes": true,
           "showland": true,
           "subunitcolor": "white"
          },
          "hoverlabel": {
           "align": "left"
          },
          "hovermode": "closest",
          "mapbox": {
           "style": "light"
          },
          "paper_bgcolor": "white",
          "plot_bgcolor": "#E5ECF6",
          "polar": {
           "angularaxis": {
            "gridcolor": "white",
            "linecolor": "white",
            "ticks": ""
           },
           "bgcolor": "#E5ECF6",
           "radialaxis": {
            "gridcolor": "white",
            "linecolor": "white",
            "ticks": ""
           }
          },
          "scene": {
           "xaxis": {
            "backgroundcolor": "#E5ECF6",
            "gridcolor": "white",
            "gridwidth": 2,
            "linecolor": "white",
            "showbackground": true,
            "ticks": "",
            "zerolinecolor": "white"
           },
           "yaxis": {
            "backgroundcolor": "#E5ECF6",
            "gridcolor": "white",
            "gridwidth": 2,
            "linecolor": "white",
            "showbackground": true,
            "ticks": "",
            "zerolinecolor": "white"
           },
           "zaxis": {
            "backgroundcolor": "#E5ECF6",
            "gridcolor": "white",
            "gridwidth": 2,
            "linecolor": "white",
            "showbackground": true,
            "ticks": "",
            "zerolinecolor": "white"
           }
          },
          "shapedefaults": {
           "line": {
            "color": "#2a3f5f"
           }
          },
          "ternary": {
           "aaxis": {
            "gridcolor": "white",
            "linecolor": "white",
            "ticks": ""
           },
           "baxis": {
            "gridcolor": "white",
            "linecolor": "white",
            "ticks": ""
           },
           "bgcolor": "#E5ECF6",
           "caxis": {
            "gridcolor": "white",
            "linecolor": "white",
            "ticks": ""
           }
          },
          "title": {
           "x": 0.05
          },
          "xaxis": {
           "automargin": true,
           "gridcolor": "white",
           "linecolor": "white",
           "ticks": "",
           "title": {
            "standoff": 15
           },
           "zerolinecolor": "white",
           "zerolinewidth": 2
          },
          "yaxis": {
           "automargin": true,
           "gridcolor": "white",
           "linecolor": "white",
           "ticks": "",
           "title": {
            "standoff": 15
           },
           "zerolinecolor": "white",
           "zerolinewidth": 2
          }
         }
        },
        "title": {
         "font": {
          "color": "#4D5663"
         }
        },
        "xaxis": {
         "gridcolor": "#E1E5ED",
         "showgrid": true,
         "tickfont": {
          "color": "#4D5663"
         },
         "title": {
          "font": {
           "color": "#4D5663"
          },
          "text": ""
         },
         "zerolinecolor": "#E1E5ED"
        },
        "yaxis": {
         "gridcolor": "#E1E5ED",
         "showgrid": true,
         "tickfont": {
          "color": "#4D5663"
         },
         "title": {
          "font": {
           "color": "#4D5663"
          },
          "text": ""
         },
         "zerolinecolor": "#E1E5ED"
        }
       }
      },
      "text/html": [
       "<div>                            <div id=\"b04121b9-c6b1-49e4-849d-62bbd39182e4\" class=\"plotly-graph-div\" style=\"height:525px; width:100%;\"></div>            <script type=\"text/javascript\">                require([\"plotly\"], function(Plotly) {                    window.PLOTLYENV=window.PLOTLYENV || {};\n",
       "                    window.PLOTLYENV.BASE_URL='https://plot.ly';                                    if (document.getElementById(\"b04121b9-c6b1-49e4-849d-62bbd39182e4\")) {                    Plotly.newPlot(                        \"b04121b9-c6b1-49e4-849d-62bbd39182e4\",                        [{\"marker\":{\"color\":\"rgba(255, 153, 51, 0.6)\",\"line\":{\"color\":\"rgba(255, 153, 51, 1.0)\",\"width\":1}},\"name\":\"Values\",\"orientation\":\"v\",\"text\":\"\",\"x\":[\"A\",\"B\",\"C\"],\"y\":[32,43,50],\"type\":\"bar\"}],                        {\"legend\":{\"bgcolor\":\"#F5F6F9\",\"font\":{\"color\":\"#4D5663\"}},\"paper_bgcolor\":\"#F5F6F9\",\"plot_bgcolor\":\"#F5F6F9\",\"template\":{\"data\":{\"barpolar\":[{\"marker\":{\"line\":{\"color\":\"#E5ECF6\",\"width\":0.5},\"pattern\":{\"fillmode\":\"overlay\",\"size\":10,\"solidity\":0.2}},\"type\":\"barpolar\"}],\"bar\":[{\"error_x\":{\"color\":\"#2a3f5f\"},\"error_y\":{\"color\":\"#2a3f5f\"},\"marker\":{\"line\":{\"color\":\"#E5ECF6\",\"width\":0.5},\"pattern\":{\"fillmode\":\"overlay\",\"size\":10,\"solidity\":0.2}},\"type\":\"bar\"}],\"carpet\":[{\"aaxis\":{\"endlinecolor\":\"#2a3f5f\",\"gridcolor\":\"white\",\"linecolor\":\"white\",\"minorgridcolor\":\"white\",\"startlinecolor\":\"#2a3f5f\"},\"baxis\":{\"endlinecolor\":\"#2a3f5f\",\"gridcolor\":\"white\",\"linecolor\":\"white\",\"minorgridcolor\":\"white\",\"startlinecolor\":\"#2a3f5f\"},\"type\":\"carpet\"}],\"choropleth\":[{\"colorbar\":{\"outlinewidth\":0,\"ticks\":\"\"},\"type\":\"choropleth\"}],\"contourcarpet\":[{\"colorbar\":{\"outlinewidth\":0,\"ticks\":\"\"},\"type\":\"contourcarpet\"}],\"contour\":[{\"colorbar\":{\"outlinewidth\":0,\"ticks\":\"\"},\"colorscale\":[[0.0,\"#0d0887\"],[0.1111111111111111,\"#46039f\"],[0.2222222222222222,\"#7201a8\"],[0.3333333333333333,\"#9c179e\"],[0.4444444444444444,\"#bd3786\"],[0.5555555555555556,\"#d8576b\"],[0.6666666666666666,\"#ed7953\"],[0.7777777777777778,\"#fb9f3a\"],[0.8888888888888888,\"#fdca26\"],[1.0,\"#f0f921\"]],\"type\":\"contour\"}],\"heatmapgl\":[{\"colorbar\":{\"outlinewidth\":0,\"ticks\":\"\"},\"colorscale\":[[0.0,\"#0d0887\"],[0.1111111111111111,\"#46039f\"],[0.2222222222222222,\"#7201a8\"],[0.3333333333333333,\"#9c179e\"],[0.4444444444444444,\"#bd3786\"],[0.5555555555555556,\"#d8576b\"],[0.6666666666666666,\"#ed7953\"],[0.7777777777777778,\"#fb9f3a\"],[0.8888888888888888,\"#fdca26\"],[1.0,\"#f0f921\"]],\"type\":\"heatmapgl\"}],\"heatmap\":[{\"colorbar\":{\"outlinewidth\":0,\"ticks\":\"\"},\"colorscale\":[[0.0,\"#0d0887\"],[0.1111111111111111,\"#46039f\"],[0.2222222222222222,\"#7201a8\"],[0.3333333333333333,\"#9c179e\"],[0.4444444444444444,\"#bd3786\"],[0.5555555555555556,\"#d8576b\"],[0.6666666666666666,\"#ed7953\"],[0.7777777777777778,\"#fb9f3a\"],[0.8888888888888888,\"#fdca26\"],[1.0,\"#f0f921\"]],\"type\":\"heatmap\"}],\"histogram2dcontour\":[{\"colorbar\":{\"outlinewidth\":0,\"ticks\":\"\"},\"colorscale\":[[0.0,\"#0d0887\"],[0.1111111111111111,\"#46039f\"],[0.2222222222222222,\"#7201a8\"],[0.3333333333333333,\"#9c179e\"],[0.4444444444444444,\"#bd3786\"],[0.5555555555555556,\"#d8576b\"],[0.6666666666666666,\"#ed7953\"],[0.7777777777777778,\"#fb9f3a\"],[0.8888888888888888,\"#fdca26\"],[1.0,\"#f0f921\"]],\"type\":\"histogram2dcontour\"}],\"histogram2d\":[{\"colorbar\":{\"outlinewidth\":0,\"ticks\":\"\"},\"colorscale\":[[0.0,\"#0d0887\"],[0.1111111111111111,\"#46039f\"],[0.2222222222222222,\"#7201a8\"],[0.3333333333333333,\"#9c179e\"],[0.4444444444444444,\"#bd3786\"],[0.5555555555555556,\"#d8576b\"],[0.6666666666666666,\"#ed7953\"],[0.7777777777777778,\"#fb9f3a\"],[0.8888888888888888,\"#fdca26\"],[1.0,\"#f0f921\"]],\"type\":\"histogram2d\"}],\"histogram\":[{\"marker\":{\"pattern\":{\"fillmode\":\"overlay\",\"size\":10,\"solidity\":0.2}},\"type\":\"histogram\"}],\"mesh3d\":[{\"colorbar\":{\"outlinewidth\":0,\"ticks\":\"\"},\"type\":\"mesh3d\"}],\"parcoords\":[{\"line\":{\"colorbar\":{\"outlinewidth\":0,\"ticks\":\"\"}},\"type\":\"parcoords\"}],\"pie\":[{\"automargin\":true,\"type\":\"pie\"}],\"scatter3d\":[{\"line\":{\"colorbar\":{\"outlinewidth\":0,\"ticks\":\"\"}},\"marker\":{\"colorbar\":{\"outlinewidth\":0,\"ticks\":\"\"}},\"type\":\"scatter3d\"}],\"scattercarpet\":[{\"marker\":{\"colorbar\":{\"outlinewidth\":0,\"ticks\":\"\"}},\"type\":\"scattercarpet\"}],\"scattergeo\":[{\"marker\":{\"colorbar\":{\"outlinewidth\":0,\"ticks\":\"\"}},\"type\":\"scattergeo\"}],\"scattergl\":[{\"marker\":{\"colorbar\":{\"outlinewidth\":0,\"ticks\":\"\"}},\"type\":\"scattergl\"}],\"scattermapbox\":[{\"marker\":{\"colorbar\":{\"outlinewidth\":0,\"ticks\":\"\"}},\"type\":\"scattermapbox\"}],\"scatterpolargl\":[{\"marker\":{\"colorbar\":{\"outlinewidth\":0,\"ticks\":\"\"}},\"type\":\"scatterpolargl\"}],\"scatterpolar\":[{\"marker\":{\"colorbar\":{\"outlinewidth\":0,\"ticks\":\"\"}},\"type\":\"scatterpolar\"}],\"scatter\":[{\"marker\":{\"colorbar\":{\"outlinewidth\":0,\"ticks\":\"\"}},\"type\":\"scatter\"}],\"scatterternary\":[{\"marker\":{\"colorbar\":{\"outlinewidth\":0,\"ticks\":\"\"}},\"type\":\"scatterternary\"}],\"surface\":[{\"colorbar\":{\"outlinewidth\":0,\"ticks\":\"\"},\"colorscale\":[[0.0,\"#0d0887\"],[0.1111111111111111,\"#46039f\"],[0.2222222222222222,\"#7201a8\"],[0.3333333333333333,\"#9c179e\"],[0.4444444444444444,\"#bd3786\"],[0.5555555555555556,\"#d8576b\"],[0.6666666666666666,\"#ed7953\"],[0.7777777777777778,\"#fb9f3a\"],[0.8888888888888888,\"#fdca26\"],[1.0,\"#f0f921\"]],\"type\":\"surface\"}],\"table\":[{\"cells\":{\"fill\":{\"color\":\"#EBF0F8\"},\"line\":{\"color\":\"white\"}},\"header\":{\"fill\":{\"color\":\"#C8D4E3\"},\"line\":{\"color\":\"white\"}},\"type\":\"table\"}]},\"layout\":{\"annotationdefaults\":{\"arrowcolor\":\"#2a3f5f\",\"arrowhead\":0,\"arrowwidth\":1},\"autotypenumbers\":\"strict\",\"coloraxis\":{\"colorbar\":{\"outlinewidth\":0,\"ticks\":\"\"}},\"colorscale\":{\"diverging\":[[0,\"#8e0152\"],[0.1,\"#c51b7d\"],[0.2,\"#de77ae\"],[0.3,\"#f1b6da\"],[0.4,\"#fde0ef\"],[0.5,\"#f7f7f7\"],[0.6,\"#e6f5d0\"],[0.7,\"#b8e186\"],[0.8,\"#7fbc41\"],[0.9,\"#4d9221\"],[1,\"#276419\"]],\"sequential\":[[0.0,\"#0d0887\"],[0.1111111111111111,\"#46039f\"],[0.2222222222222222,\"#7201a8\"],[0.3333333333333333,\"#9c179e\"],[0.4444444444444444,\"#bd3786\"],[0.5555555555555556,\"#d8576b\"],[0.6666666666666666,\"#ed7953\"],[0.7777777777777778,\"#fb9f3a\"],[0.8888888888888888,\"#fdca26\"],[1.0,\"#f0f921\"]],\"sequentialminus\":[[0.0,\"#0d0887\"],[0.1111111111111111,\"#46039f\"],[0.2222222222222222,\"#7201a8\"],[0.3333333333333333,\"#9c179e\"],[0.4444444444444444,\"#bd3786\"],[0.5555555555555556,\"#d8576b\"],[0.6666666666666666,\"#ed7953\"],[0.7777777777777778,\"#fb9f3a\"],[0.8888888888888888,\"#fdca26\"],[1.0,\"#f0f921\"]]},\"colorway\":[\"#636efa\",\"#EF553B\",\"#00cc96\",\"#ab63fa\",\"#FFA15A\",\"#19d3f3\",\"#FF6692\",\"#B6E880\",\"#FF97FF\",\"#FECB52\"],\"font\":{\"color\":\"#2a3f5f\"},\"geo\":{\"bgcolor\":\"white\",\"lakecolor\":\"white\",\"landcolor\":\"#E5ECF6\",\"showlakes\":true,\"showland\":true,\"subunitcolor\":\"white\"},\"hoverlabel\":{\"align\":\"left\"},\"hovermode\":\"closest\",\"mapbox\":{\"style\":\"light\"},\"paper_bgcolor\":\"white\",\"plot_bgcolor\":\"#E5ECF6\",\"polar\":{\"angularaxis\":{\"gridcolor\":\"white\",\"linecolor\":\"white\",\"ticks\":\"\"},\"bgcolor\":\"#E5ECF6\",\"radialaxis\":{\"gridcolor\":\"white\",\"linecolor\":\"white\",\"ticks\":\"\"}},\"scene\":{\"xaxis\":{\"backgroundcolor\":\"#E5ECF6\",\"gridcolor\":\"white\",\"gridwidth\":2,\"linecolor\":\"white\",\"showbackground\":true,\"ticks\":\"\",\"zerolinecolor\":\"white\"},\"yaxis\":{\"backgroundcolor\":\"#E5ECF6\",\"gridcolor\":\"white\",\"gridwidth\":2,\"linecolor\":\"white\",\"showbackground\":true,\"ticks\":\"\",\"zerolinecolor\":\"white\"},\"zaxis\":{\"backgroundcolor\":\"#E5ECF6\",\"gridcolor\":\"white\",\"gridwidth\":2,\"linecolor\":\"white\",\"showbackground\":true,\"ticks\":\"\",\"zerolinecolor\":\"white\"}},\"shapedefaults\":{\"line\":{\"color\":\"#2a3f5f\"}},\"ternary\":{\"aaxis\":{\"gridcolor\":\"white\",\"linecolor\":\"white\",\"ticks\":\"\"},\"baxis\":{\"gridcolor\":\"white\",\"linecolor\":\"white\",\"ticks\":\"\"},\"bgcolor\":\"#E5ECF6\",\"caxis\":{\"gridcolor\":\"white\",\"linecolor\":\"white\",\"ticks\":\"\"}},\"title\":{\"x\":0.05},\"xaxis\":{\"automargin\":true,\"gridcolor\":\"white\",\"linecolor\":\"white\",\"ticks\":\"\",\"title\":{\"standoff\":15},\"zerolinecolor\":\"white\",\"zerolinewidth\":2},\"yaxis\":{\"automargin\":true,\"gridcolor\":\"white\",\"linecolor\":\"white\",\"ticks\":\"\",\"title\":{\"standoff\":15},\"zerolinecolor\":\"white\",\"zerolinewidth\":2}}},\"title\":{\"font\":{\"color\":\"#4D5663\"}},\"xaxis\":{\"gridcolor\":\"#E1E5ED\",\"showgrid\":true,\"tickfont\":{\"color\":\"#4D5663\"},\"title\":{\"font\":{\"color\":\"#4D5663\"},\"text\":\"\"},\"zerolinecolor\":\"#E1E5ED\"},\"yaxis\":{\"gridcolor\":\"#E1E5ED\",\"showgrid\":true,\"tickfont\":{\"color\":\"#4D5663\"},\"title\":{\"font\":{\"color\":\"#4D5663\"},\"text\":\"\"},\"zerolinecolor\":\"#E1E5ED\"}},                        {\"showLink\": true, \"linkText\": \"Export to plot.ly\", \"plotlyServerURL\": \"https://plot.ly\", \"responsive\": true}                    ).then(function(){\n",
       "                            \n",
       "var gd = document.getElementById('b04121b9-c6b1-49e4-849d-62bbd39182e4');\n",
       "var x = new MutationObserver(function (mutations, observer) {{\n",
       "        var display = window.getComputedStyle(gd).display;\n",
       "        if (!display || display === 'none') {{\n",
       "            console.log([gd, 'removed!']);\n",
       "            Plotly.purge(gd);\n",
       "            observer.disconnect();\n",
       "        }}\n",
       "}});\n",
       "\n",
       "// Listen for the removal of the full notebook cells\n",
       "var notebookContainer = gd.closest('#notebook-container');\n",
       "if (notebookContainer) {{\n",
       "    x.observe(notebookContainer, {childList: true});\n",
       "}}\n",
       "\n",
       "// Listen for the clearing of the current output cell\n",
       "var outputEl = gd.closest('.output');\n",
       "if (outputEl) {{\n",
       "    x.observe(outputEl, {childList: true});\n",
       "}}\n",
       "\n",
       "                        })                };                });            </script>        </div>"
      ]
     },
     "metadata": {},
     "output_type": "display_data"
    }
   ],
   "source": [
    "df2.iplot(kind='bar',x='Category',y='Values')"
   ]
  },
  {
   "cell_type": "code",
   "execution_count": 12,
   "metadata": {},
   "outputs": [
    {
     "data": {
      "application/vnd.plotly.v1+json": {
       "config": {
        "linkText": "Export to plot.ly",
        "plotlyServerURL": "https://plot.ly",
        "showLink": true
       },
       "data": [
        {
         "marker": {
          "color": "rgba(255, 153, 51, 0.6)",
          "line": {
           "color": "rgba(255, 153, 51, 1.0)",
           "width": 1
          }
         },
         "name": "None",
         "orientation": "v",
         "text": "",
         "type": "bar",
         "x": [
          "A",
          "B",
          "C",
          "D"
         ],
         "y": [
          100,
          100,
          100,
          100
         ]
        }
       ],
       "layout": {
        "legend": {
         "bgcolor": "#F5F6F9",
         "font": {
          "color": "#4D5663"
         }
        },
        "paper_bgcolor": "#F5F6F9",
        "plot_bgcolor": "#F5F6F9",
        "template": {
         "data": {
          "bar": [
           {
            "error_x": {
             "color": "#2a3f5f"
            },
            "error_y": {
             "color": "#2a3f5f"
            },
            "marker": {
             "line": {
              "color": "#E5ECF6",
              "width": 0.5
             },
             "pattern": {
              "fillmode": "overlay",
              "size": 10,
              "solidity": 0.2
             }
            },
            "type": "bar"
           }
          ],
          "barpolar": [
           {
            "marker": {
             "line": {
              "color": "#E5ECF6",
              "width": 0.5
             },
             "pattern": {
              "fillmode": "overlay",
              "size": 10,
              "solidity": 0.2
             }
            },
            "type": "barpolar"
           }
          ],
          "carpet": [
           {
            "aaxis": {
             "endlinecolor": "#2a3f5f",
             "gridcolor": "white",
             "linecolor": "white",
             "minorgridcolor": "white",
             "startlinecolor": "#2a3f5f"
            },
            "baxis": {
             "endlinecolor": "#2a3f5f",
             "gridcolor": "white",
             "linecolor": "white",
             "minorgridcolor": "white",
             "startlinecolor": "#2a3f5f"
            },
            "type": "carpet"
           }
          ],
          "choropleth": [
           {
            "colorbar": {
             "outlinewidth": 0,
             "ticks": ""
            },
            "type": "choropleth"
           }
          ],
          "contour": [
           {
            "colorbar": {
             "outlinewidth": 0,
             "ticks": ""
            },
            "colorscale": [
             [
              0,
              "#0d0887"
             ],
             [
              0.1111111111111111,
              "#46039f"
             ],
             [
              0.2222222222222222,
              "#7201a8"
             ],
             [
              0.3333333333333333,
              "#9c179e"
             ],
             [
              0.4444444444444444,
              "#bd3786"
             ],
             [
              0.5555555555555556,
              "#d8576b"
             ],
             [
              0.6666666666666666,
              "#ed7953"
             ],
             [
              0.7777777777777778,
              "#fb9f3a"
             ],
             [
              0.8888888888888888,
              "#fdca26"
             ],
             [
              1,
              "#f0f921"
             ]
            ],
            "type": "contour"
           }
          ],
          "contourcarpet": [
           {
            "colorbar": {
             "outlinewidth": 0,
             "ticks": ""
            },
            "type": "contourcarpet"
           }
          ],
          "heatmap": [
           {
            "colorbar": {
             "outlinewidth": 0,
             "ticks": ""
            },
            "colorscale": [
             [
              0,
              "#0d0887"
             ],
             [
              0.1111111111111111,
              "#46039f"
             ],
             [
              0.2222222222222222,
              "#7201a8"
             ],
             [
              0.3333333333333333,
              "#9c179e"
             ],
             [
              0.4444444444444444,
              "#bd3786"
             ],
             [
              0.5555555555555556,
              "#d8576b"
             ],
             [
              0.6666666666666666,
              "#ed7953"
             ],
             [
              0.7777777777777778,
              "#fb9f3a"
             ],
             [
              0.8888888888888888,
              "#fdca26"
             ],
             [
              1,
              "#f0f921"
             ]
            ],
            "type": "heatmap"
           }
          ],
          "heatmapgl": [
           {
            "colorbar": {
             "outlinewidth": 0,
             "ticks": ""
            },
            "colorscale": [
             [
              0,
              "#0d0887"
             ],
             [
              0.1111111111111111,
              "#46039f"
             ],
             [
              0.2222222222222222,
              "#7201a8"
             ],
             [
              0.3333333333333333,
              "#9c179e"
             ],
             [
              0.4444444444444444,
              "#bd3786"
             ],
             [
              0.5555555555555556,
              "#d8576b"
             ],
             [
              0.6666666666666666,
              "#ed7953"
             ],
             [
              0.7777777777777778,
              "#fb9f3a"
             ],
             [
              0.8888888888888888,
              "#fdca26"
             ],
             [
              1,
              "#f0f921"
             ]
            ],
            "type": "heatmapgl"
           }
          ],
          "histogram": [
           {
            "marker": {
             "pattern": {
              "fillmode": "overlay",
              "size": 10,
              "solidity": 0.2
             }
            },
            "type": "histogram"
           }
          ],
          "histogram2d": [
           {
            "colorbar": {
             "outlinewidth": 0,
             "ticks": ""
            },
            "colorscale": [
             [
              0,
              "#0d0887"
             ],
             [
              0.1111111111111111,
              "#46039f"
             ],
             [
              0.2222222222222222,
              "#7201a8"
             ],
             [
              0.3333333333333333,
              "#9c179e"
             ],
             [
              0.4444444444444444,
              "#bd3786"
             ],
             [
              0.5555555555555556,
              "#d8576b"
             ],
             [
              0.6666666666666666,
              "#ed7953"
             ],
             [
              0.7777777777777778,
              "#fb9f3a"
             ],
             [
              0.8888888888888888,
              "#fdca26"
             ],
             [
              1,
              "#f0f921"
             ]
            ],
            "type": "histogram2d"
           }
          ],
          "histogram2dcontour": [
           {
            "colorbar": {
             "outlinewidth": 0,
             "ticks": ""
            },
            "colorscale": [
             [
              0,
              "#0d0887"
             ],
             [
              0.1111111111111111,
              "#46039f"
             ],
             [
              0.2222222222222222,
              "#7201a8"
             ],
             [
              0.3333333333333333,
              "#9c179e"
             ],
             [
              0.4444444444444444,
              "#bd3786"
             ],
             [
              0.5555555555555556,
              "#d8576b"
             ],
             [
              0.6666666666666666,
              "#ed7953"
             ],
             [
              0.7777777777777778,
              "#fb9f3a"
             ],
             [
              0.8888888888888888,
              "#fdca26"
             ],
             [
              1,
              "#f0f921"
             ]
            ],
            "type": "histogram2dcontour"
           }
          ],
          "mesh3d": [
           {
            "colorbar": {
             "outlinewidth": 0,
             "ticks": ""
            },
            "type": "mesh3d"
           }
          ],
          "parcoords": [
           {
            "line": {
             "colorbar": {
              "outlinewidth": 0,
              "ticks": ""
             }
            },
            "type": "parcoords"
           }
          ],
          "pie": [
           {
            "automargin": true,
            "type": "pie"
           }
          ],
          "scatter": [
           {
            "marker": {
             "colorbar": {
              "outlinewidth": 0,
              "ticks": ""
             }
            },
            "type": "scatter"
           }
          ],
          "scatter3d": [
           {
            "line": {
             "colorbar": {
              "outlinewidth": 0,
              "ticks": ""
             }
            },
            "marker": {
             "colorbar": {
              "outlinewidth": 0,
              "ticks": ""
             }
            },
            "type": "scatter3d"
           }
          ],
          "scattercarpet": [
           {
            "marker": {
             "colorbar": {
              "outlinewidth": 0,
              "ticks": ""
             }
            },
            "type": "scattercarpet"
           }
          ],
          "scattergeo": [
           {
            "marker": {
             "colorbar": {
              "outlinewidth": 0,
              "ticks": ""
             }
            },
            "type": "scattergeo"
           }
          ],
          "scattergl": [
           {
            "marker": {
             "colorbar": {
              "outlinewidth": 0,
              "ticks": ""
             }
            },
            "type": "scattergl"
           }
          ],
          "scattermapbox": [
           {
            "marker": {
             "colorbar": {
              "outlinewidth": 0,
              "ticks": ""
             }
            },
            "type": "scattermapbox"
           }
          ],
          "scatterpolar": [
           {
            "marker": {
             "colorbar": {
              "outlinewidth": 0,
              "ticks": ""
             }
            },
            "type": "scatterpolar"
           }
          ],
          "scatterpolargl": [
           {
            "marker": {
             "colorbar": {
              "outlinewidth": 0,
              "ticks": ""
             }
            },
            "type": "scatterpolargl"
           }
          ],
          "scatterternary": [
           {
            "marker": {
             "colorbar": {
              "outlinewidth": 0,
              "ticks": ""
             }
            },
            "type": "scatterternary"
           }
          ],
          "surface": [
           {
            "colorbar": {
             "outlinewidth": 0,
             "ticks": ""
            },
            "colorscale": [
             [
              0,
              "#0d0887"
             ],
             [
              0.1111111111111111,
              "#46039f"
             ],
             [
              0.2222222222222222,
              "#7201a8"
             ],
             [
              0.3333333333333333,
              "#9c179e"
             ],
             [
              0.4444444444444444,
              "#bd3786"
             ],
             [
              0.5555555555555556,
              "#d8576b"
             ],
             [
              0.6666666666666666,
              "#ed7953"
             ],
             [
              0.7777777777777778,
              "#fb9f3a"
             ],
             [
              0.8888888888888888,
              "#fdca26"
             ],
             [
              1,
              "#f0f921"
             ]
            ],
            "type": "surface"
           }
          ],
          "table": [
           {
            "cells": {
             "fill": {
              "color": "#EBF0F8"
             },
             "line": {
              "color": "white"
             }
            },
            "header": {
             "fill": {
              "color": "#C8D4E3"
             },
             "line": {
              "color": "white"
             }
            },
            "type": "table"
           }
          ]
         },
         "layout": {
          "annotationdefaults": {
           "arrowcolor": "#2a3f5f",
           "arrowhead": 0,
           "arrowwidth": 1
          },
          "autotypenumbers": "strict",
          "coloraxis": {
           "colorbar": {
            "outlinewidth": 0,
            "ticks": ""
           }
          },
          "colorscale": {
           "diverging": [
            [
             0,
             "#8e0152"
            ],
            [
             0.1,
             "#c51b7d"
            ],
            [
             0.2,
             "#de77ae"
            ],
            [
             0.3,
             "#f1b6da"
            ],
            [
             0.4,
             "#fde0ef"
            ],
            [
             0.5,
             "#f7f7f7"
            ],
            [
             0.6,
             "#e6f5d0"
            ],
            [
             0.7,
             "#b8e186"
            ],
            [
             0.8,
             "#7fbc41"
            ],
            [
             0.9,
             "#4d9221"
            ],
            [
             1,
             "#276419"
            ]
           ],
           "sequential": [
            [
             0,
             "#0d0887"
            ],
            [
             0.1111111111111111,
             "#46039f"
            ],
            [
             0.2222222222222222,
             "#7201a8"
            ],
            [
             0.3333333333333333,
             "#9c179e"
            ],
            [
             0.4444444444444444,
             "#bd3786"
            ],
            [
             0.5555555555555556,
             "#d8576b"
            ],
            [
             0.6666666666666666,
             "#ed7953"
            ],
            [
             0.7777777777777778,
             "#fb9f3a"
            ],
            [
             0.8888888888888888,
             "#fdca26"
            ],
            [
             1,
             "#f0f921"
            ]
           ],
           "sequentialminus": [
            [
             0,
             "#0d0887"
            ],
            [
             0.1111111111111111,
             "#46039f"
            ],
            [
             0.2222222222222222,
             "#7201a8"
            ],
            [
             0.3333333333333333,
             "#9c179e"
            ],
            [
             0.4444444444444444,
             "#bd3786"
            ],
            [
             0.5555555555555556,
             "#d8576b"
            ],
            [
             0.6666666666666666,
             "#ed7953"
            ],
            [
             0.7777777777777778,
             "#fb9f3a"
            ],
            [
             0.8888888888888888,
             "#fdca26"
            ],
            [
             1,
             "#f0f921"
            ]
           ]
          },
          "colorway": [
           "#636efa",
           "#EF553B",
           "#00cc96",
           "#ab63fa",
           "#FFA15A",
           "#19d3f3",
           "#FF6692",
           "#B6E880",
           "#FF97FF",
           "#FECB52"
          ],
          "font": {
           "color": "#2a3f5f"
          },
          "geo": {
           "bgcolor": "white",
           "lakecolor": "white",
           "landcolor": "#E5ECF6",
           "showlakes": true,
           "showland": true,
           "subunitcolor": "white"
          },
          "hoverlabel": {
           "align": "left"
          },
          "hovermode": "closest",
          "mapbox": {
           "style": "light"
          },
          "paper_bgcolor": "white",
          "plot_bgcolor": "#E5ECF6",
          "polar": {
           "angularaxis": {
            "gridcolor": "white",
            "linecolor": "white",
            "ticks": ""
           },
           "bgcolor": "#E5ECF6",
           "radialaxis": {
            "gridcolor": "white",
            "linecolor": "white",
            "ticks": ""
           }
          },
          "scene": {
           "xaxis": {
            "backgroundcolor": "#E5ECF6",
            "gridcolor": "white",
            "gridwidth": 2,
            "linecolor": "white",
            "showbackground": true,
            "ticks": "",
            "zerolinecolor": "white"
           },
           "yaxis": {
            "backgroundcolor": "#E5ECF6",
            "gridcolor": "white",
            "gridwidth": 2,
            "linecolor": "white",
            "showbackground": true,
            "ticks": "",
            "zerolinecolor": "white"
           },
           "zaxis": {
            "backgroundcolor": "#E5ECF6",
            "gridcolor": "white",
            "gridwidth": 2,
            "linecolor": "white",
            "showbackground": true,
            "ticks": "",
            "zerolinecolor": "white"
           }
          },
          "shapedefaults": {
           "line": {
            "color": "#2a3f5f"
           }
          },
          "ternary": {
           "aaxis": {
            "gridcolor": "white",
            "linecolor": "white",
            "ticks": ""
           },
           "baxis": {
            "gridcolor": "white",
            "linecolor": "white",
            "ticks": ""
           },
           "bgcolor": "#E5ECF6",
           "caxis": {
            "gridcolor": "white",
            "linecolor": "white",
            "ticks": ""
           }
          },
          "title": {
           "x": 0.05
          },
          "xaxis": {
           "automargin": true,
           "gridcolor": "white",
           "linecolor": "white",
           "ticks": "",
           "title": {
            "standoff": 15
           },
           "zerolinecolor": "white",
           "zerolinewidth": 2
          },
          "yaxis": {
           "automargin": true,
           "gridcolor": "white",
           "linecolor": "white",
           "ticks": "",
           "title": {
            "standoff": 15
           },
           "zerolinecolor": "white",
           "zerolinewidth": 2
          }
         }
        },
        "title": {
         "font": {
          "color": "#4D5663"
         }
        },
        "xaxis": {
         "gridcolor": "#E1E5ED",
         "showgrid": true,
         "tickfont": {
          "color": "#4D5663"
         },
         "title": {
          "font": {
           "color": "#4D5663"
          },
          "text": ""
         },
         "zerolinecolor": "#E1E5ED"
        },
        "yaxis": {
         "gridcolor": "#E1E5ED",
         "showgrid": true,
         "tickfont": {
          "color": "#4D5663"
         },
         "title": {
          "font": {
           "color": "#4D5663"
          },
          "text": ""
         },
         "zerolinecolor": "#E1E5ED"
        }
       }
      },
      "text/html": [
       "<div>                            <div id=\"449f3269-6454-4e06-bfb6-62ee536c623f\" class=\"plotly-graph-div\" style=\"height:525px; width:100%;\"></div>            <script type=\"text/javascript\">                require([\"plotly\"], function(Plotly) {                    window.PLOTLYENV=window.PLOTLYENV || {};\n",
       "                    window.PLOTLYENV.BASE_URL='https://plot.ly';                                    if (document.getElementById(\"449f3269-6454-4e06-bfb6-62ee536c623f\")) {                    Plotly.newPlot(                        \"449f3269-6454-4e06-bfb6-62ee536c623f\",                        [{\"marker\":{\"color\":\"rgba(255, 153, 51, 0.6)\",\"line\":{\"color\":\"rgba(255, 153, 51, 1.0)\",\"width\":1}},\"name\":\"None\",\"orientation\":\"v\",\"text\":\"\",\"x\":[\"A\",\"B\",\"C\",\"D\"],\"y\":[100,100,100,100],\"type\":\"bar\"}],                        {\"legend\":{\"bgcolor\":\"#F5F6F9\",\"font\":{\"color\":\"#4D5663\"}},\"paper_bgcolor\":\"#F5F6F9\",\"plot_bgcolor\":\"#F5F6F9\",\"template\":{\"data\":{\"barpolar\":[{\"marker\":{\"line\":{\"color\":\"#E5ECF6\",\"width\":0.5},\"pattern\":{\"fillmode\":\"overlay\",\"size\":10,\"solidity\":0.2}},\"type\":\"barpolar\"}],\"bar\":[{\"error_x\":{\"color\":\"#2a3f5f\"},\"error_y\":{\"color\":\"#2a3f5f\"},\"marker\":{\"line\":{\"color\":\"#E5ECF6\",\"width\":0.5},\"pattern\":{\"fillmode\":\"overlay\",\"size\":10,\"solidity\":0.2}},\"type\":\"bar\"}],\"carpet\":[{\"aaxis\":{\"endlinecolor\":\"#2a3f5f\",\"gridcolor\":\"white\",\"linecolor\":\"white\",\"minorgridcolor\":\"white\",\"startlinecolor\":\"#2a3f5f\"},\"baxis\":{\"endlinecolor\":\"#2a3f5f\",\"gridcolor\":\"white\",\"linecolor\":\"white\",\"minorgridcolor\":\"white\",\"startlinecolor\":\"#2a3f5f\"},\"type\":\"carpet\"}],\"choropleth\":[{\"colorbar\":{\"outlinewidth\":0,\"ticks\":\"\"},\"type\":\"choropleth\"}],\"contourcarpet\":[{\"colorbar\":{\"outlinewidth\":0,\"ticks\":\"\"},\"type\":\"contourcarpet\"}],\"contour\":[{\"colorbar\":{\"outlinewidth\":0,\"ticks\":\"\"},\"colorscale\":[[0.0,\"#0d0887\"],[0.1111111111111111,\"#46039f\"],[0.2222222222222222,\"#7201a8\"],[0.3333333333333333,\"#9c179e\"],[0.4444444444444444,\"#bd3786\"],[0.5555555555555556,\"#d8576b\"],[0.6666666666666666,\"#ed7953\"],[0.7777777777777778,\"#fb9f3a\"],[0.8888888888888888,\"#fdca26\"],[1.0,\"#f0f921\"]],\"type\":\"contour\"}],\"heatmapgl\":[{\"colorbar\":{\"outlinewidth\":0,\"ticks\":\"\"},\"colorscale\":[[0.0,\"#0d0887\"],[0.1111111111111111,\"#46039f\"],[0.2222222222222222,\"#7201a8\"],[0.3333333333333333,\"#9c179e\"],[0.4444444444444444,\"#bd3786\"],[0.5555555555555556,\"#d8576b\"],[0.6666666666666666,\"#ed7953\"],[0.7777777777777778,\"#fb9f3a\"],[0.8888888888888888,\"#fdca26\"],[1.0,\"#f0f921\"]],\"type\":\"heatmapgl\"}],\"heatmap\":[{\"colorbar\":{\"outlinewidth\":0,\"ticks\":\"\"},\"colorscale\":[[0.0,\"#0d0887\"],[0.1111111111111111,\"#46039f\"],[0.2222222222222222,\"#7201a8\"],[0.3333333333333333,\"#9c179e\"],[0.4444444444444444,\"#bd3786\"],[0.5555555555555556,\"#d8576b\"],[0.6666666666666666,\"#ed7953\"],[0.7777777777777778,\"#fb9f3a\"],[0.8888888888888888,\"#fdca26\"],[1.0,\"#f0f921\"]],\"type\":\"heatmap\"}],\"histogram2dcontour\":[{\"colorbar\":{\"outlinewidth\":0,\"ticks\":\"\"},\"colorscale\":[[0.0,\"#0d0887\"],[0.1111111111111111,\"#46039f\"],[0.2222222222222222,\"#7201a8\"],[0.3333333333333333,\"#9c179e\"],[0.4444444444444444,\"#bd3786\"],[0.5555555555555556,\"#d8576b\"],[0.6666666666666666,\"#ed7953\"],[0.7777777777777778,\"#fb9f3a\"],[0.8888888888888888,\"#fdca26\"],[1.0,\"#f0f921\"]],\"type\":\"histogram2dcontour\"}],\"histogram2d\":[{\"colorbar\":{\"outlinewidth\":0,\"ticks\":\"\"},\"colorscale\":[[0.0,\"#0d0887\"],[0.1111111111111111,\"#46039f\"],[0.2222222222222222,\"#7201a8\"],[0.3333333333333333,\"#9c179e\"],[0.4444444444444444,\"#bd3786\"],[0.5555555555555556,\"#d8576b\"],[0.6666666666666666,\"#ed7953\"],[0.7777777777777778,\"#fb9f3a\"],[0.8888888888888888,\"#fdca26\"],[1.0,\"#f0f921\"]],\"type\":\"histogram2d\"}],\"histogram\":[{\"marker\":{\"pattern\":{\"fillmode\":\"overlay\",\"size\":10,\"solidity\":0.2}},\"type\":\"histogram\"}],\"mesh3d\":[{\"colorbar\":{\"outlinewidth\":0,\"ticks\":\"\"},\"type\":\"mesh3d\"}],\"parcoords\":[{\"line\":{\"colorbar\":{\"outlinewidth\":0,\"ticks\":\"\"}},\"type\":\"parcoords\"}],\"pie\":[{\"automargin\":true,\"type\":\"pie\"}],\"scatter3d\":[{\"line\":{\"colorbar\":{\"outlinewidth\":0,\"ticks\":\"\"}},\"marker\":{\"colorbar\":{\"outlinewidth\":0,\"ticks\":\"\"}},\"type\":\"scatter3d\"}],\"scattercarpet\":[{\"marker\":{\"colorbar\":{\"outlinewidth\":0,\"ticks\":\"\"}},\"type\":\"scattercarpet\"}],\"scattergeo\":[{\"marker\":{\"colorbar\":{\"outlinewidth\":0,\"ticks\":\"\"}},\"type\":\"scattergeo\"}],\"scattergl\":[{\"marker\":{\"colorbar\":{\"outlinewidth\":0,\"ticks\":\"\"}},\"type\":\"scattergl\"}],\"scattermapbox\":[{\"marker\":{\"colorbar\":{\"outlinewidth\":0,\"ticks\":\"\"}},\"type\":\"scattermapbox\"}],\"scatterpolargl\":[{\"marker\":{\"colorbar\":{\"outlinewidth\":0,\"ticks\":\"\"}},\"type\":\"scatterpolargl\"}],\"scatterpolar\":[{\"marker\":{\"colorbar\":{\"outlinewidth\":0,\"ticks\":\"\"}},\"type\":\"scatterpolar\"}],\"scatter\":[{\"marker\":{\"colorbar\":{\"outlinewidth\":0,\"ticks\":\"\"}},\"type\":\"scatter\"}],\"scatterternary\":[{\"marker\":{\"colorbar\":{\"outlinewidth\":0,\"ticks\":\"\"}},\"type\":\"scatterternary\"}],\"surface\":[{\"colorbar\":{\"outlinewidth\":0,\"ticks\":\"\"},\"colorscale\":[[0.0,\"#0d0887\"],[0.1111111111111111,\"#46039f\"],[0.2222222222222222,\"#7201a8\"],[0.3333333333333333,\"#9c179e\"],[0.4444444444444444,\"#bd3786\"],[0.5555555555555556,\"#d8576b\"],[0.6666666666666666,\"#ed7953\"],[0.7777777777777778,\"#fb9f3a\"],[0.8888888888888888,\"#fdca26\"],[1.0,\"#f0f921\"]],\"type\":\"surface\"}],\"table\":[{\"cells\":{\"fill\":{\"color\":\"#EBF0F8\"},\"line\":{\"color\":\"white\"}},\"header\":{\"fill\":{\"color\":\"#C8D4E3\"},\"line\":{\"color\":\"white\"}},\"type\":\"table\"}]},\"layout\":{\"annotationdefaults\":{\"arrowcolor\":\"#2a3f5f\",\"arrowhead\":0,\"arrowwidth\":1},\"autotypenumbers\":\"strict\",\"coloraxis\":{\"colorbar\":{\"outlinewidth\":0,\"ticks\":\"\"}},\"colorscale\":{\"diverging\":[[0,\"#8e0152\"],[0.1,\"#c51b7d\"],[0.2,\"#de77ae\"],[0.3,\"#f1b6da\"],[0.4,\"#fde0ef\"],[0.5,\"#f7f7f7\"],[0.6,\"#e6f5d0\"],[0.7,\"#b8e186\"],[0.8,\"#7fbc41\"],[0.9,\"#4d9221\"],[1,\"#276419\"]],\"sequential\":[[0.0,\"#0d0887\"],[0.1111111111111111,\"#46039f\"],[0.2222222222222222,\"#7201a8\"],[0.3333333333333333,\"#9c179e\"],[0.4444444444444444,\"#bd3786\"],[0.5555555555555556,\"#d8576b\"],[0.6666666666666666,\"#ed7953\"],[0.7777777777777778,\"#fb9f3a\"],[0.8888888888888888,\"#fdca26\"],[1.0,\"#f0f921\"]],\"sequentialminus\":[[0.0,\"#0d0887\"],[0.1111111111111111,\"#46039f\"],[0.2222222222222222,\"#7201a8\"],[0.3333333333333333,\"#9c179e\"],[0.4444444444444444,\"#bd3786\"],[0.5555555555555556,\"#d8576b\"],[0.6666666666666666,\"#ed7953\"],[0.7777777777777778,\"#fb9f3a\"],[0.8888888888888888,\"#fdca26\"],[1.0,\"#f0f921\"]]},\"colorway\":[\"#636efa\",\"#EF553B\",\"#00cc96\",\"#ab63fa\",\"#FFA15A\",\"#19d3f3\",\"#FF6692\",\"#B6E880\",\"#FF97FF\",\"#FECB52\"],\"font\":{\"color\":\"#2a3f5f\"},\"geo\":{\"bgcolor\":\"white\",\"lakecolor\":\"white\",\"landcolor\":\"#E5ECF6\",\"showlakes\":true,\"showland\":true,\"subunitcolor\":\"white\"},\"hoverlabel\":{\"align\":\"left\"},\"hovermode\":\"closest\",\"mapbox\":{\"style\":\"light\"},\"paper_bgcolor\":\"white\",\"plot_bgcolor\":\"#E5ECF6\",\"polar\":{\"angularaxis\":{\"gridcolor\":\"white\",\"linecolor\":\"white\",\"ticks\":\"\"},\"bgcolor\":\"#E5ECF6\",\"radialaxis\":{\"gridcolor\":\"white\",\"linecolor\":\"white\",\"ticks\":\"\"}},\"scene\":{\"xaxis\":{\"backgroundcolor\":\"#E5ECF6\",\"gridcolor\":\"white\",\"gridwidth\":2,\"linecolor\":\"white\",\"showbackground\":true,\"ticks\":\"\",\"zerolinecolor\":\"white\"},\"yaxis\":{\"backgroundcolor\":\"#E5ECF6\",\"gridcolor\":\"white\",\"gridwidth\":2,\"linecolor\":\"white\",\"showbackground\":true,\"ticks\":\"\",\"zerolinecolor\":\"white\"},\"zaxis\":{\"backgroundcolor\":\"#E5ECF6\",\"gridcolor\":\"white\",\"gridwidth\":2,\"linecolor\":\"white\",\"showbackground\":true,\"ticks\":\"\",\"zerolinecolor\":\"white\"}},\"shapedefaults\":{\"line\":{\"color\":\"#2a3f5f\"}},\"ternary\":{\"aaxis\":{\"gridcolor\":\"white\",\"linecolor\":\"white\",\"ticks\":\"\"},\"baxis\":{\"gridcolor\":\"white\",\"linecolor\":\"white\",\"ticks\":\"\"},\"bgcolor\":\"#E5ECF6\",\"caxis\":{\"gridcolor\":\"white\",\"linecolor\":\"white\",\"ticks\":\"\"}},\"title\":{\"x\":0.05},\"xaxis\":{\"automargin\":true,\"gridcolor\":\"white\",\"linecolor\":\"white\",\"ticks\":\"\",\"title\":{\"standoff\":15},\"zerolinecolor\":\"white\",\"zerolinewidth\":2},\"yaxis\":{\"automargin\":true,\"gridcolor\":\"white\",\"linecolor\":\"white\",\"ticks\":\"\",\"title\":{\"standoff\":15},\"zerolinecolor\":\"white\",\"zerolinewidth\":2}}},\"title\":{\"font\":{\"color\":\"#4D5663\"}},\"xaxis\":{\"gridcolor\":\"#E1E5ED\",\"showgrid\":true,\"tickfont\":{\"color\":\"#4D5663\"},\"title\":{\"font\":{\"color\":\"#4D5663\"},\"text\":\"\"},\"zerolinecolor\":\"#E1E5ED\"},\"yaxis\":{\"gridcolor\":\"#E1E5ED\",\"showgrid\":true,\"tickfont\":{\"color\":\"#4D5663\"},\"title\":{\"font\":{\"color\":\"#4D5663\"},\"text\":\"\"},\"zerolinecolor\":\"#E1E5ED\"}},                        {\"showLink\": true, \"linkText\": \"Export to plot.ly\", \"plotlyServerURL\": \"https://plot.ly\", \"responsive\": true}                    ).then(function(){\n",
       "                            \n",
       "var gd = document.getElementById('449f3269-6454-4e06-bfb6-62ee536c623f');\n",
       "var x = new MutationObserver(function (mutations, observer) {{\n",
       "        var display = window.getComputedStyle(gd).display;\n",
       "        if (!display || display === 'none') {{\n",
       "            console.log([gd, 'removed!']);\n",
       "            Plotly.purge(gd);\n",
       "            observer.disconnect();\n",
       "        }}\n",
       "}});\n",
       "\n",
       "// Listen for the removal of the full notebook cells\n",
       "var notebookContainer = gd.closest('#notebook-container');\n",
       "if (notebookContainer) {{\n",
       "    x.observe(notebookContainer, {childList: true});\n",
       "}}\n",
       "\n",
       "// Listen for the clearing of the current output cell\n",
       "var outputEl = gd.closest('.output');\n",
       "if (outputEl) {{\n",
       "    x.observe(outputEl, {childList: true});\n",
       "}}\n",
       "\n",
       "                        })                };                });            </script>        </div>"
      ]
     },
     "metadata": {},
     "output_type": "display_data"
    }
   ],
   "source": [
    "df.count().iplot(kind='bar')"
   ]
  },
  {
   "cell_type": "markdown",
   "metadata": {},
   "source": [
    "## Boxplots"
   ]
  },
  {
   "cell_type": "code",
   "execution_count": 13,
   "metadata": {},
   "outputs": [
    {
     "data": {
      "application/vnd.plotly.v1+json": {
       "config": {
        "linkText": "Export to plot.ly",
        "plotlyServerURL": "https://plot.ly",
        "showLink": true
       },
       "data": [
        {
         "boxpoints": false,
         "line": {
          "width": 1.3
         },
         "marker": {
          "color": "rgba(255, 153, 51, 1.0)"
         },
         "name": "A",
         "orientation": "v",
         "type": "box",
         "y": [
          -1.940080026219166,
          1.247986255885124,
          0.005552480825121469,
          -1.0027143906099687,
          1.2817199630272835,
          0.6476225955696181,
          -0.47082217801973575,
          -0.7832385517451328,
          -0.03200880067877387,
          -1.7768059287110718,
          1.554472601034797,
          -0.5424463994084257,
          -0.6543854872054302,
          -0.11738188392573798,
          0.4472596966018866,
          0.9093536171517177,
          -1.2083688867665092,
          0.9646113134652564,
          -1.2816508421771076,
          0.21107539625334415,
          1.6477264512828698,
          -0.10189852530746328,
          0.40252833411893363,
          -0.09916223822923723,
          -0.4017650661321447,
          0.8487489560918642,
          0.43447876816581626,
          0.8597839810516802,
          -0.14736283054749616,
          -0.9783737935958959,
          2.2378199514306165,
          0.36734697202218997,
          1.451139684431283,
          -1.6859788511506248,
          0.8156220067880682,
          0.3636193503509781,
          0.33828766799380217,
          -0.6492731530581983,
          -2.8505206810637653,
          0.7693755173217187,
          0.1558705587486528,
          0.5465230891949352,
          0.15193705928030185,
          -1.826760068829946,
          -0.6431764080889432,
          -0.37872160024822626,
          0.21957155520063143,
          2.4220943729305358,
          0.5017857089929868,
          -1.1935585863968063,
          0.47459309666712834,
          0.7463595991333764,
          -1.0385638073567438,
          -2.3737232986666266,
          -1.0022689901390849,
          0.7571215212013698,
          0.9851483833519586,
          -0.6770938029644872,
          1.1955696275365801,
          -2.0258331094509665,
          -0.9855329381386819,
          0.9925207813085811,
          1.3443541412173972,
          0.13503474291828854,
          -0.4743272748816833,
          0.7481539445445763,
          -1.7348108003535843,
          -3.102177455400545,
          -1.867960929691828,
          -1.2183171880602917,
          0.39246813826290783,
          0.6284204223734368,
          1.8605513840343577,
          1.9154258112084859,
          -0.46697846254948916,
          1.5060756881486907,
          -1.1039222700653184,
          -0.7010077581019479,
          -1.8923727669450956,
          -0.7589049198697577,
          0.21997246180406196,
          -0.2527842438625434,
          -0.48854645727572715,
          1.146553248248512,
          2.6426699786080716,
          0.8951646903900001,
          -0.0710513488662732,
          -0.3578505923475407,
          -0.1634696762619168,
          0.06029513149636131,
          0.3497535135832744,
          0.2629004354778632,
          -1.6511333120143168,
          0.372438904621618,
          -0.18192482315461628,
          -1.437435952875453,
          0.11425385213665518,
          -1.311521797467715,
          -2.9587834307624434,
          1.0067860750661797
         ]
        },
        {
         "boxpoints": false,
         "line": {
          "width": 1.3
         },
         "marker": {
          "color": "rgba(55, 128, 191, 1.0)"
         },
         "name": "B",
         "orientation": "v",
         "type": "box",
         "y": [
          -0.8949939745562235,
          -0.10081740469638696,
          -0.5935067963171174,
          -0.39316865154173963,
          0.40530630884910174,
          0.4586602330973266,
          0.9834194539677105,
          1.0008170337160616,
          0.6030604319208548,
          -1.24108213598008,
          0.6689774898417429,
          -1.7462108536179457,
          -0.49760399092156954,
          -0.35549370576405054,
          -1.042569669464304,
          -0.0012514324728663954,
          -0.6000537686913945,
          -0.5448907056572506,
          1.5360712274734536,
          -0.6416666847641722,
          -0.23730111471320048,
          -1.9023180967798081,
          1.6179485129432796,
          0.14880660875385976,
          2.0441521792700987,
          0.3403729778944682,
          -0.508956726544393,
          1.1481932564207318,
          -0.3323660527558092,
          -0.19585493608830828,
          0.009222766308319844,
          1.3766369986117681,
          0.04719858580821799,
          -1.887111341025749,
          0.8190994981172213,
          -1.0882829136872194,
          1.713900352441491,
          1.6816712616821259,
          0.2640072561934476,
          0.04329219467970145,
          -1.2530505045188787,
          0.38814340584746565,
          -0.4434718283401896,
          0.12642724807207012,
          -2.4674451497537824,
          0.7687234852560618,
          0.36184772293800566,
          -0.1459995427596467,
          -2.374448822101066,
          -0.6903197788738283,
          -0.07681640573681076,
          1.5982843804729183,
          0.6574577228634556,
          -1.3313447710935715,
          -0.8526543736985225,
          -1.8452306890564831,
          -0.1514233262920145,
          -0.8633051326821842,
          -1.0017436343534927,
          -1.3299139838047351,
          0.5916940532051198,
          -0.8651375029310416,
          -0.32009101541491985,
          -0.3654722562092443,
          -1.433984143611732,
          0.046752121963915455,
          0.8182820699799663,
          2.13535371933534,
          0.2779020791211278,
          -0.22536633800848135,
          1.370298339387019,
          1.1804702035266532,
          -0.4798839956833346,
          0.1480843397175848,
          1.4503741015343206,
          0.2572218755942087,
          1.4656438725645362,
          1.1793718781619216,
          0.1405436064845857,
          -0.4499771793631353,
          0.2343228911286889,
          -0.5273323738992424,
          -0.5375462248038378,
          1.1351118569437255,
          0.20135904847445885,
          0.8642497522520891,
          -1.8006558173862532,
          -0.636753333865244,
          0.9364758180016151,
          -1.7859586833873624,
          0.5438744516541609,
          -0.3244573292684904,
          0.7979614454157512,
          0.3750242000269216,
          1.0765539082605646,
          -0.45588275285980817,
          -0.4020319590780695,
          0.2419633355288673,
          -0.995910690697996,
          0.5744258727357455
         ]
        },
        {
         "boxpoints": false,
         "line": {
          "width": 1.3
         },
         "marker": {
          "color": "rgba(50, 171, 96, 1.0)"
         },
         "name": "C",
         "orientation": "v",
         "type": "box",
         "y": [
          0.4182748825410248,
          -0.9501648839641642,
          1.9572492963869799,
          0.02955010329243198,
          1.7296421491846883,
          0.019190387326078417,
          -0.9976894399031897,
          -1.3557111860103779,
          -0.057551971505804614,
          0.866248825096721,
          0.918759257743273,
          -0.9409146519698833,
          -0.7870035138089374,
          -0.13667913819374114,
          -0.44589621585578565,
          -0.0548799787543895,
          -0.17328399716216347,
          0.08331166976769992,
          -1.0155324218630306,
          0.8243711338194766,
          -0.30909049862203186,
          -0.9026384873852197,
          -2.6338509905617276,
          -0.24615009881190622,
          -1.3563798714177406,
          -0.010712471424971334,
          -0.1792855346262717,
          -2.491021744492973,
          -1.65600761568296,
          -1.7851067513855936,
          -1.5116702746648862,
          -0.7224618344457004,
          1.3787904516843026,
          0.5955808196940751,
          -0.6814393623786672,
          -0.3512702827848224,
          0.22198871542588858,
          0.9203772614553052,
          1.1207861374512897,
          -0.1878891345491742,
          -2.134967330743993,
          -0.5315599708883078,
          1.2901321215101482,
          -0.9746638486265601,
          1.3504362423756195,
          0.22187567961617846,
          -1.036243850622043,
          0.21020169423694068,
          -0.8600490685844518,
          -0.11893757071178306,
          -0.6237110985162192,
          0.10272455274750575,
          -0.5527197266705707,
          -0.5966054850239472,
          -0.714544195505012,
          0.7558384084504671,
          0.47860199401754233,
          1.8529902206169564,
          0.011306827874762424,
          0.13006406421944774,
          -0.08385761955036325,
          0.36191495752762737,
          0.4570758730669866,
          0.549217036955326,
          0.32135746380447205,
          0.7805965647429625,
          0.06816024629788889,
          1.4089943527350002,
          0.2943525478707354,
          0.8187033318948898,
          -0.2052606524140683,
          0.5745409471241781,
          0.029596029294744437,
          -0.03156603275253228,
          0.41925625031964386,
          1.0417031198787077,
          -0.389468804939762,
          -0.2697654240245767,
          0.545721367873779,
          0.15247647528021352,
          -1.0307077267249567,
          -1.8853313028569152,
          -0.6188114214827979,
          -0.08332410061138514,
          0.2224378371476041,
          -0.36281046946289164,
          1.5393713738816264,
          -0.8344201975476349,
          0.4154912510662551,
          0.2735513764904384,
          -1.0365306483308943,
          -1.257434719307078,
          0.4438216409092564,
          0.6619848321591348,
          -0.4137242939260107,
          -0.14998028742236483,
          -0.2524841203481316,
          -1.5890457316394624,
          -0.3791513678882985,
          0.3514057168396319
         ]
        },
        {
         "boxpoints": false,
         "line": {
          "width": 1.3
         },
         "marker": {
          "color": "rgba(128, 0, 128, 1.0)"
         },
         "name": "D",
         "orientation": "v",
         "type": "box",
         "y": [
          0.9490400916768807,
          -0.5817897273674895,
          1.3751326279569862,
          0.6983409367427372,
          1.3202939266626874,
          -2.1122924451091443,
          0.43902726032111544,
          -0.41677279219379426,
          -0.001816133378014878,
          1.1169424370449708,
          0.7754906006179377,
          1.2045513331336668,
          2.5317969888883103,
          -2.0530174580656864,
          0.6771250835065221,
          2.3634608936636825,
          0.01177822932377076,
          -0.3685144136815486,
          1.1584754022868753,
          -1.0898068446037572,
          -1.3806654281690436,
          0.07898018369346362,
          1.2195519553515568,
          0.3621671325880041,
          0.2602924454464911,
          -0.8371518675810171,
          -2.051460467191315,
          1.2077628267165934,
          1.7300926948414181,
          -0.12215229425226767,
          0.015600656527953567,
          -2.7007811510391475,
          -0.6651607858419503,
          -0.9836342221342753,
          -0.48346027810829734,
          0.211035411043917,
          -0.7339929942961595,
          0.18654566154080726,
          -0.388435331357508,
          1.0659294758381517,
          -0.8174062451187262,
          -1.863360326008581,
          0.02170533465925002,
          -0.01078944749883684,
          0.06016298106968525,
          -1.3506139632491216,
          -0.4340002286809841,
          1.719268516512833,
          0.21234429273735916,
          -0.6986616473315558,
          0.7966966290727863,
          -0.6618447496087041,
          0.2435755910255371,
          -0.4563326163093973,
          0.14321395221847974,
          0.2660391223089322,
          0.6249164006717058,
          0.4800420323908928,
          1.718494558968777,
          0.9124543159605855,
          -1.0259207825585983,
          -0.8452326336250587,
          0.7123478150137652,
          0.7981789784440202,
          2.8146011813223746,
          -0.2949647053977815,
          -0.1507559569732962,
          -0.20540659515318394,
          0.6410944678793699,
          -0.2960177894447896,
          -0.5560618932264372,
          0.17390350811927277,
          -0.8051387497038169,
          2.2097935555873036,
          1.1803528557857363,
          -0.5717490950308154,
          -0.4107921815038685,
          -1.5250626088074613,
          0.07835070436859118,
          -1.4038796564605016,
          0.4101091951312039,
          -0.19345652696729357,
          -0.42175060892577465,
          0.3662908497155731,
          1.0609931116080076,
          -0.896251862637867,
          2.595577593718916,
          1.882590163124815,
          -0.1759344698152429,
          0.08004727605282297,
          -0.8289387751360255,
          -1.6452383201128569,
          -1.613980389485375,
          1.0741266464861978,
          -1.62241797380832,
          -0.3113238496656898,
          0.22659518168244436,
          0.1814922402909765,
          -0.10209471636154765,
          0.6284901743018841
         ]
        }
       ],
       "layout": {
        "legend": {
         "bgcolor": "#F5F6F9",
         "font": {
          "color": "#4D5663"
         }
        },
        "paper_bgcolor": "#F5F6F9",
        "plot_bgcolor": "#F5F6F9",
        "template": {
         "data": {
          "bar": [
           {
            "error_x": {
             "color": "#2a3f5f"
            },
            "error_y": {
             "color": "#2a3f5f"
            },
            "marker": {
             "line": {
              "color": "#E5ECF6",
              "width": 0.5
             },
             "pattern": {
              "fillmode": "overlay",
              "size": 10,
              "solidity": 0.2
             }
            },
            "type": "bar"
           }
          ],
          "barpolar": [
           {
            "marker": {
             "line": {
              "color": "#E5ECF6",
              "width": 0.5
             },
             "pattern": {
              "fillmode": "overlay",
              "size": 10,
              "solidity": 0.2
             }
            },
            "type": "barpolar"
           }
          ],
          "carpet": [
           {
            "aaxis": {
             "endlinecolor": "#2a3f5f",
             "gridcolor": "white",
             "linecolor": "white",
             "minorgridcolor": "white",
             "startlinecolor": "#2a3f5f"
            },
            "baxis": {
             "endlinecolor": "#2a3f5f",
             "gridcolor": "white",
             "linecolor": "white",
             "minorgridcolor": "white",
             "startlinecolor": "#2a3f5f"
            },
            "type": "carpet"
           }
          ],
          "choropleth": [
           {
            "colorbar": {
             "outlinewidth": 0,
             "ticks": ""
            },
            "type": "choropleth"
           }
          ],
          "contour": [
           {
            "colorbar": {
             "outlinewidth": 0,
             "ticks": ""
            },
            "colorscale": [
             [
              0,
              "#0d0887"
             ],
             [
              0.1111111111111111,
              "#46039f"
             ],
             [
              0.2222222222222222,
              "#7201a8"
             ],
             [
              0.3333333333333333,
              "#9c179e"
             ],
             [
              0.4444444444444444,
              "#bd3786"
             ],
             [
              0.5555555555555556,
              "#d8576b"
             ],
             [
              0.6666666666666666,
              "#ed7953"
             ],
             [
              0.7777777777777778,
              "#fb9f3a"
             ],
             [
              0.8888888888888888,
              "#fdca26"
             ],
             [
              1,
              "#f0f921"
             ]
            ],
            "type": "contour"
           }
          ],
          "contourcarpet": [
           {
            "colorbar": {
             "outlinewidth": 0,
             "ticks": ""
            },
            "type": "contourcarpet"
           }
          ],
          "heatmap": [
           {
            "colorbar": {
             "outlinewidth": 0,
             "ticks": ""
            },
            "colorscale": [
             [
              0,
              "#0d0887"
             ],
             [
              0.1111111111111111,
              "#46039f"
             ],
             [
              0.2222222222222222,
              "#7201a8"
             ],
             [
              0.3333333333333333,
              "#9c179e"
             ],
             [
              0.4444444444444444,
              "#bd3786"
             ],
             [
              0.5555555555555556,
              "#d8576b"
             ],
             [
              0.6666666666666666,
              "#ed7953"
             ],
             [
              0.7777777777777778,
              "#fb9f3a"
             ],
             [
              0.8888888888888888,
              "#fdca26"
             ],
             [
              1,
              "#f0f921"
             ]
            ],
            "type": "heatmap"
           }
          ],
          "heatmapgl": [
           {
            "colorbar": {
             "outlinewidth": 0,
             "ticks": ""
            },
            "colorscale": [
             [
              0,
              "#0d0887"
             ],
             [
              0.1111111111111111,
              "#46039f"
             ],
             [
              0.2222222222222222,
              "#7201a8"
             ],
             [
              0.3333333333333333,
              "#9c179e"
             ],
             [
              0.4444444444444444,
              "#bd3786"
             ],
             [
              0.5555555555555556,
              "#d8576b"
             ],
             [
              0.6666666666666666,
              "#ed7953"
             ],
             [
              0.7777777777777778,
              "#fb9f3a"
             ],
             [
              0.8888888888888888,
              "#fdca26"
             ],
             [
              1,
              "#f0f921"
             ]
            ],
            "type": "heatmapgl"
           }
          ],
          "histogram": [
           {
            "marker": {
             "pattern": {
              "fillmode": "overlay",
              "size": 10,
              "solidity": 0.2
             }
            },
            "type": "histogram"
           }
          ],
          "histogram2d": [
           {
            "colorbar": {
             "outlinewidth": 0,
             "ticks": ""
            },
            "colorscale": [
             [
              0,
              "#0d0887"
             ],
             [
              0.1111111111111111,
              "#46039f"
             ],
             [
              0.2222222222222222,
              "#7201a8"
             ],
             [
              0.3333333333333333,
              "#9c179e"
             ],
             [
              0.4444444444444444,
              "#bd3786"
             ],
             [
              0.5555555555555556,
              "#d8576b"
             ],
             [
              0.6666666666666666,
              "#ed7953"
             ],
             [
              0.7777777777777778,
              "#fb9f3a"
             ],
             [
              0.8888888888888888,
              "#fdca26"
             ],
             [
              1,
              "#f0f921"
             ]
            ],
            "type": "histogram2d"
           }
          ],
          "histogram2dcontour": [
           {
            "colorbar": {
             "outlinewidth": 0,
             "ticks": ""
            },
            "colorscale": [
             [
              0,
              "#0d0887"
             ],
             [
              0.1111111111111111,
              "#46039f"
             ],
             [
              0.2222222222222222,
              "#7201a8"
             ],
             [
              0.3333333333333333,
              "#9c179e"
             ],
             [
              0.4444444444444444,
              "#bd3786"
             ],
             [
              0.5555555555555556,
              "#d8576b"
             ],
             [
              0.6666666666666666,
              "#ed7953"
             ],
             [
              0.7777777777777778,
              "#fb9f3a"
             ],
             [
              0.8888888888888888,
              "#fdca26"
             ],
             [
              1,
              "#f0f921"
             ]
            ],
            "type": "histogram2dcontour"
           }
          ],
          "mesh3d": [
           {
            "colorbar": {
             "outlinewidth": 0,
             "ticks": ""
            },
            "type": "mesh3d"
           }
          ],
          "parcoords": [
           {
            "line": {
             "colorbar": {
              "outlinewidth": 0,
              "ticks": ""
             }
            },
            "type": "parcoords"
           }
          ],
          "pie": [
           {
            "automargin": true,
            "type": "pie"
           }
          ],
          "scatter": [
           {
            "marker": {
             "colorbar": {
              "outlinewidth": 0,
              "ticks": ""
             }
            },
            "type": "scatter"
           }
          ],
          "scatter3d": [
           {
            "line": {
             "colorbar": {
              "outlinewidth": 0,
              "ticks": ""
             }
            },
            "marker": {
             "colorbar": {
              "outlinewidth": 0,
              "ticks": ""
             }
            },
            "type": "scatter3d"
           }
          ],
          "scattercarpet": [
           {
            "marker": {
             "colorbar": {
              "outlinewidth": 0,
              "ticks": ""
             }
            },
            "type": "scattercarpet"
           }
          ],
          "scattergeo": [
           {
            "marker": {
             "colorbar": {
              "outlinewidth": 0,
              "ticks": ""
             }
            },
            "type": "scattergeo"
           }
          ],
          "scattergl": [
           {
            "marker": {
             "colorbar": {
              "outlinewidth": 0,
              "ticks": ""
             }
            },
            "type": "scattergl"
           }
          ],
          "scattermapbox": [
           {
            "marker": {
             "colorbar": {
              "outlinewidth": 0,
              "ticks": ""
             }
            },
            "type": "scattermapbox"
           }
          ],
          "scatterpolar": [
           {
            "marker": {
             "colorbar": {
              "outlinewidth": 0,
              "ticks": ""
             }
            },
            "type": "scatterpolar"
           }
          ],
          "scatterpolargl": [
           {
            "marker": {
             "colorbar": {
              "outlinewidth": 0,
              "ticks": ""
             }
            },
            "type": "scatterpolargl"
           }
          ],
          "scatterternary": [
           {
            "marker": {
             "colorbar": {
              "outlinewidth": 0,
              "ticks": ""
             }
            },
            "type": "scatterternary"
           }
          ],
          "surface": [
           {
            "colorbar": {
             "outlinewidth": 0,
             "ticks": ""
            },
            "colorscale": [
             [
              0,
              "#0d0887"
             ],
             [
              0.1111111111111111,
              "#46039f"
             ],
             [
              0.2222222222222222,
              "#7201a8"
             ],
             [
              0.3333333333333333,
              "#9c179e"
             ],
             [
              0.4444444444444444,
              "#bd3786"
             ],
             [
              0.5555555555555556,
              "#d8576b"
             ],
             [
              0.6666666666666666,
              "#ed7953"
             ],
             [
              0.7777777777777778,
              "#fb9f3a"
             ],
             [
              0.8888888888888888,
              "#fdca26"
             ],
             [
              1,
              "#f0f921"
             ]
            ],
            "type": "surface"
           }
          ],
          "table": [
           {
            "cells": {
             "fill": {
              "color": "#EBF0F8"
             },
             "line": {
              "color": "white"
             }
            },
            "header": {
             "fill": {
              "color": "#C8D4E3"
             },
             "line": {
              "color": "white"
             }
            },
            "type": "table"
           }
          ]
         },
         "layout": {
          "annotationdefaults": {
           "arrowcolor": "#2a3f5f",
           "arrowhead": 0,
           "arrowwidth": 1
          },
          "autotypenumbers": "strict",
          "coloraxis": {
           "colorbar": {
            "outlinewidth": 0,
            "ticks": ""
           }
          },
          "colorscale": {
           "diverging": [
            [
             0,
             "#8e0152"
            ],
            [
             0.1,
             "#c51b7d"
            ],
            [
             0.2,
             "#de77ae"
            ],
            [
             0.3,
             "#f1b6da"
            ],
            [
             0.4,
             "#fde0ef"
            ],
            [
             0.5,
             "#f7f7f7"
            ],
            [
             0.6,
             "#e6f5d0"
            ],
            [
             0.7,
             "#b8e186"
            ],
            [
             0.8,
             "#7fbc41"
            ],
            [
             0.9,
             "#4d9221"
            ],
            [
             1,
             "#276419"
            ]
           ],
           "sequential": [
            [
             0,
             "#0d0887"
            ],
            [
             0.1111111111111111,
             "#46039f"
            ],
            [
             0.2222222222222222,
             "#7201a8"
            ],
            [
             0.3333333333333333,
             "#9c179e"
            ],
            [
             0.4444444444444444,
             "#bd3786"
            ],
            [
             0.5555555555555556,
             "#d8576b"
            ],
            [
             0.6666666666666666,
             "#ed7953"
            ],
            [
             0.7777777777777778,
             "#fb9f3a"
            ],
            [
             0.8888888888888888,
             "#fdca26"
            ],
            [
             1,
             "#f0f921"
            ]
           ],
           "sequentialminus": [
            [
             0,
             "#0d0887"
            ],
            [
             0.1111111111111111,
             "#46039f"
            ],
            [
             0.2222222222222222,
             "#7201a8"
            ],
            [
             0.3333333333333333,
             "#9c179e"
            ],
            [
             0.4444444444444444,
             "#bd3786"
            ],
            [
             0.5555555555555556,
             "#d8576b"
            ],
            [
             0.6666666666666666,
             "#ed7953"
            ],
            [
             0.7777777777777778,
             "#fb9f3a"
            ],
            [
             0.8888888888888888,
             "#fdca26"
            ],
            [
             1,
             "#f0f921"
            ]
           ]
          },
          "colorway": [
           "#636efa",
           "#EF553B",
           "#00cc96",
           "#ab63fa",
           "#FFA15A",
           "#19d3f3",
           "#FF6692",
           "#B6E880",
           "#FF97FF",
           "#FECB52"
          ],
          "font": {
           "color": "#2a3f5f"
          },
          "geo": {
           "bgcolor": "white",
           "lakecolor": "white",
           "landcolor": "#E5ECF6",
           "showlakes": true,
           "showland": true,
           "subunitcolor": "white"
          },
          "hoverlabel": {
           "align": "left"
          },
          "hovermode": "closest",
          "mapbox": {
           "style": "light"
          },
          "paper_bgcolor": "white",
          "plot_bgcolor": "#E5ECF6",
          "polar": {
           "angularaxis": {
            "gridcolor": "white",
            "linecolor": "white",
            "ticks": ""
           },
           "bgcolor": "#E5ECF6",
           "radialaxis": {
            "gridcolor": "white",
            "linecolor": "white",
            "ticks": ""
           }
          },
          "scene": {
           "xaxis": {
            "backgroundcolor": "#E5ECF6",
            "gridcolor": "white",
            "gridwidth": 2,
            "linecolor": "white",
            "showbackground": true,
            "ticks": "",
            "zerolinecolor": "white"
           },
           "yaxis": {
            "backgroundcolor": "#E5ECF6",
            "gridcolor": "white",
            "gridwidth": 2,
            "linecolor": "white",
            "showbackground": true,
            "ticks": "",
            "zerolinecolor": "white"
           },
           "zaxis": {
            "backgroundcolor": "#E5ECF6",
            "gridcolor": "white",
            "gridwidth": 2,
            "linecolor": "white",
            "showbackground": true,
            "ticks": "",
            "zerolinecolor": "white"
           }
          },
          "shapedefaults": {
           "line": {
            "color": "#2a3f5f"
           }
          },
          "ternary": {
           "aaxis": {
            "gridcolor": "white",
            "linecolor": "white",
            "ticks": ""
           },
           "baxis": {
            "gridcolor": "white",
            "linecolor": "white",
            "ticks": ""
           },
           "bgcolor": "#E5ECF6",
           "caxis": {
            "gridcolor": "white",
            "linecolor": "white",
            "ticks": ""
           }
          },
          "title": {
           "x": 0.05
          },
          "xaxis": {
           "automargin": true,
           "gridcolor": "white",
           "linecolor": "white",
           "ticks": "",
           "title": {
            "standoff": 15
           },
           "zerolinecolor": "white",
           "zerolinewidth": 2
          },
          "yaxis": {
           "automargin": true,
           "gridcolor": "white",
           "linecolor": "white",
           "ticks": "",
           "title": {
            "standoff": 15
           },
           "zerolinecolor": "white",
           "zerolinewidth": 2
          }
         }
        },
        "title": {
         "font": {
          "color": "#4D5663"
         }
        },
        "xaxis": {
         "gridcolor": "#E1E5ED",
         "showgrid": true,
         "tickfont": {
          "color": "#4D5663"
         },
         "title": {
          "font": {
           "color": "#4D5663"
          },
          "text": ""
         },
         "zerolinecolor": "#E1E5ED"
        },
        "yaxis": {
         "gridcolor": "#E1E5ED",
         "showgrid": true,
         "tickfont": {
          "color": "#4D5663"
         },
         "title": {
          "font": {
           "color": "#4D5663"
          },
          "text": ""
         },
         "zerolinecolor": "#E1E5ED"
        }
       }
      },
      "text/html": [
       "<div>                            <div id=\"c00914bc-409f-4b10-8255-417b229f99f2\" class=\"plotly-graph-div\" style=\"height:525px; width:100%;\"></div>            <script type=\"text/javascript\">                require([\"plotly\"], function(Plotly) {                    window.PLOTLYENV=window.PLOTLYENV || {};\n",
       "                    window.PLOTLYENV.BASE_URL='https://plot.ly';                                    if (document.getElementById(\"c00914bc-409f-4b10-8255-417b229f99f2\")) {                    Plotly.newPlot(                        \"c00914bc-409f-4b10-8255-417b229f99f2\",                        [{\"boxpoints\":false,\"line\":{\"width\":1.3},\"marker\":{\"color\":\"rgba(255, 153, 51, 1.0)\"},\"name\":\"A\",\"orientation\":\"v\",\"y\":[-1.940080026219166,1.247986255885124,0.005552480825121469,-1.0027143906099687,1.2817199630272835,0.6476225955696181,-0.47082217801973575,-0.7832385517451328,-0.03200880067877387,-1.7768059287110718,1.554472601034797,-0.5424463994084257,-0.6543854872054302,-0.11738188392573798,0.4472596966018866,0.9093536171517177,-1.2083688867665092,0.9646113134652564,-1.2816508421771076,0.21107539625334415,1.6477264512828698,-0.10189852530746328,0.40252833411893363,-0.09916223822923723,-0.4017650661321447,0.8487489560918642,0.43447876816581626,0.8597839810516802,-0.14736283054749616,-0.9783737935958959,2.2378199514306165,0.36734697202218997,1.451139684431283,-1.6859788511506248,0.8156220067880682,0.3636193503509781,0.33828766799380217,-0.6492731530581983,-2.8505206810637653,0.7693755173217187,0.1558705587486528,0.5465230891949352,0.15193705928030185,-1.826760068829946,-0.6431764080889432,-0.37872160024822626,0.21957155520063143,2.4220943729305358,0.5017857089929868,-1.1935585863968063,0.47459309666712834,0.7463595991333764,-1.0385638073567438,-2.3737232986666266,-1.0022689901390849,0.7571215212013698,0.9851483833519586,-0.6770938029644872,1.1955696275365801,-2.0258331094509665,-0.9855329381386819,0.9925207813085811,1.3443541412173972,0.13503474291828854,-0.4743272748816833,0.7481539445445763,-1.7348108003535843,-3.102177455400545,-1.867960929691828,-1.2183171880602917,0.39246813826290783,0.6284204223734368,1.8605513840343577,1.9154258112084859,-0.46697846254948916,1.5060756881486907,-1.1039222700653184,-0.7010077581019479,-1.8923727669450956,-0.7589049198697577,0.21997246180406196,-0.2527842438625434,-0.48854645727572715,1.146553248248512,2.6426699786080716,0.8951646903900001,-0.0710513488662732,-0.3578505923475407,-0.1634696762619168,0.06029513149636131,0.3497535135832744,0.2629004354778632,-1.6511333120143168,0.372438904621618,-0.18192482315461628,-1.437435952875453,0.11425385213665518,-1.311521797467715,-2.9587834307624434,1.0067860750661797],\"type\":\"box\"},{\"boxpoints\":false,\"line\":{\"width\":1.3},\"marker\":{\"color\":\"rgba(55, 128, 191, 1.0)\"},\"name\":\"B\",\"orientation\":\"v\",\"y\":[-0.8949939745562235,-0.10081740469638696,-0.5935067963171174,-0.39316865154173963,0.40530630884910174,0.4586602330973266,0.9834194539677105,1.0008170337160616,0.6030604319208548,-1.24108213598008,0.6689774898417429,-1.7462108536179457,-0.49760399092156954,-0.35549370576405054,-1.042569669464304,-0.0012514324728663954,-0.6000537686913945,-0.5448907056572506,1.5360712274734536,-0.6416666847641722,-0.23730111471320048,-1.9023180967798081,1.6179485129432796,0.14880660875385976,2.0441521792700987,0.3403729778944682,-0.508956726544393,1.1481932564207318,-0.3323660527558092,-0.19585493608830828,0.009222766308319844,1.3766369986117681,0.04719858580821799,-1.887111341025749,0.8190994981172213,-1.0882829136872194,1.713900352441491,1.6816712616821259,0.2640072561934476,0.04329219467970145,-1.2530505045188787,0.38814340584746565,-0.4434718283401896,0.12642724807207012,-2.4674451497537824,0.7687234852560618,0.36184772293800566,-0.1459995427596467,-2.374448822101066,-0.6903197788738283,-0.07681640573681076,1.5982843804729183,0.6574577228634556,-1.3313447710935715,-0.8526543736985225,-1.8452306890564831,-0.1514233262920145,-0.8633051326821842,-1.0017436343534927,-1.3299139838047351,0.5916940532051198,-0.8651375029310416,-0.32009101541491985,-0.3654722562092443,-1.433984143611732,0.046752121963915455,0.8182820699799663,2.13535371933534,0.2779020791211278,-0.22536633800848135,1.370298339387019,1.1804702035266532,-0.4798839956833346,0.1480843397175848,1.4503741015343206,0.2572218755942087,1.4656438725645362,1.1793718781619216,0.1405436064845857,-0.4499771793631353,0.2343228911286889,-0.5273323738992424,-0.5375462248038378,1.1351118569437255,0.20135904847445885,0.8642497522520891,-1.8006558173862532,-0.636753333865244,0.9364758180016151,-1.7859586833873624,0.5438744516541609,-0.3244573292684904,0.7979614454157512,0.3750242000269216,1.0765539082605646,-0.45588275285980817,-0.4020319590780695,0.2419633355288673,-0.995910690697996,0.5744258727357455],\"type\":\"box\"},{\"boxpoints\":false,\"line\":{\"width\":1.3},\"marker\":{\"color\":\"rgba(50, 171, 96, 1.0)\"},\"name\":\"C\",\"orientation\":\"v\",\"y\":[0.4182748825410248,-0.9501648839641642,1.9572492963869799,0.02955010329243198,1.7296421491846883,0.019190387326078417,-0.9976894399031897,-1.3557111860103779,-0.057551971505804614,0.866248825096721,0.918759257743273,-0.9409146519698833,-0.7870035138089374,-0.13667913819374114,-0.44589621585578565,-0.0548799787543895,-0.17328399716216347,0.08331166976769992,-1.0155324218630306,0.8243711338194766,-0.30909049862203186,-0.9026384873852197,-2.6338509905617276,-0.24615009881190622,-1.3563798714177406,-0.010712471424971334,-0.1792855346262717,-2.491021744492973,-1.65600761568296,-1.7851067513855936,-1.5116702746648862,-0.7224618344457004,1.3787904516843026,0.5955808196940751,-0.6814393623786672,-0.3512702827848224,0.22198871542588858,0.9203772614553052,1.1207861374512897,-0.1878891345491742,-2.134967330743993,-0.5315599708883078,1.2901321215101482,-0.9746638486265601,1.3504362423756195,0.22187567961617846,-1.036243850622043,0.21020169423694068,-0.8600490685844518,-0.11893757071178306,-0.6237110985162192,0.10272455274750575,-0.5527197266705707,-0.5966054850239472,-0.714544195505012,0.7558384084504671,0.47860199401754233,1.8529902206169564,0.011306827874762424,0.13006406421944774,-0.08385761955036325,0.36191495752762737,0.4570758730669866,0.549217036955326,0.32135746380447205,0.7805965647429625,0.06816024629788889,1.4089943527350002,0.2943525478707354,0.8187033318948898,-0.2052606524140683,0.5745409471241781,0.029596029294744437,-0.03156603275253228,0.41925625031964386,1.0417031198787077,-0.389468804939762,-0.2697654240245767,0.545721367873779,0.15247647528021352,-1.0307077267249567,-1.8853313028569152,-0.6188114214827979,-0.08332410061138514,0.2224378371476041,-0.36281046946289164,1.5393713738816264,-0.8344201975476349,0.4154912510662551,0.2735513764904384,-1.0365306483308943,-1.257434719307078,0.4438216409092564,0.6619848321591348,-0.4137242939260107,-0.14998028742236483,-0.2524841203481316,-1.5890457316394624,-0.3791513678882985,0.3514057168396319],\"type\":\"box\"},{\"boxpoints\":false,\"line\":{\"width\":1.3},\"marker\":{\"color\":\"rgba(128, 0, 128, 1.0)\"},\"name\":\"D\",\"orientation\":\"v\",\"y\":[0.9490400916768807,-0.5817897273674895,1.3751326279569862,0.6983409367427372,1.3202939266626874,-2.1122924451091443,0.43902726032111544,-0.41677279219379426,-0.001816133378014878,1.1169424370449708,0.7754906006179377,1.2045513331336668,2.5317969888883103,-2.0530174580656864,0.6771250835065221,2.3634608936636825,0.01177822932377076,-0.3685144136815486,1.1584754022868753,-1.0898068446037572,-1.3806654281690436,0.07898018369346362,1.2195519553515568,0.3621671325880041,0.2602924454464911,-0.8371518675810171,-2.051460467191315,1.2077628267165934,1.7300926948414181,-0.12215229425226767,0.015600656527953567,-2.7007811510391475,-0.6651607858419503,-0.9836342221342753,-0.48346027810829734,0.211035411043917,-0.7339929942961595,0.18654566154080726,-0.388435331357508,1.0659294758381517,-0.8174062451187262,-1.863360326008581,0.02170533465925002,-0.01078944749883684,0.06016298106968525,-1.3506139632491216,-0.4340002286809841,1.719268516512833,0.21234429273735916,-0.6986616473315558,0.7966966290727863,-0.6618447496087041,0.2435755910255371,-0.4563326163093973,0.14321395221847974,0.2660391223089322,0.6249164006717058,0.4800420323908928,1.718494558968777,0.9124543159605855,-1.0259207825585983,-0.8452326336250587,0.7123478150137652,0.7981789784440202,2.8146011813223746,-0.2949647053977815,-0.1507559569732962,-0.20540659515318394,0.6410944678793699,-0.2960177894447896,-0.5560618932264372,0.17390350811927277,-0.8051387497038169,2.2097935555873036,1.1803528557857363,-0.5717490950308154,-0.4107921815038685,-1.5250626088074613,0.07835070436859118,-1.4038796564605016,0.4101091951312039,-0.19345652696729357,-0.42175060892577465,0.3662908497155731,1.0609931116080076,-0.896251862637867,2.595577593718916,1.882590163124815,-0.1759344698152429,0.08004727605282297,-0.8289387751360255,-1.6452383201128569,-1.613980389485375,1.0741266464861978,-1.62241797380832,-0.3113238496656898,0.22659518168244436,0.1814922402909765,-0.10209471636154765,0.6284901743018841],\"type\":\"box\"}],                        {\"legend\":{\"bgcolor\":\"#F5F6F9\",\"font\":{\"color\":\"#4D5663\"}},\"paper_bgcolor\":\"#F5F6F9\",\"plot_bgcolor\":\"#F5F6F9\",\"template\":{\"data\":{\"barpolar\":[{\"marker\":{\"line\":{\"color\":\"#E5ECF6\",\"width\":0.5},\"pattern\":{\"fillmode\":\"overlay\",\"size\":10,\"solidity\":0.2}},\"type\":\"barpolar\"}],\"bar\":[{\"error_x\":{\"color\":\"#2a3f5f\"},\"error_y\":{\"color\":\"#2a3f5f\"},\"marker\":{\"line\":{\"color\":\"#E5ECF6\",\"width\":0.5},\"pattern\":{\"fillmode\":\"overlay\",\"size\":10,\"solidity\":0.2}},\"type\":\"bar\"}],\"carpet\":[{\"aaxis\":{\"endlinecolor\":\"#2a3f5f\",\"gridcolor\":\"white\",\"linecolor\":\"white\",\"minorgridcolor\":\"white\",\"startlinecolor\":\"#2a3f5f\"},\"baxis\":{\"endlinecolor\":\"#2a3f5f\",\"gridcolor\":\"white\",\"linecolor\":\"white\",\"minorgridcolor\":\"white\",\"startlinecolor\":\"#2a3f5f\"},\"type\":\"carpet\"}],\"choropleth\":[{\"colorbar\":{\"outlinewidth\":0,\"ticks\":\"\"},\"type\":\"choropleth\"}],\"contourcarpet\":[{\"colorbar\":{\"outlinewidth\":0,\"ticks\":\"\"},\"type\":\"contourcarpet\"}],\"contour\":[{\"colorbar\":{\"outlinewidth\":0,\"ticks\":\"\"},\"colorscale\":[[0.0,\"#0d0887\"],[0.1111111111111111,\"#46039f\"],[0.2222222222222222,\"#7201a8\"],[0.3333333333333333,\"#9c179e\"],[0.4444444444444444,\"#bd3786\"],[0.5555555555555556,\"#d8576b\"],[0.6666666666666666,\"#ed7953\"],[0.7777777777777778,\"#fb9f3a\"],[0.8888888888888888,\"#fdca26\"],[1.0,\"#f0f921\"]],\"type\":\"contour\"}],\"heatmapgl\":[{\"colorbar\":{\"outlinewidth\":0,\"ticks\":\"\"},\"colorscale\":[[0.0,\"#0d0887\"],[0.1111111111111111,\"#46039f\"],[0.2222222222222222,\"#7201a8\"],[0.3333333333333333,\"#9c179e\"],[0.4444444444444444,\"#bd3786\"],[0.5555555555555556,\"#d8576b\"],[0.6666666666666666,\"#ed7953\"],[0.7777777777777778,\"#fb9f3a\"],[0.8888888888888888,\"#fdca26\"],[1.0,\"#f0f921\"]],\"type\":\"heatmapgl\"}],\"heatmap\":[{\"colorbar\":{\"outlinewidth\":0,\"ticks\":\"\"},\"colorscale\":[[0.0,\"#0d0887\"],[0.1111111111111111,\"#46039f\"],[0.2222222222222222,\"#7201a8\"],[0.3333333333333333,\"#9c179e\"],[0.4444444444444444,\"#bd3786\"],[0.5555555555555556,\"#d8576b\"],[0.6666666666666666,\"#ed7953\"],[0.7777777777777778,\"#fb9f3a\"],[0.8888888888888888,\"#fdca26\"],[1.0,\"#f0f921\"]],\"type\":\"heatmap\"}],\"histogram2dcontour\":[{\"colorbar\":{\"outlinewidth\":0,\"ticks\":\"\"},\"colorscale\":[[0.0,\"#0d0887\"],[0.1111111111111111,\"#46039f\"],[0.2222222222222222,\"#7201a8\"],[0.3333333333333333,\"#9c179e\"],[0.4444444444444444,\"#bd3786\"],[0.5555555555555556,\"#d8576b\"],[0.6666666666666666,\"#ed7953\"],[0.7777777777777778,\"#fb9f3a\"],[0.8888888888888888,\"#fdca26\"],[1.0,\"#f0f921\"]],\"type\":\"histogram2dcontour\"}],\"histogram2d\":[{\"colorbar\":{\"outlinewidth\":0,\"ticks\":\"\"},\"colorscale\":[[0.0,\"#0d0887\"],[0.1111111111111111,\"#46039f\"],[0.2222222222222222,\"#7201a8\"],[0.3333333333333333,\"#9c179e\"],[0.4444444444444444,\"#bd3786\"],[0.5555555555555556,\"#d8576b\"],[0.6666666666666666,\"#ed7953\"],[0.7777777777777778,\"#fb9f3a\"],[0.8888888888888888,\"#fdca26\"],[1.0,\"#f0f921\"]],\"type\":\"histogram2d\"}],\"histogram\":[{\"marker\":{\"pattern\":{\"fillmode\":\"overlay\",\"size\":10,\"solidity\":0.2}},\"type\":\"histogram\"}],\"mesh3d\":[{\"colorbar\":{\"outlinewidth\":0,\"ticks\":\"\"},\"type\":\"mesh3d\"}],\"parcoords\":[{\"line\":{\"colorbar\":{\"outlinewidth\":0,\"ticks\":\"\"}},\"type\":\"parcoords\"}],\"pie\":[{\"automargin\":true,\"type\":\"pie\"}],\"scatter3d\":[{\"line\":{\"colorbar\":{\"outlinewidth\":0,\"ticks\":\"\"}},\"marker\":{\"colorbar\":{\"outlinewidth\":0,\"ticks\":\"\"}},\"type\":\"scatter3d\"}],\"scattercarpet\":[{\"marker\":{\"colorbar\":{\"outlinewidth\":0,\"ticks\":\"\"}},\"type\":\"scattercarpet\"}],\"scattergeo\":[{\"marker\":{\"colorbar\":{\"outlinewidth\":0,\"ticks\":\"\"}},\"type\":\"scattergeo\"}],\"scattergl\":[{\"marker\":{\"colorbar\":{\"outlinewidth\":0,\"ticks\":\"\"}},\"type\":\"scattergl\"}],\"scattermapbox\":[{\"marker\":{\"colorbar\":{\"outlinewidth\":0,\"ticks\":\"\"}},\"type\":\"scattermapbox\"}],\"scatterpolargl\":[{\"marker\":{\"colorbar\":{\"outlinewidth\":0,\"ticks\":\"\"}},\"type\":\"scatterpolargl\"}],\"scatterpolar\":[{\"marker\":{\"colorbar\":{\"outlinewidth\":0,\"ticks\":\"\"}},\"type\":\"scatterpolar\"}],\"scatter\":[{\"marker\":{\"colorbar\":{\"outlinewidth\":0,\"ticks\":\"\"}},\"type\":\"scatter\"}],\"scatterternary\":[{\"marker\":{\"colorbar\":{\"outlinewidth\":0,\"ticks\":\"\"}},\"type\":\"scatterternary\"}],\"surface\":[{\"colorbar\":{\"outlinewidth\":0,\"ticks\":\"\"},\"colorscale\":[[0.0,\"#0d0887\"],[0.1111111111111111,\"#46039f\"],[0.2222222222222222,\"#7201a8\"],[0.3333333333333333,\"#9c179e\"],[0.4444444444444444,\"#bd3786\"],[0.5555555555555556,\"#d8576b\"],[0.6666666666666666,\"#ed7953\"],[0.7777777777777778,\"#fb9f3a\"],[0.8888888888888888,\"#fdca26\"],[1.0,\"#f0f921\"]],\"type\":\"surface\"}],\"table\":[{\"cells\":{\"fill\":{\"color\":\"#EBF0F8\"},\"line\":{\"color\":\"white\"}},\"header\":{\"fill\":{\"color\":\"#C8D4E3\"},\"line\":{\"color\":\"white\"}},\"type\":\"table\"}]},\"layout\":{\"annotationdefaults\":{\"arrowcolor\":\"#2a3f5f\",\"arrowhead\":0,\"arrowwidth\":1},\"autotypenumbers\":\"strict\",\"coloraxis\":{\"colorbar\":{\"outlinewidth\":0,\"ticks\":\"\"}},\"colorscale\":{\"diverging\":[[0,\"#8e0152\"],[0.1,\"#c51b7d\"],[0.2,\"#de77ae\"],[0.3,\"#f1b6da\"],[0.4,\"#fde0ef\"],[0.5,\"#f7f7f7\"],[0.6,\"#e6f5d0\"],[0.7,\"#b8e186\"],[0.8,\"#7fbc41\"],[0.9,\"#4d9221\"],[1,\"#276419\"]],\"sequential\":[[0.0,\"#0d0887\"],[0.1111111111111111,\"#46039f\"],[0.2222222222222222,\"#7201a8\"],[0.3333333333333333,\"#9c179e\"],[0.4444444444444444,\"#bd3786\"],[0.5555555555555556,\"#d8576b\"],[0.6666666666666666,\"#ed7953\"],[0.7777777777777778,\"#fb9f3a\"],[0.8888888888888888,\"#fdca26\"],[1.0,\"#f0f921\"]],\"sequentialminus\":[[0.0,\"#0d0887\"],[0.1111111111111111,\"#46039f\"],[0.2222222222222222,\"#7201a8\"],[0.3333333333333333,\"#9c179e\"],[0.4444444444444444,\"#bd3786\"],[0.5555555555555556,\"#d8576b\"],[0.6666666666666666,\"#ed7953\"],[0.7777777777777778,\"#fb9f3a\"],[0.8888888888888888,\"#fdca26\"],[1.0,\"#f0f921\"]]},\"colorway\":[\"#636efa\",\"#EF553B\",\"#00cc96\",\"#ab63fa\",\"#FFA15A\",\"#19d3f3\",\"#FF6692\",\"#B6E880\",\"#FF97FF\",\"#FECB52\"],\"font\":{\"color\":\"#2a3f5f\"},\"geo\":{\"bgcolor\":\"white\",\"lakecolor\":\"white\",\"landcolor\":\"#E5ECF6\",\"showlakes\":true,\"showland\":true,\"subunitcolor\":\"white\"},\"hoverlabel\":{\"align\":\"left\"},\"hovermode\":\"closest\",\"mapbox\":{\"style\":\"light\"},\"paper_bgcolor\":\"white\",\"plot_bgcolor\":\"#E5ECF6\",\"polar\":{\"angularaxis\":{\"gridcolor\":\"white\",\"linecolor\":\"white\",\"ticks\":\"\"},\"bgcolor\":\"#E5ECF6\",\"radialaxis\":{\"gridcolor\":\"white\",\"linecolor\":\"white\",\"ticks\":\"\"}},\"scene\":{\"xaxis\":{\"backgroundcolor\":\"#E5ECF6\",\"gridcolor\":\"white\",\"gridwidth\":2,\"linecolor\":\"white\",\"showbackground\":true,\"ticks\":\"\",\"zerolinecolor\":\"white\"},\"yaxis\":{\"backgroundcolor\":\"#E5ECF6\",\"gridcolor\":\"white\",\"gridwidth\":2,\"linecolor\":\"white\",\"showbackground\":true,\"ticks\":\"\",\"zerolinecolor\":\"white\"},\"zaxis\":{\"backgroundcolor\":\"#E5ECF6\",\"gridcolor\":\"white\",\"gridwidth\":2,\"linecolor\":\"white\",\"showbackground\":true,\"ticks\":\"\",\"zerolinecolor\":\"white\"}},\"shapedefaults\":{\"line\":{\"color\":\"#2a3f5f\"}},\"ternary\":{\"aaxis\":{\"gridcolor\":\"white\",\"linecolor\":\"white\",\"ticks\":\"\"},\"baxis\":{\"gridcolor\":\"white\",\"linecolor\":\"white\",\"ticks\":\"\"},\"bgcolor\":\"#E5ECF6\",\"caxis\":{\"gridcolor\":\"white\",\"linecolor\":\"white\",\"ticks\":\"\"}},\"title\":{\"x\":0.05},\"xaxis\":{\"automargin\":true,\"gridcolor\":\"white\",\"linecolor\":\"white\",\"ticks\":\"\",\"title\":{\"standoff\":15},\"zerolinecolor\":\"white\",\"zerolinewidth\":2},\"yaxis\":{\"automargin\":true,\"gridcolor\":\"white\",\"linecolor\":\"white\",\"ticks\":\"\",\"title\":{\"standoff\":15},\"zerolinecolor\":\"white\",\"zerolinewidth\":2}}},\"title\":{\"font\":{\"color\":\"#4D5663\"}},\"xaxis\":{\"gridcolor\":\"#E1E5ED\",\"showgrid\":true,\"tickfont\":{\"color\":\"#4D5663\"},\"title\":{\"font\":{\"color\":\"#4D5663\"},\"text\":\"\"},\"zerolinecolor\":\"#E1E5ED\"},\"yaxis\":{\"gridcolor\":\"#E1E5ED\",\"showgrid\":true,\"tickfont\":{\"color\":\"#4D5663\"},\"title\":{\"font\":{\"color\":\"#4D5663\"},\"text\":\"\"},\"zerolinecolor\":\"#E1E5ED\"}},                        {\"showLink\": true, \"linkText\": \"Export to plot.ly\", \"plotlyServerURL\": \"https://plot.ly\", \"responsive\": true}                    ).then(function(){\n",
       "                            \n",
       "var gd = document.getElementById('c00914bc-409f-4b10-8255-417b229f99f2');\n",
       "var x = new MutationObserver(function (mutations, observer) {{\n",
       "        var display = window.getComputedStyle(gd).display;\n",
       "        if (!display || display === 'none') {{\n",
       "            console.log([gd, 'removed!']);\n",
       "            Plotly.purge(gd);\n",
       "            observer.disconnect();\n",
       "        }}\n",
       "}});\n",
       "\n",
       "// Listen for the removal of the full notebook cells\n",
       "var notebookContainer = gd.closest('#notebook-container');\n",
       "if (notebookContainer) {{\n",
       "    x.observe(notebookContainer, {childList: true});\n",
       "}}\n",
       "\n",
       "// Listen for the clearing of the current output cell\n",
       "var outputEl = gd.closest('.output');\n",
       "if (outputEl) {{\n",
       "    x.observe(outputEl, {childList: true});\n",
       "}}\n",
       "\n",
       "                        })                };                });            </script>        </div>"
      ]
     },
     "metadata": {},
     "output_type": "display_data"
    }
   ],
   "source": [
    "df.iplot(kind='box')"
   ]
  },
  {
   "cell_type": "markdown",
   "metadata": {},
   "source": [
    "## 3d Surface"
   ]
  },
  {
   "cell_type": "code",
   "execution_count": 14,
   "metadata": {},
   "outputs": [
    {
     "data": {
      "application/vnd.plotly.v1+json": {
       "config": {
        "linkText": "Export to plot.ly",
        "plotlyServerURL": "https://plot.ly",
        "showLink": true
       },
       "data": [
        {
         "colorscale": [
          [
           0,
           "rgb(165,0,38)"
          ],
          [
           0.1,
           "rgb(215,48,39)"
          ],
          [
           0.2,
           "rgb(244,109,67)"
          ],
          [
           0.3,
           "rgb(253,174,97)"
          ],
          [
           0.4,
           "rgb(254,224,144)"
          ],
          [
           0.5,
           "rgb(255,255,191)"
          ],
          [
           0.6,
           "rgb(224,243,248)"
          ],
          [
           0.7,
           "rgb(171,217,233)"
          ],
          [
           0.8,
           "rgb(116,173,209)"
          ],
          [
           0.9,
           "rgb(69,117,180)"
          ],
          [
           1,
           "rgb(49,54,149)"
          ]
         ],
         "type": "surface",
         "x": [
          0,
          1,
          2,
          3,
          4
         ],
         "y": [
          "x",
          "y",
          "z"
         ],
         "z": [
          [
           1,
           2,
           3,
           4,
           5
          ],
          [
           10,
           20,
           30,
           20,
           10
          ],
          [
           5,
           4,
           3,
           2,
           1
          ]
         ]
        }
       ],
       "layout": {
        "legend": {
         "bgcolor": "#F5F6F9",
         "font": {
          "color": "#4D5663"
         }
        },
        "paper_bgcolor": "#F5F6F9",
        "plot_bgcolor": "#F5F6F9",
        "template": {
         "data": {
          "bar": [
           {
            "error_x": {
             "color": "#2a3f5f"
            },
            "error_y": {
             "color": "#2a3f5f"
            },
            "marker": {
             "line": {
              "color": "#E5ECF6",
              "width": 0.5
             },
             "pattern": {
              "fillmode": "overlay",
              "size": 10,
              "solidity": 0.2
             }
            },
            "type": "bar"
           }
          ],
          "barpolar": [
           {
            "marker": {
             "line": {
              "color": "#E5ECF6",
              "width": 0.5
             },
             "pattern": {
              "fillmode": "overlay",
              "size": 10,
              "solidity": 0.2
             }
            },
            "type": "barpolar"
           }
          ],
          "carpet": [
           {
            "aaxis": {
             "endlinecolor": "#2a3f5f",
             "gridcolor": "white",
             "linecolor": "white",
             "minorgridcolor": "white",
             "startlinecolor": "#2a3f5f"
            },
            "baxis": {
             "endlinecolor": "#2a3f5f",
             "gridcolor": "white",
             "linecolor": "white",
             "minorgridcolor": "white",
             "startlinecolor": "#2a3f5f"
            },
            "type": "carpet"
           }
          ],
          "choropleth": [
           {
            "colorbar": {
             "outlinewidth": 0,
             "ticks": ""
            },
            "type": "choropleth"
           }
          ],
          "contour": [
           {
            "colorbar": {
             "outlinewidth": 0,
             "ticks": ""
            },
            "colorscale": [
             [
              0,
              "#0d0887"
             ],
             [
              0.1111111111111111,
              "#46039f"
             ],
             [
              0.2222222222222222,
              "#7201a8"
             ],
             [
              0.3333333333333333,
              "#9c179e"
             ],
             [
              0.4444444444444444,
              "#bd3786"
             ],
             [
              0.5555555555555556,
              "#d8576b"
             ],
             [
              0.6666666666666666,
              "#ed7953"
             ],
             [
              0.7777777777777778,
              "#fb9f3a"
             ],
             [
              0.8888888888888888,
              "#fdca26"
             ],
             [
              1,
              "#f0f921"
             ]
            ],
            "type": "contour"
           }
          ],
          "contourcarpet": [
           {
            "colorbar": {
             "outlinewidth": 0,
             "ticks": ""
            },
            "type": "contourcarpet"
           }
          ],
          "heatmap": [
           {
            "colorbar": {
             "outlinewidth": 0,
             "ticks": ""
            },
            "colorscale": [
             [
              0,
              "#0d0887"
             ],
             [
              0.1111111111111111,
              "#46039f"
             ],
             [
              0.2222222222222222,
              "#7201a8"
             ],
             [
              0.3333333333333333,
              "#9c179e"
             ],
             [
              0.4444444444444444,
              "#bd3786"
             ],
             [
              0.5555555555555556,
              "#d8576b"
             ],
             [
              0.6666666666666666,
              "#ed7953"
             ],
             [
              0.7777777777777778,
              "#fb9f3a"
             ],
             [
              0.8888888888888888,
              "#fdca26"
             ],
             [
              1,
              "#f0f921"
             ]
            ],
            "type": "heatmap"
           }
          ],
          "heatmapgl": [
           {
            "colorbar": {
             "outlinewidth": 0,
             "ticks": ""
            },
            "colorscale": [
             [
              0,
              "#0d0887"
             ],
             [
              0.1111111111111111,
              "#46039f"
             ],
             [
              0.2222222222222222,
              "#7201a8"
             ],
             [
              0.3333333333333333,
              "#9c179e"
             ],
             [
              0.4444444444444444,
              "#bd3786"
             ],
             [
              0.5555555555555556,
              "#d8576b"
             ],
             [
              0.6666666666666666,
              "#ed7953"
             ],
             [
              0.7777777777777778,
              "#fb9f3a"
             ],
             [
              0.8888888888888888,
              "#fdca26"
             ],
             [
              1,
              "#f0f921"
             ]
            ],
            "type": "heatmapgl"
           }
          ],
          "histogram": [
           {
            "marker": {
             "pattern": {
              "fillmode": "overlay",
              "size": 10,
              "solidity": 0.2
             }
            },
            "type": "histogram"
           }
          ],
          "histogram2d": [
           {
            "colorbar": {
             "outlinewidth": 0,
             "ticks": ""
            },
            "colorscale": [
             [
              0,
              "#0d0887"
             ],
             [
              0.1111111111111111,
              "#46039f"
             ],
             [
              0.2222222222222222,
              "#7201a8"
             ],
             [
              0.3333333333333333,
              "#9c179e"
             ],
             [
              0.4444444444444444,
              "#bd3786"
             ],
             [
              0.5555555555555556,
              "#d8576b"
             ],
             [
              0.6666666666666666,
              "#ed7953"
             ],
             [
              0.7777777777777778,
              "#fb9f3a"
             ],
             [
              0.8888888888888888,
              "#fdca26"
             ],
             [
              1,
              "#f0f921"
             ]
            ],
            "type": "histogram2d"
           }
          ],
          "histogram2dcontour": [
           {
            "colorbar": {
             "outlinewidth": 0,
             "ticks": ""
            },
            "colorscale": [
             [
              0,
              "#0d0887"
             ],
             [
              0.1111111111111111,
              "#46039f"
             ],
             [
              0.2222222222222222,
              "#7201a8"
             ],
             [
              0.3333333333333333,
              "#9c179e"
             ],
             [
              0.4444444444444444,
              "#bd3786"
             ],
             [
              0.5555555555555556,
              "#d8576b"
             ],
             [
              0.6666666666666666,
              "#ed7953"
             ],
             [
              0.7777777777777778,
              "#fb9f3a"
             ],
             [
              0.8888888888888888,
              "#fdca26"
             ],
             [
              1,
              "#f0f921"
             ]
            ],
            "type": "histogram2dcontour"
           }
          ],
          "mesh3d": [
           {
            "colorbar": {
             "outlinewidth": 0,
             "ticks": ""
            },
            "type": "mesh3d"
           }
          ],
          "parcoords": [
           {
            "line": {
             "colorbar": {
              "outlinewidth": 0,
              "ticks": ""
             }
            },
            "type": "parcoords"
           }
          ],
          "pie": [
           {
            "automargin": true,
            "type": "pie"
           }
          ],
          "scatter": [
           {
            "marker": {
             "colorbar": {
              "outlinewidth": 0,
              "ticks": ""
             }
            },
            "type": "scatter"
           }
          ],
          "scatter3d": [
           {
            "line": {
             "colorbar": {
              "outlinewidth": 0,
              "ticks": ""
             }
            },
            "marker": {
             "colorbar": {
              "outlinewidth": 0,
              "ticks": ""
             }
            },
            "type": "scatter3d"
           }
          ],
          "scattercarpet": [
           {
            "marker": {
             "colorbar": {
              "outlinewidth": 0,
              "ticks": ""
             }
            },
            "type": "scattercarpet"
           }
          ],
          "scattergeo": [
           {
            "marker": {
             "colorbar": {
              "outlinewidth": 0,
              "ticks": ""
             }
            },
            "type": "scattergeo"
           }
          ],
          "scattergl": [
           {
            "marker": {
             "colorbar": {
              "outlinewidth": 0,
              "ticks": ""
             }
            },
            "type": "scattergl"
           }
          ],
          "scattermapbox": [
           {
            "marker": {
             "colorbar": {
              "outlinewidth": 0,
              "ticks": ""
             }
            },
            "type": "scattermapbox"
           }
          ],
          "scatterpolar": [
           {
            "marker": {
             "colorbar": {
              "outlinewidth": 0,
              "ticks": ""
             }
            },
            "type": "scatterpolar"
           }
          ],
          "scatterpolargl": [
           {
            "marker": {
             "colorbar": {
              "outlinewidth": 0,
              "ticks": ""
             }
            },
            "type": "scatterpolargl"
           }
          ],
          "scatterternary": [
           {
            "marker": {
             "colorbar": {
              "outlinewidth": 0,
              "ticks": ""
             }
            },
            "type": "scatterternary"
           }
          ],
          "surface": [
           {
            "colorbar": {
             "outlinewidth": 0,
             "ticks": ""
            },
            "colorscale": [
             [
              0,
              "#0d0887"
             ],
             [
              0.1111111111111111,
              "#46039f"
             ],
             [
              0.2222222222222222,
              "#7201a8"
             ],
             [
              0.3333333333333333,
              "#9c179e"
             ],
             [
              0.4444444444444444,
              "#bd3786"
             ],
             [
              0.5555555555555556,
              "#d8576b"
             ],
             [
              0.6666666666666666,
              "#ed7953"
             ],
             [
              0.7777777777777778,
              "#fb9f3a"
             ],
             [
              0.8888888888888888,
              "#fdca26"
             ],
             [
              1,
              "#f0f921"
             ]
            ],
            "type": "surface"
           }
          ],
          "table": [
           {
            "cells": {
             "fill": {
              "color": "#EBF0F8"
             },
             "line": {
              "color": "white"
             }
            },
            "header": {
             "fill": {
              "color": "#C8D4E3"
             },
             "line": {
              "color": "white"
             }
            },
            "type": "table"
           }
          ]
         },
         "layout": {
          "annotationdefaults": {
           "arrowcolor": "#2a3f5f",
           "arrowhead": 0,
           "arrowwidth": 1
          },
          "autotypenumbers": "strict",
          "coloraxis": {
           "colorbar": {
            "outlinewidth": 0,
            "ticks": ""
           }
          },
          "colorscale": {
           "diverging": [
            [
             0,
             "#8e0152"
            ],
            [
             0.1,
             "#c51b7d"
            ],
            [
             0.2,
             "#de77ae"
            ],
            [
             0.3,
             "#f1b6da"
            ],
            [
             0.4,
             "#fde0ef"
            ],
            [
             0.5,
             "#f7f7f7"
            ],
            [
             0.6,
             "#e6f5d0"
            ],
            [
             0.7,
             "#b8e186"
            ],
            [
             0.8,
             "#7fbc41"
            ],
            [
             0.9,
             "#4d9221"
            ],
            [
             1,
             "#276419"
            ]
           ],
           "sequential": [
            [
             0,
             "#0d0887"
            ],
            [
             0.1111111111111111,
             "#46039f"
            ],
            [
             0.2222222222222222,
             "#7201a8"
            ],
            [
             0.3333333333333333,
             "#9c179e"
            ],
            [
             0.4444444444444444,
             "#bd3786"
            ],
            [
             0.5555555555555556,
             "#d8576b"
            ],
            [
             0.6666666666666666,
             "#ed7953"
            ],
            [
             0.7777777777777778,
             "#fb9f3a"
            ],
            [
             0.8888888888888888,
             "#fdca26"
            ],
            [
             1,
             "#f0f921"
            ]
           ],
           "sequentialminus": [
            [
             0,
             "#0d0887"
            ],
            [
             0.1111111111111111,
             "#46039f"
            ],
            [
             0.2222222222222222,
             "#7201a8"
            ],
            [
             0.3333333333333333,
             "#9c179e"
            ],
            [
             0.4444444444444444,
             "#bd3786"
            ],
            [
             0.5555555555555556,
             "#d8576b"
            ],
            [
             0.6666666666666666,
             "#ed7953"
            ],
            [
             0.7777777777777778,
             "#fb9f3a"
            ],
            [
             0.8888888888888888,
             "#fdca26"
            ],
            [
             1,
             "#f0f921"
            ]
           ]
          },
          "colorway": [
           "#636efa",
           "#EF553B",
           "#00cc96",
           "#ab63fa",
           "#FFA15A",
           "#19d3f3",
           "#FF6692",
           "#B6E880",
           "#FF97FF",
           "#FECB52"
          ],
          "font": {
           "color": "#2a3f5f"
          },
          "geo": {
           "bgcolor": "white",
           "lakecolor": "white",
           "landcolor": "#E5ECF6",
           "showlakes": true,
           "showland": true,
           "subunitcolor": "white"
          },
          "hoverlabel": {
           "align": "left"
          },
          "hovermode": "closest",
          "mapbox": {
           "style": "light"
          },
          "paper_bgcolor": "white",
          "plot_bgcolor": "#E5ECF6",
          "polar": {
           "angularaxis": {
            "gridcolor": "white",
            "linecolor": "white",
            "ticks": ""
           },
           "bgcolor": "#E5ECF6",
           "radialaxis": {
            "gridcolor": "white",
            "linecolor": "white",
            "ticks": ""
           }
          },
          "scene": {
           "xaxis": {
            "backgroundcolor": "#E5ECF6",
            "gridcolor": "white",
            "gridwidth": 2,
            "linecolor": "white",
            "showbackground": true,
            "ticks": "",
            "zerolinecolor": "white"
           },
           "yaxis": {
            "backgroundcolor": "#E5ECF6",
            "gridcolor": "white",
            "gridwidth": 2,
            "linecolor": "white",
            "showbackground": true,
            "ticks": "",
            "zerolinecolor": "white"
           },
           "zaxis": {
            "backgroundcolor": "#E5ECF6",
            "gridcolor": "white",
            "gridwidth": 2,
            "linecolor": "white",
            "showbackground": true,
            "ticks": "",
            "zerolinecolor": "white"
           }
          },
          "shapedefaults": {
           "line": {
            "color": "#2a3f5f"
           }
          },
          "ternary": {
           "aaxis": {
            "gridcolor": "white",
            "linecolor": "white",
            "ticks": ""
           },
           "baxis": {
            "gridcolor": "white",
            "linecolor": "white",
            "ticks": ""
           },
           "bgcolor": "#E5ECF6",
           "caxis": {
            "gridcolor": "white",
            "linecolor": "white",
            "ticks": ""
           }
          },
          "title": {
           "x": 0.05
          },
          "xaxis": {
           "automargin": true,
           "gridcolor": "white",
           "linecolor": "white",
           "ticks": "",
           "title": {
            "standoff": 15
           },
           "zerolinecolor": "white",
           "zerolinewidth": 2
          },
          "yaxis": {
           "automargin": true,
           "gridcolor": "white",
           "linecolor": "white",
           "ticks": "",
           "title": {
            "standoff": 15
           },
           "zerolinecolor": "white",
           "zerolinewidth": 2
          }
         }
        },
        "title": {
         "font": {
          "color": "#4D5663"
         }
        },
        "xaxis": {
         "gridcolor": "#E1E5ED",
         "showgrid": true,
         "tickfont": {
          "color": "#4D5663"
         },
         "title": {
          "font": {
           "color": "#4D5663"
          },
          "text": ""
         },
         "zerolinecolor": "#E1E5ED"
        },
        "yaxis": {
         "gridcolor": "#E1E5ED",
         "showgrid": true,
         "tickfont": {
          "color": "#4D5663"
         },
         "title": {
          "font": {
           "color": "#4D5663"
          },
          "text": ""
         },
         "zerolinecolor": "#E1E5ED"
        }
       }
      },
      "text/html": [
       "<div>                            <div id=\"b175e49e-92b4-43b2-8268-a797a71de00a\" class=\"plotly-graph-div\" style=\"height:525px; width:100%;\"></div>            <script type=\"text/javascript\">                require([\"plotly\"], function(Plotly) {                    window.PLOTLYENV=window.PLOTLYENV || {};\n",
       "                    window.PLOTLYENV.BASE_URL='https://plot.ly';                                    if (document.getElementById(\"b175e49e-92b4-43b2-8268-a797a71de00a\")) {                    Plotly.newPlot(                        \"b175e49e-92b4-43b2-8268-a797a71de00a\",                        [{\"colorscale\":[[0.0,\"rgb(165,0,38)\"],[0.1,\"rgb(215,48,39)\"],[0.2,\"rgb(244,109,67)\"],[0.3,\"rgb(253,174,97)\"],[0.4,\"rgb(254,224,144)\"],[0.5,\"rgb(255,255,191)\"],[0.6,\"rgb(224,243,248)\"],[0.7,\"rgb(171,217,233)\"],[0.8,\"rgb(116,173,209)\"],[0.9,\"rgb(69,117,180)\"],[1.0,\"rgb(49,54,149)\"]],\"x\":[0,1,2,3,4],\"y\":[\"x\",\"y\",\"z\"],\"z\":[[1,2,3,4,5],[10,20,30,20,10],[5,4,3,2,1]],\"type\":\"surface\"}],                        {\"legend\":{\"bgcolor\":\"#F5F6F9\",\"font\":{\"color\":\"#4D5663\"}},\"paper_bgcolor\":\"#F5F6F9\",\"plot_bgcolor\":\"#F5F6F9\",\"template\":{\"data\":{\"barpolar\":[{\"marker\":{\"line\":{\"color\":\"#E5ECF6\",\"width\":0.5},\"pattern\":{\"fillmode\":\"overlay\",\"size\":10,\"solidity\":0.2}},\"type\":\"barpolar\"}],\"bar\":[{\"error_x\":{\"color\":\"#2a3f5f\"},\"error_y\":{\"color\":\"#2a3f5f\"},\"marker\":{\"line\":{\"color\":\"#E5ECF6\",\"width\":0.5},\"pattern\":{\"fillmode\":\"overlay\",\"size\":10,\"solidity\":0.2}},\"type\":\"bar\"}],\"carpet\":[{\"aaxis\":{\"endlinecolor\":\"#2a3f5f\",\"gridcolor\":\"white\",\"linecolor\":\"white\",\"minorgridcolor\":\"white\",\"startlinecolor\":\"#2a3f5f\"},\"baxis\":{\"endlinecolor\":\"#2a3f5f\",\"gridcolor\":\"white\",\"linecolor\":\"white\",\"minorgridcolor\":\"white\",\"startlinecolor\":\"#2a3f5f\"},\"type\":\"carpet\"}],\"choropleth\":[{\"colorbar\":{\"outlinewidth\":0,\"ticks\":\"\"},\"type\":\"choropleth\"}],\"contourcarpet\":[{\"colorbar\":{\"outlinewidth\":0,\"ticks\":\"\"},\"type\":\"contourcarpet\"}],\"contour\":[{\"colorbar\":{\"outlinewidth\":0,\"ticks\":\"\"},\"colorscale\":[[0.0,\"#0d0887\"],[0.1111111111111111,\"#46039f\"],[0.2222222222222222,\"#7201a8\"],[0.3333333333333333,\"#9c179e\"],[0.4444444444444444,\"#bd3786\"],[0.5555555555555556,\"#d8576b\"],[0.6666666666666666,\"#ed7953\"],[0.7777777777777778,\"#fb9f3a\"],[0.8888888888888888,\"#fdca26\"],[1.0,\"#f0f921\"]],\"type\":\"contour\"}],\"heatmapgl\":[{\"colorbar\":{\"outlinewidth\":0,\"ticks\":\"\"},\"colorscale\":[[0.0,\"#0d0887\"],[0.1111111111111111,\"#46039f\"],[0.2222222222222222,\"#7201a8\"],[0.3333333333333333,\"#9c179e\"],[0.4444444444444444,\"#bd3786\"],[0.5555555555555556,\"#d8576b\"],[0.6666666666666666,\"#ed7953\"],[0.7777777777777778,\"#fb9f3a\"],[0.8888888888888888,\"#fdca26\"],[1.0,\"#f0f921\"]],\"type\":\"heatmapgl\"}],\"heatmap\":[{\"colorbar\":{\"outlinewidth\":0,\"ticks\":\"\"},\"colorscale\":[[0.0,\"#0d0887\"],[0.1111111111111111,\"#46039f\"],[0.2222222222222222,\"#7201a8\"],[0.3333333333333333,\"#9c179e\"],[0.4444444444444444,\"#bd3786\"],[0.5555555555555556,\"#d8576b\"],[0.6666666666666666,\"#ed7953\"],[0.7777777777777778,\"#fb9f3a\"],[0.8888888888888888,\"#fdca26\"],[1.0,\"#f0f921\"]],\"type\":\"heatmap\"}],\"histogram2dcontour\":[{\"colorbar\":{\"outlinewidth\":0,\"ticks\":\"\"},\"colorscale\":[[0.0,\"#0d0887\"],[0.1111111111111111,\"#46039f\"],[0.2222222222222222,\"#7201a8\"],[0.3333333333333333,\"#9c179e\"],[0.4444444444444444,\"#bd3786\"],[0.5555555555555556,\"#d8576b\"],[0.6666666666666666,\"#ed7953\"],[0.7777777777777778,\"#fb9f3a\"],[0.8888888888888888,\"#fdca26\"],[1.0,\"#f0f921\"]],\"type\":\"histogram2dcontour\"}],\"histogram2d\":[{\"colorbar\":{\"outlinewidth\":0,\"ticks\":\"\"},\"colorscale\":[[0.0,\"#0d0887\"],[0.1111111111111111,\"#46039f\"],[0.2222222222222222,\"#7201a8\"],[0.3333333333333333,\"#9c179e\"],[0.4444444444444444,\"#bd3786\"],[0.5555555555555556,\"#d8576b\"],[0.6666666666666666,\"#ed7953\"],[0.7777777777777778,\"#fb9f3a\"],[0.8888888888888888,\"#fdca26\"],[1.0,\"#f0f921\"]],\"type\":\"histogram2d\"}],\"histogram\":[{\"marker\":{\"pattern\":{\"fillmode\":\"overlay\",\"size\":10,\"solidity\":0.2}},\"type\":\"histogram\"}],\"mesh3d\":[{\"colorbar\":{\"outlinewidth\":0,\"ticks\":\"\"},\"type\":\"mesh3d\"}],\"parcoords\":[{\"line\":{\"colorbar\":{\"outlinewidth\":0,\"ticks\":\"\"}},\"type\":\"parcoords\"}],\"pie\":[{\"automargin\":true,\"type\":\"pie\"}],\"scatter3d\":[{\"line\":{\"colorbar\":{\"outlinewidth\":0,\"ticks\":\"\"}},\"marker\":{\"colorbar\":{\"outlinewidth\":0,\"ticks\":\"\"}},\"type\":\"scatter3d\"}],\"scattercarpet\":[{\"marker\":{\"colorbar\":{\"outlinewidth\":0,\"ticks\":\"\"}},\"type\":\"scattercarpet\"}],\"scattergeo\":[{\"marker\":{\"colorbar\":{\"outlinewidth\":0,\"ticks\":\"\"}},\"type\":\"scattergeo\"}],\"scattergl\":[{\"marker\":{\"colorbar\":{\"outlinewidth\":0,\"ticks\":\"\"}},\"type\":\"scattergl\"}],\"scattermapbox\":[{\"marker\":{\"colorbar\":{\"outlinewidth\":0,\"ticks\":\"\"}},\"type\":\"scattermapbox\"}],\"scatterpolargl\":[{\"marker\":{\"colorbar\":{\"outlinewidth\":0,\"ticks\":\"\"}},\"type\":\"scatterpolargl\"}],\"scatterpolar\":[{\"marker\":{\"colorbar\":{\"outlinewidth\":0,\"ticks\":\"\"}},\"type\":\"scatterpolar\"}],\"scatter\":[{\"marker\":{\"colorbar\":{\"outlinewidth\":0,\"ticks\":\"\"}},\"type\":\"scatter\"}],\"scatterternary\":[{\"marker\":{\"colorbar\":{\"outlinewidth\":0,\"ticks\":\"\"}},\"type\":\"scatterternary\"}],\"surface\":[{\"colorbar\":{\"outlinewidth\":0,\"ticks\":\"\"},\"colorscale\":[[0.0,\"#0d0887\"],[0.1111111111111111,\"#46039f\"],[0.2222222222222222,\"#7201a8\"],[0.3333333333333333,\"#9c179e\"],[0.4444444444444444,\"#bd3786\"],[0.5555555555555556,\"#d8576b\"],[0.6666666666666666,\"#ed7953\"],[0.7777777777777778,\"#fb9f3a\"],[0.8888888888888888,\"#fdca26\"],[1.0,\"#f0f921\"]],\"type\":\"surface\"}],\"table\":[{\"cells\":{\"fill\":{\"color\":\"#EBF0F8\"},\"line\":{\"color\":\"white\"}},\"header\":{\"fill\":{\"color\":\"#C8D4E3\"},\"line\":{\"color\":\"white\"}},\"type\":\"table\"}]},\"layout\":{\"annotationdefaults\":{\"arrowcolor\":\"#2a3f5f\",\"arrowhead\":0,\"arrowwidth\":1},\"autotypenumbers\":\"strict\",\"coloraxis\":{\"colorbar\":{\"outlinewidth\":0,\"ticks\":\"\"}},\"colorscale\":{\"diverging\":[[0,\"#8e0152\"],[0.1,\"#c51b7d\"],[0.2,\"#de77ae\"],[0.3,\"#f1b6da\"],[0.4,\"#fde0ef\"],[0.5,\"#f7f7f7\"],[0.6,\"#e6f5d0\"],[0.7,\"#b8e186\"],[0.8,\"#7fbc41\"],[0.9,\"#4d9221\"],[1,\"#276419\"]],\"sequential\":[[0.0,\"#0d0887\"],[0.1111111111111111,\"#46039f\"],[0.2222222222222222,\"#7201a8\"],[0.3333333333333333,\"#9c179e\"],[0.4444444444444444,\"#bd3786\"],[0.5555555555555556,\"#d8576b\"],[0.6666666666666666,\"#ed7953\"],[0.7777777777777778,\"#fb9f3a\"],[0.8888888888888888,\"#fdca26\"],[1.0,\"#f0f921\"]],\"sequentialminus\":[[0.0,\"#0d0887\"],[0.1111111111111111,\"#46039f\"],[0.2222222222222222,\"#7201a8\"],[0.3333333333333333,\"#9c179e\"],[0.4444444444444444,\"#bd3786\"],[0.5555555555555556,\"#d8576b\"],[0.6666666666666666,\"#ed7953\"],[0.7777777777777778,\"#fb9f3a\"],[0.8888888888888888,\"#fdca26\"],[1.0,\"#f0f921\"]]},\"colorway\":[\"#636efa\",\"#EF553B\",\"#00cc96\",\"#ab63fa\",\"#FFA15A\",\"#19d3f3\",\"#FF6692\",\"#B6E880\",\"#FF97FF\",\"#FECB52\"],\"font\":{\"color\":\"#2a3f5f\"},\"geo\":{\"bgcolor\":\"white\",\"lakecolor\":\"white\",\"landcolor\":\"#E5ECF6\",\"showlakes\":true,\"showland\":true,\"subunitcolor\":\"white\"},\"hoverlabel\":{\"align\":\"left\"},\"hovermode\":\"closest\",\"mapbox\":{\"style\":\"light\"},\"paper_bgcolor\":\"white\",\"plot_bgcolor\":\"#E5ECF6\",\"polar\":{\"angularaxis\":{\"gridcolor\":\"white\",\"linecolor\":\"white\",\"ticks\":\"\"},\"bgcolor\":\"#E5ECF6\",\"radialaxis\":{\"gridcolor\":\"white\",\"linecolor\":\"white\",\"ticks\":\"\"}},\"scene\":{\"xaxis\":{\"backgroundcolor\":\"#E5ECF6\",\"gridcolor\":\"white\",\"gridwidth\":2,\"linecolor\":\"white\",\"showbackground\":true,\"ticks\":\"\",\"zerolinecolor\":\"white\"},\"yaxis\":{\"backgroundcolor\":\"#E5ECF6\",\"gridcolor\":\"white\",\"gridwidth\":2,\"linecolor\":\"white\",\"showbackground\":true,\"ticks\":\"\",\"zerolinecolor\":\"white\"},\"zaxis\":{\"backgroundcolor\":\"#E5ECF6\",\"gridcolor\":\"white\",\"gridwidth\":2,\"linecolor\":\"white\",\"showbackground\":true,\"ticks\":\"\",\"zerolinecolor\":\"white\"}},\"shapedefaults\":{\"line\":{\"color\":\"#2a3f5f\"}},\"ternary\":{\"aaxis\":{\"gridcolor\":\"white\",\"linecolor\":\"white\",\"ticks\":\"\"},\"baxis\":{\"gridcolor\":\"white\",\"linecolor\":\"white\",\"ticks\":\"\"},\"bgcolor\":\"#E5ECF6\",\"caxis\":{\"gridcolor\":\"white\",\"linecolor\":\"white\",\"ticks\":\"\"}},\"title\":{\"x\":0.05},\"xaxis\":{\"automargin\":true,\"gridcolor\":\"white\",\"linecolor\":\"white\",\"ticks\":\"\",\"title\":{\"standoff\":15},\"zerolinecolor\":\"white\",\"zerolinewidth\":2},\"yaxis\":{\"automargin\":true,\"gridcolor\":\"white\",\"linecolor\":\"white\",\"ticks\":\"\",\"title\":{\"standoff\":15},\"zerolinecolor\":\"white\",\"zerolinewidth\":2}}},\"title\":{\"font\":{\"color\":\"#4D5663\"}},\"xaxis\":{\"gridcolor\":\"#E1E5ED\",\"showgrid\":true,\"tickfont\":{\"color\":\"#4D5663\"},\"title\":{\"font\":{\"color\":\"#4D5663\"},\"text\":\"\"},\"zerolinecolor\":\"#E1E5ED\"},\"yaxis\":{\"gridcolor\":\"#E1E5ED\",\"showgrid\":true,\"tickfont\":{\"color\":\"#4D5663\"},\"title\":{\"font\":{\"color\":\"#4D5663\"},\"text\":\"\"},\"zerolinecolor\":\"#E1E5ED\"}},                        {\"showLink\": true, \"linkText\": \"Export to plot.ly\", \"plotlyServerURL\": \"https://plot.ly\", \"responsive\": true}                    ).then(function(){\n",
       "                            \n",
       "var gd = document.getElementById('b175e49e-92b4-43b2-8268-a797a71de00a');\n",
       "var x = new MutationObserver(function (mutations, observer) {{\n",
       "        var display = window.getComputedStyle(gd).display;\n",
       "        if (!display || display === 'none') {{\n",
       "            console.log([gd, 'removed!']);\n",
       "            Plotly.purge(gd);\n",
       "            observer.disconnect();\n",
       "        }}\n",
       "}});\n",
       "\n",
       "// Listen for the removal of the full notebook cells\n",
       "var notebookContainer = gd.closest('#notebook-container');\n",
       "if (notebookContainer) {{\n",
       "    x.observe(notebookContainer, {childList: true});\n",
       "}}\n",
       "\n",
       "// Listen for the clearing of the current output cell\n",
       "var outputEl = gd.closest('.output');\n",
       "if (outputEl) {{\n",
       "    x.observe(outputEl, {childList: true});\n",
       "}}\n",
       "\n",
       "                        })                };                });            </script>        </div>"
      ]
     },
     "metadata": {},
     "output_type": "display_data"
    }
   ],
   "source": [
    "df3 = pd.DataFrame({'x':[1,2,3,4,5],'y':[10,20,30,20,10],'z':[5,4,3,2,1]})\n",
    "df3.iplot(kind='surface',colorscale='rdylbu')"
   ]
  },
  {
   "cell_type": "markdown",
   "metadata": {},
   "source": [
    "## Spread"
   ]
  },
  {
   "cell_type": "markdown",
   "metadata": {},
   "source": [
    "Spread between values"
   ]
  },
  {
   "cell_type": "code",
   "execution_count": 15,
   "metadata": {},
   "outputs": [
    {
     "name": "stderr",
     "output_type": "stream",
     "text": [
      "/Users/srishtidasarathy/opt/anaconda3/lib/python3.8/site-packages/cufflinks/plotlytools.py:849: FutureWarning:\n",
      "\n",
      "The pandas.np module is deprecated and will be removed from pandas in a future version. Import numpy directly instead.\n",
      "\n",
      "/Users/srishtidasarathy/opt/anaconda3/lib/python3.8/site-packages/cufflinks/plotlytools.py:850: FutureWarning:\n",
      "\n",
      "The pandas.np module is deprecated and will be removed from pandas in a future version. Import numpy directly instead.\n",
      "\n"
     ]
    },
    {
     "data": {
      "application/vnd.plotly.v1+json": {
       "config": {
        "linkText": "Export to plot.ly",
        "plotlyServerURL": "https://plot.ly",
        "showLink": true
       },
       "data": [
        {
         "line": {
          "color": "rgba(255, 153, 51, 1.0)",
          "dash": "solid",
          "shape": "linear",
          "width": 1.3
         },
         "mode": "lines",
         "name": "A",
         "text": "",
         "type": "scatter",
         "x": [
          0,
          1,
          2,
          3,
          4,
          5,
          6,
          7,
          8,
          9,
          10,
          11,
          12,
          13,
          14,
          15,
          16,
          17,
          18,
          19,
          20,
          21,
          22,
          23,
          24,
          25,
          26,
          27,
          28,
          29,
          30,
          31,
          32,
          33,
          34,
          35,
          36,
          37,
          38,
          39,
          40,
          41,
          42,
          43,
          44,
          45,
          46,
          47,
          48,
          49,
          50,
          51,
          52,
          53,
          54,
          55,
          56,
          57,
          58,
          59,
          60,
          61,
          62,
          63,
          64,
          65,
          66,
          67,
          68,
          69,
          70,
          71,
          72,
          73,
          74,
          75,
          76,
          77,
          78,
          79,
          80,
          81,
          82,
          83,
          84,
          85,
          86,
          87,
          88,
          89,
          90,
          91,
          92,
          93,
          94,
          95,
          96,
          97,
          98,
          99
         ],
         "y": [
          -1.940080026219166,
          1.247986255885124,
          0.005552480825121469,
          -1.0027143906099687,
          1.2817199630272835,
          0.6476225955696181,
          -0.47082217801973575,
          -0.7832385517451328,
          -0.03200880067877387,
          -1.7768059287110718,
          1.554472601034797,
          -0.5424463994084257,
          -0.6543854872054302,
          -0.11738188392573798,
          0.4472596966018866,
          0.9093536171517177,
          -1.2083688867665092,
          0.9646113134652564,
          -1.2816508421771076,
          0.21107539625334415,
          1.6477264512828698,
          -0.10189852530746328,
          0.40252833411893363,
          -0.09916223822923723,
          -0.4017650661321447,
          0.8487489560918642,
          0.43447876816581626,
          0.8597839810516802,
          -0.14736283054749616,
          -0.9783737935958959,
          2.2378199514306165,
          0.36734697202218997,
          1.451139684431283,
          -1.6859788511506248,
          0.8156220067880682,
          0.3636193503509781,
          0.33828766799380217,
          -0.6492731530581983,
          -2.8505206810637653,
          0.7693755173217187,
          0.1558705587486528,
          0.5465230891949352,
          0.15193705928030185,
          -1.826760068829946,
          -0.6431764080889432,
          -0.37872160024822626,
          0.21957155520063143,
          2.4220943729305358,
          0.5017857089929868,
          -1.1935585863968063,
          0.47459309666712834,
          0.7463595991333764,
          -1.0385638073567438,
          -2.3737232986666266,
          -1.0022689901390849,
          0.7571215212013698,
          0.9851483833519586,
          -0.6770938029644872,
          1.1955696275365801,
          -2.0258331094509665,
          -0.9855329381386819,
          0.9925207813085811,
          1.3443541412173972,
          0.13503474291828854,
          -0.4743272748816833,
          0.7481539445445763,
          -1.7348108003535843,
          -3.102177455400545,
          -1.867960929691828,
          -1.2183171880602917,
          0.39246813826290783,
          0.6284204223734368,
          1.8605513840343577,
          1.9154258112084859,
          -0.46697846254948916,
          1.5060756881486907,
          -1.1039222700653184,
          -0.7010077581019479,
          -1.8923727669450956,
          -0.7589049198697577,
          0.21997246180406196,
          -0.2527842438625434,
          -0.48854645727572715,
          1.146553248248512,
          2.6426699786080716,
          0.8951646903900001,
          -0.0710513488662732,
          -0.3578505923475407,
          -0.1634696762619168,
          0.06029513149636131,
          0.3497535135832744,
          0.2629004354778632,
          -1.6511333120143168,
          0.372438904621618,
          -0.18192482315461628,
          -1.437435952875453,
          0.11425385213665518,
          -1.311521797467715,
          -2.9587834307624434,
          1.0067860750661797
         ]
        },
        {
         "line": {
          "color": "rgba(55, 128, 191, 1.0)",
          "dash": "solid",
          "shape": "linear",
          "width": 1.3
         },
         "mode": "lines",
         "name": "B",
         "text": "",
         "type": "scatter",
         "x": [
          0,
          1,
          2,
          3,
          4,
          5,
          6,
          7,
          8,
          9,
          10,
          11,
          12,
          13,
          14,
          15,
          16,
          17,
          18,
          19,
          20,
          21,
          22,
          23,
          24,
          25,
          26,
          27,
          28,
          29,
          30,
          31,
          32,
          33,
          34,
          35,
          36,
          37,
          38,
          39,
          40,
          41,
          42,
          43,
          44,
          45,
          46,
          47,
          48,
          49,
          50,
          51,
          52,
          53,
          54,
          55,
          56,
          57,
          58,
          59,
          60,
          61,
          62,
          63,
          64,
          65,
          66,
          67,
          68,
          69,
          70,
          71,
          72,
          73,
          74,
          75,
          76,
          77,
          78,
          79,
          80,
          81,
          82,
          83,
          84,
          85,
          86,
          87,
          88,
          89,
          90,
          91,
          92,
          93,
          94,
          95,
          96,
          97,
          98,
          99
         ],
         "y": [
          -0.8949939745562235,
          -0.10081740469638696,
          -0.5935067963171174,
          -0.39316865154173963,
          0.40530630884910174,
          0.4586602330973266,
          0.9834194539677105,
          1.0008170337160616,
          0.6030604319208548,
          -1.24108213598008,
          0.6689774898417429,
          -1.7462108536179457,
          -0.49760399092156954,
          -0.35549370576405054,
          -1.042569669464304,
          -0.0012514324728663954,
          -0.6000537686913945,
          -0.5448907056572506,
          1.5360712274734536,
          -0.6416666847641722,
          -0.23730111471320048,
          -1.9023180967798081,
          1.6179485129432796,
          0.14880660875385976,
          2.0441521792700987,
          0.3403729778944682,
          -0.508956726544393,
          1.1481932564207318,
          -0.3323660527558092,
          -0.19585493608830828,
          0.009222766308319844,
          1.3766369986117681,
          0.04719858580821799,
          -1.887111341025749,
          0.8190994981172213,
          -1.0882829136872194,
          1.713900352441491,
          1.6816712616821259,
          0.2640072561934476,
          0.04329219467970145,
          -1.2530505045188787,
          0.38814340584746565,
          -0.4434718283401896,
          0.12642724807207012,
          -2.4674451497537824,
          0.7687234852560618,
          0.36184772293800566,
          -0.1459995427596467,
          -2.374448822101066,
          -0.6903197788738283,
          -0.07681640573681076,
          1.5982843804729183,
          0.6574577228634556,
          -1.3313447710935715,
          -0.8526543736985225,
          -1.8452306890564831,
          -0.1514233262920145,
          -0.8633051326821842,
          -1.0017436343534927,
          -1.3299139838047351,
          0.5916940532051198,
          -0.8651375029310416,
          -0.32009101541491985,
          -0.3654722562092443,
          -1.433984143611732,
          0.046752121963915455,
          0.8182820699799663,
          2.13535371933534,
          0.2779020791211278,
          -0.22536633800848135,
          1.370298339387019,
          1.1804702035266532,
          -0.4798839956833346,
          0.1480843397175848,
          1.4503741015343206,
          0.2572218755942087,
          1.4656438725645362,
          1.1793718781619216,
          0.1405436064845857,
          -0.4499771793631353,
          0.2343228911286889,
          -0.5273323738992424,
          -0.5375462248038378,
          1.1351118569437255,
          0.20135904847445885,
          0.8642497522520891,
          -1.8006558173862532,
          -0.636753333865244,
          0.9364758180016151,
          -1.7859586833873624,
          0.5438744516541609,
          -0.3244573292684904,
          0.7979614454157512,
          0.3750242000269216,
          1.0765539082605646,
          -0.45588275285980817,
          -0.4020319590780695,
          0.2419633355288673,
          -0.995910690697996,
          0.5744258727357455
         ]
        },
        {
         "connectgaps": false,
         "fill": "tozeroy",
         "line": {
          "color": "green",
          "dash": "solid",
          "shape": "linear",
          "width": 0.5
         },
         "mode": "lines",
         "name": "Spread",
         "showlegend": false,
         "type": "scatter",
         "x": [
          0,
          1,
          2,
          3,
          4,
          5,
          6,
          7,
          8,
          9,
          10,
          11,
          12,
          13,
          14,
          15,
          16,
          17,
          18,
          19,
          20,
          21,
          22,
          23,
          24,
          25,
          26,
          27,
          28,
          29,
          30,
          31,
          32,
          33,
          34,
          35,
          36,
          37,
          38,
          39,
          40,
          41,
          42,
          43,
          44,
          45,
          46,
          47,
          48,
          49,
          50,
          51,
          52,
          53,
          54,
          55,
          56,
          57,
          58,
          59,
          60,
          61,
          62,
          63,
          64,
          65,
          66,
          67,
          68,
          69,
          70,
          71,
          72,
          73,
          74,
          75,
          76,
          77,
          78,
          79,
          80,
          81,
          82,
          83,
          84,
          85,
          86,
          87,
          88,
          89,
          90,
          91,
          92,
          93,
          94,
          95,
          96,
          97,
          98,
          99
         ],
         "xaxis": "x2",
         "y": [
          "",
          1.348803660581511,
          0.5990592771422389,
          "",
          0.8764136541781817,
          0.18896236247229148,
          "",
          "",
          "",
          "",
          0.885495111193054,
          1.20376445420952,
          "",
          0.23811182183831256,
          1.4898293660661905,
          0.9106050496245841,
          "",
          1.509502019122507,
          "",
          0.8527420810175164,
          1.8850275659960702,
          1.8004195714723448,
          "",
          "",
          "",
          0.508375978197396,
          0.9434354947102093,
          "",
          0.18500322220831306,
          "",
          2.2285971851222968,
          "",
          1.403941098623065,
          0.2011324898751241,
          "",
          1.4519022640381976,
          "",
          "",
          "",
          0.7260833226420172,
          1.4089210632675315,
          0.15837968334746955,
          0.5954088876204915,
          "",
          1.8242687416648393,
          "",
          "",
          2.5680939156901825,
          2.876234531094053,
          "",
          0.5514095024039392,
          "",
          "",
          "",
          "",
          2.6023522102578527,
          1.1365717096439731,
          0.18621132971769705,
          2.1973132618900726,
          "",
          "",
          1.8576582842396228,
          1.664445156632317,
          0.5005069991275328,
          0.9596568687300486,
          0.7014018225806609,
          "",
          "",
          "",
          "",
          "",
          "",
          2.340435379717692,
          1.767341471490901,
          "",
          1.248853812554482,
          "",
          "",
          "",
          "",
          "",
          0.274548130036699,
          0.048999767528110694,
          0.011441391304786386,
          2.441310930133613,
          0.03091493813791102,
          1.72960446851998,
          0.27890274151770333,
          "",
          1.8462538148837238,
          "",
          0.5873577647463536,
          "",
          "",
          "",
          "",
          0.5162858112147246,
          "",
          "",
          0.43236020233043415
         ],
         "yaxis": "y2"
        },
        {
         "connectgaps": false,
         "fill": "tozeroy",
         "line": {
          "color": "red",
          "dash": "solid",
          "shape": "linear",
          "width": 0.5
         },
         "mode": "lines",
         "name": "Spread",
         "showlegend": false,
         "type": "scatter",
         "x": [
          0,
          1,
          2,
          3,
          4,
          5,
          6,
          7,
          8,
          9,
          10,
          11,
          12,
          13,
          14,
          15,
          16,
          17,
          18,
          19,
          20,
          21,
          22,
          23,
          24,
          25,
          26,
          27,
          28,
          29,
          30,
          31,
          32,
          33,
          34,
          35,
          36,
          37,
          38,
          39,
          40,
          41,
          42,
          43,
          44,
          45,
          46,
          47,
          48,
          49,
          50,
          51,
          52,
          53,
          54,
          55,
          56,
          57,
          58,
          59,
          60,
          61,
          62,
          63,
          64,
          65,
          66,
          67,
          68,
          69,
          70,
          71,
          72,
          73,
          74,
          75,
          76,
          77,
          78,
          79,
          80,
          81,
          82,
          83,
          84,
          85,
          86,
          87,
          88,
          89,
          90,
          91,
          92,
          93,
          94,
          95,
          96,
          97,
          98,
          99
         ],
         "xaxis": "x2",
         "y": [
          -1.0450860516629423,
          "",
          "",
          -0.6095457390682291,
          "",
          "",
          -1.4542416319874463,
          -1.7840555854611944,
          -0.6350692325996287,
          -0.5357237927309917,
          "",
          "",
          -0.15678149628386068,
          "",
          "",
          "",
          -0.6083151180751147,
          "",
          -2.817722069650561,
          "",
          "",
          "",
          -1.215420178824346,
          -0.24796884698309699,
          -2.4459172454022435,
          "",
          "",
          -0.2884092753690516,
          "",
          -0.7825188575075877,
          "",
          -1.0092900265895781,
          "",
          "",
          -0.003477491329153093,
          "",
          -1.375612684447689,
          -2.3309444147403244,
          -3.114527937257213,
          "",
          "",
          "",
          "",
          -1.953187316902016,
          "",
          -1.1474450855042881,
          -0.14227616773737423,
          "",
          "",
          -0.503238807522978,
          "",
          -0.851924781339542,
          -1.6960215302201993,
          -1.042378527573055,
          -0.1496146164405624,
          "",
          "",
          "",
          "",
          -0.6959191256462314,
          -1.5772269913438017,
          "",
          "",
          "",
          "",
          "",
          -2.5530928703335505,
          -5.237531174735885,
          -2.145863008812956,
          -0.9929508500518103,
          -0.9778302011241111,
          -0.5520497811532165,
          "",
          "",
          -1.9173525640838096,
          "",
          -2.5695661426298546,
          -1.8803796362638696,
          -2.032916373429681,
          -0.3089277405066224,
          -0.014350429324626934,
          "",
          "",
          "",
          "",
          "",
          "",
          "",
          -1.0999454942635318,
          "",
          -0.19412093807088654,
          "",
          -2.449094757430068,
          -0.0025852954053036115,
          -1.2584787314151809,
          -0.9815532000156448,
          "",
          -1.5534851329965822,
          -1.9628727400644475,
          ""
         ],
         "yaxis": "y2"
        }
       ],
       "layout": {
        "hovermode": "x",
        "legend": {
         "bgcolor": "#F5F6F9",
         "font": {
          "color": "#4D5663"
         }
        },
        "paper_bgcolor": "#F5F6F9",
        "plot_bgcolor": "#F5F6F9",
        "template": {
         "data": {
          "bar": [
           {
            "error_x": {
             "color": "#2a3f5f"
            },
            "error_y": {
             "color": "#2a3f5f"
            },
            "marker": {
             "line": {
              "color": "#E5ECF6",
              "width": 0.5
             },
             "pattern": {
              "fillmode": "overlay",
              "size": 10,
              "solidity": 0.2
             }
            },
            "type": "bar"
           }
          ],
          "barpolar": [
           {
            "marker": {
             "line": {
              "color": "#E5ECF6",
              "width": 0.5
             },
             "pattern": {
              "fillmode": "overlay",
              "size": 10,
              "solidity": 0.2
             }
            },
            "type": "barpolar"
           }
          ],
          "carpet": [
           {
            "aaxis": {
             "endlinecolor": "#2a3f5f",
             "gridcolor": "white",
             "linecolor": "white",
             "minorgridcolor": "white",
             "startlinecolor": "#2a3f5f"
            },
            "baxis": {
             "endlinecolor": "#2a3f5f",
             "gridcolor": "white",
             "linecolor": "white",
             "minorgridcolor": "white",
             "startlinecolor": "#2a3f5f"
            },
            "type": "carpet"
           }
          ],
          "choropleth": [
           {
            "colorbar": {
             "outlinewidth": 0,
             "ticks": ""
            },
            "type": "choropleth"
           }
          ],
          "contour": [
           {
            "colorbar": {
             "outlinewidth": 0,
             "ticks": ""
            },
            "colorscale": [
             [
              0,
              "#0d0887"
             ],
             [
              0.1111111111111111,
              "#46039f"
             ],
             [
              0.2222222222222222,
              "#7201a8"
             ],
             [
              0.3333333333333333,
              "#9c179e"
             ],
             [
              0.4444444444444444,
              "#bd3786"
             ],
             [
              0.5555555555555556,
              "#d8576b"
             ],
             [
              0.6666666666666666,
              "#ed7953"
             ],
             [
              0.7777777777777778,
              "#fb9f3a"
             ],
             [
              0.8888888888888888,
              "#fdca26"
             ],
             [
              1,
              "#f0f921"
             ]
            ],
            "type": "contour"
           }
          ],
          "contourcarpet": [
           {
            "colorbar": {
             "outlinewidth": 0,
             "ticks": ""
            },
            "type": "contourcarpet"
           }
          ],
          "heatmap": [
           {
            "colorbar": {
             "outlinewidth": 0,
             "ticks": ""
            },
            "colorscale": [
             [
              0,
              "#0d0887"
             ],
             [
              0.1111111111111111,
              "#46039f"
             ],
             [
              0.2222222222222222,
              "#7201a8"
             ],
             [
              0.3333333333333333,
              "#9c179e"
             ],
             [
              0.4444444444444444,
              "#bd3786"
             ],
             [
              0.5555555555555556,
              "#d8576b"
             ],
             [
              0.6666666666666666,
              "#ed7953"
             ],
             [
              0.7777777777777778,
              "#fb9f3a"
             ],
             [
              0.8888888888888888,
              "#fdca26"
             ],
             [
              1,
              "#f0f921"
             ]
            ],
            "type": "heatmap"
           }
          ],
          "heatmapgl": [
           {
            "colorbar": {
             "outlinewidth": 0,
             "ticks": ""
            },
            "colorscale": [
             [
              0,
              "#0d0887"
             ],
             [
              0.1111111111111111,
              "#46039f"
             ],
             [
              0.2222222222222222,
              "#7201a8"
             ],
             [
              0.3333333333333333,
              "#9c179e"
             ],
             [
              0.4444444444444444,
              "#bd3786"
             ],
             [
              0.5555555555555556,
              "#d8576b"
             ],
             [
              0.6666666666666666,
              "#ed7953"
             ],
             [
              0.7777777777777778,
              "#fb9f3a"
             ],
             [
              0.8888888888888888,
              "#fdca26"
             ],
             [
              1,
              "#f0f921"
             ]
            ],
            "type": "heatmapgl"
           }
          ],
          "histogram": [
           {
            "marker": {
             "pattern": {
              "fillmode": "overlay",
              "size": 10,
              "solidity": 0.2
             }
            },
            "type": "histogram"
           }
          ],
          "histogram2d": [
           {
            "colorbar": {
             "outlinewidth": 0,
             "ticks": ""
            },
            "colorscale": [
             [
              0,
              "#0d0887"
             ],
             [
              0.1111111111111111,
              "#46039f"
             ],
             [
              0.2222222222222222,
              "#7201a8"
             ],
             [
              0.3333333333333333,
              "#9c179e"
             ],
             [
              0.4444444444444444,
              "#bd3786"
             ],
             [
              0.5555555555555556,
              "#d8576b"
             ],
             [
              0.6666666666666666,
              "#ed7953"
             ],
             [
              0.7777777777777778,
              "#fb9f3a"
             ],
             [
              0.8888888888888888,
              "#fdca26"
             ],
             [
              1,
              "#f0f921"
             ]
            ],
            "type": "histogram2d"
           }
          ],
          "histogram2dcontour": [
           {
            "colorbar": {
             "outlinewidth": 0,
             "ticks": ""
            },
            "colorscale": [
             [
              0,
              "#0d0887"
             ],
             [
              0.1111111111111111,
              "#46039f"
             ],
             [
              0.2222222222222222,
              "#7201a8"
             ],
             [
              0.3333333333333333,
              "#9c179e"
             ],
             [
              0.4444444444444444,
              "#bd3786"
             ],
             [
              0.5555555555555556,
              "#d8576b"
             ],
             [
              0.6666666666666666,
              "#ed7953"
             ],
             [
              0.7777777777777778,
              "#fb9f3a"
             ],
             [
              0.8888888888888888,
              "#fdca26"
             ],
             [
              1,
              "#f0f921"
             ]
            ],
            "type": "histogram2dcontour"
           }
          ],
          "mesh3d": [
           {
            "colorbar": {
             "outlinewidth": 0,
             "ticks": ""
            },
            "type": "mesh3d"
           }
          ],
          "parcoords": [
           {
            "line": {
             "colorbar": {
              "outlinewidth": 0,
              "ticks": ""
             }
            },
            "type": "parcoords"
           }
          ],
          "pie": [
           {
            "automargin": true,
            "type": "pie"
           }
          ],
          "scatter": [
           {
            "marker": {
             "colorbar": {
              "outlinewidth": 0,
              "ticks": ""
             }
            },
            "type": "scatter"
           }
          ],
          "scatter3d": [
           {
            "line": {
             "colorbar": {
              "outlinewidth": 0,
              "ticks": ""
             }
            },
            "marker": {
             "colorbar": {
              "outlinewidth": 0,
              "ticks": ""
             }
            },
            "type": "scatter3d"
           }
          ],
          "scattercarpet": [
           {
            "marker": {
             "colorbar": {
              "outlinewidth": 0,
              "ticks": ""
             }
            },
            "type": "scattercarpet"
           }
          ],
          "scattergeo": [
           {
            "marker": {
             "colorbar": {
              "outlinewidth": 0,
              "ticks": ""
             }
            },
            "type": "scattergeo"
           }
          ],
          "scattergl": [
           {
            "marker": {
             "colorbar": {
              "outlinewidth": 0,
              "ticks": ""
             }
            },
            "type": "scattergl"
           }
          ],
          "scattermapbox": [
           {
            "marker": {
             "colorbar": {
              "outlinewidth": 0,
              "ticks": ""
             }
            },
            "type": "scattermapbox"
           }
          ],
          "scatterpolar": [
           {
            "marker": {
             "colorbar": {
              "outlinewidth": 0,
              "ticks": ""
             }
            },
            "type": "scatterpolar"
           }
          ],
          "scatterpolargl": [
           {
            "marker": {
             "colorbar": {
              "outlinewidth": 0,
              "ticks": ""
             }
            },
            "type": "scatterpolargl"
           }
          ],
          "scatterternary": [
           {
            "marker": {
             "colorbar": {
              "outlinewidth": 0,
              "ticks": ""
             }
            },
            "type": "scatterternary"
           }
          ],
          "surface": [
           {
            "colorbar": {
             "outlinewidth": 0,
             "ticks": ""
            },
            "colorscale": [
             [
              0,
              "#0d0887"
             ],
             [
              0.1111111111111111,
              "#46039f"
             ],
             [
              0.2222222222222222,
              "#7201a8"
             ],
             [
              0.3333333333333333,
              "#9c179e"
             ],
             [
              0.4444444444444444,
              "#bd3786"
             ],
             [
              0.5555555555555556,
              "#d8576b"
             ],
             [
              0.6666666666666666,
              "#ed7953"
             ],
             [
              0.7777777777777778,
              "#fb9f3a"
             ],
             [
              0.8888888888888888,
              "#fdca26"
             ],
             [
              1,
              "#f0f921"
             ]
            ],
            "type": "surface"
           }
          ],
          "table": [
           {
            "cells": {
             "fill": {
              "color": "#EBF0F8"
             },
             "line": {
              "color": "white"
             }
            },
            "header": {
             "fill": {
              "color": "#C8D4E3"
             },
             "line": {
              "color": "white"
             }
            },
            "type": "table"
           }
          ]
         },
         "layout": {
          "annotationdefaults": {
           "arrowcolor": "#2a3f5f",
           "arrowhead": 0,
           "arrowwidth": 1
          },
          "autotypenumbers": "strict",
          "coloraxis": {
           "colorbar": {
            "outlinewidth": 0,
            "ticks": ""
           }
          },
          "colorscale": {
           "diverging": [
            [
             0,
             "#8e0152"
            ],
            [
             0.1,
             "#c51b7d"
            ],
            [
             0.2,
             "#de77ae"
            ],
            [
             0.3,
             "#f1b6da"
            ],
            [
             0.4,
             "#fde0ef"
            ],
            [
             0.5,
             "#f7f7f7"
            ],
            [
             0.6,
             "#e6f5d0"
            ],
            [
             0.7,
             "#b8e186"
            ],
            [
             0.8,
             "#7fbc41"
            ],
            [
             0.9,
             "#4d9221"
            ],
            [
             1,
             "#276419"
            ]
           ],
           "sequential": [
            [
             0,
             "#0d0887"
            ],
            [
             0.1111111111111111,
             "#46039f"
            ],
            [
             0.2222222222222222,
             "#7201a8"
            ],
            [
             0.3333333333333333,
             "#9c179e"
            ],
            [
             0.4444444444444444,
             "#bd3786"
            ],
            [
             0.5555555555555556,
             "#d8576b"
            ],
            [
             0.6666666666666666,
             "#ed7953"
            ],
            [
             0.7777777777777778,
             "#fb9f3a"
            ],
            [
             0.8888888888888888,
             "#fdca26"
            ],
            [
             1,
             "#f0f921"
            ]
           ],
           "sequentialminus": [
            [
             0,
             "#0d0887"
            ],
            [
             0.1111111111111111,
             "#46039f"
            ],
            [
             0.2222222222222222,
             "#7201a8"
            ],
            [
             0.3333333333333333,
             "#9c179e"
            ],
            [
             0.4444444444444444,
             "#bd3786"
            ],
            [
             0.5555555555555556,
             "#d8576b"
            ],
            [
             0.6666666666666666,
             "#ed7953"
            ],
            [
             0.7777777777777778,
             "#fb9f3a"
            ],
            [
             0.8888888888888888,
             "#fdca26"
            ],
            [
             1,
             "#f0f921"
            ]
           ]
          },
          "colorway": [
           "#636efa",
           "#EF553B",
           "#00cc96",
           "#ab63fa",
           "#FFA15A",
           "#19d3f3",
           "#FF6692",
           "#B6E880",
           "#FF97FF",
           "#FECB52"
          ],
          "font": {
           "color": "#2a3f5f"
          },
          "geo": {
           "bgcolor": "white",
           "lakecolor": "white",
           "landcolor": "#E5ECF6",
           "showlakes": true,
           "showland": true,
           "subunitcolor": "white"
          },
          "hoverlabel": {
           "align": "left"
          },
          "hovermode": "closest",
          "mapbox": {
           "style": "light"
          },
          "paper_bgcolor": "white",
          "plot_bgcolor": "#E5ECF6",
          "polar": {
           "angularaxis": {
            "gridcolor": "white",
            "linecolor": "white",
            "ticks": ""
           },
           "bgcolor": "#E5ECF6",
           "radialaxis": {
            "gridcolor": "white",
            "linecolor": "white",
            "ticks": ""
           }
          },
          "scene": {
           "xaxis": {
            "backgroundcolor": "#E5ECF6",
            "gridcolor": "white",
            "gridwidth": 2,
            "linecolor": "white",
            "showbackground": true,
            "ticks": "",
            "zerolinecolor": "white"
           },
           "yaxis": {
            "backgroundcolor": "#E5ECF6",
            "gridcolor": "white",
            "gridwidth": 2,
            "linecolor": "white",
            "showbackground": true,
            "ticks": "",
            "zerolinecolor": "white"
           },
           "zaxis": {
            "backgroundcolor": "#E5ECF6",
            "gridcolor": "white",
            "gridwidth": 2,
            "linecolor": "white",
            "showbackground": true,
            "ticks": "",
            "zerolinecolor": "white"
           }
          },
          "shapedefaults": {
           "line": {
            "color": "#2a3f5f"
           }
          },
          "ternary": {
           "aaxis": {
            "gridcolor": "white",
            "linecolor": "white",
            "ticks": ""
           },
           "baxis": {
            "gridcolor": "white",
            "linecolor": "white",
            "ticks": ""
           },
           "bgcolor": "#E5ECF6",
           "caxis": {
            "gridcolor": "white",
            "linecolor": "white",
            "ticks": ""
           }
          },
          "title": {
           "x": 0.05
          },
          "xaxis": {
           "automargin": true,
           "gridcolor": "white",
           "linecolor": "white",
           "ticks": "",
           "title": {
            "standoff": 15
           },
           "zerolinecolor": "white",
           "zerolinewidth": 2
          },
          "yaxis": {
           "automargin": true,
           "gridcolor": "white",
           "linecolor": "white",
           "ticks": "",
           "title": {
            "standoff": 15
           },
           "zerolinecolor": "white",
           "zerolinewidth": 2
          }
         }
        },
        "title": {
         "font": {
          "color": "#4D5663"
         }
        },
        "xaxis": {
         "gridcolor": "#E1E5ED",
         "showgrid": true,
         "tickfont": {
          "color": "#4D5663"
         },
         "title": {
          "font": {
           "color": "#4D5663"
          },
          "text": ""
         },
         "zerolinecolor": "#E1E5ED"
        },
        "xaxis2": {
         "anchor": "y2",
         "gridcolor": "#E1E5ED",
         "showgrid": true,
         "showticklabels": false,
         "tickfont": {
          "color": "#4D5663"
         },
         "title": {
          "font": {
           "color": "#4D5663"
          },
          "text": ""
         },
         "zerolinecolor": "#E1E5ED"
        },
        "yaxis": {
         "domain": [
          0.3,
          1
         ],
         "gridcolor": "#E1E5ED",
         "showgrid": true,
         "tickfont": {
          "color": "#4D5663"
         },
         "title": {
          "font": {
           "color": "#4D5663"
          },
          "text": ""
         },
         "zerolinecolor": "#E1E5ED"
        },
        "yaxis2": {
         "domain": [
          0,
          0.25
         ],
         "gridcolor": "#E1E5ED",
         "showgrid": true,
         "tickfont": {
          "color": "#4D5663"
         },
         "title": {
          "font": {
           "color": "#4D5663"
          },
          "text": "Spread"
         },
         "zerolinecolor": "#E1E5ED"
        }
       }
      },
      "text/html": [
       "<div>                            <div id=\"ac6e19a7-58f6-44da-98de-6ee8be73e873\" class=\"plotly-graph-div\" style=\"height:525px; width:100%;\"></div>            <script type=\"text/javascript\">                require([\"plotly\"], function(Plotly) {                    window.PLOTLYENV=window.PLOTLYENV || {};\n",
       "                    window.PLOTLYENV.BASE_URL='https://plot.ly';                                    if (document.getElementById(\"ac6e19a7-58f6-44da-98de-6ee8be73e873\")) {                    Plotly.newPlot(                        \"ac6e19a7-58f6-44da-98de-6ee8be73e873\",                        [{\"line\":{\"color\":\"rgba(255, 153, 51, 1.0)\",\"dash\":\"solid\",\"shape\":\"linear\",\"width\":1.3},\"mode\":\"lines\",\"name\":\"A\",\"text\":\"\",\"x\":[0,1,2,3,4,5,6,7,8,9,10,11,12,13,14,15,16,17,18,19,20,21,22,23,24,25,26,27,28,29,30,31,32,33,34,35,36,37,38,39,40,41,42,43,44,45,46,47,48,49,50,51,52,53,54,55,56,57,58,59,60,61,62,63,64,65,66,67,68,69,70,71,72,73,74,75,76,77,78,79,80,81,82,83,84,85,86,87,88,89,90,91,92,93,94,95,96,97,98,99],\"y\":[-1.940080026219166,1.247986255885124,0.005552480825121469,-1.0027143906099687,1.2817199630272835,0.6476225955696181,-0.47082217801973575,-0.7832385517451328,-0.03200880067877387,-1.7768059287110718,1.554472601034797,-0.5424463994084257,-0.6543854872054302,-0.11738188392573798,0.4472596966018866,0.9093536171517177,-1.2083688867665092,0.9646113134652564,-1.2816508421771076,0.21107539625334415,1.6477264512828698,-0.10189852530746328,0.40252833411893363,-0.09916223822923723,-0.4017650661321447,0.8487489560918642,0.43447876816581626,0.8597839810516802,-0.14736283054749616,-0.9783737935958959,2.2378199514306165,0.36734697202218997,1.451139684431283,-1.6859788511506248,0.8156220067880682,0.3636193503509781,0.33828766799380217,-0.6492731530581983,-2.8505206810637653,0.7693755173217187,0.1558705587486528,0.5465230891949352,0.15193705928030185,-1.826760068829946,-0.6431764080889432,-0.37872160024822626,0.21957155520063143,2.4220943729305358,0.5017857089929868,-1.1935585863968063,0.47459309666712834,0.7463595991333764,-1.0385638073567438,-2.3737232986666266,-1.0022689901390849,0.7571215212013698,0.9851483833519586,-0.6770938029644872,1.1955696275365801,-2.0258331094509665,-0.9855329381386819,0.9925207813085811,1.3443541412173972,0.13503474291828854,-0.4743272748816833,0.7481539445445763,-1.7348108003535843,-3.102177455400545,-1.867960929691828,-1.2183171880602917,0.39246813826290783,0.6284204223734368,1.8605513840343577,1.9154258112084859,-0.46697846254948916,1.5060756881486907,-1.1039222700653184,-0.7010077581019479,-1.8923727669450956,-0.7589049198697577,0.21997246180406196,-0.2527842438625434,-0.48854645727572715,1.146553248248512,2.6426699786080716,0.8951646903900001,-0.0710513488662732,-0.3578505923475407,-0.1634696762619168,0.06029513149636131,0.3497535135832744,0.2629004354778632,-1.6511333120143168,0.372438904621618,-0.18192482315461628,-1.437435952875453,0.11425385213665518,-1.311521797467715,-2.9587834307624434,1.0067860750661797],\"type\":\"scatter\"},{\"line\":{\"color\":\"rgba(55, 128, 191, 1.0)\",\"dash\":\"solid\",\"shape\":\"linear\",\"width\":1.3},\"mode\":\"lines\",\"name\":\"B\",\"text\":\"\",\"x\":[0,1,2,3,4,5,6,7,8,9,10,11,12,13,14,15,16,17,18,19,20,21,22,23,24,25,26,27,28,29,30,31,32,33,34,35,36,37,38,39,40,41,42,43,44,45,46,47,48,49,50,51,52,53,54,55,56,57,58,59,60,61,62,63,64,65,66,67,68,69,70,71,72,73,74,75,76,77,78,79,80,81,82,83,84,85,86,87,88,89,90,91,92,93,94,95,96,97,98,99],\"y\":[-0.8949939745562235,-0.10081740469638696,-0.5935067963171174,-0.39316865154173963,0.40530630884910174,0.4586602330973266,0.9834194539677105,1.0008170337160616,0.6030604319208548,-1.24108213598008,0.6689774898417429,-1.7462108536179457,-0.49760399092156954,-0.35549370576405054,-1.042569669464304,-0.0012514324728663954,-0.6000537686913945,-0.5448907056572506,1.5360712274734536,-0.6416666847641722,-0.23730111471320048,-1.9023180967798081,1.6179485129432796,0.14880660875385976,2.0441521792700987,0.3403729778944682,-0.508956726544393,1.1481932564207318,-0.3323660527558092,-0.19585493608830828,0.009222766308319844,1.3766369986117681,0.04719858580821799,-1.887111341025749,0.8190994981172213,-1.0882829136872194,1.713900352441491,1.6816712616821259,0.2640072561934476,0.04329219467970145,-1.2530505045188787,0.38814340584746565,-0.4434718283401896,0.12642724807207012,-2.4674451497537824,0.7687234852560618,0.36184772293800566,-0.1459995427596467,-2.374448822101066,-0.6903197788738283,-0.07681640573681076,1.5982843804729183,0.6574577228634556,-1.3313447710935715,-0.8526543736985225,-1.8452306890564831,-0.1514233262920145,-0.8633051326821842,-1.0017436343534927,-1.3299139838047351,0.5916940532051198,-0.8651375029310416,-0.32009101541491985,-0.3654722562092443,-1.433984143611732,0.046752121963915455,0.8182820699799663,2.13535371933534,0.2779020791211278,-0.22536633800848135,1.370298339387019,1.1804702035266532,-0.4798839956833346,0.1480843397175848,1.4503741015343206,0.2572218755942087,1.4656438725645362,1.1793718781619216,0.1405436064845857,-0.4499771793631353,0.2343228911286889,-0.5273323738992424,-0.5375462248038378,1.1351118569437255,0.20135904847445885,0.8642497522520891,-1.8006558173862532,-0.636753333865244,0.9364758180016151,-1.7859586833873624,0.5438744516541609,-0.3244573292684904,0.7979614454157512,0.3750242000269216,1.0765539082605646,-0.45588275285980817,-0.4020319590780695,0.2419633355288673,-0.995910690697996,0.5744258727357455],\"type\":\"scatter\"},{\"connectgaps\":false,\"fill\":\"tozeroy\",\"line\":{\"color\":\"green\",\"dash\":\"solid\",\"shape\":\"linear\",\"width\":0.5},\"mode\":\"lines\",\"name\":\"Spread\",\"showlegend\":false,\"x\":[0,1,2,3,4,5,6,7,8,9,10,11,12,13,14,15,16,17,18,19,20,21,22,23,24,25,26,27,28,29,30,31,32,33,34,35,36,37,38,39,40,41,42,43,44,45,46,47,48,49,50,51,52,53,54,55,56,57,58,59,60,61,62,63,64,65,66,67,68,69,70,71,72,73,74,75,76,77,78,79,80,81,82,83,84,85,86,87,88,89,90,91,92,93,94,95,96,97,98,99],\"xaxis\":\"x2\",\"y\":[\"\",1.348803660581511,0.5990592771422389,\"\",0.8764136541781817,0.18896236247229148,\"\",\"\",\"\",\"\",0.885495111193054,1.20376445420952,\"\",0.23811182183831256,1.4898293660661905,0.9106050496245841,\"\",1.509502019122507,\"\",0.8527420810175164,1.8850275659960702,1.8004195714723448,\"\",\"\",\"\",0.508375978197396,0.9434354947102093,\"\",0.18500322220831306,\"\",2.2285971851222968,\"\",1.403941098623065,0.2011324898751241,\"\",1.4519022640381976,\"\",\"\",\"\",0.7260833226420172,1.4089210632675315,0.15837968334746955,0.5954088876204915,\"\",1.8242687416648393,\"\",\"\",2.5680939156901825,2.876234531094053,\"\",0.5514095024039392,\"\",\"\",\"\",\"\",2.6023522102578527,1.1365717096439731,0.18621132971769705,2.1973132618900726,\"\",\"\",1.8576582842396228,1.664445156632317,0.5005069991275328,0.9596568687300486,0.7014018225806609,\"\",\"\",\"\",\"\",\"\",\"\",2.340435379717692,1.767341471490901,\"\",1.248853812554482,\"\",\"\",\"\",\"\",\"\",0.274548130036699,0.048999767528110694,0.011441391304786386,2.441310930133613,0.03091493813791102,1.72960446851998,0.27890274151770333,\"\",1.8462538148837238,\"\",0.5873577647463536,\"\",\"\",\"\",\"\",0.5162858112147246,\"\",\"\",0.43236020233043415],\"yaxis\":\"y2\",\"type\":\"scatter\"},{\"connectgaps\":false,\"fill\":\"tozeroy\",\"line\":{\"color\":\"red\",\"dash\":\"solid\",\"shape\":\"linear\",\"width\":0.5},\"mode\":\"lines\",\"name\":\"Spread\",\"showlegend\":false,\"x\":[0,1,2,3,4,5,6,7,8,9,10,11,12,13,14,15,16,17,18,19,20,21,22,23,24,25,26,27,28,29,30,31,32,33,34,35,36,37,38,39,40,41,42,43,44,45,46,47,48,49,50,51,52,53,54,55,56,57,58,59,60,61,62,63,64,65,66,67,68,69,70,71,72,73,74,75,76,77,78,79,80,81,82,83,84,85,86,87,88,89,90,91,92,93,94,95,96,97,98,99],\"xaxis\":\"x2\",\"y\":[-1.0450860516629423,\"\",\"\",-0.6095457390682291,\"\",\"\",-1.4542416319874463,-1.7840555854611944,-0.6350692325996287,-0.5357237927309917,\"\",\"\",-0.15678149628386068,\"\",\"\",\"\",-0.6083151180751147,\"\",-2.817722069650561,\"\",\"\",\"\",-1.215420178824346,-0.24796884698309699,-2.4459172454022435,\"\",\"\",-0.2884092753690516,\"\",-0.7825188575075877,\"\",-1.0092900265895781,\"\",\"\",-0.003477491329153093,\"\",-1.375612684447689,-2.3309444147403244,-3.114527937257213,\"\",\"\",\"\",\"\",-1.953187316902016,\"\",-1.1474450855042881,-0.14227616773737423,\"\",\"\",-0.503238807522978,\"\",-0.851924781339542,-1.6960215302201993,-1.042378527573055,-0.1496146164405624,\"\",\"\",\"\",\"\",-0.6959191256462314,-1.5772269913438017,\"\",\"\",\"\",\"\",\"\",-2.5530928703335505,-5.237531174735885,-2.145863008812956,-0.9929508500518103,-0.9778302011241111,-0.5520497811532165,\"\",\"\",-1.9173525640838096,\"\",-2.5695661426298546,-1.8803796362638696,-2.032916373429681,-0.3089277405066224,-0.014350429324626934,\"\",\"\",\"\",\"\",\"\",\"\",\"\",-1.0999454942635318,\"\",-0.19412093807088654,\"\",-2.449094757430068,-0.0025852954053036115,-1.2584787314151809,-0.9815532000156448,\"\",-1.5534851329965822,-1.9628727400644475,\"\"],\"yaxis\":\"y2\",\"type\":\"scatter\"}],                        {\"hovermode\":\"x\",\"legend\":{\"bgcolor\":\"#F5F6F9\",\"font\":{\"color\":\"#4D5663\"}},\"paper_bgcolor\":\"#F5F6F9\",\"plot_bgcolor\":\"#F5F6F9\",\"template\":{\"data\":{\"barpolar\":[{\"marker\":{\"line\":{\"color\":\"#E5ECF6\",\"width\":0.5},\"pattern\":{\"fillmode\":\"overlay\",\"size\":10,\"solidity\":0.2}},\"type\":\"barpolar\"}],\"bar\":[{\"error_x\":{\"color\":\"#2a3f5f\"},\"error_y\":{\"color\":\"#2a3f5f\"},\"marker\":{\"line\":{\"color\":\"#E5ECF6\",\"width\":0.5},\"pattern\":{\"fillmode\":\"overlay\",\"size\":10,\"solidity\":0.2}},\"type\":\"bar\"}],\"carpet\":[{\"aaxis\":{\"endlinecolor\":\"#2a3f5f\",\"gridcolor\":\"white\",\"linecolor\":\"white\",\"minorgridcolor\":\"white\",\"startlinecolor\":\"#2a3f5f\"},\"baxis\":{\"endlinecolor\":\"#2a3f5f\",\"gridcolor\":\"white\",\"linecolor\":\"white\",\"minorgridcolor\":\"white\",\"startlinecolor\":\"#2a3f5f\"},\"type\":\"carpet\"}],\"choropleth\":[{\"colorbar\":{\"outlinewidth\":0,\"ticks\":\"\"},\"type\":\"choropleth\"}],\"contourcarpet\":[{\"colorbar\":{\"outlinewidth\":0,\"ticks\":\"\"},\"type\":\"contourcarpet\"}],\"contour\":[{\"colorbar\":{\"outlinewidth\":0,\"ticks\":\"\"},\"colorscale\":[[0.0,\"#0d0887\"],[0.1111111111111111,\"#46039f\"],[0.2222222222222222,\"#7201a8\"],[0.3333333333333333,\"#9c179e\"],[0.4444444444444444,\"#bd3786\"],[0.5555555555555556,\"#d8576b\"],[0.6666666666666666,\"#ed7953\"],[0.7777777777777778,\"#fb9f3a\"],[0.8888888888888888,\"#fdca26\"],[1.0,\"#f0f921\"]],\"type\":\"contour\"}],\"heatmapgl\":[{\"colorbar\":{\"outlinewidth\":0,\"ticks\":\"\"},\"colorscale\":[[0.0,\"#0d0887\"],[0.1111111111111111,\"#46039f\"],[0.2222222222222222,\"#7201a8\"],[0.3333333333333333,\"#9c179e\"],[0.4444444444444444,\"#bd3786\"],[0.5555555555555556,\"#d8576b\"],[0.6666666666666666,\"#ed7953\"],[0.7777777777777778,\"#fb9f3a\"],[0.8888888888888888,\"#fdca26\"],[1.0,\"#f0f921\"]],\"type\":\"heatmapgl\"}],\"heatmap\":[{\"colorbar\":{\"outlinewidth\":0,\"ticks\":\"\"},\"colorscale\":[[0.0,\"#0d0887\"],[0.1111111111111111,\"#46039f\"],[0.2222222222222222,\"#7201a8\"],[0.3333333333333333,\"#9c179e\"],[0.4444444444444444,\"#bd3786\"],[0.5555555555555556,\"#d8576b\"],[0.6666666666666666,\"#ed7953\"],[0.7777777777777778,\"#fb9f3a\"],[0.8888888888888888,\"#fdca26\"],[1.0,\"#f0f921\"]],\"type\":\"heatmap\"}],\"histogram2dcontour\":[{\"colorbar\":{\"outlinewidth\":0,\"ticks\":\"\"},\"colorscale\":[[0.0,\"#0d0887\"],[0.1111111111111111,\"#46039f\"],[0.2222222222222222,\"#7201a8\"],[0.3333333333333333,\"#9c179e\"],[0.4444444444444444,\"#bd3786\"],[0.5555555555555556,\"#d8576b\"],[0.6666666666666666,\"#ed7953\"],[0.7777777777777778,\"#fb9f3a\"],[0.8888888888888888,\"#fdca26\"],[1.0,\"#f0f921\"]],\"type\":\"histogram2dcontour\"}],\"histogram2d\":[{\"colorbar\":{\"outlinewidth\":0,\"ticks\":\"\"},\"colorscale\":[[0.0,\"#0d0887\"],[0.1111111111111111,\"#46039f\"],[0.2222222222222222,\"#7201a8\"],[0.3333333333333333,\"#9c179e\"],[0.4444444444444444,\"#bd3786\"],[0.5555555555555556,\"#d8576b\"],[0.6666666666666666,\"#ed7953\"],[0.7777777777777778,\"#fb9f3a\"],[0.8888888888888888,\"#fdca26\"],[1.0,\"#f0f921\"]],\"type\":\"histogram2d\"}],\"histogram\":[{\"marker\":{\"pattern\":{\"fillmode\":\"overlay\",\"size\":10,\"solidity\":0.2}},\"type\":\"histogram\"}],\"mesh3d\":[{\"colorbar\":{\"outlinewidth\":0,\"ticks\":\"\"},\"type\":\"mesh3d\"}],\"parcoords\":[{\"line\":{\"colorbar\":{\"outlinewidth\":0,\"ticks\":\"\"}},\"type\":\"parcoords\"}],\"pie\":[{\"automargin\":true,\"type\":\"pie\"}],\"scatter3d\":[{\"line\":{\"colorbar\":{\"outlinewidth\":0,\"ticks\":\"\"}},\"marker\":{\"colorbar\":{\"outlinewidth\":0,\"ticks\":\"\"}},\"type\":\"scatter3d\"}],\"scattercarpet\":[{\"marker\":{\"colorbar\":{\"outlinewidth\":0,\"ticks\":\"\"}},\"type\":\"scattercarpet\"}],\"scattergeo\":[{\"marker\":{\"colorbar\":{\"outlinewidth\":0,\"ticks\":\"\"}},\"type\":\"scattergeo\"}],\"scattergl\":[{\"marker\":{\"colorbar\":{\"outlinewidth\":0,\"ticks\":\"\"}},\"type\":\"scattergl\"}],\"scattermapbox\":[{\"marker\":{\"colorbar\":{\"outlinewidth\":0,\"ticks\":\"\"}},\"type\":\"scattermapbox\"}],\"scatterpolargl\":[{\"marker\":{\"colorbar\":{\"outlinewidth\":0,\"ticks\":\"\"}},\"type\":\"scatterpolargl\"}],\"scatterpolar\":[{\"marker\":{\"colorbar\":{\"outlinewidth\":0,\"ticks\":\"\"}},\"type\":\"scatterpolar\"}],\"scatter\":[{\"marker\":{\"colorbar\":{\"outlinewidth\":0,\"ticks\":\"\"}},\"type\":\"scatter\"}],\"scatterternary\":[{\"marker\":{\"colorbar\":{\"outlinewidth\":0,\"ticks\":\"\"}},\"type\":\"scatterternary\"}],\"surface\":[{\"colorbar\":{\"outlinewidth\":0,\"ticks\":\"\"},\"colorscale\":[[0.0,\"#0d0887\"],[0.1111111111111111,\"#46039f\"],[0.2222222222222222,\"#7201a8\"],[0.3333333333333333,\"#9c179e\"],[0.4444444444444444,\"#bd3786\"],[0.5555555555555556,\"#d8576b\"],[0.6666666666666666,\"#ed7953\"],[0.7777777777777778,\"#fb9f3a\"],[0.8888888888888888,\"#fdca26\"],[1.0,\"#f0f921\"]],\"type\":\"surface\"}],\"table\":[{\"cells\":{\"fill\":{\"color\":\"#EBF0F8\"},\"line\":{\"color\":\"white\"}},\"header\":{\"fill\":{\"color\":\"#C8D4E3\"},\"line\":{\"color\":\"white\"}},\"type\":\"table\"}]},\"layout\":{\"annotationdefaults\":{\"arrowcolor\":\"#2a3f5f\",\"arrowhead\":0,\"arrowwidth\":1},\"autotypenumbers\":\"strict\",\"coloraxis\":{\"colorbar\":{\"outlinewidth\":0,\"ticks\":\"\"}},\"colorscale\":{\"diverging\":[[0,\"#8e0152\"],[0.1,\"#c51b7d\"],[0.2,\"#de77ae\"],[0.3,\"#f1b6da\"],[0.4,\"#fde0ef\"],[0.5,\"#f7f7f7\"],[0.6,\"#e6f5d0\"],[0.7,\"#b8e186\"],[0.8,\"#7fbc41\"],[0.9,\"#4d9221\"],[1,\"#276419\"]],\"sequential\":[[0.0,\"#0d0887\"],[0.1111111111111111,\"#46039f\"],[0.2222222222222222,\"#7201a8\"],[0.3333333333333333,\"#9c179e\"],[0.4444444444444444,\"#bd3786\"],[0.5555555555555556,\"#d8576b\"],[0.6666666666666666,\"#ed7953\"],[0.7777777777777778,\"#fb9f3a\"],[0.8888888888888888,\"#fdca26\"],[1.0,\"#f0f921\"]],\"sequentialminus\":[[0.0,\"#0d0887\"],[0.1111111111111111,\"#46039f\"],[0.2222222222222222,\"#7201a8\"],[0.3333333333333333,\"#9c179e\"],[0.4444444444444444,\"#bd3786\"],[0.5555555555555556,\"#d8576b\"],[0.6666666666666666,\"#ed7953\"],[0.7777777777777778,\"#fb9f3a\"],[0.8888888888888888,\"#fdca26\"],[1.0,\"#f0f921\"]]},\"colorway\":[\"#636efa\",\"#EF553B\",\"#00cc96\",\"#ab63fa\",\"#FFA15A\",\"#19d3f3\",\"#FF6692\",\"#B6E880\",\"#FF97FF\",\"#FECB52\"],\"font\":{\"color\":\"#2a3f5f\"},\"geo\":{\"bgcolor\":\"white\",\"lakecolor\":\"white\",\"landcolor\":\"#E5ECF6\",\"showlakes\":true,\"showland\":true,\"subunitcolor\":\"white\"},\"hoverlabel\":{\"align\":\"left\"},\"hovermode\":\"closest\",\"mapbox\":{\"style\":\"light\"},\"paper_bgcolor\":\"white\",\"plot_bgcolor\":\"#E5ECF6\",\"polar\":{\"angularaxis\":{\"gridcolor\":\"white\",\"linecolor\":\"white\",\"ticks\":\"\"},\"bgcolor\":\"#E5ECF6\",\"radialaxis\":{\"gridcolor\":\"white\",\"linecolor\":\"white\",\"ticks\":\"\"}},\"scene\":{\"xaxis\":{\"backgroundcolor\":\"#E5ECF6\",\"gridcolor\":\"white\",\"gridwidth\":2,\"linecolor\":\"white\",\"showbackground\":true,\"ticks\":\"\",\"zerolinecolor\":\"white\"},\"yaxis\":{\"backgroundcolor\":\"#E5ECF6\",\"gridcolor\":\"white\",\"gridwidth\":2,\"linecolor\":\"white\",\"showbackground\":true,\"ticks\":\"\",\"zerolinecolor\":\"white\"},\"zaxis\":{\"backgroundcolor\":\"#E5ECF6\",\"gridcolor\":\"white\",\"gridwidth\":2,\"linecolor\":\"white\",\"showbackground\":true,\"ticks\":\"\",\"zerolinecolor\":\"white\"}},\"shapedefaults\":{\"line\":{\"color\":\"#2a3f5f\"}},\"ternary\":{\"aaxis\":{\"gridcolor\":\"white\",\"linecolor\":\"white\",\"ticks\":\"\"},\"baxis\":{\"gridcolor\":\"white\",\"linecolor\":\"white\",\"ticks\":\"\"},\"bgcolor\":\"#E5ECF6\",\"caxis\":{\"gridcolor\":\"white\",\"linecolor\":\"white\",\"ticks\":\"\"}},\"title\":{\"x\":0.05},\"xaxis\":{\"automargin\":true,\"gridcolor\":\"white\",\"linecolor\":\"white\",\"ticks\":\"\",\"title\":{\"standoff\":15},\"zerolinecolor\":\"white\",\"zerolinewidth\":2},\"yaxis\":{\"automargin\":true,\"gridcolor\":\"white\",\"linecolor\":\"white\",\"ticks\":\"\",\"title\":{\"standoff\":15},\"zerolinecolor\":\"white\",\"zerolinewidth\":2}}},\"title\":{\"font\":{\"color\":\"#4D5663\"}},\"xaxis\":{\"gridcolor\":\"#E1E5ED\",\"showgrid\":true,\"tickfont\":{\"color\":\"#4D5663\"},\"title\":{\"font\":{\"color\":\"#4D5663\"},\"text\":\"\"},\"zerolinecolor\":\"#E1E5ED\"},\"yaxis\":{\"domain\":[0.3,1],\"gridcolor\":\"#E1E5ED\",\"showgrid\":true,\"tickfont\":{\"color\":\"#4D5663\"},\"title\":{\"font\":{\"color\":\"#4D5663\"},\"text\":\"\"},\"zerolinecolor\":\"#E1E5ED\"},\"yaxis2\":{\"domain\":[0,0.25],\"gridcolor\":\"#E1E5ED\",\"showgrid\":true,\"tickfont\":{\"color\":\"#4D5663\"},\"title\":{\"font\":{\"color\":\"#4D5663\"},\"text\":\"Spread\"},\"zerolinecolor\":\"#E1E5ED\"},\"xaxis2\":{\"anchor\":\"y2\",\"gridcolor\":\"#E1E5ED\",\"showgrid\":true,\"showticklabels\":false,\"tickfont\":{\"color\":\"#4D5663\"},\"title\":{\"font\":{\"color\":\"#4D5663\"},\"text\":\"\"},\"zerolinecolor\":\"#E1E5ED\"}},                        {\"showLink\": true, \"linkText\": \"Export to plot.ly\", \"plotlyServerURL\": \"https://plot.ly\", \"responsive\": true}                    ).then(function(){\n",
       "                            \n",
       "var gd = document.getElementById('ac6e19a7-58f6-44da-98de-6ee8be73e873');\n",
       "var x = new MutationObserver(function (mutations, observer) {{\n",
       "        var display = window.getComputedStyle(gd).display;\n",
       "        if (!display || display === 'none') {{\n",
       "            console.log([gd, 'removed!']);\n",
       "            Plotly.purge(gd);\n",
       "            observer.disconnect();\n",
       "        }}\n",
       "}});\n",
       "\n",
       "// Listen for the removal of the full notebook cells\n",
       "var notebookContainer = gd.closest('#notebook-container');\n",
       "if (notebookContainer) {{\n",
       "    x.observe(notebookContainer, {childList: true});\n",
       "}}\n",
       "\n",
       "// Listen for the clearing of the current output cell\n",
       "var outputEl = gd.closest('.output');\n",
       "if (outputEl) {{\n",
       "    x.observe(outputEl, {childList: true});\n",
       "}}\n",
       "\n",
       "                        })                };                });            </script>        </div>"
      ]
     },
     "metadata": {},
     "output_type": "display_data"
    }
   ],
   "source": [
    "df[['A','B']].iplot(kind='spread')"
   ]
  },
  {
   "cell_type": "markdown",
   "metadata": {},
   "source": [
    "## histogram"
   ]
  },
  {
   "cell_type": "code",
   "execution_count": 16,
   "metadata": {},
   "outputs": [
    {
     "data": {
      "application/vnd.plotly.v1+json": {
       "config": {
        "linkText": "Export to plot.ly",
        "plotlyServerURL": "https://plot.ly",
        "showLink": true
       },
       "data": [
        {
         "histfunc": "count",
         "histnorm": "",
         "marker": {
          "color": "rgba(255, 153, 51, 1.0)",
          "line": {
           "color": "#4D5663",
           "width": 1.3
          }
         },
         "name": "A",
         "nbinsx": 25,
         "opacity": 0.8,
         "orientation": "v",
         "type": "histogram",
         "x": [
          -1.940080026219166,
          1.247986255885124,
          0.005552480825121469,
          -1.0027143906099687,
          1.2817199630272835,
          0.6476225955696181,
          -0.47082217801973575,
          -0.7832385517451328,
          -0.03200880067877387,
          -1.7768059287110718,
          1.554472601034797,
          -0.5424463994084257,
          -0.6543854872054302,
          -0.11738188392573798,
          0.4472596966018866,
          0.9093536171517177,
          -1.2083688867665092,
          0.9646113134652564,
          -1.2816508421771076,
          0.21107539625334415,
          1.6477264512828698,
          -0.10189852530746328,
          0.40252833411893363,
          -0.09916223822923723,
          -0.4017650661321447,
          0.8487489560918642,
          0.43447876816581626,
          0.8597839810516802,
          -0.14736283054749616,
          -0.9783737935958959,
          2.2378199514306165,
          0.36734697202218997,
          1.451139684431283,
          -1.6859788511506248,
          0.8156220067880682,
          0.3636193503509781,
          0.33828766799380217,
          -0.6492731530581983,
          -2.8505206810637653,
          0.7693755173217187,
          0.1558705587486528,
          0.5465230891949352,
          0.15193705928030185,
          -1.826760068829946,
          -0.6431764080889432,
          -0.37872160024822626,
          0.21957155520063143,
          2.4220943729305358,
          0.5017857089929868,
          -1.1935585863968063,
          0.47459309666712834,
          0.7463595991333764,
          -1.0385638073567438,
          -2.3737232986666266,
          -1.0022689901390849,
          0.7571215212013698,
          0.9851483833519586,
          -0.6770938029644872,
          1.1955696275365801,
          -2.0258331094509665,
          -0.9855329381386819,
          0.9925207813085811,
          1.3443541412173972,
          0.13503474291828854,
          -0.4743272748816833,
          0.7481539445445763,
          -1.7348108003535843,
          -3.102177455400545,
          -1.867960929691828,
          -1.2183171880602917,
          0.39246813826290783,
          0.6284204223734368,
          1.8605513840343577,
          1.9154258112084859,
          -0.46697846254948916,
          1.5060756881486907,
          -1.1039222700653184,
          -0.7010077581019479,
          -1.8923727669450956,
          -0.7589049198697577,
          0.21997246180406196,
          -0.2527842438625434,
          -0.48854645727572715,
          1.146553248248512,
          2.6426699786080716,
          0.8951646903900001,
          -0.0710513488662732,
          -0.3578505923475407,
          -0.1634696762619168,
          0.06029513149636131,
          0.3497535135832744,
          0.2629004354778632,
          -1.6511333120143168,
          0.372438904621618,
          -0.18192482315461628,
          -1.437435952875453,
          0.11425385213665518,
          -1.311521797467715,
          -2.9587834307624434,
          1.0067860750661797
         ]
        }
       ],
       "layout": {
        "barmode": "overlay",
        "legend": {
         "bgcolor": "#F5F6F9",
         "font": {
          "color": "#4D5663"
         }
        },
        "paper_bgcolor": "#F5F6F9",
        "plot_bgcolor": "#F5F6F9",
        "template": {
         "data": {
          "bar": [
           {
            "error_x": {
             "color": "#2a3f5f"
            },
            "error_y": {
             "color": "#2a3f5f"
            },
            "marker": {
             "line": {
              "color": "#E5ECF6",
              "width": 0.5
             },
             "pattern": {
              "fillmode": "overlay",
              "size": 10,
              "solidity": 0.2
             }
            },
            "type": "bar"
           }
          ],
          "barpolar": [
           {
            "marker": {
             "line": {
              "color": "#E5ECF6",
              "width": 0.5
             },
             "pattern": {
              "fillmode": "overlay",
              "size": 10,
              "solidity": 0.2
             }
            },
            "type": "barpolar"
           }
          ],
          "carpet": [
           {
            "aaxis": {
             "endlinecolor": "#2a3f5f",
             "gridcolor": "white",
             "linecolor": "white",
             "minorgridcolor": "white",
             "startlinecolor": "#2a3f5f"
            },
            "baxis": {
             "endlinecolor": "#2a3f5f",
             "gridcolor": "white",
             "linecolor": "white",
             "minorgridcolor": "white",
             "startlinecolor": "#2a3f5f"
            },
            "type": "carpet"
           }
          ],
          "choropleth": [
           {
            "colorbar": {
             "outlinewidth": 0,
             "ticks": ""
            },
            "type": "choropleth"
           }
          ],
          "contour": [
           {
            "colorbar": {
             "outlinewidth": 0,
             "ticks": ""
            },
            "colorscale": [
             [
              0,
              "#0d0887"
             ],
             [
              0.1111111111111111,
              "#46039f"
             ],
             [
              0.2222222222222222,
              "#7201a8"
             ],
             [
              0.3333333333333333,
              "#9c179e"
             ],
             [
              0.4444444444444444,
              "#bd3786"
             ],
             [
              0.5555555555555556,
              "#d8576b"
             ],
             [
              0.6666666666666666,
              "#ed7953"
             ],
             [
              0.7777777777777778,
              "#fb9f3a"
             ],
             [
              0.8888888888888888,
              "#fdca26"
             ],
             [
              1,
              "#f0f921"
             ]
            ],
            "type": "contour"
           }
          ],
          "contourcarpet": [
           {
            "colorbar": {
             "outlinewidth": 0,
             "ticks": ""
            },
            "type": "contourcarpet"
           }
          ],
          "heatmap": [
           {
            "colorbar": {
             "outlinewidth": 0,
             "ticks": ""
            },
            "colorscale": [
             [
              0,
              "#0d0887"
             ],
             [
              0.1111111111111111,
              "#46039f"
             ],
             [
              0.2222222222222222,
              "#7201a8"
             ],
             [
              0.3333333333333333,
              "#9c179e"
             ],
             [
              0.4444444444444444,
              "#bd3786"
             ],
             [
              0.5555555555555556,
              "#d8576b"
             ],
             [
              0.6666666666666666,
              "#ed7953"
             ],
             [
              0.7777777777777778,
              "#fb9f3a"
             ],
             [
              0.8888888888888888,
              "#fdca26"
             ],
             [
              1,
              "#f0f921"
             ]
            ],
            "type": "heatmap"
           }
          ],
          "heatmapgl": [
           {
            "colorbar": {
             "outlinewidth": 0,
             "ticks": ""
            },
            "colorscale": [
             [
              0,
              "#0d0887"
             ],
             [
              0.1111111111111111,
              "#46039f"
             ],
             [
              0.2222222222222222,
              "#7201a8"
             ],
             [
              0.3333333333333333,
              "#9c179e"
             ],
             [
              0.4444444444444444,
              "#bd3786"
             ],
             [
              0.5555555555555556,
              "#d8576b"
             ],
             [
              0.6666666666666666,
              "#ed7953"
             ],
             [
              0.7777777777777778,
              "#fb9f3a"
             ],
             [
              0.8888888888888888,
              "#fdca26"
             ],
             [
              1,
              "#f0f921"
             ]
            ],
            "type": "heatmapgl"
           }
          ],
          "histogram": [
           {
            "marker": {
             "pattern": {
              "fillmode": "overlay",
              "size": 10,
              "solidity": 0.2
             }
            },
            "type": "histogram"
           }
          ],
          "histogram2d": [
           {
            "colorbar": {
             "outlinewidth": 0,
             "ticks": ""
            },
            "colorscale": [
             [
              0,
              "#0d0887"
             ],
             [
              0.1111111111111111,
              "#46039f"
             ],
             [
              0.2222222222222222,
              "#7201a8"
             ],
             [
              0.3333333333333333,
              "#9c179e"
             ],
             [
              0.4444444444444444,
              "#bd3786"
             ],
             [
              0.5555555555555556,
              "#d8576b"
             ],
             [
              0.6666666666666666,
              "#ed7953"
             ],
             [
              0.7777777777777778,
              "#fb9f3a"
             ],
             [
              0.8888888888888888,
              "#fdca26"
             ],
             [
              1,
              "#f0f921"
             ]
            ],
            "type": "histogram2d"
           }
          ],
          "histogram2dcontour": [
           {
            "colorbar": {
             "outlinewidth": 0,
             "ticks": ""
            },
            "colorscale": [
             [
              0,
              "#0d0887"
             ],
             [
              0.1111111111111111,
              "#46039f"
             ],
             [
              0.2222222222222222,
              "#7201a8"
             ],
             [
              0.3333333333333333,
              "#9c179e"
             ],
             [
              0.4444444444444444,
              "#bd3786"
             ],
             [
              0.5555555555555556,
              "#d8576b"
             ],
             [
              0.6666666666666666,
              "#ed7953"
             ],
             [
              0.7777777777777778,
              "#fb9f3a"
             ],
             [
              0.8888888888888888,
              "#fdca26"
             ],
             [
              1,
              "#f0f921"
             ]
            ],
            "type": "histogram2dcontour"
           }
          ],
          "mesh3d": [
           {
            "colorbar": {
             "outlinewidth": 0,
             "ticks": ""
            },
            "type": "mesh3d"
           }
          ],
          "parcoords": [
           {
            "line": {
             "colorbar": {
              "outlinewidth": 0,
              "ticks": ""
             }
            },
            "type": "parcoords"
           }
          ],
          "pie": [
           {
            "automargin": true,
            "type": "pie"
           }
          ],
          "scatter": [
           {
            "marker": {
             "colorbar": {
              "outlinewidth": 0,
              "ticks": ""
             }
            },
            "type": "scatter"
           }
          ],
          "scatter3d": [
           {
            "line": {
             "colorbar": {
              "outlinewidth": 0,
              "ticks": ""
             }
            },
            "marker": {
             "colorbar": {
              "outlinewidth": 0,
              "ticks": ""
             }
            },
            "type": "scatter3d"
           }
          ],
          "scattercarpet": [
           {
            "marker": {
             "colorbar": {
              "outlinewidth": 0,
              "ticks": ""
             }
            },
            "type": "scattercarpet"
           }
          ],
          "scattergeo": [
           {
            "marker": {
             "colorbar": {
              "outlinewidth": 0,
              "ticks": ""
             }
            },
            "type": "scattergeo"
           }
          ],
          "scattergl": [
           {
            "marker": {
             "colorbar": {
              "outlinewidth": 0,
              "ticks": ""
             }
            },
            "type": "scattergl"
           }
          ],
          "scattermapbox": [
           {
            "marker": {
             "colorbar": {
              "outlinewidth": 0,
              "ticks": ""
             }
            },
            "type": "scattermapbox"
           }
          ],
          "scatterpolar": [
           {
            "marker": {
             "colorbar": {
              "outlinewidth": 0,
              "ticks": ""
             }
            },
            "type": "scatterpolar"
           }
          ],
          "scatterpolargl": [
           {
            "marker": {
             "colorbar": {
              "outlinewidth": 0,
              "ticks": ""
             }
            },
            "type": "scatterpolargl"
           }
          ],
          "scatterternary": [
           {
            "marker": {
             "colorbar": {
              "outlinewidth": 0,
              "ticks": ""
             }
            },
            "type": "scatterternary"
           }
          ],
          "surface": [
           {
            "colorbar": {
             "outlinewidth": 0,
             "ticks": ""
            },
            "colorscale": [
             [
              0,
              "#0d0887"
             ],
             [
              0.1111111111111111,
              "#46039f"
             ],
             [
              0.2222222222222222,
              "#7201a8"
             ],
             [
              0.3333333333333333,
              "#9c179e"
             ],
             [
              0.4444444444444444,
              "#bd3786"
             ],
             [
              0.5555555555555556,
              "#d8576b"
             ],
             [
              0.6666666666666666,
              "#ed7953"
             ],
             [
              0.7777777777777778,
              "#fb9f3a"
             ],
             [
              0.8888888888888888,
              "#fdca26"
             ],
             [
              1,
              "#f0f921"
             ]
            ],
            "type": "surface"
           }
          ],
          "table": [
           {
            "cells": {
             "fill": {
              "color": "#EBF0F8"
             },
             "line": {
              "color": "white"
             }
            },
            "header": {
             "fill": {
              "color": "#C8D4E3"
             },
             "line": {
              "color": "white"
             }
            },
            "type": "table"
           }
          ]
         },
         "layout": {
          "annotationdefaults": {
           "arrowcolor": "#2a3f5f",
           "arrowhead": 0,
           "arrowwidth": 1
          },
          "autotypenumbers": "strict",
          "coloraxis": {
           "colorbar": {
            "outlinewidth": 0,
            "ticks": ""
           }
          },
          "colorscale": {
           "diverging": [
            [
             0,
             "#8e0152"
            ],
            [
             0.1,
             "#c51b7d"
            ],
            [
             0.2,
             "#de77ae"
            ],
            [
             0.3,
             "#f1b6da"
            ],
            [
             0.4,
             "#fde0ef"
            ],
            [
             0.5,
             "#f7f7f7"
            ],
            [
             0.6,
             "#e6f5d0"
            ],
            [
             0.7,
             "#b8e186"
            ],
            [
             0.8,
             "#7fbc41"
            ],
            [
             0.9,
             "#4d9221"
            ],
            [
             1,
             "#276419"
            ]
           ],
           "sequential": [
            [
             0,
             "#0d0887"
            ],
            [
             0.1111111111111111,
             "#46039f"
            ],
            [
             0.2222222222222222,
             "#7201a8"
            ],
            [
             0.3333333333333333,
             "#9c179e"
            ],
            [
             0.4444444444444444,
             "#bd3786"
            ],
            [
             0.5555555555555556,
             "#d8576b"
            ],
            [
             0.6666666666666666,
             "#ed7953"
            ],
            [
             0.7777777777777778,
             "#fb9f3a"
            ],
            [
             0.8888888888888888,
             "#fdca26"
            ],
            [
             1,
             "#f0f921"
            ]
           ],
           "sequentialminus": [
            [
             0,
             "#0d0887"
            ],
            [
             0.1111111111111111,
             "#46039f"
            ],
            [
             0.2222222222222222,
             "#7201a8"
            ],
            [
             0.3333333333333333,
             "#9c179e"
            ],
            [
             0.4444444444444444,
             "#bd3786"
            ],
            [
             0.5555555555555556,
             "#d8576b"
            ],
            [
             0.6666666666666666,
             "#ed7953"
            ],
            [
             0.7777777777777778,
             "#fb9f3a"
            ],
            [
             0.8888888888888888,
             "#fdca26"
            ],
            [
             1,
             "#f0f921"
            ]
           ]
          },
          "colorway": [
           "#636efa",
           "#EF553B",
           "#00cc96",
           "#ab63fa",
           "#FFA15A",
           "#19d3f3",
           "#FF6692",
           "#B6E880",
           "#FF97FF",
           "#FECB52"
          ],
          "font": {
           "color": "#2a3f5f"
          },
          "geo": {
           "bgcolor": "white",
           "lakecolor": "white",
           "landcolor": "#E5ECF6",
           "showlakes": true,
           "showland": true,
           "subunitcolor": "white"
          },
          "hoverlabel": {
           "align": "left"
          },
          "hovermode": "closest",
          "mapbox": {
           "style": "light"
          },
          "paper_bgcolor": "white",
          "plot_bgcolor": "#E5ECF6",
          "polar": {
           "angularaxis": {
            "gridcolor": "white",
            "linecolor": "white",
            "ticks": ""
           },
           "bgcolor": "#E5ECF6",
           "radialaxis": {
            "gridcolor": "white",
            "linecolor": "white",
            "ticks": ""
           }
          },
          "scene": {
           "xaxis": {
            "backgroundcolor": "#E5ECF6",
            "gridcolor": "white",
            "gridwidth": 2,
            "linecolor": "white",
            "showbackground": true,
            "ticks": "",
            "zerolinecolor": "white"
           },
           "yaxis": {
            "backgroundcolor": "#E5ECF6",
            "gridcolor": "white",
            "gridwidth": 2,
            "linecolor": "white",
            "showbackground": true,
            "ticks": "",
            "zerolinecolor": "white"
           },
           "zaxis": {
            "backgroundcolor": "#E5ECF6",
            "gridcolor": "white",
            "gridwidth": 2,
            "linecolor": "white",
            "showbackground": true,
            "ticks": "",
            "zerolinecolor": "white"
           }
          },
          "shapedefaults": {
           "line": {
            "color": "#2a3f5f"
           }
          },
          "ternary": {
           "aaxis": {
            "gridcolor": "white",
            "linecolor": "white",
            "ticks": ""
           },
           "baxis": {
            "gridcolor": "white",
            "linecolor": "white",
            "ticks": ""
           },
           "bgcolor": "#E5ECF6",
           "caxis": {
            "gridcolor": "white",
            "linecolor": "white",
            "ticks": ""
           }
          },
          "title": {
           "x": 0.05
          },
          "xaxis": {
           "automargin": true,
           "gridcolor": "white",
           "linecolor": "white",
           "ticks": "",
           "title": {
            "standoff": 15
           },
           "zerolinecolor": "white",
           "zerolinewidth": 2
          },
          "yaxis": {
           "automargin": true,
           "gridcolor": "white",
           "linecolor": "white",
           "ticks": "",
           "title": {
            "standoff": 15
           },
           "zerolinecolor": "white",
           "zerolinewidth": 2
          }
         }
        },
        "title": {
         "font": {
          "color": "#4D5663"
         }
        },
        "xaxis": {
         "gridcolor": "#E1E5ED",
         "showgrid": true,
         "tickfont": {
          "color": "#4D5663"
         },
         "title": {
          "font": {
           "color": "#4D5663"
          },
          "text": ""
         },
         "zerolinecolor": "#E1E5ED"
        },
        "yaxis": {
         "gridcolor": "#E1E5ED",
         "showgrid": true,
         "tickfont": {
          "color": "#4D5663"
         },
         "title": {
          "font": {
           "color": "#4D5663"
          },
          "text": ""
         },
         "zerolinecolor": "#E1E5ED"
        }
       }
      },
      "text/html": [
       "<div>                            <div id=\"a14f2247-fca4-4cac-8a60-6b6aaa588d61\" class=\"plotly-graph-div\" style=\"height:525px; width:100%;\"></div>            <script type=\"text/javascript\">                require([\"plotly\"], function(Plotly) {                    window.PLOTLYENV=window.PLOTLYENV || {};\n",
       "                    window.PLOTLYENV.BASE_URL='https://plot.ly';                                    if (document.getElementById(\"a14f2247-fca4-4cac-8a60-6b6aaa588d61\")) {                    Plotly.newPlot(                        \"a14f2247-fca4-4cac-8a60-6b6aaa588d61\",                        [{\"histfunc\":\"count\",\"histnorm\":\"\",\"marker\":{\"color\":\"rgba(255, 153, 51, 1.0)\",\"line\":{\"color\":\"#4D5663\",\"width\":1.3}},\"name\":\"A\",\"nbinsx\":25,\"opacity\":0.8,\"orientation\":\"v\",\"x\":[-1.940080026219166,1.247986255885124,0.005552480825121469,-1.0027143906099687,1.2817199630272835,0.6476225955696181,-0.47082217801973575,-0.7832385517451328,-0.03200880067877387,-1.7768059287110718,1.554472601034797,-0.5424463994084257,-0.6543854872054302,-0.11738188392573798,0.4472596966018866,0.9093536171517177,-1.2083688867665092,0.9646113134652564,-1.2816508421771076,0.21107539625334415,1.6477264512828698,-0.10189852530746328,0.40252833411893363,-0.09916223822923723,-0.4017650661321447,0.8487489560918642,0.43447876816581626,0.8597839810516802,-0.14736283054749616,-0.9783737935958959,2.2378199514306165,0.36734697202218997,1.451139684431283,-1.6859788511506248,0.8156220067880682,0.3636193503509781,0.33828766799380217,-0.6492731530581983,-2.8505206810637653,0.7693755173217187,0.1558705587486528,0.5465230891949352,0.15193705928030185,-1.826760068829946,-0.6431764080889432,-0.37872160024822626,0.21957155520063143,2.4220943729305358,0.5017857089929868,-1.1935585863968063,0.47459309666712834,0.7463595991333764,-1.0385638073567438,-2.3737232986666266,-1.0022689901390849,0.7571215212013698,0.9851483833519586,-0.6770938029644872,1.1955696275365801,-2.0258331094509665,-0.9855329381386819,0.9925207813085811,1.3443541412173972,0.13503474291828854,-0.4743272748816833,0.7481539445445763,-1.7348108003535843,-3.102177455400545,-1.867960929691828,-1.2183171880602917,0.39246813826290783,0.6284204223734368,1.8605513840343577,1.9154258112084859,-0.46697846254948916,1.5060756881486907,-1.1039222700653184,-0.7010077581019479,-1.8923727669450956,-0.7589049198697577,0.21997246180406196,-0.2527842438625434,-0.48854645727572715,1.146553248248512,2.6426699786080716,0.8951646903900001,-0.0710513488662732,-0.3578505923475407,-0.1634696762619168,0.06029513149636131,0.3497535135832744,0.2629004354778632,-1.6511333120143168,0.372438904621618,-0.18192482315461628,-1.437435952875453,0.11425385213665518,-1.311521797467715,-2.9587834307624434,1.0067860750661797],\"type\":\"histogram\"}],                        {\"barmode\":\"overlay\",\"legend\":{\"bgcolor\":\"#F5F6F9\",\"font\":{\"color\":\"#4D5663\"}},\"paper_bgcolor\":\"#F5F6F9\",\"plot_bgcolor\":\"#F5F6F9\",\"template\":{\"data\":{\"barpolar\":[{\"marker\":{\"line\":{\"color\":\"#E5ECF6\",\"width\":0.5},\"pattern\":{\"fillmode\":\"overlay\",\"size\":10,\"solidity\":0.2}},\"type\":\"barpolar\"}],\"bar\":[{\"error_x\":{\"color\":\"#2a3f5f\"},\"error_y\":{\"color\":\"#2a3f5f\"},\"marker\":{\"line\":{\"color\":\"#E5ECF6\",\"width\":0.5},\"pattern\":{\"fillmode\":\"overlay\",\"size\":10,\"solidity\":0.2}},\"type\":\"bar\"}],\"carpet\":[{\"aaxis\":{\"endlinecolor\":\"#2a3f5f\",\"gridcolor\":\"white\",\"linecolor\":\"white\",\"minorgridcolor\":\"white\",\"startlinecolor\":\"#2a3f5f\"},\"baxis\":{\"endlinecolor\":\"#2a3f5f\",\"gridcolor\":\"white\",\"linecolor\":\"white\",\"minorgridcolor\":\"white\",\"startlinecolor\":\"#2a3f5f\"},\"type\":\"carpet\"}],\"choropleth\":[{\"colorbar\":{\"outlinewidth\":0,\"ticks\":\"\"},\"type\":\"choropleth\"}],\"contourcarpet\":[{\"colorbar\":{\"outlinewidth\":0,\"ticks\":\"\"},\"type\":\"contourcarpet\"}],\"contour\":[{\"colorbar\":{\"outlinewidth\":0,\"ticks\":\"\"},\"colorscale\":[[0.0,\"#0d0887\"],[0.1111111111111111,\"#46039f\"],[0.2222222222222222,\"#7201a8\"],[0.3333333333333333,\"#9c179e\"],[0.4444444444444444,\"#bd3786\"],[0.5555555555555556,\"#d8576b\"],[0.6666666666666666,\"#ed7953\"],[0.7777777777777778,\"#fb9f3a\"],[0.8888888888888888,\"#fdca26\"],[1.0,\"#f0f921\"]],\"type\":\"contour\"}],\"heatmapgl\":[{\"colorbar\":{\"outlinewidth\":0,\"ticks\":\"\"},\"colorscale\":[[0.0,\"#0d0887\"],[0.1111111111111111,\"#46039f\"],[0.2222222222222222,\"#7201a8\"],[0.3333333333333333,\"#9c179e\"],[0.4444444444444444,\"#bd3786\"],[0.5555555555555556,\"#d8576b\"],[0.6666666666666666,\"#ed7953\"],[0.7777777777777778,\"#fb9f3a\"],[0.8888888888888888,\"#fdca26\"],[1.0,\"#f0f921\"]],\"type\":\"heatmapgl\"}],\"heatmap\":[{\"colorbar\":{\"outlinewidth\":0,\"ticks\":\"\"},\"colorscale\":[[0.0,\"#0d0887\"],[0.1111111111111111,\"#46039f\"],[0.2222222222222222,\"#7201a8\"],[0.3333333333333333,\"#9c179e\"],[0.4444444444444444,\"#bd3786\"],[0.5555555555555556,\"#d8576b\"],[0.6666666666666666,\"#ed7953\"],[0.7777777777777778,\"#fb9f3a\"],[0.8888888888888888,\"#fdca26\"],[1.0,\"#f0f921\"]],\"type\":\"heatmap\"}],\"histogram2dcontour\":[{\"colorbar\":{\"outlinewidth\":0,\"ticks\":\"\"},\"colorscale\":[[0.0,\"#0d0887\"],[0.1111111111111111,\"#46039f\"],[0.2222222222222222,\"#7201a8\"],[0.3333333333333333,\"#9c179e\"],[0.4444444444444444,\"#bd3786\"],[0.5555555555555556,\"#d8576b\"],[0.6666666666666666,\"#ed7953\"],[0.7777777777777778,\"#fb9f3a\"],[0.8888888888888888,\"#fdca26\"],[1.0,\"#f0f921\"]],\"type\":\"histogram2dcontour\"}],\"histogram2d\":[{\"colorbar\":{\"outlinewidth\":0,\"ticks\":\"\"},\"colorscale\":[[0.0,\"#0d0887\"],[0.1111111111111111,\"#46039f\"],[0.2222222222222222,\"#7201a8\"],[0.3333333333333333,\"#9c179e\"],[0.4444444444444444,\"#bd3786\"],[0.5555555555555556,\"#d8576b\"],[0.6666666666666666,\"#ed7953\"],[0.7777777777777778,\"#fb9f3a\"],[0.8888888888888888,\"#fdca26\"],[1.0,\"#f0f921\"]],\"type\":\"histogram2d\"}],\"histogram\":[{\"marker\":{\"pattern\":{\"fillmode\":\"overlay\",\"size\":10,\"solidity\":0.2}},\"type\":\"histogram\"}],\"mesh3d\":[{\"colorbar\":{\"outlinewidth\":0,\"ticks\":\"\"},\"type\":\"mesh3d\"}],\"parcoords\":[{\"line\":{\"colorbar\":{\"outlinewidth\":0,\"ticks\":\"\"}},\"type\":\"parcoords\"}],\"pie\":[{\"automargin\":true,\"type\":\"pie\"}],\"scatter3d\":[{\"line\":{\"colorbar\":{\"outlinewidth\":0,\"ticks\":\"\"}},\"marker\":{\"colorbar\":{\"outlinewidth\":0,\"ticks\":\"\"}},\"type\":\"scatter3d\"}],\"scattercarpet\":[{\"marker\":{\"colorbar\":{\"outlinewidth\":0,\"ticks\":\"\"}},\"type\":\"scattercarpet\"}],\"scattergeo\":[{\"marker\":{\"colorbar\":{\"outlinewidth\":0,\"ticks\":\"\"}},\"type\":\"scattergeo\"}],\"scattergl\":[{\"marker\":{\"colorbar\":{\"outlinewidth\":0,\"ticks\":\"\"}},\"type\":\"scattergl\"}],\"scattermapbox\":[{\"marker\":{\"colorbar\":{\"outlinewidth\":0,\"ticks\":\"\"}},\"type\":\"scattermapbox\"}],\"scatterpolargl\":[{\"marker\":{\"colorbar\":{\"outlinewidth\":0,\"ticks\":\"\"}},\"type\":\"scatterpolargl\"}],\"scatterpolar\":[{\"marker\":{\"colorbar\":{\"outlinewidth\":0,\"ticks\":\"\"}},\"type\":\"scatterpolar\"}],\"scatter\":[{\"marker\":{\"colorbar\":{\"outlinewidth\":0,\"ticks\":\"\"}},\"type\":\"scatter\"}],\"scatterternary\":[{\"marker\":{\"colorbar\":{\"outlinewidth\":0,\"ticks\":\"\"}},\"type\":\"scatterternary\"}],\"surface\":[{\"colorbar\":{\"outlinewidth\":0,\"ticks\":\"\"},\"colorscale\":[[0.0,\"#0d0887\"],[0.1111111111111111,\"#46039f\"],[0.2222222222222222,\"#7201a8\"],[0.3333333333333333,\"#9c179e\"],[0.4444444444444444,\"#bd3786\"],[0.5555555555555556,\"#d8576b\"],[0.6666666666666666,\"#ed7953\"],[0.7777777777777778,\"#fb9f3a\"],[0.8888888888888888,\"#fdca26\"],[1.0,\"#f0f921\"]],\"type\":\"surface\"}],\"table\":[{\"cells\":{\"fill\":{\"color\":\"#EBF0F8\"},\"line\":{\"color\":\"white\"}},\"header\":{\"fill\":{\"color\":\"#C8D4E3\"},\"line\":{\"color\":\"white\"}},\"type\":\"table\"}]},\"layout\":{\"annotationdefaults\":{\"arrowcolor\":\"#2a3f5f\",\"arrowhead\":0,\"arrowwidth\":1},\"autotypenumbers\":\"strict\",\"coloraxis\":{\"colorbar\":{\"outlinewidth\":0,\"ticks\":\"\"}},\"colorscale\":{\"diverging\":[[0,\"#8e0152\"],[0.1,\"#c51b7d\"],[0.2,\"#de77ae\"],[0.3,\"#f1b6da\"],[0.4,\"#fde0ef\"],[0.5,\"#f7f7f7\"],[0.6,\"#e6f5d0\"],[0.7,\"#b8e186\"],[0.8,\"#7fbc41\"],[0.9,\"#4d9221\"],[1,\"#276419\"]],\"sequential\":[[0.0,\"#0d0887\"],[0.1111111111111111,\"#46039f\"],[0.2222222222222222,\"#7201a8\"],[0.3333333333333333,\"#9c179e\"],[0.4444444444444444,\"#bd3786\"],[0.5555555555555556,\"#d8576b\"],[0.6666666666666666,\"#ed7953\"],[0.7777777777777778,\"#fb9f3a\"],[0.8888888888888888,\"#fdca26\"],[1.0,\"#f0f921\"]],\"sequentialminus\":[[0.0,\"#0d0887\"],[0.1111111111111111,\"#46039f\"],[0.2222222222222222,\"#7201a8\"],[0.3333333333333333,\"#9c179e\"],[0.4444444444444444,\"#bd3786\"],[0.5555555555555556,\"#d8576b\"],[0.6666666666666666,\"#ed7953\"],[0.7777777777777778,\"#fb9f3a\"],[0.8888888888888888,\"#fdca26\"],[1.0,\"#f0f921\"]]},\"colorway\":[\"#636efa\",\"#EF553B\",\"#00cc96\",\"#ab63fa\",\"#FFA15A\",\"#19d3f3\",\"#FF6692\",\"#B6E880\",\"#FF97FF\",\"#FECB52\"],\"font\":{\"color\":\"#2a3f5f\"},\"geo\":{\"bgcolor\":\"white\",\"lakecolor\":\"white\",\"landcolor\":\"#E5ECF6\",\"showlakes\":true,\"showland\":true,\"subunitcolor\":\"white\"},\"hoverlabel\":{\"align\":\"left\"},\"hovermode\":\"closest\",\"mapbox\":{\"style\":\"light\"},\"paper_bgcolor\":\"white\",\"plot_bgcolor\":\"#E5ECF6\",\"polar\":{\"angularaxis\":{\"gridcolor\":\"white\",\"linecolor\":\"white\",\"ticks\":\"\"},\"bgcolor\":\"#E5ECF6\",\"radialaxis\":{\"gridcolor\":\"white\",\"linecolor\":\"white\",\"ticks\":\"\"}},\"scene\":{\"xaxis\":{\"backgroundcolor\":\"#E5ECF6\",\"gridcolor\":\"white\",\"gridwidth\":2,\"linecolor\":\"white\",\"showbackground\":true,\"ticks\":\"\",\"zerolinecolor\":\"white\"},\"yaxis\":{\"backgroundcolor\":\"#E5ECF6\",\"gridcolor\":\"white\",\"gridwidth\":2,\"linecolor\":\"white\",\"showbackground\":true,\"ticks\":\"\",\"zerolinecolor\":\"white\"},\"zaxis\":{\"backgroundcolor\":\"#E5ECF6\",\"gridcolor\":\"white\",\"gridwidth\":2,\"linecolor\":\"white\",\"showbackground\":true,\"ticks\":\"\",\"zerolinecolor\":\"white\"}},\"shapedefaults\":{\"line\":{\"color\":\"#2a3f5f\"}},\"ternary\":{\"aaxis\":{\"gridcolor\":\"white\",\"linecolor\":\"white\",\"ticks\":\"\"},\"baxis\":{\"gridcolor\":\"white\",\"linecolor\":\"white\",\"ticks\":\"\"},\"bgcolor\":\"#E5ECF6\",\"caxis\":{\"gridcolor\":\"white\",\"linecolor\":\"white\",\"ticks\":\"\"}},\"title\":{\"x\":0.05},\"xaxis\":{\"automargin\":true,\"gridcolor\":\"white\",\"linecolor\":\"white\",\"ticks\":\"\",\"title\":{\"standoff\":15},\"zerolinecolor\":\"white\",\"zerolinewidth\":2},\"yaxis\":{\"automargin\":true,\"gridcolor\":\"white\",\"linecolor\":\"white\",\"ticks\":\"\",\"title\":{\"standoff\":15},\"zerolinecolor\":\"white\",\"zerolinewidth\":2}}},\"title\":{\"font\":{\"color\":\"#4D5663\"}},\"xaxis\":{\"gridcolor\":\"#E1E5ED\",\"showgrid\":true,\"tickfont\":{\"color\":\"#4D5663\"},\"title\":{\"font\":{\"color\":\"#4D5663\"},\"text\":\"\"},\"zerolinecolor\":\"#E1E5ED\"},\"yaxis\":{\"gridcolor\":\"#E1E5ED\",\"showgrid\":true,\"tickfont\":{\"color\":\"#4D5663\"},\"title\":{\"font\":{\"color\":\"#4D5663\"},\"text\":\"\"},\"zerolinecolor\":\"#E1E5ED\"}},                        {\"showLink\": true, \"linkText\": \"Export to plot.ly\", \"plotlyServerURL\": \"https://plot.ly\", \"responsive\": true}                    ).then(function(){\n",
       "                            \n",
       "var gd = document.getElementById('a14f2247-fca4-4cac-8a60-6b6aaa588d61');\n",
       "var x = new MutationObserver(function (mutations, observer) {{\n",
       "        var display = window.getComputedStyle(gd).display;\n",
       "        if (!display || display === 'none') {{\n",
       "            console.log([gd, 'removed!']);\n",
       "            Plotly.purge(gd);\n",
       "            observer.disconnect();\n",
       "        }}\n",
       "}});\n",
       "\n",
       "// Listen for the removal of the full notebook cells\n",
       "var notebookContainer = gd.closest('#notebook-container');\n",
       "if (notebookContainer) {{\n",
       "    x.observe(notebookContainer, {childList: true});\n",
       "}}\n",
       "\n",
       "// Listen for the clearing of the current output cell\n",
       "var outputEl = gd.closest('.output');\n",
       "if (outputEl) {{\n",
       "    x.observe(outputEl, {childList: true});\n",
       "}}\n",
       "\n",
       "                        })                };                });            </script>        </div>"
      ]
     },
     "metadata": {},
     "output_type": "display_data"
    }
   ],
   "source": [
    "df['A'].iplot(kind='hist',bins=25)"
   ]
  },
  {
   "cell_type": "code",
   "execution_count": 17,
   "metadata": {},
   "outputs": [
    {
     "data": {
      "application/vnd.plotly.v1+json": {
       "config": {
        "linkText": "Export to plot.ly",
        "plotlyServerURL": "https://plot.ly",
        "showLink": true
       },
       "data": [
        {
         "histfunc": "count",
         "histnorm": "",
         "marker": {
          "color": "rgba(255, 153, 51, 1.0)",
          "line": {
           "color": "#4D5663",
           "width": 1.3
          }
         },
         "name": "A",
         "opacity": 0.8,
         "orientation": "v",
         "type": "histogram",
         "x": [
          -1.940080026219166,
          1.247986255885124,
          0.005552480825121469,
          -1.0027143906099687,
          1.2817199630272835,
          0.6476225955696181,
          -0.47082217801973575,
          -0.7832385517451328,
          -0.03200880067877387,
          -1.7768059287110718,
          1.554472601034797,
          -0.5424463994084257,
          -0.6543854872054302,
          -0.11738188392573798,
          0.4472596966018866,
          0.9093536171517177,
          -1.2083688867665092,
          0.9646113134652564,
          -1.2816508421771076,
          0.21107539625334415,
          1.6477264512828698,
          -0.10189852530746328,
          0.40252833411893363,
          -0.09916223822923723,
          -0.4017650661321447,
          0.8487489560918642,
          0.43447876816581626,
          0.8597839810516802,
          -0.14736283054749616,
          -0.9783737935958959,
          2.2378199514306165,
          0.36734697202218997,
          1.451139684431283,
          -1.6859788511506248,
          0.8156220067880682,
          0.3636193503509781,
          0.33828766799380217,
          -0.6492731530581983,
          -2.8505206810637653,
          0.7693755173217187,
          0.1558705587486528,
          0.5465230891949352,
          0.15193705928030185,
          -1.826760068829946,
          -0.6431764080889432,
          -0.37872160024822626,
          0.21957155520063143,
          2.4220943729305358,
          0.5017857089929868,
          -1.1935585863968063,
          0.47459309666712834,
          0.7463595991333764,
          -1.0385638073567438,
          -2.3737232986666266,
          -1.0022689901390849,
          0.7571215212013698,
          0.9851483833519586,
          -0.6770938029644872,
          1.1955696275365801,
          -2.0258331094509665,
          -0.9855329381386819,
          0.9925207813085811,
          1.3443541412173972,
          0.13503474291828854,
          -0.4743272748816833,
          0.7481539445445763,
          -1.7348108003535843,
          -3.102177455400545,
          -1.867960929691828,
          -1.2183171880602917,
          0.39246813826290783,
          0.6284204223734368,
          1.8605513840343577,
          1.9154258112084859,
          -0.46697846254948916,
          1.5060756881486907,
          -1.1039222700653184,
          -0.7010077581019479,
          -1.8923727669450956,
          -0.7589049198697577,
          0.21997246180406196,
          -0.2527842438625434,
          -0.48854645727572715,
          1.146553248248512,
          2.6426699786080716,
          0.8951646903900001,
          -0.0710513488662732,
          -0.3578505923475407,
          -0.1634696762619168,
          0.06029513149636131,
          0.3497535135832744,
          0.2629004354778632,
          -1.6511333120143168,
          0.372438904621618,
          -0.18192482315461628,
          -1.437435952875453,
          0.11425385213665518,
          -1.311521797467715,
          -2.9587834307624434,
          1.0067860750661797
         ]
        },
        {
         "histfunc": "count",
         "histnorm": "",
         "marker": {
          "color": "rgba(55, 128, 191, 1.0)",
          "line": {
           "color": "#4D5663",
           "width": 1.3
          }
         },
         "name": "B",
         "opacity": 0.8,
         "orientation": "v",
         "type": "histogram",
         "x": [
          -0.8949939745562235,
          -0.10081740469638696,
          -0.5935067963171174,
          -0.39316865154173963,
          0.40530630884910174,
          0.4586602330973266,
          0.9834194539677105,
          1.0008170337160616,
          0.6030604319208548,
          -1.24108213598008,
          0.6689774898417429,
          -1.7462108536179457,
          -0.49760399092156954,
          -0.35549370576405054,
          -1.042569669464304,
          -0.0012514324728663954,
          -0.6000537686913945,
          -0.5448907056572506,
          1.5360712274734536,
          -0.6416666847641722,
          -0.23730111471320048,
          -1.9023180967798081,
          1.6179485129432796,
          0.14880660875385976,
          2.0441521792700987,
          0.3403729778944682,
          -0.508956726544393,
          1.1481932564207318,
          -0.3323660527558092,
          -0.19585493608830828,
          0.009222766308319844,
          1.3766369986117681,
          0.04719858580821799,
          -1.887111341025749,
          0.8190994981172213,
          -1.0882829136872194,
          1.713900352441491,
          1.6816712616821259,
          0.2640072561934476,
          0.04329219467970145,
          -1.2530505045188787,
          0.38814340584746565,
          -0.4434718283401896,
          0.12642724807207012,
          -2.4674451497537824,
          0.7687234852560618,
          0.36184772293800566,
          -0.1459995427596467,
          -2.374448822101066,
          -0.6903197788738283,
          -0.07681640573681076,
          1.5982843804729183,
          0.6574577228634556,
          -1.3313447710935715,
          -0.8526543736985225,
          -1.8452306890564831,
          -0.1514233262920145,
          -0.8633051326821842,
          -1.0017436343534927,
          -1.3299139838047351,
          0.5916940532051198,
          -0.8651375029310416,
          -0.32009101541491985,
          -0.3654722562092443,
          -1.433984143611732,
          0.046752121963915455,
          0.8182820699799663,
          2.13535371933534,
          0.2779020791211278,
          -0.22536633800848135,
          1.370298339387019,
          1.1804702035266532,
          -0.4798839956833346,
          0.1480843397175848,
          1.4503741015343206,
          0.2572218755942087,
          1.4656438725645362,
          1.1793718781619216,
          0.1405436064845857,
          -0.4499771793631353,
          0.2343228911286889,
          -0.5273323738992424,
          -0.5375462248038378,
          1.1351118569437255,
          0.20135904847445885,
          0.8642497522520891,
          -1.8006558173862532,
          -0.636753333865244,
          0.9364758180016151,
          -1.7859586833873624,
          0.5438744516541609,
          -0.3244573292684904,
          0.7979614454157512,
          0.3750242000269216,
          1.0765539082605646,
          -0.45588275285980817,
          -0.4020319590780695,
          0.2419633355288673,
          -0.995910690697996,
          0.5744258727357455
         ]
        },
        {
         "histfunc": "count",
         "histnorm": "",
         "marker": {
          "color": "rgba(50, 171, 96, 1.0)",
          "line": {
           "color": "#4D5663",
           "width": 1.3
          }
         },
         "name": "C",
         "opacity": 0.8,
         "orientation": "v",
         "type": "histogram",
         "x": [
          0.4182748825410248,
          -0.9501648839641642,
          1.9572492963869799,
          0.02955010329243198,
          1.7296421491846883,
          0.019190387326078417,
          -0.9976894399031897,
          -1.3557111860103779,
          -0.057551971505804614,
          0.866248825096721,
          0.918759257743273,
          -0.9409146519698833,
          -0.7870035138089374,
          -0.13667913819374114,
          -0.44589621585578565,
          -0.0548799787543895,
          -0.17328399716216347,
          0.08331166976769992,
          -1.0155324218630306,
          0.8243711338194766,
          -0.30909049862203186,
          -0.9026384873852197,
          -2.6338509905617276,
          -0.24615009881190622,
          -1.3563798714177406,
          -0.010712471424971334,
          -0.1792855346262717,
          -2.491021744492973,
          -1.65600761568296,
          -1.7851067513855936,
          -1.5116702746648862,
          -0.7224618344457004,
          1.3787904516843026,
          0.5955808196940751,
          -0.6814393623786672,
          -0.3512702827848224,
          0.22198871542588858,
          0.9203772614553052,
          1.1207861374512897,
          -0.1878891345491742,
          -2.134967330743993,
          -0.5315599708883078,
          1.2901321215101482,
          -0.9746638486265601,
          1.3504362423756195,
          0.22187567961617846,
          -1.036243850622043,
          0.21020169423694068,
          -0.8600490685844518,
          -0.11893757071178306,
          -0.6237110985162192,
          0.10272455274750575,
          -0.5527197266705707,
          -0.5966054850239472,
          -0.714544195505012,
          0.7558384084504671,
          0.47860199401754233,
          1.8529902206169564,
          0.011306827874762424,
          0.13006406421944774,
          -0.08385761955036325,
          0.36191495752762737,
          0.4570758730669866,
          0.549217036955326,
          0.32135746380447205,
          0.7805965647429625,
          0.06816024629788889,
          1.4089943527350002,
          0.2943525478707354,
          0.8187033318948898,
          -0.2052606524140683,
          0.5745409471241781,
          0.029596029294744437,
          -0.03156603275253228,
          0.41925625031964386,
          1.0417031198787077,
          -0.389468804939762,
          -0.2697654240245767,
          0.545721367873779,
          0.15247647528021352,
          -1.0307077267249567,
          -1.8853313028569152,
          -0.6188114214827979,
          -0.08332410061138514,
          0.2224378371476041,
          -0.36281046946289164,
          1.5393713738816264,
          -0.8344201975476349,
          0.4154912510662551,
          0.2735513764904384,
          -1.0365306483308943,
          -1.257434719307078,
          0.4438216409092564,
          0.6619848321591348,
          -0.4137242939260107,
          -0.14998028742236483,
          -0.2524841203481316,
          -1.5890457316394624,
          -0.3791513678882985,
          0.3514057168396319
         ]
        },
        {
         "histfunc": "count",
         "histnorm": "",
         "marker": {
          "color": "rgba(128, 0, 128, 1.0)",
          "line": {
           "color": "#4D5663",
           "width": 1.3
          }
         },
         "name": "D",
         "opacity": 0.8,
         "orientation": "v",
         "type": "histogram",
         "x": [
          0.9490400916768807,
          -0.5817897273674895,
          1.3751326279569862,
          0.6983409367427372,
          1.3202939266626874,
          -2.1122924451091443,
          0.43902726032111544,
          -0.41677279219379426,
          -0.001816133378014878,
          1.1169424370449708,
          0.7754906006179377,
          1.2045513331336668,
          2.5317969888883103,
          -2.0530174580656864,
          0.6771250835065221,
          2.3634608936636825,
          0.01177822932377076,
          -0.3685144136815486,
          1.1584754022868753,
          -1.0898068446037572,
          -1.3806654281690436,
          0.07898018369346362,
          1.2195519553515568,
          0.3621671325880041,
          0.2602924454464911,
          -0.8371518675810171,
          -2.051460467191315,
          1.2077628267165934,
          1.7300926948414181,
          -0.12215229425226767,
          0.015600656527953567,
          -2.7007811510391475,
          -0.6651607858419503,
          -0.9836342221342753,
          -0.48346027810829734,
          0.211035411043917,
          -0.7339929942961595,
          0.18654566154080726,
          -0.388435331357508,
          1.0659294758381517,
          -0.8174062451187262,
          -1.863360326008581,
          0.02170533465925002,
          -0.01078944749883684,
          0.06016298106968525,
          -1.3506139632491216,
          -0.4340002286809841,
          1.719268516512833,
          0.21234429273735916,
          -0.6986616473315558,
          0.7966966290727863,
          -0.6618447496087041,
          0.2435755910255371,
          -0.4563326163093973,
          0.14321395221847974,
          0.2660391223089322,
          0.6249164006717058,
          0.4800420323908928,
          1.718494558968777,
          0.9124543159605855,
          -1.0259207825585983,
          -0.8452326336250587,
          0.7123478150137652,
          0.7981789784440202,
          2.8146011813223746,
          -0.2949647053977815,
          -0.1507559569732962,
          -0.20540659515318394,
          0.6410944678793699,
          -0.2960177894447896,
          -0.5560618932264372,
          0.17390350811927277,
          -0.8051387497038169,
          2.2097935555873036,
          1.1803528557857363,
          -0.5717490950308154,
          -0.4107921815038685,
          -1.5250626088074613,
          0.07835070436859118,
          -1.4038796564605016,
          0.4101091951312039,
          -0.19345652696729357,
          -0.42175060892577465,
          0.3662908497155731,
          1.0609931116080076,
          -0.896251862637867,
          2.595577593718916,
          1.882590163124815,
          -0.1759344698152429,
          0.08004727605282297,
          -0.8289387751360255,
          -1.6452383201128569,
          -1.613980389485375,
          1.0741266464861978,
          -1.62241797380832,
          -0.3113238496656898,
          0.22659518168244436,
          0.1814922402909765,
          -0.10209471636154765,
          0.6284901743018841
         ]
        }
       ],
       "layout": {
        "barmode": "overlay",
        "legend": {
         "bgcolor": "#F5F6F9",
         "font": {
          "color": "#4D5663"
         }
        },
        "paper_bgcolor": "#F5F6F9",
        "plot_bgcolor": "#F5F6F9",
        "template": {
         "data": {
          "bar": [
           {
            "error_x": {
             "color": "#2a3f5f"
            },
            "error_y": {
             "color": "#2a3f5f"
            },
            "marker": {
             "line": {
              "color": "#E5ECF6",
              "width": 0.5
             },
             "pattern": {
              "fillmode": "overlay",
              "size": 10,
              "solidity": 0.2
             }
            },
            "type": "bar"
           }
          ],
          "barpolar": [
           {
            "marker": {
             "line": {
              "color": "#E5ECF6",
              "width": 0.5
             },
             "pattern": {
              "fillmode": "overlay",
              "size": 10,
              "solidity": 0.2
             }
            },
            "type": "barpolar"
           }
          ],
          "carpet": [
           {
            "aaxis": {
             "endlinecolor": "#2a3f5f",
             "gridcolor": "white",
             "linecolor": "white",
             "minorgridcolor": "white",
             "startlinecolor": "#2a3f5f"
            },
            "baxis": {
             "endlinecolor": "#2a3f5f",
             "gridcolor": "white",
             "linecolor": "white",
             "minorgridcolor": "white",
             "startlinecolor": "#2a3f5f"
            },
            "type": "carpet"
           }
          ],
          "choropleth": [
           {
            "colorbar": {
             "outlinewidth": 0,
             "ticks": ""
            },
            "type": "choropleth"
           }
          ],
          "contour": [
           {
            "colorbar": {
             "outlinewidth": 0,
             "ticks": ""
            },
            "colorscale": [
             [
              0,
              "#0d0887"
             ],
             [
              0.1111111111111111,
              "#46039f"
             ],
             [
              0.2222222222222222,
              "#7201a8"
             ],
             [
              0.3333333333333333,
              "#9c179e"
             ],
             [
              0.4444444444444444,
              "#bd3786"
             ],
             [
              0.5555555555555556,
              "#d8576b"
             ],
             [
              0.6666666666666666,
              "#ed7953"
             ],
             [
              0.7777777777777778,
              "#fb9f3a"
             ],
             [
              0.8888888888888888,
              "#fdca26"
             ],
             [
              1,
              "#f0f921"
             ]
            ],
            "type": "contour"
           }
          ],
          "contourcarpet": [
           {
            "colorbar": {
             "outlinewidth": 0,
             "ticks": ""
            },
            "type": "contourcarpet"
           }
          ],
          "heatmap": [
           {
            "colorbar": {
             "outlinewidth": 0,
             "ticks": ""
            },
            "colorscale": [
             [
              0,
              "#0d0887"
             ],
             [
              0.1111111111111111,
              "#46039f"
             ],
             [
              0.2222222222222222,
              "#7201a8"
             ],
             [
              0.3333333333333333,
              "#9c179e"
             ],
             [
              0.4444444444444444,
              "#bd3786"
             ],
             [
              0.5555555555555556,
              "#d8576b"
             ],
             [
              0.6666666666666666,
              "#ed7953"
             ],
             [
              0.7777777777777778,
              "#fb9f3a"
             ],
             [
              0.8888888888888888,
              "#fdca26"
             ],
             [
              1,
              "#f0f921"
             ]
            ],
            "type": "heatmap"
           }
          ],
          "heatmapgl": [
           {
            "colorbar": {
             "outlinewidth": 0,
             "ticks": ""
            },
            "colorscale": [
             [
              0,
              "#0d0887"
             ],
             [
              0.1111111111111111,
              "#46039f"
             ],
             [
              0.2222222222222222,
              "#7201a8"
             ],
             [
              0.3333333333333333,
              "#9c179e"
             ],
             [
              0.4444444444444444,
              "#bd3786"
             ],
             [
              0.5555555555555556,
              "#d8576b"
             ],
             [
              0.6666666666666666,
              "#ed7953"
             ],
             [
              0.7777777777777778,
              "#fb9f3a"
             ],
             [
              0.8888888888888888,
              "#fdca26"
             ],
             [
              1,
              "#f0f921"
             ]
            ],
            "type": "heatmapgl"
           }
          ],
          "histogram": [
           {
            "marker": {
             "pattern": {
              "fillmode": "overlay",
              "size": 10,
              "solidity": 0.2
             }
            },
            "type": "histogram"
           }
          ],
          "histogram2d": [
           {
            "colorbar": {
             "outlinewidth": 0,
             "ticks": ""
            },
            "colorscale": [
             [
              0,
              "#0d0887"
             ],
             [
              0.1111111111111111,
              "#46039f"
             ],
             [
              0.2222222222222222,
              "#7201a8"
             ],
             [
              0.3333333333333333,
              "#9c179e"
             ],
             [
              0.4444444444444444,
              "#bd3786"
             ],
             [
              0.5555555555555556,
              "#d8576b"
             ],
             [
              0.6666666666666666,
              "#ed7953"
             ],
             [
              0.7777777777777778,
              "#fb9f3a"
             ],
             [
              0.8888888888888888,
              "#fdca26"
             ],
             [
              1,
              "#f0f921"
             ]
            ],
            "type": "histogram2d"
           }
          ],
          "histogram2dcontour": [
           {
            "colorbar": {
             "outlinewidth": 0,
             "ticks": ""
            },
            "colorscale": [
             [
              0,
              "#0d0887"
             ],
             [
              0.1111111111111111,
              "#46039f"
             ],
             [
              0.2222222222222222,
              "#7201a8"
             ],
             [
              0.3333333333333333,
              "#9c179e"
             ],
             [
              0.4444444444444444,
              "#bd3786"
             ],
             [
              0.5555555555555556,
              "#d8576b"
             ],
             [
              0.6666666666666666,
              "#ed7953"
             ],
             [
              0.7777777777777778,
              "#fb9f3a"
             ],
             [
              0.8888888888888888,
              "#fdca26"
             ],
             [
              1,
              "#f0f921"
             ]
            ],
            "type": "histogram2dcontour"
           }
          ],
          "mesh3d": [
           {
            "colorbar": {
             "outlinewidth": 0,
             "ticks": ""
            },
            "type": "mesh3d"
           }
          ],
          "parcoords": [
           {
            "line": {
             "colorbar": {
              "outlinewidth": 0,
              "ticks": ""
             }
            },
            "type": "parcoords"
           }
          ],
          "pie": [
           {
            "automargin": true,
            "type": "pie"
           }
          ],
          "scatter": [
           {
            "marker": {
             "colorbar": {
              "outlinewidth": 0,
              "ticks": ""
             }
            },
            "type": "scatter"
           }
          ],
          "scatter3d": [
           {
            "line": {
             "colorbar": {
              "outlinewidth": 0,
              "ticks": ""
             }
            },
            "marker": {
             "colorbar": {
              "outlinewidth": 0,
              "ticks": ""
             }
            },
            "type": "scatter3d"
           }
          ],
          "scattercarpet": [
           {
            "marker": {
             "colorbar": {
              "outlinewidth": 0,
              "ticks": ""
             }
            },
            "type": "scattercarpet"
           }
          ],
          "scattergeo": [
           {
            "marker": {
             "colorbar": {
              "outlinewidth": 0,
              "ticks": ""
             }
            },
            "type": "scattergeo"
           }
          ],
          "scattergl": [
           {
            "marker": {
             "colorbar": {
              "outlinewidth": 0,
              "ticks": ""
             }
            },
            "type": "scattergl"
           }
          ],
          "scattermapbox": [
           {
            "marker": {
             "colorbar": {
              "outlinewidth": 0,
              "ticks": ""
             }
            },
            "type": "scattermapbox"
           }
          ],
          "scatterpolar": [
           {
            "marker": {
             "colorbar": {
              "outlinewidth": 0,
              "ticks": ""
             }
            },
            "type": "scatterpolar"
           }
          ],
          "scatterpolargl": [
           {
            "marker": {
             "colorbar": {
              "outlinewidth": 0,
              "ticks": ""
             }
            },
            "type": "scatterpolargl"
           }
          ],
          "scatterternary": [
           {
            "marker": {
             "colorbar": {
              "outlinewidth": 0,
              "ticks": ""
             }
            },
            "type": "scatterternary"
           }
          ],
          "surface": [
           {
            "colorbar": {
             "outlinewidth": 0,
             "ticks": ""
            },
            "colorscale": [
             [
              0,
              "#0d0887"
             ],
             [
              0.1111111111111111,
              "#46039f"
             ],
             [
              0.2222222222222222,
              "#7201a8"
             ],
             [
              0.3333333333333333,
              "#9c179e"
             ],
             [
              0.4444444444444444,
              "#bd3786"
             ],
             [
              0.5555555555555556,
              "#d8576b"
             ],
             [
              0.6666666666666666,
              "#ed7953"
             ],
             [
              0.7777777777777778,
              "#fb9f3a"
             ],
             [
              0.8888888888888888,
              "#fdca26"
             ],
             [
              1,
              "#f0f921"
             ]
            ],
            "type": "surface"
           }
          ],
          "table": [
           {
            "cells": {
             "fill": {
              "color": "#EBF0F8"
             },
             "line": {
              "color": "white"
             }
            },
            "header": {
             "fill": {
              "color": "#C8D4E3"
             },
             "line": {
              "color": "white"
             }
            },
            "type": "table"
           }
          ]
         },
         "layout": {
          "annotationdefaults": {
           "arrowcolor": "#2a3f5f",
           "arrowhead": 0,
           "arrowwidth": 1
          },
          "autotypenumbers": "strict",
          "coloraxis": {
           "colorbar": {
            "outlinewidth": 0,
            "ticks": ""
           }
          },
          "colorscale": {
           "diverging": [
            [
             0,
             "#8e0152"
            ],
            [
             0.1,
             "#c51b7d"
            ],
            [
             0.2,
             "#de77ae"
            ],
            [
             0.3,
             "#f1b6da"
            ],
            [
             0.4,
             "#fde0ef"
            ],
            [
             0.5,
             "#f7f7f7"
            ],
            [
             0.6,
             "#e6f5d0"
            ],
            [
             0.7,
             "#b8e186"
            ],
            [
             0.8,
             "#7fbc41"
            ],
            [
             0.9,
             "#4d9221"
            ],
            [
             1,
             "#276419"
            ]
           ],
           "sequential": [
            [
             0,
             "#0d0887"
            ],
            [
             0.1111111111111111,
             "#46039f"
            ],
            [
             0.2222222222222222,
             "#7201a8"
            ],
            [
             0.3333333333333333,
             "#9c179e"
            ],
            [
             0.4444444444444444,
             "#bd3786"
            ],
            [
             0.5555555555555556,
             "#d8576b"
            ],
            [
             0.6666666666666666,
             "#ed7953"
            ],
            [
             0.7777777777777778,
             "#fb9f3a"
            ],
            [
             0.8888888888888888,
             "#fdca26"
            ],
            [
             1,
             "#f0f921"
            ]
           ],
           "sequentialminus": [
            [
             0,
             "#0d0887"
            ],
            [
             0.1111111111111111,
             "#46039f"
            ],
            [
             0.2222222222222222,
             "#7201a8"
            ],
            [
             0.3333333333333333,
             "#9c179e"
            ],
            [
             0.4444444444444444,
             "#bd3786"
            ],
            [
             0.5555555555555556,
             "#d8576b"
            ],
            [
             0.6666666666666666,
             "#ed7953"
            ],
            [
             0.7777777777777778,
             "#fb9f3a"
            ],
            [
             0.8888888888888888,
             "#fdca26"
            ],
            [
             1,
             "#f0f921"
            ]
           ]
          },
          "colorway": [
           "#636efa",
           "#EF553B",
           "#00cc96",
           "#ab63fa",
           "#FFA15A",
           "#19d3f3",
           "#FF6692",
           "#B6E880",
           "#FF97FF",
           "#FECB52"
          ],
          "font": {
           "color": "#2a3f5f"
          },
          "geo": {
           "bgcolor": "white",
           "lakecolor": "white",
           "landcolor": "#E5ECF6",
           "showlakes": true,
           "showland": true,
           "subunitcolor": "white"
          },
          "hoverlabel": {
           "align": "left"
          },
          "hovermode": "closest",
          "mapbox": {
           "style": "light"
          },
          "paper_bgcolor": "white",
          "plot_bgcolor": "#E5ECF6",
          "polar": {
           "angularaxis": {
            "gridcolor": "white",
            "linecolor": "white",
            "ticks": ""
           },
           "bgcolor": "#E5ECF6",
           "radialaxis": {
            "gridcolor": "white",
            "linecolor": "white",
            "ticks": ""
           }
          },
          "scene": {
           "xaxis": {
            "backgroundcolor": "#E5ECF6",
            "gridcolor": "white",
            "gridwidth": 2,
            "linecolor": "white",
            "showbackground": true,
            "ticks": "",
            "zerolinecolor": "white"
           },
           "yaxis": {
            "backgroundcolor": "#E5ECF6",
            "gridcolor": "white",
            "gridwidth": 2,
            "linecolor": "white",
            "showbackground": true,
            "ticks": "",
            "zerolinecolor": "white"
           },
           "zaxis": {
            "backgroundcolor": "#E5ECF6",
            "gridcolor": "white",
            "gridwidth": 2,
            "linecolor": "white",
            "showbackground": true,
            "ticks": "",
            "zerolinecolor": "white"
           }
          },
          "shapedefaults": {
           "line": {
            "color": "#2a3f5f"
           }
          },
          "ternary": {
           "aaxis": {
            "gridcolor": "white",
            "linecolor": "white",
            "ticks": ""
           },
           "baxis": {
            "gridcolor": "white",
            "linecolor": "white",
            "ticks": ""
           },
           "bgcolor": "#E5ECF6",
           "caxis": {
            "gridcolor": "white",
            "linecolor": "white",
            "ticks": ""
           }
          },
          "title": {
           "x": 0.05
          },
          "xaxis": {
           "automargin": true,
           "gridcolor": "white",
           "linecolor": "white",
           "ticks": "",
           "title": {
            "standoff": 15
           },
           "zerolinecolor": "white",
           "zerolinewidth": 2
          },
          "yaxis": {
           "automargin": true,
           "gridcolor": "white",
           "linecolor": "white",
           "ticks": "",
           "title": {
            "standoff": 15
           },
           "zerolinecolor": "white",
           "zerolinewidth": 2
          }
         }
        },
        "title": {
         "font": {
          "color": "#4D5663"
         }
        },
        "xaxis": {
         "gridcolor": "#E1E5ED",
         "showgrid": true,
         "tickfont": {
          "color": "#4D5663"
         },
         "title": {
          "font": {
           "color": "#4D5663"
          },
          "text": ""
         },
         "zerolinecolor": "#E1E5ED"
        },
        "yaxis": {
         "gridcolor": "#E1E5ED",
         "showgrid": true,
         "tickfont": {
          "color": "#4D5663"
         },
         "title": {
          "font": {
           "color": "#4D5663"
          },
          "text": ""
         },
         "zerolinecolor": "#E1E5ED"
        }
       }
      },
      "text/html": [
       "<div>                            <div id=\"5902d850-3680-4017-a6c9-3f3169c51bb3\" class=\"plotly-graph-div\" style=\"height:525px; width:100%;\"></div>            <script type=\"text/javascript\">                require([\"plotly\"], function(Plotly) {                    window.PLOTLYENV=window.PLOTLYENV || {};\n",
       "                    window.PLOTLYENV.BASE_URL='https://plot.ly';                                    if (document.getElementById(\"5902d850-3680-4017-a6c9-3f3169c51bb3\")) {                    Plotly.newPlot(                        \"5902d850-3680-4017-a6c9-3f3169c51bb3\",                        [{\"histfunc\":\"count\",\"histnorm\":\"\",\"marker\":{\"color\":\"rgba(255, 153, 51, 1.0)\",\"line\":{\"color\":\"#4D5663\",\"width\":1.3}},\"name\":\"A\",\"opacity\":0.8,\"orientation\":\"v\",\"x\":[-1.940080026219166,1.247986255885124,0.005552480825121469,-1.0027143906099687,1.2817199630272835,0.6476225955696181,-0.47082217801973575,-0.7832385517451328,-0.03200880067877387,-1.7768059287110718,1.554472601034797,-0.5424463994084257,-0.6543854872054302,-0.11738188392573798,0.4472596966018866,0.9093536171517177,-1.2083688867665092,0.9646113134652564,-1.2816508421771076,0.21107539625334415,1.6477264512828698,-0.10189852530746328,0.40252833411893363,-0.09916223822923723,-0.4017650661321447,0.8487489560918642,0.43447876816581626,0.8597839810516802,-0.14736283054749616,-0.9783737935958959,2.2378199514306165,0.36734697202218997,1.451139684431283,-1.6859788511506248,0.8156220067880682,0.3636193503509781,0.33828766799380217,-0.6492731530581983,-2.8505206810637653,0.7693755173217187,0.1558705587486528,0.5465230891949352,0.15193705928030185,-1.826760068829946,-0.6431764080889432,-0.37872160024822626,0.21957155520063143,2.4220943729305358,0.5017857089929868,-1.1935585863968063,0.47459309666712834,0.7463595991333764,-1.0385638073567438,-2.3737232986666266,-1.0022689901390849,0.7571215212013698,0.9851483833519586,-0.6770938029644872,1.1955696275365801,-2.0258331094509665,-0.9855329381386819,0.9925207813085811,1.3443541412173972,0.13503474291828854,-0.4743272748816833,0.7481539445445763,-1.7348108003535843,-3.102177455400545,-1.867960929691828,-1.2183171880602917,0.39246813826290783,0.6284204223734368,1.8605513840343577,1.9154258112084859,-0.46697846254948916,1.5060756881486907,-1.1039222700653184,-0.7010077581019479,-1.8923727669450956,-0.7589049198697577,0.21997246180406196,-0.2527842438625434,-0.48854645727572715,1.146553248248512,2.6426699786080716,0.8951646903900001,-0.0710513488662732,-0.3578505923475407,-0.1634696762619168,0.06029513149636131,0.3497535135832744,0.2629004354778632,-1.6511333120143168,0.372438904621618,-0.18192482315461628,-1.437435952875453,0.11425385213665518,-1.311521797467715,-2.9587834307624434,1.0067860750661797],\"type\":\"histogram\"},{\"histfunc\":\"count\",\"histnorm\":\"\",\"marker\":{\"color\":\"rgba(55, 128, 191, 1.0)\",\"line\":{\"color\":\"#4D5663\",\"width\":1.3}},\"name\":\"B\",\"opacity\":0.8,\"orientation\":\"v\",\"x\":[-0.8949939745562235,-0.10081740469638696,-0.5935067963171174,-0.39316865154173963,0.40530630884910174,0.4586602330973266,0.9834194539677105,1.0008170337160616,0.6030604319208548,-1.24108213598008,0.6689774898417429,-1.7462108536179457,-0.49760399092156954,-0.35549370576405054,-1.042569669464304,-0.0012514324728663954,-0.6000537686913945,-0.5448907056572506,1.5360712274734536,-0.6416666847641722,-0.23730111471320048,-1.9023180967798081,1.6179485129432796,0.14880660875385976,2.0441521792700987,0.3403729778944682,-0.508956726544393,1.1481932564207318,-0.3323660527558092,-0.19585493608830828,0.009222766308319844,1.3766369986117681,0.04719858580821799,-1.887111341025749,0.8190994981172213,-1.0882829136872194,1.713900352441491,1.6816712616821259,0.2640072561934476,0.04329219467970145,-1.2530505045188787,0.38814340584746565,-0.4434718283401896,0.12642724807207012,-2.4674451497537824,0.7687234852560618,0.36184772293800566,-0.1459995427596467,-2.374448822101066,-0.6903197788738283,-0.07681640573681076,1.5982843804729183,0.6574577228634556,-1.3313447710935715,-0.8526543736985225,-1.8452306890564831,-0.1514233262920145,-0.8633051326821842,-1.0017436343534927,-1.3299139838047351,0.5916940532051198,-0.8651375029310416,-0.32009101541491985,-0.3654722562092443,-1.433984143611732,0.046752121963915455,0.8182820699799663,2.13535371933534,0.2779020791211278,-0.22536633800848135,1.370298339387019,1.1804702035266532,-0.4798839956833346,0.1480843397175848,1.4503741015343206,0.2572218755942087,1.4656438725645362,1.1793718781619216,0.1405436064845857,-0.4499771793631353,0.2343228911286889,-0.5273323738992424,-0.5375462248038378,1.1351118569437255,0.20135904847445885,0.8642497522520891,-1.8006558173862532,-0.636753333865244,0.9364758180016151,-1.7859586833873624,0.5438744516541609,-0.3244573292684904,0.7979614454157512,0.3750242000269216,1.0765539082605646,-0.45588275285980817,-0.4020319590780695,0.2419633355288673,-0.995910690697996,0.5744258727357455],\"type\":\"histogram\"},{\"histfunc\":\"count\",\"histnorm\":\"\",\"marker\":{\"color\":\"rgba(50, 171, 96, 1.0)\",\"line\":{\"color\":\"#4D5663\",\"width\":1.3}},\"name\":\"C\",\"opacity\":0.8,\"orientation\":\"v\",\"x\":[0.4182748825410248,-0.9501648839641642,1.9572492963869799,0.02955010329243198,1.7296421491846883,0.019190387326078417,-0.9976894399031897,-1.3557111860103779,-0.057551971505804614,0.866248825096721,0.918759257743273,-0.9409146519698833,-0.7870035138089374,-0.13667913819374114,-0.44589621585578565,-0.0548799787543895,-0.17328399716216347,0.08331166976769992,-1.0155324218630306,0.8243711338194766,-0.30909049862203186,-0.9026384873852197,-2.6338509905617276,-0.24615009881190622,-1.3563798714177406,-0.010712471424971334,-0.1792855346262717,-2.491021744492973,-1.65600761568296,-1.7851067513855936,-1.5116702746648862,-0.7224618344457004,1.3787904516843026,0.5955808196940751,-0.6814393623786672,-0.3512702827848224,0.22198871542588858,0.9203772614553052,1.1207861374512897,-0.1878891345491742,-2.134967330743993,-0.5315599708883078,1.2901321215101482,-0.9746638486265601,1.3504362423756195,0.22187567961617846,-1.036243850622043,0.21020169423694068,-0.8600490685844518,-0.11893757071178306,-0.6237110985162192,0.10272455274750575,-0.5527197266705707,-0.5966054850239472,-0.714544195505012,0.7558384084504671,0.47860199401754233,1.8529902206169564,0.011306827874762424,0.13006406421944774,-0.08385761955036325,0.36191495752762737,0.4570758730669866,0.549217036955326,0.32135746380447205,0.7805965647429625,0.06816024629788889,1.4089943527350002,0.2943525478707354,0.8187033318948898,-0.2052606524140683,0.5745409471241781,0.029596029294744437,-0.03156603275253228,0.41925625031964386,1.0417031198787077,-0.389468804939762,-0.2697654240245767,0.545721367873779,0.15247647528021352,-1.0307077267249567,-1.8853313028569152,-0.6188114214827979,-0.08332410061138514,0.2224378371476041,-0.36281046946289164,1.5393713738816264,-0.8344201975476349,0.4154912510662551,0.2735513764904384,-1.0365306483308943,-1.257434719307078,0.4438216409092564,0.6619848321591348,-0.4137242939260107,-0.14998028742236483,-0.2524841203481316,-1.5890457316394624,-0.3791513678882985,0.3514057168396319],\"type\":\"histogram\"},{\"histfunc\":\"count\",\"histnorm\":\"\",\"marker\":{\"color\":\"rgba(128, 0, 128, 1.0)\",\"line\":{\"color\":\"#4D5663\",\"width\":1.3}},\"name\":\"D\",\"opacity\":0.8,\"orientation\":\"v\",\"x\":[0.9490400916768807,-0.5817897273674895,1.3751326279569862,0.6983409367427372,1.3202939266626874,-2.1122924451091443,0.43902726032111544,-0.41677279219379426,-0.001816133378014878,1.1169424370449708,0.7754906006179377,1.2045513331336668,2.5317969888883103,-2.0530174580656864,0.6771250835065221,2.3634608936636825,0.01177822932377076,-0.3685144136815486,1.1584754022868753,-1.0898068446037572,-1.3806654281690436,0.07898018369346362,1.2195519553515568,0.3621671325880041,0.2602924454464911,-0.8371518675810171,-2.051460467191315,1.2077628267165934,1.7300926948414181,-0.12215229425226767,0.015600656527953567,-2.7007811510391475,-0.6651607858419503,-0.9836342221342753,-0.48346027810829734,0.211035411043917,-0.7339929942961595,0.18654566154080726,-0.388435331357508,1.0659294758381517,-0.8174062451187262,-1.863360326008581,0.02170533465925002,-0.01078944749883684,0.06016298106968525,-1.3506139632491216,-0.4340002286809841,1.719268516512833,0.21234429273735916,-0.6986616473315558,0.7966966290727863,-0.6618447496087041,0.2435755910255371,-0.4563326163093973,0.14321395221847974,0.2660391223089322,0.6249164006717058,0.4800420323908928,1.718494558968777,0.9124543159605855,-1.0259207825585983,-0.8452326336250587,0.7123478150137652,0.7981789784440202,2.8146011813223746,-0.2949647053977815,-0.1507559569732962,-0.20540659515318394,0.6410944678793699,-0.2960177894447896,-0.5560618932264372,0.17390350811927277,-0.8051387497038169,2.2097935555873036,1.1803528557857363,-0.5717490950308154,-0.4107921815038685,-1.5250626088074613,0.07835070436859118,-1.4038796564605016,0.4101091951312039,-0.19345652696729357,-0.42175060892577465,0.3662908497155731,1.0609931116080076,-0.896251862637867,2.595577593718916,1.882590163124815,-0.1759344698152429,0.08004727605282297,-0.8289387751360255,-1.6452383201128569,-1.613980389485375,1.0741266464861978,-1.62241797380832,-0.3113238496656898,0.22659518168244436,0.1814922402909765,-0.10209471636154765,0.6284901743018841],\"type\":\"histogram\"}],                        {\"barmode\":\"overlay\",\"legend\":{\"bgcolor\":\"#F5F6F9\",\"font\":{\"color\":\"#4D5663\"}},\"paper_bgcolor\":\"#F5F6F9\",\"plot_bgcolor\":\"#F5F6F9\",\"template\":{\"data\":{\"barpolar\":[{\"marker\":{\"line\":{\"color\":\"#E5ECF6\",\"width\":0.5},\"pattern\":{\"fillmode\":\"overlay\",\"size\":10,\"solidity\":0.2}},\"type\":\"barpolar\"}],\"bar\":[{\"error_x\":{\"color\":\"#2a3f5f\"},\"error_y\":{\"color\":\"#2a3f5f\"},\"marker\":{\"line\":{\"color\":\"#E5ECF6\",\"width\":0.5},\"pattern\":{\"fillmode\":\"overlay\",\"size\":10,\"solidity\":0.2}},\"type\":\"bar\"}],\"carpet\":[{\"aaxis\":{\"endlinecolor\":\"#2a3f5f\",\"gridcolor\":\"white\",\"linecolor\":\"white\",\"minorgridcolor\":\"white\",\"startlinecolor\":\"#2a3f5f\"},\"baxis\":{\"endlinecolor\":\"#2a3f5f\",\"gridcolor\":\"white\",\"linecolor\":\"white\",\"minorgridcolor\":\"white\",\"startlinecolor\":\"#2a3f5f\"},\"type\":\"carpet\"}],\"choropleth\":[{\"colorbar\":{\"outlinewidth\":0,\"ticks\":\"\"},\"type\":\"choropleth\"}],\"contourcarpet\":[{\"colorbar\":{\"outlinewidth\":0,\"ticks\":\"\"},\"type\":\"contourcarpet\"}],\"contour\":[{\"colorbar\":{\"outlinewidth\":0,\"ticks\":\"\"},\"colorscale\":[[0.0,\"#0d0887\"],[0.1111111111111111,\"#46039f\"],[0.2222222222222222,\"#7201a8\"],[0.3333333333333333,\"#9c179e\"],[0.4444444444444444,\"#bd3786\"],[0.5555555555555556,\"#d8576b\"],[0.6666666666666666,\"#ed7953\"],[0.7777777777777778,\"#fb9f3a\"],[0.8888888888888888,\"#fdca26\"],[1.0,\"#f0f921\"]],\"type\":\"contour\"}],\"heatmapgl\":[{\"colorbar\":{\"outlinewidth\":0,\"ticks\":\"\"},\"colorscale\":[[0.0,\"#0d0887\"],[0.1111111111111111,\"#46039f\"],[0.2222222222222222,\"#7201a8\"],[0.3333333333333333,\"#9c179e\"],[0.4444444444444444,\"#bd3786\"],[0.5555555555555556,\"#d8576b\"],[0.6666666666666666,\"#ed7953\"],[0.7777777777777778,\"#fb9f3a\"],[0.8888888888888888,\"#fdca26\"],[1.0,\"#f0f921\"]],\"type\":\"heatmapgl\"}],\"heatmap\":[{\"colorbar\":{\"outlinewidth\":0,\"ticks\":\"\"},\"colorscale\":[[0.0,\"#0d0887\"],[0.1111111111111111,\"#46039f\"],[0.2222222222222222,\"#7201a8\"],[0.3333333333333333,\"#9c179e\"],[0.4444444444444444,\"#bd3786\"],[0.5555555555555556,\"#d8576b\"],[0.6666666666666666,\"#ed7953\"],[0.7777777777777778,\"#fb9f3a\"],[0.8888888888888888,\"#fdca26\"],[1.0,\"#f0f921\"]],\"type\":\"heatmap\"}],\"histogram2dcontour\":[{\"colorbar\":{\"outlinewidth\":0,\"ticks\":\"\"},\"colorscale\":[[0.0,\"#0d0887\"],[0.1111111111111111,\"#46039f\"],[0.2222222222222222,\"#7201a8\"],[0.3333333333333333,\"#9c179e\"],[0.4444444444444444,\"#bd3786\"],[0.5555555555555556,\"#d8576b\"],[0.6666666666666666,\"#ed7953\"],[0.7777777777777778,\"#fb9f3a\"],[0.8888888888888888,\"#fdca26\"],[1.0,\"#f0f921\"]],\"type\":\"histogram2dcontour\"}],\"histogram2d\":[{\"colorbar\":{\"outlinewidth\":0,\"ticks\":\"\"},\"colorscale\":[[0.0,\"#0d0887\"],[0.1111111111111111,\"#46039f\"],[0.2222222222222222,\"#7201a8\"],[0.3333333333333333,\"#9c179e\"],[0.4444444444444444,\"#bd3786\"],[0.5555555555555556,\"#d8576b\"],[0.6666666666666666,\"#ed7953\"],[0.7777777777777778,\"#fb9f3a\"],[0.8888888888888888,\"#fdca26\"],[1.0,\"#f0f921\"]],\"type\":\"histogram2d\"}],\"histogram\":[{\"marker\":{\"pattern\":{\"fillmode\":\"overlay\",\"size\":10,\"solidity\":0.2}},\"type\":\"histogram\"}],\"mesh3d\":[{\"colorbar\":{\"outlinewidth\":0,\"ticks\":\"\"},\"type\":\"mesh3d\"}],\"parcoords\":[{\"line\":{\"colorbar\":{\"outlinewidth\":0,\"ticks\":\"\"}},\"type\":\"parcoords\"}],\"pie\":[{\"automargin\":true,\"type\":\"pie\"}],\"scatter3d\":[{\"line\":{\"colorbar\":{\"outlinewidth\":0,\"ticks\":\"\"}},\"marker\":{\"colorbar\":{\"outlinewidth\":0,\"ticks\":\"\"}},\"type\":\"scatter3d\"}],\"scattercarpet\":[{\"marker\":{\"colorbar\":{\"outlinewidth\":0,\"ticks\":\"\"}},\"type\":\"scattercarpet\"}],\"scattergeo\":[{\"marker\":{\"colorbar\":{\"outlinewidth\":0,\"ticks\":\"\"}},\"type\":\"scattergeo\"}],\"scattergl\":[{\"marker\":{\"colorbar\":{\"outlinewidth\":0,\"ticks\":\"\"}},\"type\":\"scattergl\"}],\"scattermapbox\":[{\"marker\":{\"colorbar\":{\"outlinewidth\":0,\"ticks\":\"\"}},\"type\":\"scattermapbox\"}],\"scatterpolargl\":[{\"marker\":{\"colorbar\":{\"outlinewidth\":0,\"ticks\":\"\"}},\"type\":\"scatterpolargl\"}],\"scatterpolar\":[{\"marker\":{\"colorbar\":{\"outlinewidth\":0,\"ticks\":\"\"}},\"type\":\"scatterpolar\"}],\"scatter\":[{\"marker\":{\"colorbar\":{\"outlinewidth\":0,\"ticks\":\"\"}},\"type\":\"scatter\"}],\"scatterternary\":[{\"marker\":{\"colorbar\":{\"outlinewidth\":0,\"ticks\":\"\"}},\"type\":\"scatterternary\"}],\"surface\":[{\"colorbar\":{\"outlinewidth\":0,\"ticks\":\"\"},\"colorscale\":[[0.0,\"#0d0887\"],[0.1111111111111111,\"#46039f\"],[0.2222222222222222,\"#7201a8\"],[0.3333333333333333,\"#9c179e\"],[0.4444444444444444,\"#bd3786\"],[0.5555555555555556,\"#d8576b\"],[0.6666666666666666,\"#ed7953\"],[0.7777777777777778,\"#fb9f3a\"],[0.8888888888888888,\"#fdca26\"],[1.0,\"#f0f921\"]],\"type\":\"surface\"}],\"table\":[{\"cells\":{\"fill\":{\"color\":\"#EBF0F8\"},\"line\":{\"color\":\"white\"}},\"header\":{\"fill\":{\"color\":\"#C8D4E3\"},\"line\":{\"color\":\"white\"}},\"type\":\"table\"}]},\"layout\":{\"annotationdefaults\":{\"arrowcolor\":\"#2a3f5f\",\"arrowhead\":0,\"arrowwidth\":1},\"autotypenumbers\":\"strict\",\"coloraxis\":{\"colorbar\":{\"outlinewidth\":0,\"ticks\":\"\"}},\"colorscale\":{\"diverging\":[[0,\"#8e0152\"],[0.1,\"#c51b7d\"],[0.2,\"#de77ae\"],[0.3,\"#f1b6da\"],[0.4,\"#fde0ef\"],[0.5,\"#f7f7f7\"],[0.6,\"#e6f5d0\"],[0.7,\"#b8e186\"],[0.8,\"#7fbc41\"],[0.9,\"#4d9221\"],[1,\"#276419\"]],\"sequential\":[[0.0,\"#0d0887\"],[0.1111111111111111,\"#46039f\"],[0.2222222222222222,\"#7201a8\"],[0.3333333333333333,\"#9c179e\"],[0.4444444444444444,\"#bd3786\"],[0.5555555555555556,\"#d8576b\"],[0.6666666666666666,\"#ed7953\"],[0.7777777777777778,\"#fb9f3a\"],[0.8888888888888888,\"#fdca26\"],[1.0,\"#f0f921\"]],\"sequentialminus\":[[0.0,\"#0d0887\"],[0.1111111111111111,\"#46039f\"],[0.2222222222222222,\"#7201a8\"],[0.3333333333333333,\"#9c179e\"],[0.4444444444444444,\"#bd3786\"],[0.5555555555555556,\"#d8576b\"],[0.6666666666666666,\"#ed7953\"],[0.7777777777777778,\"#fb9f3a\"],[0.8888888888888888,\"#fdca26\"],[1.0,\"#f0f921\"]]},\"colorway\":[\"#636efa\",\"#EF553B\",\"#00cc96\",\"#ab63fa\",\"#FFA15A\",\"#19d3f3\",\"#FF6692\",\"#B6E880\",\"#FF97FF\",\"#FECB52\"],\"font\":{\"color\":\"#2a3f5f\"},\"geo\":{\"bgcolor\":\"white\",\"lakecolor\":\"white\",\"landcolor\":\"#E5ECF6\",\"showlakes\":true,\"showland\":true,\"subunitcolor\":\"white\"},\"hoverlabel\":{\"align\":\"left\"},\"hovermode\":\"closest\",\"mapbox\":{\"style\":\"light\"},\"paper_bgcolor\":\"white\",\"plot_bgcolor\":\"#E5ECF6\",\"polar\":{\"angularaxis\":{\"gridcolor\":\"white\",\"linecolor\":\"white\",\"ticks\":\"\"},\"bgcolor\":\"#E5ECF6\",\"radialaxis\":{\"gridcolor\":\"white\",\"linecolor\":\"white\",\"ticks\":\"\"}},\"scene\":{\"xaxis\":{\"backgroundcolor\":\"#E5ECF6\",\"gridcolor\":\"white\",\"gridwidth\":2,\"linecolor\":\"white\",\"showbackground\":true,\"ticks\":\"\",\"zerolinecolor\":\"white\"},\"yaxis\":{\"backgroundcolor\":\"#E5ECF6\",\"gridcolor\":\"white\",\"gridwidth\":2,\"linecolor\":\"white\",\"showbackground\":true,\"ticks\":\"\",\"zerolinecolor\":\"white\"},\"zaxis\":{\"backgroundcolor\":\"#E5ECF6\",\"gridcolor\":\"white\",\"gridwidth\":2,\"linecolor\":\"white\",\"showbackground\":true,\"ticks\":\"\",\"zerolinecolor\":\"white\"}},\"shapedefaults\":{\"line\":{\"color\":\"#2a3f5f\"}},\"ternary\":{\"aaxis\":{\"gridcolor\":\"white\",\"linecolor\":\"white\",\"ticks\":\"\"},\"baxis\":{\"gridcolor\":\"white\",\"linecolor\":\"white\",\"ticks\":\"\"},\"bgcolor\":\"#E5ECF6\",\"caxis\":{\"gridcolor\":\"white\",\"linecolor\":\"white\",\"ticks\":\"\"}},\"title\":{\"x\":0.05},\"xaxis\":{\"automargin\":true,\"gridcolor\":\"white\",\"linecolor\":\"white\",\"ticks\":\"\",\"title\":{\"standoff\":15},\"zerolinecolor\":\"white\",\"zerolinewidth\":2},\"yaxis\":{\"automargin\":true,\"gridcolor\":\"white\",\"linecolor\":\"white\",\"ticks\":\"\",\"title\":{\"standoff\":15},\"zerolinecolor\":\"white\",\"zerolinewidth\":2}}},\"title\":{\"font\":{\"color\":\"#4D5663\"}},\"xaxis\":{\"gridcolor\":\"#E1E5ED\",\"showgrid\":true,\"tickfont\":{\"color\":\"#4D5663\"},\"title\":{\"font\":{\"color\":\"#4D5663\"},\"text\":\"\"},\"zerolinecolor\":\"#E1E5ED\"},\"yaxis\":{\"gridcolor\":\"#E1E5ED\",\"showgrid\":true,\"tickfont\":{\"color\":\"#4D5663\"},\"title\":{\"font\":{\"color\":\"#4D5663\"},\"text\":\"\"},\"zerolinecolor\":\"#E1E5ED\"}},                        {\"showLink\": true, \"linkText\": \"Export to plot.ly\", \"plotlyServerURL\": \"https://plot.ly\", \"responsive\": true}                    ).then(function(){\n",
       "                            \n",
       "var gd = document.getElementById('5902d850-3680-4017-a6c9-3f3169c51bb3');\n",
       "var x = new MutationObserver(function (mutations, observer) {{\n",
       "        var display = window.getComputedStyle(gd).display;\n",
       "        if (!display || display === 'none') {{\n",
       "            console.log([gd, 'removed!']);\n",
       "            Plotly.purge(gd);\n",
       "            observer.disconnect();\n",
       "        }}\n",
       "}});\n",
       "\n",
       "// Listen for the removal of the full notebook cells\n",
       "var notebookContainer = gd.closest('#notebook-container');\n",
       "if (notebookContainer) {{\n",
       "    x.observe(notebookContainer, {childList: true});\n",
       "}}\n",
       "\n",
       "// Listen for the clearing of the current output cell\n",
       "var outputEl = gd.closest('.output');\n",
       "if (outputEl) {{\n",
       "    x.observe(outputEl, {childList: true});\n",
       "}}\n",
       "\n",
       "                        })                };                });            </script>        </div>"
      ]
     },
     "metadata": {},
     "output_type": "display_data"
    }
   ],
   "source": [
    "df.iplot(kind='hist')"
   ]
  },
  {
   "cell_type": "code",
   "execution_count": 18,
   "metadata": {},
   "outputs": [
    {
     "data": {
      "application/vnd.plotly.v1+json": {
       "config": {
        "linkText": "Export to plot.ly",
        "plotlyServerURL": "https://plot.ly",
        "showLink": true
       },
       "data": [
        {
         "marker": {
          "color": [
           "rgb(255, 153, 51)",
           "rgb(55, 128, 191)",
           "rgb(50, 171, 96)",
           "rgb(128, 0, 128)",
           "rgb(219, 64, 82)",
           "rgb(0, 128, 128)",
           "rgb(255, 255, 51)",
           "rgb(128, 128, 0)",
           "rgb(251, 128, 114)",
           "rgb(128, 177, 211)"
          ],
          "line": {
           "width": 1.3
          },
          "size": [
           78,
           48,
           112,
           70,
           107,
           69,
           47,
           39,
           68,
           88,
           89,
           48,
           52,
           66,
           59,
           68,
           65,
           71,
           47,
           87,
           62,
           49,
           12,
           64,
           39,
           69,
           65,
           15,
           33,
           30,
           36,
           53,
           99,
           82,
           54,
           61,
           74,
           89,
           93,
           65,
           22,
           57,
           97,
           48,
           98,
           74,
           46,
           73,
           50,
           66,
           55,
           71,
           57,
           56,
           53,
           85,
           79,
           109,
           69,
           72,
           67,
           77,
           79,
           81,
           76,
           86,
           70,
           100,
           75,
           87,
           64,
           81,
           70,
           68,
           78,
           92,
           60,
           63,
           81,
           72,
           46,
           28,
           55,
           67,
           74,
           61,
           102,
           51,
           78,
           75,
           46,
           41,
           79,
           83,
           60,
           66,
           63,
           34,
           61,
           77
          ],
          "symbol": "circle"
         },
         "mode": "markers",
         "text": "",
         "type": "scatter",
         "x": [
          -1.940080026219166,
          1.247986255885124,
          0.005552480825121469,
          -1.0027143906099687,
          1.2817199630272835,
          0.6476225955696181,
          -0.47082217801973575,
          -0.7832385517451328,
          -0.03200880067877387,
          -1.7768059287110718,
          1.554472601034797,
          -0.5424463994084257,
          -0.6543854872054302,
          -0.11738188392573798,
          0.4472596966018866,
          0.9093536171517177,
          -1.2083688867665092,
          0.9646113134652564,
          -1.2816508421771076,
          0.21107539625334415,
          1.6477264512828698,
          -0.10189852530746328,
          0.40252833411893363,
          -0.09916223822923723,
          -0.4017650661321447,
          0.8487489560918642,
          0.43447876816581626,
          0.8597839810516802,
          -0.14736283054749616,
          -0.9783737935958959,
          2.2378199514306165,
          0.36734697202218997,
          1.451139684431283,
          -1.6859788511506248,
          0.8156220067880682,
          0.3636193503509781,
          0.33828766799380217,
          -0.6492731530581983,
          -2.8505206810637653,
          0.7693755173217187,
          0.1558705587486528,
          0.5465230891949352,
          0.15193705928030185,
          -1.826760068829946,
          -0.6431764080889432,
          -0.37872160024822626,
          0.21957155520063143,
          2.4220943729305358,
          0.5017857089929868,
          -1.1935585863968063,
          0.47459309666712834,
          0.7463595991333764,
          -1.0385638073567438,
          -2.3737232986666266,
          -1.0022689901390849,
          0.7571215212013698,
          0.9851483833519586,
          -0.6770938029644872,
          1.1955696275365801,
          -2.0258331094509665,
          -0.9855329381386819,
          0.9925207813085811,
          1.3443541412173972,
          0.13503474291828854,
          -0.4743272748816833,
          0.7481539445445763,
          -1.7348108003535843,
          -3.102177455400545,
          -1.867960929691828,
          -1.2183171880602917,
          0.39246813826290783,
          0.6284204223734368,
          1.8605513840343577,
          1.9154258112084859,
          -0.46697846254948916,
          1.5060756881486907,
          -1.1039222700653184,
          -0.7010077581019479,
          -1.8923727669450956,
          -0.7589049198697577,
          0.21997246180406196,
          -0.2527842438625434,
          -0.48854645727572715,
          1.146553248248512,
          2.6426699786080716,
          0.8951646903900001,
          -0.0710513488662732,
          -0.3578505923475407,
          -0.1634696762619168,
          0.06029513149636131,
          0.3497535135832744,
          0.2629004354778632,
          -1.6511333120143168,
          0.372438904621618,
          -0.18192482315461628,
          -1.437435952875453,
          0.11425385213665518,
          -1.311521797467715,
          -2.9587834307624434,
          1.0067860750661797
         ],
         "y": [
          -0.8949939745562235,
          -0.10081740469638696,
          -0.5935067963171174,
          -0.39316865154173963,
          0.40530630884910174,
          0.4586602330973266,
          0.9834194539677105,
          1.0008170337160616,
          0.6030604319208548,
          -1.24108213598008,
          0.6689774898417429,
          -1.7462108536179457,
          -0.49760399092156954,
          -0.35549370576405054,
          -1.042569669464304,
          -0.0012514324728663954,
          -0.6000537686913945,
          -0.5448907056572506,
          1.5360712274734536,
          -0.6416666847641722,
          -0.23730111471320048,
          -1.9023180967798081,
          1.6179485129432796,
          0.14880660875385976,
          2.0441521792700987,
          0.3403729778944682,
          -0.508956726544393,
          1.1481932564207318,
          -0.3323660527558092,
          -0.19585493608830828,
          0.009222766308319844,
          1.3766369986117681,
          0.04719858580821799,
          -1.887111341025749,
          0.8190994981172213,
          -1.0882829136872194,
          1.713900352441491,
          1.6816712616821259,
          0.2640072561934476,
          0.04329219467970145,
          -1.2530505045188787,
          0.38814340584746565,
          -0.4434718283401896,
          0.12642724807207012,
          -2.4674451497537824,
          0.7687234852560618,
          0.36184772293800566,
          -0.1459995427596467,
          -2.374448822101066,
          -0.6903197788738283,
          -0.07681640573681076,
          1.5982843804729183,
          0.6574577228634556,
          -1.3313447710935715,
          -0.8526543736985225,
          -1.8452306890564831,
          -0.1514233262920145,
          -0.8633051326821842,
          -1.0017436343534927,
          -1.3299139838047351,
          0.5916940532051198,
          -0.8651375029310416,
          -0.32009101541491985,
          -0.3654722562092443,
          -1.433984143611732,
          0.046752121963915455,
          0.8182820699799663,
          2.13535371933534,
          0.2779020791211278,
          -0.22536633800848135,
          1.370298339387019,
          1.1804702035266532,
          -0.4798839956833346,
          0.1480843397175848,
          1.4503741015343206,
          0.2572218755942087,
          1.4656438725645362,
          1.1793718781619216,
          0.1405436064845857,
          -0.4499771793631353,
          0.2343228911286889,
          -0.5273323738992424,
          -0.5375462248038378,
          1.1351118569437255,
          0.20135904847445885,
          0.8642497522520891,
          -1.8006558173862532,
          -0.636753333865244,
          0.9364758180016151,
          -1.7859586833873624,
          0.5438744516541609,
          -0.3244573292684904,
          0.7979614454157512,
          0.3750242000269216,
          1.0765539082605646,
          -0.45588275285980817,
          -0.4020319590780695,
          0.2419633355288673,
          -0.995910690697996,
          0.5744258727357455
         ]
        }
       ],
       "layout": {
        "legend": {
         "bgcolor": "#F5F6F9",
         "font": {
          "color": "#4D5663"
         }
        },
        "paper_bgcolor": "#F5F6F9",
        "plot_bgcolor": "#F5F6F9",
        "template": {
         "data": {
          "bar": [
           {
            "error_x": {
             "color": "#2a3f5f"
            },
            "error_y": {
             "color": "#2a3f5f"
            },
            "marker": {
             "line": {
              "color": "#E5ECF6",
              "width": 0.5
             },
             "pattern": {
              "fillmode": "overlay",
              "size": 10,
              "solidity": 0.2
             }
            },
            "type": "bar"
           }
          ],
          "barpolar": [
           {
            "marker": {
             "line": {
              "color": "#E5ECF6",
              "width": 0.5
             },
             "pattern": {
              "fillmode": "overlay",
              "size": 10,
              "solidity": 0.2
             }
            },
            "type": "barpolar"
           }
          ],
          "carpet": [
           {
            "aaxis": {
             "endlinecolor": "#2a3f5f",
             "gridcolor": "white",
             "linecolor": "white",
             "minorgridcolor": "white",
             "startlinecolor": "#2a3f5f"
            },
            "baxis": {
             "endlinecolor": "#2a3f5f",
             "gridcolor": "white",
             "linecolor": "white",
             "minorgridcolor": "white",
             "startlinecolor": "#2a3f5f"
            },
            "type": "carpet"
           }
          ],
          "choropleth": [
           {
            "colorbar": {
             "outlinewidth": 0,
             "ticks": ""
            },
            "type": "choropleth"
           }
          ],
          "contour": [
           {
            "colorbar": {
             "outlinewidth": 0,
             "ticks": ""
            },
            "colorscale": [
             [
              0,
              "#0d0887"
             ],
             [
              0.1111111111111111,
              "#46039f"
             ],
             [
              0.2222222222222222,
              "#7201a8"
             ],
             [
              0.3333333333333333,
              "#9c179e"
             ],
             [
              0.4444444444444444,
              "#bd3786"
             ],
             [
              0.5555555555555556,
              "#d8576b"
             ],
             [
              0.6666666666666666,
              "#ed7953"
             ],
             [
              0.7777777777777778,
              "#fb9f3a"
             ],
             [
              0.8888888888888888,
              "#fdca26"
             ],
             [
              1,
              "#f0f921"
             ]
            ],
            "type": "contour"
           }
          ],
          "contourcarpet": [
           {
            "colorbar": {
             "outlinewidth": 0,
             "ticks": ""
            },
            "type": "contourcarpet"
           }
          ],
          "heatmap": [
           {
            "colorbar": {
             "outlinewidth": 0,
             "ticks": ""
            },
            "colorscale": [
             [
              0,
              "#0d0887"
             ],
             [
              0.1111111111111111,
              "#46039f"
             ],
             [
              0.2222222222222222,
              "#7201a8"
             ],
             [
              0.3333333333333333,
              "#9c179e"
             ],
             [
              0.4444444444444444,
              "#bd3786"
             ],
             [
              0.5555555555555556,
              "#d8576b"
             ],
             [
              0.6666666666666666,
              "#ed7953"
             ],
             [
              0.7777777777777778,
              "#fb9f3a"
             ],
             [
              0.8888888888888888,
              "#fdca26"
             ],
             [
              1,
              "#f0f921"
             ]
            ],
            "type": "heatmap"
           }
          ],
          "heatmapgl": [
           {
            "colorbar": {
             "outlinewidth": 0,
             "ticks": ""
            },
            "colorscale": [
             [
              0,
              "#0d0887"
             ],
             [
              0.1111111111111111,
              "#46039f"
             ],
             [
              0.2222222222222222,
              "#7201a8"
             ],
             [
              0.3333333333333333,
              "#9c179e"
             ],
             [
              0.4444444444444444,
              "#bd3786"
             ],
             [
              0.5555555555555556,
              "#d8576b"
             ],
             [
              0.6666666666666666,
              "#ed7953"
             ],
             [
              0.7777777777777778,
              "#fb9f3a"
             ],
             [
              0.8888888888888888,
              "#fdca26"
             ],
             [
              1,
              "#f0f921"
             ]
            ],
            "type": "heatmapgl"
           }
          ],
          "histogram": [
           {
            "marker": {
             "pattern": {
              "fillmode": "overlay",
              "size": 10,
              "solidity": 0.2
             }
            },
            "type": "histogram"
           }
          ],
          "histogram2d": [
           {
            "colorbar": {
             "outlinewidth": 0,
             "ticks": ""
            },
            "colorscale": [
             [
              0,
              "#0d0887"
             ],
             [
              0.1111111111111111,
              "#46039f"
             ],
             [
              0.2222222222222222,
              "#7201a8"
             ],
             [
              0.3333333333333333,
              "#9c179e"
             ],
             [
              0.4444444444444444,
              "#bd3786"
             ],
             [
              0.5555555555555556,
              "#d8576b"
             ],
             [
              0.6666666666666666,
              "#ed7953"
             ],
             [
              0.7777777777777778,
              "#fb9f3a"
             ],
             [
              0.8888888888888888,
              "#fdca26"
             ],
             [
              1,
              "#f0f921"
             ]
            ],
            "type": "histogram2d"
           }
          ],
          "histogram2dcontour": [
           {
            "colorbar": {
             "outlinewidth": 0,
             "ticks": ""
            },
            "colorscale": [
             [
              0,
              "#0d0887"
             ],
             [
              0.1111111111111111,
              "#46039f"
             ],
             [
              0.2222222222222222,
              "#7201a8"
             ],
             [
              0.3333333333333333,
              "#9c179e"
             ],
             [
              0.4444444444444444,
              "#bd3786"
             ],
             [
              0.5555555555555556,
              "#d8576b"
             ],
             [
              0.6666666666666666,
              "#ed7953"
             ],
             [
              0.7777777777777778,
              "#fb9f3a"
             ],
             [
              0.8888888888888888,
              "#fdca26"
             ],
             [
              1,
              "#f0f921"
             ]
            ],
            "type": "histogram2dcontour"
           }
          ],
          "mesh3d": [
           {
            "colorbar": {
             "outlinewidth": 0,
             "ticks": ""
            },
            "type": "mesh3d"
           }
          ],
          "parcoords": [
           {
            "line": {
             "colorbar": {
              "outlinewidth": 0,
              "ticks": ""
             }
            },
            "type": "parcoords"
           }
          ],
          "pie": [
           {
            "automargin": true,
            "type": "pie"
           }
          ],
          "scatter": [
           {
            "marker": {
             "colorbar": {
              "outlinewidth": 0,
              "ticks": ""
             }
            },
            "type": "scatter"
           }
          ],
          "scatter3d": [
           {
            "line": {
             "colorbar": {
              "outlinewidth": 0,
              "ticks": ""
             }
            },
            "marker": {
             "colorbar": {
              "outlinewidth": 0,
              "ticks": ""
             }
            },
            "type": "scatter3d"
           }
          ],
          "scattercarpet": [
           {
            "marker": {
             "colorbar": {
              "outlinewidth": 0,
              "ticks": ""
             }
            },
            "type": "scattercarpet"
           }
          ],
          "scattergeo": [
           {
            "marker": {
             "colorbar": {
              "outlinewidth": 0,
              "ticks": ""
             }
            },
            "type": "scattergeo"
           }
          ],
          "scattergl": [
           {
            "marker": {
             "colorbar": {
              "outlinewidth": 0,
              "ticks": ""
             }
            },
            "type": "scattergl"
           }
          ],
          "scattermapbox": [
           {
            "marker": {
             "colorbar": {
              "outlinewidth": 0,
              "ticks": ""
             }
            },
            "type": "scattermapbox"
           }
          ],
          "scatterpolar": [
           {
            "marker": {
             "colorbar": {
              "outlinewidth": 0,
              "ticks": ""
             }
            },
            "type": "scatterpolar"
           }
          ],
          "scatterpolargl": [
           {
            "marker": {
             "colorbar": {
              "outlinewidth": 0,
              "ticks": ""
             }
            },
            "type": "scatterpolargl"
           }
          ],
          "scatterternary": [
           {
            "marker": {
             "colorbar": {
              "outlinewidth": 0,
              "ticks": ""
             }
            },
            "type": "scatterternary"
           }
          ],
          "surface": [
           {
            "colorbar": {
             "outlinewidth": 0,
             "ticks": ""
            },
            "colorscale": [
             [
              0,
              "#0d0887"
             ],
             [
              0.1111111111111111,
              "#46039f"
             ],
             [
              0.2222222222222222,
              "#7201a8"
             ],
             [
              0.3333333333333333,
              "#9c179e"
             ],
             [
              0.4444444444444444,
              "#bd3786"
             ],
             [
              0.5555555555555556,
              "#d8576b"
             ],
             [
              0.6666666666666666,
              "#ed7953"
             ],
             [
              0.7777777777777778,
              "#fb9f3a"
             ],
             [
              0.8888888888888888,
              "#fdca26"
             ],
             [
              1,
              "#f0f921"
             ]
            ],
            "type": "surface"
           }
          ],
          "table": [
           {
            "cells": {
             "fill": {
              "color": "#EBF0F8"
             },
             "line": {
              "color": "white"
             }
            },
            "header": {
             "fill": {
              "color": "#C8D4E3"
             },
             "line": {
              "color": "white"
             }
            },
            "type": "table"
           }
          ]
         },
         "layout": {
          "annotationdefaults": {
           "arrowcolor": "#2a3f5f",
           "arrowhead": 0,
           "arrowwidth": 1
          },
          "autotypenumbers": "strict",
          "coloraxis": {
           "colorbar": {
            "outlinewidth": 0,
            "ticks": ""
           }
          },
          "colorscale": {
           "diverging": [
            [
             0,
             "#8e0152"
            ],
            [
             0.1,
             "#c51b7d"
            ],
            [
             0.2,
             "#de77ae"
            ],
            [
             0.3,
             "#f1b6da"
            ],
            [
             0.4,
             "#fde0ef"
            ],
            [
             0.5,
             "#f7f7f7"
            ],
            [
             0.6,
             "#e6f5d0"
            ],
            [
             0.7,
             "#b8e186"
            ],
            [
             0.8,
             "#7fbc41"
            ],
            [
             0.9,
             "#4d9221"
            ],
            [
             1,
             "#276419"
            ]
           ],
           "sequential": [
            [
             0,
             "#0d0887"
            ],
            [
             0.1111111111111111,
             "#46039f"
            ],
            [
             0.2222222222222222,
             "#7201a8"
            ],
            [
             0.3333333333333333,
             "#9c179e"
            ],
            [
             0.4444444444444444,
             "#bd3786"
            ],
            [
             0.5555555555555556,
             "#d8576b"
            ],
            [
             0.6666666666666666,
             "#ed7953"
            ],
            [
             0.7777777777777778,
             "#fb9f3a"
            ],
            [
             0.8888888888888888,
             "#fdca26"
            ],
            [
             1,
             "#f0f921"
            ]
           ],
           "sequentialminus": [
            [
             0,
             "#0d0887"
            ],
            [
             0.1111111111111111,
             "#46039f"
            ],
            [
             0.2222222222222222,
             "#7201a8"
            ],
            [
             0.3333333333333333,
             "#9c179e"
            ],
            [
             0.4444444444444444,
             "#bd3786"
            ],
            [
             0.5555555555555556,
             "#d8576b"
            ],
            [
             0.6666666666666666,
             "#ed7953"
            ],
            [
             0.7777777777777778,
             "#fb9f3a"
            ],
            [
             0.8888888888888888,
             "#fdca26"
            ],
            [
             1,
             "#f0f921"
            ]
           ]
          },
          "colorway": [
           "#636efa",
           "#EF553B",
           "#00cc96",
           "#ab63fa",
           "#FFA15A",
           "#19d3f3",
           "#FF6692",
           "#B6E880",
           "#FF97FF",
           "#FECB52"
          ],
          "font": {
           "color": "#2a3f5f"
          },
          "geo": {
           "bgcolor": "white",
           "lakecolor": "white",
           "landcolor": "#E5ECF6",
           "showlakes": true,
           "showland": true,
           "subunitcolor": "white"
          },
          "hoverlabel": {
           "align": "left"
          },
          "hovermode": "closest",
          "mapbox": {
           "style": "light"
          },
          "paper_bgcolor": "white",
          "plot_bgcolor": "#E5ECF6",
          "polar": {
           "angularaxis": {
            "gridcolor": "white",
            "linecolor": "white",
            "ticks": ""
           },
           "bgcolor": "#E5ECF6",
           "radialaxis": {
            "gridcolor": "white",
            "linecolor": "white",
            "ticks": ""
           }
          },
          "scene": {
           "xaxis": {
            "backgroundcolor": "#E5ECF6",
            "gridcolor": "white",
            "gridwidth": 2,
            "linecolor": "white",
            "showbackground": true,
            "ticks": "",
            "zerolinecolor": "white"
           },
           "yaxis": {
            "backgroundcolor": "#E5ECF6",
            "gridcolor": "white",
            "gridwidth": 2,
            "linecolor": "white",
            "showbackground": true,
            "ticks": "",
            "zerolinecolor": "white"
           },
           "zaxis": {
            "backgroundcolor": "#E5ECF6",
            "gridcolor": "white",
            "gridwidth": 2,
            "linecolor": "white",
            "showbackground": true,
            "ticks": "",
            "zerolinecolor": "white"
           }
          },
          "shapedefaults": {
           "line": {
            "color": "#2a3f5f"
           }
          },
          "ternary": {
           "aaxis": {
            "gridcolor": "white",
            "linecolor": "white",
            "ticks": ""
           },
           "baxis": {
            "gridcolor": "white",
            "linecolor": "white",
            "ticks": ""
           },
           "bgcolor": "#E5ECF6",
           "caxis": {
            "gridcolor": "white",
            "linecolor": "white",
            "ticks": ""
           }
          },
          "title": {
           "x": 0.05
          },
          "xaxis": {
           "automargin": true,
           "gridcolor": "white",
           "linecolor": "white",
           "ticks": "",
           "title": {
            "standoff": 15
           },
           "zerolinecolor": "white",
           "zerolinewidth": 2
          },
          "yaxis": {
           "automargin": true,
           "gridcolor": "white",
           "linecolor": "white",
           "ticks": "",
           "title": {
            "standoff": 15
           },
           "zerolinecolor": "white",
           "zerolinewidth": 2
          }
         }
        },
        "title": {
         "font": {
          "color": "#4D5663"
         }
        },
        "xaxis": {
         "gridcolor": "#E1E5ED",
         "showgrid": true,
         "tickfont": {
          "color": "#4D5663"
         },
         "title": {
          "font": {
           "color": "#4D5663"
          },
          "text": ""
         },
         "zerolinecolor": "#E1E5ED"
        },
        "yaxis": {
         "gridcolor": "#E1E5ED",
         "showgrid": true,
         "tickfont": {
          "color": "#4D5663"
         },
         "title": {
          "font": {
           "color": "#4D5663"
          },
          "text": ""
         },
         "zerolinecolor": "#E1E5ED"
        }
       }
      },
      "text/html": [
       "<div>                            <div id=\"73e0afd5-37e1-4537-8caf-5be6ea7cb879\" class=\"plotly-graph-div\" style=\"height:525px; width:100%;\"></div>            <script type=\"text/javascript\">                require([\"plotly\"], function(Plotly) {                    window.PLOTLYENV=window.PLOTLYENV || {};\n",
       "                    window.PLOTLYENV.BASE_URL='https://plot.ly';                                    if (document.getElementById(\"73e0afd5-37e1-4537-8caf-5be6ea7cb879\")) {                    Plotly.newPlot(                        \"73e0afd5-37e1-4537-8caf-5be6ea7cb879\",                        [{\"marker\":{\"color\":[\"rgb(255, 153, 51)\",\"rgb(55, 128, 191)\",\"rgb(50, 171, 96)\",\"rgb(128, 0, 128)\",\"rgb(219, 64, 82)\",\"rgb(0, 128, 128)\",\"rgb(255, 255, 51)\",\"rgb(128, 128, 0)\",\"rgb(251, 128, 114)\",\"rgb(128, 177, 211)\"],\"line\":{\"width\":1.3},\"size\":[78,48,112,70,107,69,47,39,68,88,89,48,52,66,59,68,65,71,47,87,62,49,12,64,39,69,65,15,33,30,36,53,99,82,54,61,74,89,93,65,22,57,97,48,98,74,46,73,50,66,55,71,57,56,53,85,79,109,69,72,67,77,79,81,76,86,70,100,75,87,64,81,70,68,78,92,60,63,81,72,46,28,55,67,74,61,102,51,78,75,46,41,79,83,60,66,63,34,61,77],\"symbol\":\"circle\"},\"mode\":\"markers\",\"text\":\"\",\"x\":[-1.940080026219166,1.247986255885124,0.005552480825121469,-1.0027143906099687,1.2817199630272835,0.6476225955696181,-0.47082217801973575,-0.7832385517451328,-0.03200880067877387,-1.7768059287110718,1.554472601034797,-0.5424463994084257,-0.6543854872054302,-0.11738188392573798,0.4472596966018866,0.9093536171517177,-1.2083688867665092,0.9646113134652564,-1.2816508421771076,0.21107539625334415,1.6477264512828698,-0.10189852530746328,0.40252833411893363,-0.09916223822923723,-0.4017650661321447,0.8487489560918642,0.43447876816581626,0.8597839810516802,-0.14736283054749616,-0.9783737935958959,2.2378199514306165,0.36734697202218997,1.451139684431283,-1.6859788511506248,0.8156220067880682,0.3636193503509781,0.33828766799380217,-0.6492731530581983,-2.8505206810637653,0.7693755173217187,0.1558705587486528,0.5465230891949352,0.15193705928030185,-1.826760068829946,-0.6431764080889432,-0.37872160024822626,0.21957155520063143,2.4220943729305358,0.5017857089929868,-1.1935585863968063,0.47459309666712834,0.7463595991333764,-1.0385638073567438,-2.3737232986666266,-1.0022689901390849,0.7571215212013698,0.9851483833519586,-0.6770938029644872,1.1955696275365801,-2.0258331094509665,-0.9855329381386819,0.9925207813085811,1.3443541412173972,0.13503474291828854,-0.4743272748816833,0.7481539445445763,-1.7348108003535843,-3.102177455400545,-1.867960929691828,-1.2183171880602917,0.39246813826290783,0.6284204223734368,1.8605513840343577,1.9154258112084859,-0.46697846254948916,1.5060756881486907,-1.1039222700653184,-0.7010077581019479,-1.8923727669450956,-0.7589049198697577,0.21997246180406196,-0.2527842438625434,-0.48854645727572715,1.146553248248512,2.6426699786080716,0.8951646903900001,-0.0710513488662732,-0.3578505923475407,-0.1634696762619168,0.06029513149636131,0.3497535135832744,0.2629004354778632,-1.6511333120143168,0.372438904621618,-0.18192482315461628,-1.437435952875453,0.11425385213665518,-1.311521797467715,-2.9587834307624434,1.0067860750661797],\"y\":[-0.8949939745562235,-0.10081740469638696,-0.5935067963171174,-0.39316865154173963,0.40530630884910174,0.4586602330973266,0.9834194539677105,1.0008170337160616,0.6030604319208548,-1.24108213598008,0.6689774898417429,-1.7462108536179457,-0.49760399092156954,-0.35549370576405054,-1.042569669464304,-0.0012514324728663954,-0.6000537686913945,-0.5448907056572506,1.5360712274734536,-0.6416666847641722,-0.23730111471320048,-1.9023180967798081,1.6179485129432796,0.14880660875385976,2.0441521792700987,0.3403729778944682,-0.508956726544393,1.1481932564207318,-0.3323660527558092,-0.19585493608830828,0.009222766308319844,1.3766369986117681,0.04719858580821799,-1.887111341025749,0.8190994981172213,-1.0882829136872194,1.713900352441491,1.6816712616821259,0.2640072561934476,0.04329219467970145,-1.2530505045188787,0.38814340584746565,-0.4434718283401896,0.12642724807207012,-2.4674451497537824,0.7687234852560618,0.36184772293800566,-0.1459995427596467,-2.374448822101066,-0.6903197788738283,-0.07681640573681076,1.5982843804729183,0.6574577228634556,-1.3313447710935715,-0.8526543736985225,-1.8452306890564831,-0.1514233262920145,-0.8633051326821842,-1.0017436343534927,-1.3299139838047351,0.5916940532051198,-0.8651375029310416,-0.32009101541491985,-0.3654722562092443,-1.433984143611732,0.046752121963915455,0.8182820699799663,2.13535371933534,0.2779020791211278,-0.22536633800848135,1.370298339387019,1.1804702035266532,-0.4798839956833346,0.1480843397175848,1.4503741015343206,0.2572218755942087,1.4656438725645362,1.1793718781619216,0.1405436064845857,-0.4499771793631353,0.2343228911286889,-0.5273323738992424,-0.5375462248038378,1.1351118569437255,0.20135904847445885,0.8642497522520891,-1.8006558173862532,-0.636753333865244,0.9364758180016151,-1.7859586833873624,0.5438744516541609,-0.3244573292684904,0.7979614454157512,0.3750242000269216,1.0765539082605646,-0.45588275285980817,-0.4020319590780695,0.2419633355288673,-0.995910690697996,0.5744258727357455],\"type\":\"scatter\"}],                        {\"legend\":{\"bgcolor\":\"#F5F6F9\",\"font\":{\"color\":\"#4D5663\"}},\"paper_bgcolor\":\"#F5F6F9\",\"plot_bgcolor\":\"#F5F6F9\",\"template\":{\"data\":{\"barpolar\":[{\"marker\":{\"line\":{\"color\":\"#E5ECF6\",\"width\":0.5},\"pattern\":{\"fillmode\":\"overlay\",\"size\":10,\"solidity\":0.2}},\"type\":\"barpolar\"}],\"bar\":[{\"error_x\":{\"color\":\"#2a3f5f\"},\"error_y\":{\"color\":\"#2a3f5f\"},\"marker\":{\"line\":{\"color\":\"#E5ECF6\",\"width\":0.5},\"pattern\":{\"fillmode\":\"overlay\",\"size\":10,\"solidity\":0.2}},\"type\":\"bar\"}],\"carpet\":[{\"aaxis\":{\"endlinecolor\":\"#2a3f5f\",\"gridcolor\":\"white\",\"linecolor\":\"white\",\"minorgridcolor\":\"white\",\"startlinecolor\":\"#2a3f5f\"},\"baxis\":{\"endlinecolor\":\"#2a3f5f\",\"gridcolor\":\"white\",\"linecolor\":\"white\",\"minorgridcolor\":\"white\",\"startlinecolor\":\"#2a3f5f\"},\"type\":\"carpet\"}],\"choropleth\":[{\"colorbar\":{\"outlinewidth\":0,\"ticks\":\"\"},\"type\":\"choropleth\"}],\"contourcarpet\":[{\"colorbar\":{\"outlinewidth\":0,\"ticks\":\"\"},\"type\":\"contourcarpet\"}],\"contour\":[{\"colorbar\":{\"outlinewidth\":0,\"ticks\":\"\"},\"colorscale\":[[0.0,\"#0d0887\"],[0.1111111111111111,\"#46039f\"],[0.2222222222222222,\"#7201a8\"],[0.3333333333333333,\"#9c179e\"],[0.4444444444444444,\"#bd3786\"],[0.5555555555555556,\"#d8576b\"],[0.6666666666666666,\"#ed7953\"],[0.7777777777777778,\"#fb9f3a\"],[0.8888888888888888,\"#fdca26\"],[1.0,\"#f0f921\"]],\"type\":\"contour\"}],\"heatmapgl\":[{\"colorbar\":{\"outlinewidth\":0,\"ticks\":\"\"},\"colorscale\":[[0.0,\"#0d0887\"],[0.1111111111111111,\"#46039f\"],[0.2222222222222222,\"#7201a8\"],[0.3333333333333333,\"#9c179e\"],[0.4444444444444444,\"#bd3786\"],[0.5555555555555556,\"#d8576b\"],[0.6666666666666666,\"#ed7953\"],[0.7777777777777778,\"#fb9f3a\"],[0.8888888888888888,\"#fdca26\"],[1.0,\"#f0f921\"]],\"type\":\"heatmapgl\"}],\"heatmap\":[{\"colorbar\":{\"outlinewidth\":0,\"ticks\":\"\"},\"colorscale\":[[0.0,\"#0d0887\"],[0.1111111111111111,\"#46039f\"],[0.2222222222222222,\"#7201a8\"],[0.3333333333333333,\"#9c179e\"],[0.4444444444444444,\"#bd3786\"],[0.5555555555555556,\"#d8576b\"],[0.6666666666666666,\"#ed7953\"],[0.7777777777777778,\"#fb9f3a\"],[0.8888888888888888,\"#fdca26\"],[1.0,\"#f0f921\"]],\"type\":\"heatmap\"}],\"histogram2dcontour\":[{\"colorbar\":{\"outlinewidth\":0,\"ticks\":\"\"},\"colorscale\":[[0.0,\"#0d0887\"],[0.1111111111111111,\"#46039f\"],[0.2222222222222222,\"#7201a8\"],[0.3333333333333333,\"#9c179e\"],[0.4444444444444444,\"#bd3786\"],[0.5555555555555556,\"#d8576b\"],[0.6666666666666666,\"#ed7953\"],[0.7777777777777778,\"#fb9f3a\"],[0.8888888888888888,\"#fdca26\"],[1.0,\"#f0f921\"]],\"type\":\"histogram2dcontour\"}],\"histogram2d\":[{\"colorbar\":{\"outlinewidth\":0,\"ticks\":\"\"},\"colorscale\":[[0.0,\"#0d0887\"],[0.1111111111111111,\"#46039f\"],[0.2222222222222222,\"#7201a8\"],[0.3333333333333333,\"#9c179e\"],[0.4444444444444444,\"#bd3786\"],[0.5555555555555556,\"#d8576b\"],[0.6666666666666666,\"#ed7953\"],[0.7777777777777778,\"#fb9f3a\"],[0.8888888888888888,\"#fdca26\"],[1.0,\"#f0f921\"]],\"type\":\"histogram2d\"}],\"histogram\":[{\"marker\":{\"pattern\":{\"fillmode\":\"overlay\",\"size\":10,\"solidity\":0.2}},\"type\":\"histogram\"}],\"mesh3d\":[{\"colorbar\":{\"outlinewidth\":0,\"ticks\":\"\"},\"type\":\"mesh3d\"}],\"parcoords\":[{\"line\":{\"colorbar\":{\"outlinewidth\":0,\"ticks\":\"\"}},\"type\":\"parcoords\"}],\"pie\":[{\"automargin\":true,\"type\":\"pie\"}],\"scatter3d\":[{\"line\":{\"colorbar\":{\"outlinewidth\":0,\"ticks\":\"\"}},\"marker\":{\"colorbar\":{\"outlinewidth\":0,\"ticks\":\"\"}},\"type\":\"scatter3d\"}],\"scattercarpet\":[{\"marker\":{\"colorbar\":{\"outlinewidth\":0,\"ticks\":\"\"}},\"type\":\"scattercarpet\"}],\"scattergeo\":[{\"marker\":{\"colorbar\":{\"outlinewidth\":0,\"ticks\":\"\"}},\"type\":\"scattergeo\"}],\"scattergl\":[{\"marker\":{\"colorbar\":{\"outlinewidth\":0,\"ticks\":\"\"}},\"type\":\"scattergl\"}],\"scattermapbox\":[{\"marker\":{\"colorbar\":{\"outlinewidth\":0,\"ticks\":\"\"}},\"type\":\"scattermapbox\"}],\"scatterpolargl\":[{\"marker\":{\"colorbar\":{\"outlinewidth\":0,\"ticks\":\"\"}},\"type\":\"scatterpolargl\"}],\"scatterpolar\":[{\"marker\":{\"colorbar\":{\"outlinewidth\":0,\"ticks\":\"\"}},\"type\":\"scatterpolar\"}],\"scatter\":[{\"marker\":{\"colorbar\":{\"outlinewidth\":0,\"ticks\":\"\"}},\"type\":\"scatter\"}],\"scatterternary\":[{\"marker\":{\"colorbar\":{\"outlinewidth\":0,\"ticks\":\"\"}},\"type\":\"scatterternary\"}],\"surface\":[{\"colorbar\":{\"outlinewidth\":0,\"ticks\":\"\"},\"colorscale\":[[0.0,\"#0d0887\"],[0.1111111111111111,\"#46039f\"],[0.2222222222222222,\"#7201a8\"],[0.3333333333333333,\"#9c179e\"],[0.4444444444444444,\"#bd3786\"],[0.5555555555555556,\"#d8576b\"],[0.6666666666666666,\"#ed7953\"],[0.7777777777777778,\"#fb9f3a\"],[0.8888888888888888,\"#fdca26\"],[1.0,\"#f0f921\"]],\"type\":\"surface\"}],\"table\":[{\"cells\":{\"fill\":{\"color\":\"#EBF0F8\"},\"line\":{\"color\":\"white\"}},\"header\":{\"fill\":{\"color\":\"#C8D4E3\"},\"line\":{\"color\":\"white\"}},\"type\":\"table\"}]},\"layout\":{\"annotationdefaults\":{\"arrowcolor\":\"#2a3f5f\",\"arrowhead\":0,\"arrowwidth\":1},\"autotypenumbers\":\"strict\",\"coloraxis\":{\"colorbar\":{\"outlinewidth\":0,\"ticks\":\"\"}},\"colorscale\":{\"diverging\":[[0,\"#8e0152\"],[0.1,\"#c51b7d\"],[0.2,\"#de77ae\"],[0.3,\"#f1b6da\"],[0.4,\"#fde0ef\"],[0.5,\"#f7f7f7\"],[0.6,\"#e6f5d0\"],[0.7,\"#b8e186\"],[0.8,\"#7fbc41\"],[0.9,\"#4d9221\"],[1,\"#276419\"]],\"sequential\":[[0.0,\"#0d0887\"],[0.1111111111111111,\"#46039f\"],[0.2222222222222222,\"#7201a8\"],[0.3333333333333333,\"#9c179e\"],[0.4444444444444444,\"#bd3786\"],[0.5555555555555556,\"#d8576b\"],[0.6666666666666666,\"#ed7953\"],[0.7777777777777778,\"#fb9f3a\"],[0.8888888888888888,\"#fdca26\"],[1.0,\"#f0f921\"]],\"sequentialminus\":[[0.0,\"#0d0887\"],[0.1111111111111111,\"#46039f\"],[0.2222222222222222,\"#7201a8\"],[0.3333333333333333,\"#9c179e\"],[0.4444444444444444,\"#bd3786\"],[0.5555555555555556,\"#d8576b\"],[0.6666666666666666,\"#ed7953\"],[0.7777777777777778,\"#fb9f3a\"],[0.8888888888888888,\"#fdca26\"],[1.0,\"#f0f921\"]]},\"colorway\":[\"#636efa\",\"#EF553B\",\"#00cc96\",\"#ab63fa\",\"#FFA15A\",\"#19d3f3\",\"#FF6692\",\"#B6E880\",\"#FF97FF\",\"#FECB52\"],\"font\":{\"color\":\"#2a3f5f\"},\"geo\":{\"bgcolor\":\"white\",\"lakecolor\":\"white\",\"landcolor\":\"#E5ECF6\",\"showlakes\":true,\"showland\":true,\"subunitcolor\":\"white\"},\"hoverlabel\":{\"align\":\"left\"},\"hovermode\":\"closest\",\"mapbox\":{\"style\":\"light\"},\"paper_bgcolor\":\"white\",\"plot_bgcolor\":\"#E5ECF6\",\"polar\":{\"angularaxis\":{\"gridcolor\":\"white\",\"linecolor\":\"white\",\"ticks\":\"\"},\"bgcolor\":\"#E5ECF6\",\"radialaxis\":{\"gridcolor\":\"white\",\"linecolor\":\"white\",\"ticks\":\"\"}},\"scene\":{\"xaxis\":{\"backgroundcolor\":\"#E5ECF6\",\"gridcolor\":\"white\",\"gridwidth\":2,\"linecolor\":\"white\",\"showbackground\":true,\"ticks\":\"\",\"zerolinecolor\":\"white\"},\"yaxis\":{\"backgroundcolor\":\"#E5ECF6\",\"gridcolor\":\"white\",\"gridwidth\":2,\"linecolor\":\"white\",\"showbackground\":true,\"ticks\":\"\",\"zerolinecolor\":\"white\"},\"zaxis\":{\"backgroundcolor\":\"#E5ECF6\",\"gridcolor\":\"white\",\"gridwidth\":2,\"linecolor\":\"white\",\"showbackground\":true,\"ticks\":\"\",\"zerolinecolor\":\"white\"}},\"shapedefaults\":{\"line\":{\"color\":\"#2a3f5f\"}},\"ternary\":{\"aaxis\":{\"gridcolor\":\"white\",\"linecolor\":\"white\",\"ticks\":\"\"},\"baxis\":{\"gridcolor\":\"white\",\"linecolor\":\"white\",\"ticks\":\"\"},\"bgcolor\":\"#E5ECF6\",\"caxis\":{\"gridcolor\":\"white\",\"linecolor\":\"white\",\"ticks\":\"\"}},\"title\":{\"x\":0.05},\"xaxis\":{\"automargin\":true,\"gridcolor\":\"white\",\"linecolor\":\"white\",\"ticks\":\"\",\"title\":{\"standoff\":15},\"zerolinecolor\":\"white\",\"zerolinewidth\":2},\"yaxis\":{\"automargin\":true,\"gridcolor\":\"white\",\"linecolor\":\"white\",\"ticks\":\"\",\"title\":{\"standoff\":15},\"zerolinecolor\":\"white\",\"zerolinewidth\":2}}},\"title\":{\"font\":{\"color\":\"#4D5663\"}},\"xaxis\":{\"gridcolor\":\"#E1E5ED\",\"showgrid\":true,\"tickfont\":{\"color\":\"#4D5663\"},\"title\":{\"font\":{\"color\":\"#4D5663\"},\"text\":\"\"},\"zerolinecolor\":\"#E1E5ED\"},\"yaxis\":{\"gridcolor\":\"#E1E5ED\",\"showgrid\":true,\"tickfont\":{\"color\":\"#4D5663\"},\"title\":{\"font\":{\"color\":\"#4D5663\"},\"text\":\"\"},\"zerolinecolor\":\"#E1E5ED\"}},                        {\"showLink\": true, \"linkText\": \"Export to plot.ly\", \"plotlyServerURL\": \"https://plot.ly\", \"responsive\": true}                    ).then(function(){\n",
       "                            \n",
       "var gd = document.getElementById('73e0afd5-37e1-4537-8caf-5be6ea7cb879');\n",
       "var x = new MutationObserver(function (mutations, observer) {{\n",
       "        var display = window.getComputedStyle(gd).display;\n",
       "        if (!display || display === 'none') {{\n",
       "            console.log([gd, 'removed!']);\n",
       "            Plotly.purge(gd);\n",
       "            observer.disconnect();\n",
       "        }}\n",
       "}});\n",
       "\n",
       "// Listen for the removal of the full notebook cells\n",
       "var notebookContainer = gd.closest('#notebook-container');\n",
       "if (notebookContainer) {{\n",
       "    x.observe(notebookContainer, {childList: true});\n",
       "}}\n",
       "\n",
       "// Listen for the clearing of the current output cell\n",
       "var outputEl = gd.closest('.output');\n",
       "if (outputEl) {{\n",
       "    x.observe(outputEl, {childList: true});\n",
       "}}\n",
       "\n",
       "                        })                };                });            </script>        </div>"
      ]
     },
     "metadata": {},
     "output_type": "display_data"
    }
   ],
   "source": [
    "df.iplot(kind='bubble',x='A',y='B',size='C')"
   ]
  },
  {
   "cell_type": "markdown",
   "metadata": {},
   "source": [
    "## scatter_matrix()\n",
    "\n",
    "Similar to sns.pairplot()"
   ]
  },
  {
   "cell_type": "code",
   "execution_count": 19,
   "metadata": {},
   "outputs": [
    {
     "data": {
      "application/vnd.plotly.v1+json": {
       "config": {
        "linkText": "Export to plot.ly",
        "plotlyServerURL": "https://plot.ly",
        "showLink": true
       },
       "data": [
        {
         "histfunc": "count",
         "histnorm": "",
         "marker": {
          "color": "rgba(255, 153, 51, 1.0)",
          "line": {
           "color": "#4D5663",
           "width": 1.3
          }
         },
         "name": "A",
         "nbinsx": 10,
         "opacity": 0.8,
         "orientation": "v",
         "type": "histogram",
         "x": [
          -1.940080026219166,
          1.247986255885124,
          0.005552480825121469,
          -1.0027143906099687,
          1.2817199630272835,
          0.6476225955696181,
          -0.47082217801973575,
          -0.7832385517451328,
          -0.03200880067877387,
          -1.7768059287110718,
          1.554472601034797,
          -0.5424463994084257,
          -0.6543854872054302,
          -0.11738188392573798,
          0.4472596966018866,
          0.9093536171517177,
          -1.2083688867665092,
          0.9646113134652564,
          -1.2816508421771076,
          0.21107539625334415,
          1.6477264512828698,
          -0.10189852530746328,
          0.40252833411893363,
          -0.09916223822923723,
          -0.4017650661321447,
          0.8487489560918642,
          0.43447876816581626,
          0.8597839810516802,
          -0.14736283054749616,
          -0.9783737935958959,
          2.2378199514306165,
          0.36734697202218997,
          1.451139684431283,
          -1.6859788511506248,
          0.8156220067880682,
          0.3636193503509781,
          0.33828766799380217,
          -0.6492731530581983,
          -2.8505206810637653,
          0.7693755173217187,
          0.1558705587486528,
          0.5465230891949352,
          0.15193705928030185,
          -1.826760068829946,
          -0.6431764080889432,
          -0.37872160024822626,
          0.21957155520063143,
          2.4220943729305358,
          0.5017857089929868,
          -1.1935585863968063,
          0.47459309666712834,
          0.7463595991333764,
          -1.0385638073567438,
          -2.3737232986666266,
          -1.0022689901390849,
          0.7571215212013698,
          0.9851483833519586,
          -0.6770938029644872,
          1.1955696275365801,
          -2.0258331094509665,
          -0.9855329381386819,
          0.9925207813085811,
          1.3443541412173972,
          0.13503474291828854,
          -0.4743272748816833,
          0.7481539445445763,
          -1.7348108003535843,
          -3.102177455400545,
          -1.867960929691828,
          -1.2183171880602917,
          0.39246813826290783,
          0.6284204223734368,
          1.8605513840343577,
          1.9154258112084859,
          -0.46697846254948916,
          1.5060756881486907,
          -1.1039222700653184,
          -0.7010077581019479,
          -1.8923727669450956,
          -0.7589049198697577,
          0.21997246180406196,
          -0.2527842438625434,
          -0.48854645727572715,
          1.146553248248512,
          2.6426699786080716,
          0.8951646903900001,
          -0.0710513488662732,
          -0.3578505923475407,
          -0.1634696762619168,
          0.06029513149636131,
          0.3497535135832744,
          0.2629004354778632,
          -1.6511333120143168,
          0.372438904621618,
          -0.18192482315461628,
          -1.437435952875453,
          0.11425385213665518,
          -1.311521797467715,
          -2.9587834307624434,
          1.0067860750661797
         ],
         "xaxis": "x",
         "yaxis": "y"
        },
        {
         "line": {
          "color": "rgba(128, 128, 128, 1.0)",
          "dash": "solid",
          "shape": "linear",
          "width": 1.3
         },
         "marker": {
          "size": 2,
          "symbol": "circle"
         },
         "mode": "markers",
         "name": "A",
         "text": "",
         "type": "scatter",
         "x": [
          -0.8949939745562235,
          -0.10081740469638696,
          -0.5935067963171174,
          -0.39316865154173963,
          0.40530630884910174,
          0.4586602330973266,
          0.9834194539677105,
          1.0008170337160616,
          0.6030604319208548,
          -1.24108213598008,
          0.6689774898417429,
          -1.7462108536179457,
          -0.49760399092156954,
          -0.35549370576405054,
          -1.042569669464304,
          -0.0012514324728663954,
          -0.6000537686913945,
          -0.5448907056572506,
          1.5360712274734536,
          -0.6416666847641722,
          -0.23730111471320048,
          -1.9023180967798081,
          1.6179485129432796,
          0.14880660875385976,
          2.0441521792700987,
          0.3403729778944682,
          -0.508956726544393,
          1.1481932564207318,
          -0.3323660527558092,
          -0.19585493608830828,
          0.009222766308319844,
          1.3766369986117681,
          0.04719858580821799,
          -1.887111341025749,
          0.8190994981172213,
          -1.0882829136872194,
          1.713900352441491,
          1.6816712616821259,
          0.2640072561934476,
          0.04329219467970145,
          -1.2530505045188787,
          0.38814340584746565,
          -0.4434718283401896,
          0.12642724807207012,
          -2.4674451497537824,
          0.7687234852560618,
          0.36184772293800566,
          -0.1459995427596467,
          -2.374448822101066,
          -0.6903197788738283,
          -0.07681640573681076,
          1.5982843804729183,
          0.6574577228634556,
          -1.3313447710935715,
          -0.8526543736985225,
          -1.8452306890564831,
          -0.1514233262920145,
          -0.8633051326821842,
          -1.0017436343534927,
          -1.3299139838047351,
          0.5916940532051198,
          -0.8651375029310416,
          -0.32009101541491985,
          -0.3654722562092443,
          -1.433984143611732,
          0.046752121963915455,
          0.8182820699799663,
          2.13535371933534,
          0.2779020791211278,
          -0.22536633800848135,
          1.370298339387019,
          1.1804702035266532,
          -0.4798839956833346,
          0.1480843397175848,
          1.4503741015343206,
          0.2572218755942087,
          1.4656438725645362,
          1.1793718781619216,
          0.1405436064845857,
          -0.4499771793631353,
          0.2343228911286889,
          -0.5273323738992424,
          -0.5375462248038378,
          1.1351118569437255,
          0.20135904847445885,
          0.8642497522520891,
          -1.8006558173862532,
          -0.636753333865244,
          0.9364758180016151,
          -1.7859586833873624,
          0.5438744516541609,
          -0.3244573292684904,
          0.7979614454157512,
          0.3750242000269216,
          1.0765539082605646,
          -0.45588275285980817,
          -0.4020319590780695,
          0.2419633355288673,
          -0.995910690697996,
          0.5744258727357455
         ],
         "xaxis": "x2",
         "y": [
          -1.940080026219166,
          1.247986255885124,
          0.005552480825121469,
          -1.0027143906099687,
          1.2817199630272835,
          0.6476225955696181,
          -0.47082217801973575,
          -0.7832385517451328,
          -0.03200880067877387,
          -1.7768059287110718,
          1.554472601034797,
          -0.5424463994084257,
          -0.6543854872054302,
          -0.11738188392573798,
          0.4472596966018866,
          0.9093536171517177,
          -1.2083688867665092,
          0.9646113134652564,
          -1.2816508421771076,
          0.21107539625334415,
          1.6477264512828698,
          -0.10189852530746328,
          0.40252833411893363,
          -0.09916223822923723,
          -0.4017650661321447,
          0.8487489560918642,
          0.43447876816581626,
          0.8597839810516802,
          -0.14736283054749616,
          -0.9783737935958959,
          2.2378199514306165,
          0.36734697202218997,
          1.451139684431283,
          -1.6859788511506248,
          0.8156220067880682,
          0.3636193503509781,
          0.33828766799380217,
          -0.6492731530581983,
          -2.8505206810637653,
          0.7693755173217187,
          0.1558705587486528,
          0.5465230891949352,
          0.15193705928030185,
          -1.826760068829946,
          -0.6431764080889432,
          -0.37872160024822626,
          0.21957155520063143,
          2.4220943729305358,
          0.5017857089929868,
          -1.1935585863968063,
          0.47459309666712834,
          0.7463595991333764,
          -1.0385638073567438,
          -2.3737232986666266,
          -1.0022689901390849,
          0.7571215212013698,
          0.9851483833519586,
          -0.6770938029644872,
          1.1955696275365801,
          -2.0258331094509665,
          -0.9855329381386819,
          0.9925207813085811,
          1.3443541412173972,
          0.13503474291828854,
          -0.4743272748816833,
          0.7481539445445763,
          -1.7348108003535843,
          -3.102177455400545,
          -1.867960929691828,
          -1.2183171880602917,
          0.39246813826290783,
          0.6284204223734368,
          1.8605513840343577,
          1.9154258112084859,
          -0.46697846254948916,
          1.5060756881486907,
          -1.1039222700653184,
          -0.7010077581019479,
          -1.8923727669450956,
          -0.7589049198697577,
          0.21997246180406196,
          -0.2527842438625434,
          -0.48854645727572715,
          1.146553248248512,
          2.6426699786080716,
          0.8951646903900001,
          -0.0710513488662732,
          -0.3578505923475407,
          -0.1634696762619168,
          0.06029513149636131,
          0.3497535135832744,
          0.2629004354778632,
          -1.6511333120143168,
          0.372438904621618,
          -0.18192482315461628,
          -1.437435952875453,
          0.11425385213665518,
          -1.311521797467715,
          -2.9587834307624434,
          1.0067860750661797
         ],
         "yaxis": "y2"
        },
        {
         "line": {
          "color": "rgba(128, 128, 128, 1.0)",
          "dash": "solid",
          "shape": "linear",
          "width": 1.3
         },
         "marker": {
          "size": 2,
          "symbol": "circle"
         },
         "mode": "markers",
         "name": "A",
         "text": "",
         "type": "scatter",
         "x": [
          0.4182748825410248,
          -0.9501648839641642,
          1.9572492963869799,
          0.02955010329243198,
          1.7296421491846883,
          0.019190387326078417,
          -0.9976894399031897,
          -1.3557111860103779,
          -0.057551971505804614,
          0.866248825096721,
          0.918759257743273,
          -0.9409146519698833,
          -0.7870035138089374,
          -0.13667913819374114,
          -0.44589621585578565,
          -0.0548799787543895,
          -0.17328399716216347,
          0.08331166976769992,
          -1.0155324218630306,
          0.8243711338194766,
          -0.30909049862203186,
          -0.9026384873852197,
          -2.6338509905617276,
          -0.24615009881190622,
          -1.3563798714177406,
          -0.010712471424971334,
          -0.1792855346262717,
          -2.491021744492973,
          -1.65600761568296,
          -1.7851067513855936,
          -1.5116702746648862,
          -0.7224618344457004,
          1.3787904516843026,
          0.5955808196940751,
          -0.6814393623786672,
          -0.3512702827848224,
          0.22198871542588858,
          0.9203772614553052,
          1.1207861374512897,
          -0.1878891345491742,
          -2.134967330743993,
          -0.5315599708883078,
          1.2901321215101482,
          -0.9746638486265601,
          1.3504362423756195,
          0.22187567961617846,
          -1.036243850622043,
          0.21020169423694068,
          -0.8600490685844518,
          -0.11893757071178306,
          -0.6237110985162192,
          0.10272455274750575,
          -0.5527197266705707,
          -0.5966054850239472,
          -0.714544195505012,
          0.7558384084504671,
          0.47860199401754233,
          1.8529902206169564,
          0.011306827874762424,
          0.13006406421944774,
          -0.08385761955036325,
          0.36191495752762737,
          0.4570758730669866,
          0.549217036955326,
          0.32135746380447205,
          0.7805965647429625,
          0.06816024629788889,
          1.4089943527350002,
          0.2943525478707354,
          0.8187033318948898,
          -0.2052606524140683,
          0.5745409471241781,
          0.029596029294744437,
          -0.03156603275253228,
          0.41925625031964386,
          1.0417031198787077,
          -0.389468804939762,
          -0.2697654240245767,
          0.545721367873779,
          0.15247647528021352,
          -1.0307077267249567,
          -1.8853313028569152,
          -0.6188114214827979,
          -0.08332410061138514,
          0.2224378371476041,
          -0.36281046946289164,
          1.5393713738816264,
          -0.8344201975476349,
          0.4154912510662551,
          0.2735513764904384,
          -1.0365306483308943,
          -1.257434719307078,
          0.4438216409092564,
          0.6619848321591348,
          -0.4137242939260107,
          -0.14998028742236483,
          -0.2524841203481316,
          -1.5890457316394624,
          -0.3791513678882985,
          0.3514057168396319
         ],
         "xaxis": "x3",
         "y": [
          -1.940080026219166,
          1.247986255885124,
          0.005552480825121469,
          -1.0027143906099687,
          1.2817199630272835,
          0.6476225955696181,
          -0.47082217801973575,
          -0.7832385517451328,
          -0.03200880067877387,
          -1.7768059287110718,
          1.554472601034797,
          -0.5424463994084257,
          -0.6543854872054302,
          -0.11738188392573798,
          0.4472596966018866,
          0.9093536171517177,
          -1.2083688867665092,
          0.9646113134652564,
          -1.2816508421771076,
          0.21107539625334415,
          1.6477264512828698,
          -0.10189852530746328,
          0.40252833411893363,
          -0.09916223822923723,
          -0.4017650661321447,
          0.8487489560918642,
          0.43447876816581626,
          0.8597839810516802,
          -0.14736283054749616,
          -0.9783737935958959,
          2.2378199514306165,
          0.36734697202218997,
          1.451139684431283,
          -1.6859788511506248,
          0.8156220067880682,
          0.3636193503509781,
          0.33828766799380217,
          -0.6492731530581983,
          -2.8505206810637653,
          0.7693755173217187,
          0.1558705587486528,
          0.5465230891949352,
          0.15193705928030185,
          -1.826760068829946,
          -0.6431764080889432,
          -0.37872160024822626,
          0.21957155520063143,
          2.4220943729305358,
          0.5017857089929868,
          -1.1935585863968063,
          0.47459309666712834,
          0.7463595991333764,
          -1.0385638073567438,
          -2.3737232986666266,
          -1.0022689901390849,
          0.7571215212013698,
          0.9851483833519586,
          -0.6770938029644872,
          1.1955696275365801,
          -2.0258331094509665,
          -0.9855329381386819,
          0.9925207813085811,
          1.3443541412173972,
          0.13503474291828854,
          -0.4743272748816833,
          0.7481539445445763,
          -1.7348108003535843,
          -3.102177455400545,
          -1.867960929691828,
          -1.2183171880602917,
          0.39246813826290783,
          0.6284204223734368,
          1.8605513840343577,
          1.9154258112084859,
          -0.46697846254948916,
          1.5060756881486907,
          -1.1039222700653184,
          -0.7010077581019479,
          -1.8923727669450956,
          -0.7589049198697577,
          0.21997246180406196,
          -0.2527842438625434,
          -0.48854645727572715,
          1.146553248248512,
          2.6426699786080716,
          0.8951646903900001,
          -0.0710513488662732,
          -0.3578505923475407,
          -0.1634696762619168,
          0.06029513149636131,
          0.3497535135832744,
          0.2629004354778632,
          -1.6511333120143168,
          0.372438904621618,
          -0.18192482315461628,
          -1.437435952875453,
          0.11425385213665518,
          -1.311521797467715,
          -2.9587834307624434,
          1.0067860750661797
         ],
         "yaxis": "y3"
        },
        {
         "line": {
          "color": "rgba(128, 128, 128, 1.0)",
          "dash": "solid",
          "shape": "linear",
          "width": 1.3
         },
         "marker": {
          "size": 2,
          "symbol": "circle"
         },
         "mode": "markers",
         "name": "A",
         "text": "",
         "type": "scatter",
         "x": [
          0.9490400916768807,
          -0.5817897273674895,
          1.3751326279569862,
          0.6983409367427372,
          1.3202939266626874,
          -2.1122924451091443,
          0.43902726032111544,
          -0.41677279219379426,
          -0.001816133378014878,
          1.1169424370449708,
          0.7754906006179377,
          1.2045513331336668,
          2.5317969888883103,
          -2.0530174580656864,
          0.6771250835065221,
          2.3634608936636825,
          0.01177822932377076,
          -0.3685144136815486,
          1.1584754022868753,
          -1.0898068446037572,
          -1.3806654281690436,
          0.07898018369346362,
          1.2195519553515568,
          0.3621671325880041,
          0.2602924454464911,
          -0.8371518675810171,
          -2.051460467191315,
          1.2077628267165934,
          1.7300926948414181,
          -0.12215229425226767,
          0.015600656527953567,
          -2.7007811510391475,
          -0.6651607858419503,
          -0.9836342221342753,
          -0.48346027810829734,
          0.211035411043917,
          -0.7339929942961595,
          0.18654566154080726,
          -0.388435331357508,
          1.0659294758381517,
          -0.8174062451187262,
          -1.863360326008581,
          0.02170533465925002,
          -0.01078944749883684,
          0.06016298106968525,
          -1.3506139632491216,
          -0.4340002286809841,
          1.719268516512833,
          0.21234429273735916,
          -0.6986616473315558,
          0.7966966290727863,
          -0.6618447496087041,
          0.2435755910255371,
          -0.4563326163093973,
          0.14321395221847974,
          0.2660391223089322,
          0.6249164006717058,
          0.4800420323908928,
          1.718494558968777,
          0.9124543159605855,
          -1.0259207825585983,
          -0.8452326336250587,
          0.7123478150137652,
          0.7981789784440202,
          2.8146011813223746,
          -0.2949647053977815,
          -0.1507559569732962,
          -0.20540659515318394,
          0.6410944678793699,
          -0.2960177894447896,
          -0.5560618932264372,
          0.17390350811927277,
          -0.8051387497038169,
          2.2097935555873036,
          1.1803528557857363,
          -0.5717490950308154,
          -0.4107921815038685,
          -1.5250626088074613,
          0.07835070436859118,
          -1.4038796564605016,
          0.4101091951312039,
          -0.19345652696729357,
          -0.42175060892577465,
          0.3662908497155731,
          1.0609931116080076,
          -0.896251862637867,
          2.595577593718916,
          1.882590163124815,
          -0.1759344698152429,
          0.08004727605282297,
          -0.8289387751360255,
          -1.6452383201128569,
          -1.613980389485375,
          1.0741266464861978,
          -1.62241797380832,
          -0.3113238496656898,
          0.22659518168244436,
          0.1814922402909765,
          -0.10209471636154765,
          0.6284901743018841
         ],
         "xaxis": "x4",
         "y": [
          -1.940080026219166,
          1.247986255885124,
          0.005552480825121469,
          -1.0027143906099687,
          1.2817199630272835,
          0.6476225955696181,
          -0.47082217801973575,
          -0.7832385517451328,
          -0.03200880067877387,
          -1.7768059287110718,
          1.554472601034797,
          -0.5424463994084257,
          -0.6543854872054302,
          -0.11738188392573798,
          0.4472596966018866,
          0.9093536171517177,
          -1.2083688867665092,
          0.9646113134652564,
          -1.2816508421771076,
          0.21107539625334415,
          1.6477264512828698,
          -0.10189852530746328,
          0.40252833411893363,
          -0.09916223822923723,
          -0.4017650661321447,
          0.8487489560918642,
          0.43447876816581626,
          0.8597839810516802,
          -0.14736283054749616,
          -0.9783737935958959,
          2.2378199514306165,
          0.36734697202218997,
          1.451139684431283,
          -1.6859788511506248,
          0.8156220067880682,
          0.3636193503509781,
          0.33828766799380217,
          -0.6492731530581983,
          -2.8505206810637653,
          0.7693755173217187,
          0.1558705587486528,
          0.5465230891949352,
          0.15193705928030185,
          -1.826760068829946,
          -0.6431764080889432,
          -0.37872160024822626,
          0.21957155520063143,
          2.4220943729305358,
          0.5017857089929868,
          -1.1935585863968063,
          0.47459309666712834,
          0.7463595991333764,
          -1.0385638073567438,
          -2.3737232986666266,
          -1.0022689901390849,
          0.7571215212013698,
          0.9851483833519586,
          -0.6770938029644872,
          1.1955696275365801,
          -2.0258331094509665,
          -0.9855329381386819,
          0.9925207813085811,
          1.3443541412173972,
          0.13503474291828854,
          -0.4743272748816833,
          0.7481539445445763,
          -1.7348108003535843,
          -3.102177455400545,
          -1.867960929691828,
          -1.2183171880602917,
          0.39246813826290783,
          0.6284204223734368,
          1.8605513840343577,
          1.9154258112084859,
          -0.46697846254948916,
          1.5060756881486907,
          -1.1039222700653184,
          -0.7010077581019479,
          -1.8923727669450956,
          -0.7589049198697577,
          0.21997246180406196,
          -0.2527842438625434,
          -0.48854645727572715,
          1.146553248248512,
          2.6426699786080716,
          0.8951646903900001,
          -0.0710513488662732,
          -0.3578505923475407,
          -0.1634696762619168,
          0.06029513149636131,
          0.3497535135832744,
          0.2629004354778632,
          -1.6511333120143168,
          0.372438904621618,
          -0.18192482315461628,
          -1.437435952875453,
          0.11425385213665518,
          -1.311521797467715,
          -2.9587834307624434,
          1.0067860750661797
         ],
         "yaxis": "y4"
        },
        {
         "line": {
          "color": "rgba(128, 128, 128, 1.0)",
          "dash": "solid",
          "shape": "linear",
          "width": 1.3
         },
         "marker": {
          "size": 2,
          "symbol": "circle"
         },
         "mode": "markers",
         "name": "B",
         "text": "",
         "type": "scatter",
         "x": [
          -1.940080026219166,
          1.247986255885124,
          0.005552480825121469,
          -1.0027143906099687,
          1.2817199630272835,
          0.6476225955696181,
          -0.47082217801973575,
          -0.7832385517451328,
          -0.03200880067877387,
          -1.7768059287110718,
          1.554472601034797,
          -0.5424463994084257,
          -0.6543854872054302,
          -0.11738188392573798,
          0.4472596966018866,
          0.9093536171517177,
          -1.2083688867665092,
          0.9646113134652564,
          -1.2816508421771076,
          0.21107539625334415,
          1.6477264512828698,
          -0.10189852530746328,
          0.40252833411893363,
          -0.09916223822923723,
          -0.4017650661321447,
          0.8487489560918642,
          0.43447876816581626,
          0.8597839810516802,
          -0.14736283054749616,
          -0.9783737935958959,
          2.2378199514306165,
          0.36734697202218997,
          1.451139684431283,
          -1.6859788511506248,
          0.8156220067880682,
          0.3636193503509781,
          0.33828766799380217,
          -0.6492731530581983,
          -2.8505206810637653,
          0.7693755173217187,
          0.1558705587486528,
          0.5465230891949352,
          0.15193705928030185,
          -1.826760068829946,
          -0.6431764080889432,
          -0.37872160024822626,
          0.21957155520063143,
          2.4220943729305358,
          0.5017857089929868,
          -1.1935585863968063,
          0.47459309666712834,
          0.7463595991333764,
          -1.0385638073567438,
          -2.3737232986666266,
          -1.0022689901390849,
          0.7571215212013698,
          0.9851483833519586,
          -0.6770938029644872,
          1.1955696275365801,
          -2.0258331094509665,
          -0.9855329381386819,
          0.9925207813085811,
          1.3443541412173972,
          0.13503474291828854,
          -0.4743272748816833,
          0.7481539445445763,
          -1.7348108003535843,
          -3.102177455400545,
          -1.867960929691828,
          -1.2183171880602917,
          0.39246813826290783,
          0.6284204223734368,
          1.8605513840343577,
          1.9154258112084859,
          -0.46697846254948916,
          1.5060756881486907,
          -1.1039222700653184,
          -0.7010077581019479,
          -1.8923727669450956,
          -0.7589049198697577,
          0.21997246180406196,
          -0.2527842438625434,
          -0.48854645727572715,
          1.146553248248512,
          2.6426699786080716,
          0.8951646903900001,
          -0.0710513488662732,
          -0.3578505923475407,
          -0.1634696762619168,
          0.06029513149636131,
          0.3497535135832744,
          0.2629004354778632,
          -1.6511333120143168,
          0.372438904621618,
          -0.18192482315461628,
          -1.437435952875453,
          0.11425385213665518,
          -1.311521797467715,
          -2.9587834307624434,
          1.0067860750661797
         ],
         "xaxis": "x5",
         "y": [
          -0.8949939745562235,
          -0.10081740469638696,
          -0.5935067963171174,
          -0.39316865154173963,
          0.40530630884910174,
          0.4586602330973266,
          0.9834194539677105,
          1.0008170337160616,
          0.6030604319208548,
          -1.24108213598008,
          0.6689774898417429,
          -1.7462108536179457,
          -0.49760399092156954,
          -0.35549370576405054,
          -1.042569669464304,
          -0.0012514324728663954,
          -0.6000537686913945,
          -0.5448907056572506,
          1.5360712274734536,
          -0.6416666847641722,
          -0.23730111471320048,
          -1.9023180967798081,
          1.6179485129432796,
          0.14880660875385976,
          2.0441521792700987,
          0.3403729778944682,
          -0.508956726544393,
          1.1481932564207318,
          -0.3323660527558092,
          -0.19585493608830828,
          0.009222766308319844,
          1.3766369986117681,
          0.04719858580821799,
          -1.887111341025749,
          0.8190994981172213,
          -1.0882829136872194,
          1.713900352441491,
          1.6816712616821259,
          0.2640072561934476,
          0.04329219467970145,
          -1.2530505045188787,
          0.38814340584746565,
          -0.4434718283401896,
          0.12642724807207012,
          -2.4674451497537824,
          0.7687234852560618,
          0.36184772293800566,
          -0.1459995427596467,
          -2.374448822101066,
          -0.6903197788738283,
          -0.07681640573681076,
          1.5982843804729183,
          0.6574577228634556,
          -1.3313447710935715,
          -0.8526543736985225,
          -1.8452306890564831,
          -0.1514233262920145,
          -0.8633051326821842,
          -1.0017436343534927,
          -1.3299139838047351,
          0.5916940532051198,
          -0.8651375029310416,
          -0.32009101541491985,
          -0.3654722562092443,
          -1.433984143611732,
          0.046752121963915455,
          0.8182820699799663,
          2.13535371933534,
          0.2779020791211278,
          -0.22536633800848135,
          1.370298339387019,
          1.1804702035266532,
          -0.4798839956833346,
          0.1480843397175848,
          1.4503741015343206,
          0.2572218755942087,
          1.4656438725645362,
          1.1793718781619216,
          0.1405436064845857,
          -0.4499771793631353,
          0.2343228911286889,
          -0.5273323738992424,
          -0.5375462248038378,
          1.1351118569437255,
          0.20135904847445885,
          0.8642497522520891,
          -1.8006558173862532,
          -0.636753333865244,
          0.9364758180016151,
          -1.7859586833873624,
          0.5438744516541609,
          -0.3244573292684904,
          0.7979614454157512,
          0.3750242000269216,
          1.0765539082605646,
          -0.45588275285980817,
          -0.4020319590780695,
          0.2419633355288673,
          -0.995910690697996,
          0.5744258727357455
         ],
         "yaxis": "y5"
        },
        {
         "histfunc": "count",
         "histnorm": "",
         "marker": {
          "color": "rgba(55, 128, 191, 1.0)",
          "line": {
           "color": "#4D5663",
           "width": 1.3
          }
         },
         "name": "B",
         "nbinsx": 10,
         "opacity": 0.8,
         "orientation": "v",
         "type": "histogram",
         "x": [
          -0.8949939745562235,
          -0.10081740469638696,
          -0.5935067963171174,
          -0.39316865154173963,
          0.40530630884910174,
          0.4586602330973266,
          0.9834194539677105,
          1.0008170337160616,
          0.6030604319208548,
          -1.24108213598008,
          0.6689774898417429,
          -1.7462108536179457,
          -0.49760399092156954,
          -0.35549370576405054,
          -1.042569669464304,
          -0.0012514324728663954,
          -0.6000537686913945,
          -0.5448907056572506,
          1.5360712274734536,
          -0.6416666847641722,
          -0.23730111471320048,
          -1.9023180967798081,
          1.6179485129432796,
          0.14880660875385976,
          2.0441521792700987,
          0.3403729778944682,
          -0.508956726544393,
          1.1481932564207318,
          -0.3323660527558092,
          -0.19585493608830828,
          0.009222766308319844,
          1.3766369986117681,
          0.04719858580821799,
          -1.887111341025749,
          0.8190994981172213,
          -1.0882829136872194,
          1.713900352441491,
          1.6816712616821259,
          0.2640072561934476,
          0.04329219467970145,
          -1.2530505045188787,
          0.38814340584746565,
          -0.4434718283401896,
          0.12642724807207012,
          -2.4674451497537824,
          0.7687234852560618,
          0.36184772293800566,
          -0.1459995427596467,
          -2.374448822101066,
          -0.6903197788738283,
          -0.07681640573681076,
          1.5982843804729183,
          0.6574577228634556,
          -1.3313447710935715,
          -0.8526543736985225,
          -1.8452306890564831,
          -0.1514233262920145,
          -0.8633051326821842,
          -1.0017436343534927,
          -1.3299139838047351,
          0.5916940532051198,
          -0.8651375029310416,
          -0.32009101541491985,
          -0.3654722562092443,
          -1.433984143611732,
          0.046752121963915455,
          0.8182820699799663,
          2.13535371933534,
          0.2779020791211278,
          -0.22536633800848135,
          1.370298339387019,
          1.1804702035266532,
          -0.4798839956833346,
          0.1480843397175848,
          1.4503741015343206,
          0.2572218755942087,
          1.4656438725645362,
          1.1793718781619216,
          0.1405436064845857,
          -0.4499771793631353,
          0.2343228911286889,
          -0.5273323738992424,
          -0.5375462248038378,
          1.1351118569437255,
          0.20135904847445885,
          0.8642497522520891,
          -1.8006558173862532,
          -0.636753333865244,
          0.9364758180016151,
          -1.7859586833873624,
          0.5438744516541609,
          -0.3244573292684904,
          0.7979614454157512,
          0.3750242000269216,
          1.0765539082605646,
          -0.45588275285980817,
          -0.4020319590780695,
          0.2419633355288673,
          -0.995910690697996,
          0.5744258727357455
         ],
         "xaxis": "x6",
         "yaxis": "y6"
        },
        {
         "line": {
          "color": "rgba(128, 128, 128, 1.0)",
          "dash": "solid",
          "shape": "linear",
          "width": 1.3
         },
         "marker": {
          "size": 2,
          "symbol": "circle"
         },
         "mode": "markers",
         "name": "B",
         "text": "",
         "type": "scatter",
         "x": [
          0.4182748825410248,
          -0.9501648839641642,
          1.9572492963869799,
          0.02955010329243198,
          1.7296421491846883,
          0.019190387326078417,
          -0.9976894399031897,
          -1.3557111860103779,
          -0.057551971505804614,
          0.866248825096721,
          0.918759257743273,
          -0.9409146519698833,
          -0.7870035138089374,
          -0.13667913819374114,
          -0.44589621585578565,
          -0.0548799787543895,
          -0.17328399716216347,
          0.08331166976769992,
          -1.0155324218630306,
          0.8243711338194766,
          -0.30909049862203186,
          -0.9026384873852197,
          -2.6338509905617276,
          -0.24615009881190622,
          -1.3563798714177406,
          -0.010712471424971334,
          -0.1792855346262717,
          -2.491021744492973,
          -1.65600761568296,
          -1.7851067513855936,
          -1.5116702746648862,
          -0.7224618344457004,
          1.3787904516843026,
          0.5955808196940751,
          -0.6814393623786672,
          -0.3512702827848224,
          0.22198871542588858,
          0.9203772614553052,
          1.1207861374512897,
          -0.1878891345491742,
          -2.134967330743993,
          -0.5315599708883078,
          1.2901321215101482,
          -0.9746638486265601,
          1.3504362423756195,
          0.22187567961617846,
          -1.036243850622043,
          0.21020169423694068,
          -0.8600490685844518,
          -0.11893757071178306,
          -0.6237110985162192,
          0.10272455274750575,
          -0.5527197266705707,
          -0.5966054850239472,
          -0.714544195505012,
          0.7558384084504671,
          0.47860199401754233,
          1.8529902206169564,
          0.011306827874762424,
          0.13006406421944774,
          -0.08385761955036325,
          0.36191495752762737,
          0.4570758730669866,
          0.549217036955326,
          0.32135746380447205,
          0.7805965647429625,
          0.06816024629788889,
          1.4089943527350002,
          0.2943525478707354,
          0.8187033318948898,
          -0.2052606524140683,
          0.5745409471241781,
          0.029596029294744437,
          -0.03156603275253228,
          0.41925625031964386,
          1.0417031198787077,
          -0.389468804939762,
          -0.2697654240245767,
          0.545721367873779,
          0.15247647528021352,
          -1.0307077267249567,
          -1.8853313028569152,
          -0.6188114214827979,
          -0.08332410061138514,
          0.2224378371476041,
          -0.36281046946289164,
          1.5393713738816264,
          -0.8344201975476349,
          0.4154912510662551,
          0.2735513764904384,
          -1.0365306483308943,
          -1.257434719307078,
          0.4438216409092564,
          0.6619848321591348,
          -0.4137242939260107,
          -0.14998028742236483,
          -0.2524841203481316,
          -1.5890457316394624,
          -0.3791513678882985,
          0.3514057168396319
         ],
         "xaxis": "x7",
         "y": [
          -0.8949939745562235,
          -0.10081740469638696,
          -0.5935067963171174,
          -0.39316865154173963,
          0.40530630884910174,
          0.4586602330973266,
          0.9834194539677105,
          1.0008170337160616,
          0.6030604319208548,
          -1.24108213598008,
          0.6689774898417429,
          -1.7462108536179457,
          -0.49760399092156954,
          -0.35549370576405054,
          -1.042569669464304,
          -0.0012514324728663954,
          -0.6000537686913945,
          -0.5448907056572506,
          1.5360712274734536,
          -0.6416666847641722,
          -0.23730111471320048,
          -1.9023180967798081,
          1.6179485129432796,
          0.14880660875385976,
          2.0441521792700987,
          0.3403729778944682,
          -0.508956726544393,
          1.1481932564207318,
          -0.3323660527558092,
          -0.19585493608830828,
          0.009222766308319844,
          1.3766369986117681,
          0.04719858580821799,
          -1.887111341025749,
          0.8190994981172213,
          -1.0882829136872194,
          1.713900352441491,
          1.6816712616821259,
          0.2640072561934476,
          0.04329219467970145,
          -1.2530505045188787,
          0.38814340584746565,
          -0.4434718283401896,
          0.12642724807207012,
          -2.4674451497537824,
          0.7687234852560618,
          0.36184772293800566,
          -0.1459995427596467,
          -2.374448822101066,
          -0.6903197788738283,
          -0.07681640573681076,
          1.5982843804729183,
          0.6574577228634556,
          -1.3313447710935715,
          -0.8526543736985225,
          -1.8452306890564831,
          -0.1514233262920145,
          -0.8633051326821842,
          -1.0017436343534927,
          -1.3299139838047351,
          0.5916940532051198,
          -0.8651375029310416,
          -0.32009101541491985,
          -0.3654722562092443,
          -1.433984143611732,
          0.046752121963915455,
          0.8182820699799663,
          2.13535371933534,
          0.2779020791211278,
          -0.22536633800848135,
          1.370298339387019,
          1.1804702035266532,
          -0.4798839956833346,
          0.1480843397175848,
          1.4503741015343206,
          0.2572218755942087,
          1.4656438725645362,
          1.1793718781619216,
          0.1405436064845857,
          -0.4499771793631353,
          0.2343228911286889,
          -0.5273323738992424,
          -0.5375462248038378,
          1.1351118569437255,
          0.20135904847445885,
          0.8642497522520891,
          -1.8006558173862532,
          -0.636753333865244,
          0.9364758180016151,
          -1.7859586833873624,
          0.5438744516541609,
          -0.3244573292684904,
          0.7979614454157512,
          0.3750242000269216,
          1.0765539082605646,
          -0.45588275285980817,
          -0.4020319590780695,
          0.2419633355288673,
          -0.995910690697996,
          0.5744258727357455
         ],
         "yaxis": "y7"
        },
        {
         "line": {
          "color": "rgba(128, 128, 128, 1.0)",
          "dash": "solid",
          "shape": "linear",
          "width": 1.3
         },
         "marker": {
          "size": 2,
          "symbol": "circle"
         },
         "mode": "markers",
         "name": "B",
         "text": "",
         "type": "scatter",
         "x": [
          0.9490400916768807,
          -0.5817897273674895,
          1.3751326279569862,
          0.6983409367427372,
          1.3202939266626874,
          -2.1122924451091443,
          0.43902726032111544,
          -0.41677279219379426,
          -0.001816133378014878,
          1.1169424370449708,
          0.7754906006179377,
          1.2045513331336668,
          2.5317969888883103,
          -2.0530174580656864,
          0.6771250835065221,
          2.3634608936636825,
          0.01177822932377076,
          -0.3685144136815486,
          1.1584754022868753,
          -1.0898068446037572,
          -1.3806654281690436,
          0.07898018369346362,
          1.2195519553515568,
          0.3621671325880041,
          0.2602924454464911,
          -0.8371518675810171,
          -2.051460467191315,
          1.2077628267165934,
          1.7300926948414181,
          -0.12215229425226767,
          0.015600656527953567,
          -2.7007811510391475,
          -0.6651607858419503,
          -0.9836342221342753,
          -0.48346027810829734,
          0.211035411043917,
          -0.7339929942961595,
          0.18654566154080726,
          -0.388435331357508,
          1.0659294758381517,
          -0.8174062451187262,
          -1.863360326008581,
          0.02170533465925002,
          -0.01078944749883684,
          0.06016298106968525,
          -1.3506139632491216,
          -0.4340002286809841,
          1.719268516512833,
          0.21234429273735916,
          -0.6986616473315558,
          0.7966966290727863,
          -0.6618447496087041,
          0.2435755910255371,
          -0.4563326163093973,
          0.14321395221847974,
          0.2660391223089322,
          0.6249164006717058,
          0.4800420323908928,
          1.718494558968777,
          0.9124543159605855,
          -1.0259207825585983,
          -0.8452326336250587,
          0.7123478150137652,
          0.7981789784440202,
          2.8146011813223746,
          -0.2949647053977815,
          -0.1507559569732962,
          -0.20540659515318394,
          0.6410944678793699,
          -0.2960177894447896,
          -0.5560618932264372,
          0.17390350811927277,
          -0.8051387497038169,
          2.2097935555873036,
          1.1803528557857363,
          -0.5717490950308154,
          -0.4107921815038685,
          -1.5250626088074613,
          0.07835070436859118,
          -1.4038796564605016,
          0.4101091951312039,
          -0.19345652696729357,
          -0.42175060892577465,
          0.3662908497155731,
          1.0609931116080076,
          -0.896251862637867,
          2.595577593718916,
          1.882590163124815,
          -0.1759344698152429,
          0.08004727605282297,
          -0.8289387751360255,
          -1.6452383201128569,
          -1.613980389485375,
          1.0741266464861978,
          -1.62241797380832,
          -0.3113238496656898,
          0.22659518168244436,
          0.1814922402909765,
          -0.10209471636154765,
          0.6284901743018841
         ],
         "xaxis": "x8",
         "y": [
          -0.8949939745562235,
          -0.10081740469638696,
          -0.5935067963171174,
          -0.39316865154173963,
          0.40530630884910174,
          0.4586602330973266,
          0.9834194539677105,
          1.0008170337160616,
          0.6030604319208548,
          -1.24108213598008,
          0.6689774898417429,
          -1.7462108536179457,
          -0.49760399092156954,
          -0.35549370576405054,
          -1.042569669464304,
          -0.0012514324728663954,
          -0.6000537686913945,
          -0.5448907056572506,
          1.5360712274734536,
          -0.6416666847641722,
          -0.23730111471320048,
          -1.9023180967798081,
          1.6179485129432796,
          0.14880660875385976,
          2.0441521792700987,
          0.3403729778944682,
          -0.508956726544393,
          1.1481932564207318,
          -0.3323660527558092,
          -0.19585493608830828,
          0.009222766308319844,
          1.3766369986117681,
          0.04719858580821799,
          -1.887111341025749,
          0.8190994981172213,
          -1.0882829136872194,
          1.713900352441491,
          1.6816712616821259,
          0.2640072561934476,
          0.04329219467970145,
          -1.2530505045188787,
          0.38814340584746565,
          -0.4434718283401896,
          0.12642724807207012,
          -2.4674451497537824,
          0.7687234852560618,
          0.36184772293800566,
          -0.1459995427596467,
          -2.374448822101066,
          -0.6903197788738283,
          -0.07681640573681076,
          1.5982843804729183,
          0.6574577228634556,
          -1.3313447710935715,
          -0.8526543736985225,
          -1.8452306890564831,
          -0.1514233262920145,
          -0.8633051326821842,
          -1.0017436343534927,
          -1.3299139838047351,
          0.5916940532051198,
          -0.8651375029310416,
          -0.32009101541491985,
          -0.3654722562092443,
          -1.433984143611732,
          0.046752121963915455,
          0.8182820699799663,
          2.13535371933534,
          0.2779020791211278,
          -0.22536633800848135,
          1.370298339387019,
          1.1804702035266532,
          -0.4798839956833346,
          0.1480843397175848,
          1.4503741015343206,
          0.2572218755942087,
          1.4656438725645362,
          1.1793718781619216,
          0.1405436064845857,
          -0.4499771793631353,
          0.2343228911286889,
          -0.5273323738992424,
          -0.5375462248038378,
          1.1351118569437255,
          0.20135904847445885,
          0.8642497522520891,
          -1.8006558173862532,
          -0.636753333865244,
          0.9364758180016151,
          -1.7859586833873624,
          0.5438744516541609,
          -0.3244573292684904,
          0.7979614454157512,
          0.3750242000269216,
          1.0765539082605646,
          -0.45588275285980817,
          -0.4020319590780695,
          0.2419633355288673,
          -0.995910690697996,
          0.5744258727357455
         ],
         "yaxis": "y8"
        },
        {
         "line": {
          "color": "rgba(128, 128, 128, 1.0)",
          "dash": "solid",
          "shape": "linear",
          "width": 1.3
         },
         "marker": {
          "size": 2,
          "symbol": "circle"
         },
         "mode": "markers",
         "name": "C",
         "text": "",
         "type": "scatter",
         "x": [
          -1.940080026219166,
          1.247986255885124,
          0.005552480825121469,
          -1.0027143906099687,
          1.2817199630272835,
          0.6476225955696181,
          -0.47082217801973575,
          -0.7832385517451328,
          -0.03200880067877387,
          -1.7768059287110718,
          1.554472601034797,
          -0.5424463994084257,
          -0.6543854872054302,
          -0.11738188392573798,
          0.4472596966018866,
          0.9093536171517177,
          -1.2083688867665092,
          0.9646113134652564,
          -1.2816508421771076,
          0.21107539625334415,
          1.6477264512828698,
          -0.10189852530746328,
          0.40252833411893363,
          -0.09916223822923723,
          -0.4017650661321447,
          0.8487489560918642,
          0.43447876816581626,
          0.8597839810516802,
          -0.14736283054749616,
          -0.9783737935958959,
          2.2378199514306165,
          0.36734697202218997,
          1.451139684431283,
          -1.6859788511506248,
          0.8156220067880682,
          0.3636193503509781,
          0.33828766799380217,
          -0.6492731530581983,
          -2.8505206810637653,
          0.7693755173217187,
          0.1558705587486528,
          0.5465230891949352,
          0.15193705928030185,
          -1.826760068829946,
          -0.6431764080889432,
          -0.37872160024822626,
          0.21957155520063143,
          2.4220943729305358,
          0.5017857089929868,
          -1.1935585863968063,
          0.47459309666712834,
          0.7463595991333764,
          -1.0385638073567438,
          -2.3737232986666266,
          -1.0022689901390849,
          0.7571215212013698,
          0.9851483833519586,
          -0.6770938029644872,
          1.1955696275365801,
          -2.0258331094509665,
          -0.9855329381386819,
          0.9925207813085811,
          1.3443541412173972,
          0.13503474291828854,
          -0.4743272748816833,
          0.7481539445445763,
          -1.7348108003535843,
          -3.102177455400545,
          -1.867960929691828,
          -1.2183171880602917,
          0.39246813826290783,
          0.6284204223734368,
          1.8605513840343577,
          1.9154258112084859,
          -0.46697846254948916,
          1.5060756881486907,
          -1.1039222700653184,
          -0.7010077581019479,
          -1.8923727669450956,
          -0.7589049198697577,
          0.21997246180406196,
          -0.2527842438625434,
          -0.48854645727572715,
          1.146553248248512,
          2.6426699786080716,
          0.8951646903900001,
          -0.0710513488662732,
          -0.3578505923475407,
          -0.1634696762619168,
          0.06029513149636131,
          0.3497535135832744,
          0.2629004354778632,
          -1.6511333120143168,
          0.372438904621618,
          -0.18192482315461628,
          -1.437435952875453,
          0.11425385213665518,
          -1.311521797467715,
          -2.9587834307624434,
          1.0067860750661797
         ],
         "xaxis": "x9",
         "y": [
          0.4182748825410248,
          -0.9501648839641642,
          1.9572492963869799,
          0.02955010329243198,
          1.7296421491846883,
          0.019190387326078417,
          -0.9976894399031897,
          -1.3557111860103779,
          -0.057551971505804614,
          0.866248825096721,
          0.918759257743273,
          -0.9409146519698833,
          -0.7870035138089374,
          -0.13667913819374114,
          -0.44589621585578565,
          -0.0548799787543895,
          -0.17328399716216347,
          0.08331166976769992,
          -1.0155324218630306,
          0.8243711338194766,
          -0.30909049862203186,
          -0.9026384873852197,
          -2.6338509905617276,
          -0.24615009881190622,
          -1.3563798714177406,
          -0.010712471424971334,
          -0.1792855346262717,
          -2.491021744492973,
          -1.65600761568296,
          -1.7851067513855936,
          -1.5116702746648862,
          -0.7224618344457004,
          1.3787904516843026,
          0.5955808196940751,
          -0.6814393623786672,
          -0.3512702827848224,
          0.22198871542588858,
          0.9203772614553052,
          1.1207861374512897,
          -0.1878891345491742,
          -2.134967330743993,
          -0.5315599708883078,
          1.2901321215101482,
          -0.9746638486265601,
          1.3504362423756195,
          0.22187567961617846,
          -1.036243850622043,
          0.21020169423694068,
          -0.8600490685844518,
          -0.11893757071178306,
          -0.6237110985162192,
          0.10272455274750575,
          -0.5527197266705707,
          -0.5966054850239472,
          -0.714544195505012,
          0.7558384084504671,
          0.47860199401754233,
          1.8529902206169564,
          0.011306827874762424,
          0.13006406421944774,
          -0.08385761955036325,
          0.36191495752762737,
          0.4570758730669866,
          0.549217036955326,
          0.32135746380447205,
          0.7805965647429625,
          0.06816024629788889,
          1.4089943527350002,
          0.2943525478707354,
          0.8187033318948898,
          -0.2052606524140683,
          0.5745409471241781,
          0.029596029294744437,
          -0.03156603275253228,
          0.41925625031964386,
          1.0417031198787077,
          -0.389468804939762,
          -0.2697654240245767,
          0.545721367873779,
          0.15247647528021352,
          -1.0307077267249567,
          -1.8853313028569152,
          -0.6188114214827979,
          -0.08332410061138514,
          0.2224378371476041,
          -0.36281046946289164,
          1.5393713738816264,
          -0.8344201975476349,
          0.4154912510662551,
          0.2735513764904384,
          -1.0365306483308943,
          -1.257434719307078,
          0.4438216409092564,
          0.6619848321591348,
          -0.4137242939260107,
          -0.14998028742236483,
          -0.2524841203481316,
          -1.5890457316394624,
          -0.3791513678882985,
          0.3514057168396319
         ],
         "yaxis": "y9"
        },
        {
         "line": {
          "color": "rgba(128, 128, 128, 1.0)",
          "dash": "solid",
          "shape": "linear",
          "width": 1.3
         },
         "marker": {
          "size": 2,
          "symbol": "circle"
         },
         "mode": "markers",
         "name": "C",
         "text": "",
         "type": "scatter",
         "x": [
          -0.8949939745562235,
          -0.10081740469638696,
          -0.5935067963171174,
          -0.39316865154173963,
          0.40530630884910174,
          0.4586602330973266,
          0.9834194539677105,
          1.0008170337160616,
          0.6030604319208548,
          -1.24108213598008,
          0.6689774898417429,
          -1.7462108536179457,
          -0.49760399092156954,
          -0.35549370576405054,
          -1.042569669464304,
          -0.0012514324728663954,
          -0.6000537686913945,
          -0.5448907056572506,
          1.5360712274734536,
          -0.6416666847641722,
          -0.23730111471320048,
          -1.9023180967798081,
          1.6179485129432796,
          0.14880660875385976,
          2.0441521792700987,
          0.3403729778944682,
          -0.508956726544393,
          1.1481932564207318,
          -0.3323660527558092,
          -0.19585493608830828,
          0.009222766308319844,
          1.3766369986117681,
          0.04719858580821799,
          -1.887111341025749,
          0.8190994981172213,
          -1.0882829136872194,
          1.713900352441491,
          1.6816712616821259,
          0.2640072561934476,
          0.04329219467970145,
          -1.2530505045188787,
          0.38814340584746565,
          -0.4434718283401896,
          0.12642724807207012,
          -2.4674451497537824,
          0.7687234852560618,
          0.36184772293800566,
          -0.1459995427596467,
          -2.374448822101066,
          -0.6903197788738283,
          -0.07681640573681076,
          1.5982843804729183,
          0.6574577228634556,
          -1.3313447710935715,
          -0.8526543736985225,
          -1.8452306890564831,
          -0.1514233262920145,
          -0.8633051326821842,
          -1.0017436343534927,
          -1.3299139838047351,
          0.5916940532051198,
          -0.8651375029310416,
          -0.32009101541491985,
          -0.3654722562092443,
          -1.433984143611732,
          0.046752121963915455,
          0.8182820699799663,
          2.13535371933534,
          0.2779020791211278,
          -0.22536633800848135,
          1.370298339387019,
          1.1804702035266532,
          -0.4798839956833346,
          0.1480843397175848,
          1.4503741015343206,
          0.2572218755942087,
          1.4656438725645362,
          1.1793718781619216,
          0.1405436064845857,
          -0.4499771793631353,
          0.2343228911286889,
          -0.5273323738992424,
          -0.5375462248038378,
          1.1351118569437255,
          0.20135904847445885,
          0.8642497522520891,
          -1.8006558173862532,
          -0.636753333865244,
          0.9364758180016151,
          -1.7859586833873624,
          0.5438744516541609,
          -0.3244573292684904,
          0.7979614454157512,
          0.3750242000269216,
          1.0765539082605646,
          -0.45588275285980817,
          -0.4020319590780695,
          0.2419633355288673,
          -0.995910690697996,
          0.5744258727357455
         ],
         "xaxis": "x10",
         "y": [
          0.4182748825410248,
          -0.9501648839641642,
          1.9572492963869799,
          0.02955010329243198,
          1.7296421491846883,
          0.019190387326078417,
          -0.9976894399031897,
          -1.3557111860103779,
          -0.057551971505804614,
          0.866248825096721,
          0.918759257743273,
          -0.9409146519698833,
          -0.7870035138089374,
          -0.13667913819374114,
          -0.44589621585578565,
          -0.0548799787543895,
          -0.17328399716216347,
          0.08331166976769992,
          -1.0155324218630306,
          0.8243711338194766,
          -0.30909049862203186,
          -0.9026384873852197,
          -2.6338509905617276,
          -0.24615009881190622,
          -1.3563798714177406,
          -0.010712471424971334,
          -0.1792855346262717,
          -2.491021744492973,
          -1.65600761568296,
          -1.7851067513855936,
          -1.5116702746648862,
          -0.7224618344457004,
          1.3787904516843026,
          0.5955808196940751,
          -0.6814393623786672,
          -0.3512702827848224,
          0.22198871542588858,
          0.9203772614553052,
          1.1207861374512897,
          -0.1878891345491742,
          -2.134967330743993,
          -0.5315599708883078,
          1.2901321215101482,
          -0.9746638486265601,
          1.3504362423756195,
          0.22187567961617846,
          -1.036243850622043,
          0.21020169423694068,
          -0.8600490685844518,
          -0.11893757071178306,
          -0.6237110985162192,
          0.10272455274750575,
          -0.5527197266705707,
          -0.5966054850239472,
          -0.714544195505012,
          0.7558384084504671,
          0.47860199401754233,
          1.8529902206169564,
          0.011306827874762424,
          0.13006406421944774,
          -0.08385761955036325,
          0.36191495752762737,
          0.4570758730669866,
          0.549217036955326,
          0.32135746380447205,
          0.7805965647429625,
          0.06816024629788889,
          1.4089943527350002,
          0.2943525478707354,
          0.8187033318948898,
          -0.2052606524140683,
          0.5745409471241781,
          0.029596029294744437,
          -0.03156603275253228,
          0.41925625031964386,
          1.0417031198787077,
          -0.389468804939762,
          -0.2697654240245767,
          0.545721367873779,
          0.15247647528021352,
          -1.0307077267249567,
          -1.8853313028569152,
          -0.6188114214827979,
          -0.08332410061138514,
          0.2224378371476041,
          -0.36281046946289164,
          1.5393713738816264,
          -0.8344201975476349,
          0.4154912510662551,
          0.2735513764904384,
          -1.0365306483308943,
          -1.257434719307078,
          0.4438216409092564,
          0.6619848321591348,
          -0.4137242939260107,
          -0.14998028742236483,
          -0.2524841203481316,
          -1.5890457316394624,
          -0.3791513678882985,
          0.3514057168396319
         ],
         "yaxis": "y10"
        },
        {
         "histfunc": "count",
         "histnorm": "",
         "marker": {
          "color": "rgba(50, 171, 96, 1.0)",
          "line": {
           "color": "#4D5663",
           "width": 1.3
          }
         },
         "name": "C",
         "nbinsx": 10,
         "opacity": 0.8,
         "orientation": "v",
         "type": "histogram",
         "x": [
          0.4182748825410248,
          -0.9501648839641642,
          1.9572492963869799,
          0.02955010329243198,
          1.7296421491846883,
          0.019190387326078417,
          -0.9976894399031897,
          -1.3557111860103779,
          -0.057551971505804614,
          0.866248825096721,
          0.918759257743273,
          -0.9409146519698833,
          -0.7870035138089374,
          -0.13667913819374114,
          -0.44589621585578565,
          -0.0548799787543895,
          -0.17328399716216347,
          0.08331166976769992,
          -1.0155324218630306,
          0.8243711338194766,
          -0.30909049862203186,
          -0.9026384873852197,
          -2.6338509905617276,
          -0.24615009881190622,
          -1.3563798714177406,
          -0.010712471424971334,
          -0.1792855346262717,
          -2.491021744492973,
          -1.65600761568296,
          -1.7851067513855936,
          -1.5116702746648862,
          -0.7224618344457004,
          1.3787904516843026,
          0.5955808196940751,
          -0.6814393623786672,
          -0.3512702827848224,
          0.22198871542588858,
          0.9203772614553052,
          1.1207861374512897,
          -0.1878891345491742,
          -2.134967330743993,
          -0.5315599708883078,
          1.2901321215101482,
          -0.9746638486265601,
          1.3504362423756195,
          0.22187567961617846,
          -1.036243850622043,
          0.21020169423694068,
          -0.8600490685844518,
          -0.11893757071178306,
          -0.6237110985162192,
          0.10272455274750575,
          -0.5527197266705707,
          -0.5966054850239472,
          -0.714544195505012,
          0.7558384084504671,
          0.47860199401754233,
          1.8529902206169564,
          0.011306827874762424,
          0.13006406421944774,
          -0.08385761955036325,
          0.36191495752762737,
          0.4570758730669866,
          0.549217036955326,
          0.32135746380447205,
          0.7805965647429625,
          0.06816024629788889,
          1.4089943527350002,
          0.2943525478707354,
          0.8187033318948898,
          -0.2052606524140683,
          0.5745409471241781,
          0.029596029294744437,
          -0.03156603275253228,
          0.41925625031964386,
          1.0417031198787077,
          -0.389468804939762,
          -0.2697654240245767,
          0.545721367873779,
          0.15247647528021352,
          -1.0307077267249567,
          -1.8853313028569152,
          -0.6188114214827979,
          -0.08332410061138514,
          0.2224378371476041,
          -0.36281046946289164,
          1.5393713738816264,
          -0.8344201975476349,
          0.4154912510662551,
          0.2735513764904384,
          -1.0365306483308943,
          -1.257434719307078,
          0.4438216409092564,
          0.6619848321591348,
          -0.4137242939260107,
          -0.14998028742236483,
          -0.2524841203481316,
          -1.5890457316394624,
          -0.3791513678882985,
          0.3514057168396319
         ],
         "xaxis": "x11",
         "yaxis": "y11"
        },
        {
         "line": {
          "color": "rgba(128, 128, 128, 1.0)",
          "dash": "solid",
          "shape": "linear",
          "width": 1.3
         },
         "marker": {
          "size": 2,
          "symbol": "circle"
         },
         "mode": "markers",
         "name": "C",
         "text": "",
         "type": "scatter",
         "x": [
          0.9490400916768807,
          -0.5817897273674895,
          1.3751326279569862,
          0.6983409367427372,
          1.3202939266626874,
          -2.1122924451091443,
          0.43902726032111544,
          -0.41677279219379426,
          -0.001816133378014878,
          1.1169424370449708,
          0.7754906006179377,
          1.2045513331336668,
          2.5317969888883103,
          -2.0530174580656864,
          0.6771250835065221,
          2.3634608936636825,
          0.01177822932377076,
          -0.3685144136815486,
          1.1584754022868753,
          -1.0898068446037572,
          -1.3806654281690436,
          0.07898018369346362,
          1.2195519553515568,
          0.3621671325880041,
          0.2602924454464911,
          -0.8371518675810171,
          -2.051460467191315,
          1.2077628267165934,
          1.7300926948414181,
          -0.12215229425226767,
          0.015600656527953567,
          -2.7007811510391475,
          -0.6651607858419503,
          -0.9836342221342753,
          -0.48346027810829734,
          0.211035411043917,
          -0.7339929942961595,
          0.18654566154080726,
          -0.388435331357508,
          1.0659294758381517,
          -0.8174062451187262,
          -1.863360326008581,
          0.02170533465925002,
          -0.01078944749883684,
          0.06016298106968525,
          -1.3506139632491216,
          -0.4340002286809841,
          1.719268516512833,
          0.21234429273735916,
          -0.6986616473315558,
          0.7966966290727863,
          -0.6618447496087041,
          0.2435755910255371,
          -0.4563326163093973,
          0.14321395221847974,
          0.2660391223089322,
          0.6249164006717058,
          0.4800420323908928,
          1.718494558968777,
          0.9124543159605855,
          -1.0259207825585983,
          -0.8452326336250587,
          0.7123478150137652,
          0.7981789784440202,
          2.8146011813223746,
          -0.2949647053977815,
          -0.1507559569732962,
          -0.20540659515318394,
          0.6410944678793699,
          -0.2960177894447896,
          -0.5560618932264372,
          0.17390350811927277,
          -0.8051387497038169,
          2.2097935555873036,
          1.1803528557857363,
          -0.5717490950308154,
          -0.4107921815038685,
          -1.5250626088074613,
          0.07835070436859118,
          -1.4038796564605016,
          0.4101091951312039,
          -0.19345652696729357,
          -0.42175060892577465,
          0.3662908497155731,
          1.0609931116080076,
          -0.896251862637867,
          2.595577593718916,
          1.882590163124815,
          -0.1759344698152429,
          0.08004727605282297,
          -0.8289387751360255,
          -1.6452383201128569,
          -1.613980389485375,
          1.0741266464861978,
          -1.62241797380832,
          -0.3113238496656898,
          0.22659518168244436,
          0.1814922402909765,
          -0.10209471636154765,
          0.6284901743018841
         ],
         "xaxis": "x12",
         "y": [
          0.4182748825410248,
          -0.9501648839641642,
          1.9572492963869799,
          0.02955010329243198,
          1.7296421491846883,
          0.019190387326078417,
          -0.9976894399031897,
          -1.3557111860103779,
          -0.057551971505804614,
          0.866248825096721,
          0.918759257743273,
          -0.9409146519698833,
          -0.7870035138089374,
          -0.13667913819374114,
          -0.44589621585578565,
          -0.0548799787543895,
          -0.17328399716216347,
          0.08331166976769992,
          -1.0155324218630306,
          0.8243711338194766,
          -0.30909049862203186,
          -0.9026384873852197,
          -2.6338509905617276,
          -0.24615009881190622,
          -1.3563798714177406,
          -0.010712471424971334,
          -0.1792855346262717,
          -2.491021744492973,
          -1.65600761568296,
          -1.7851067513855936,
          -1.5116702746648862,
          -0.7224618344457004,
          1.3787904516843026,
          0.5955808196940751,
          -0.6814393623786672,
          -0.3512702827848224,
          0.22198871542588858,
          0.9203772614553052,
          1.1207861374512897,
          -0.1878891345491742,
          -2.134967330743993,
          -0.5315599708883078,
          1.2901321215101482,
          -0.9746638486265601,
          1.3504362423756195,
          0.22187567961617846,
          -1.036243850622043,
          0.21020169423694068,
          -0.8600490685844518,
          -0.11893757071178306,
          -0.6237110985162192,
          0.10272455274750575,
          -0.5527197266705707,
          -0.5966054850239472,
          -0.714544195505012,
          0.7558384084504671,
          0.47860199401754233,
          1.8529902206169564,
          0.011306827874762424,
          0.13006406421944774,
          -0.08385761955036325,
          0.36191495752762737,
          0.4570758730669866,
          0.549217036955326,
          0.32135746380447205,
          0.7805965647429625,
          0.06816024629788889,
          1.4089943527350002,
          0.2943525478707354,
          0.8187033318948898,
          -0.2052606524140683,
          0.5745409471241781,
          0.029596029294744437,
          -0.03156603275253228,
          0.41925625031964386,
          1.0417031198787077,
          -0.389468804939762,
          -0.2697654240245767,
          0.545721367873779,
          0.15247647528021352,
          -1.0307077267249567,
          -1.8853313028569152,
          -0.6188114214827979,
          -0.08332410061138514,
          0.2224378371476041,
          -0.36281046946289164,
          1.5393713738816264,
          -0.8344201975476349,
          0.4154912510662551,
          0.2735513764904384,
          -1.0365306483308943,
          -1.257434719307078,
          0.4438216409092564,
          0.6619848321591348,
          -0.4137242939260107,
          -0.14998028742236483,
          -0.2524841203481316,
          -1.5890457316394624,
          -0.3791513678882985,
          0.3514057168396319
         ],
         "yaxis": "y12"
        },
        {
         "line": {
          "color": "rgba(128, 128, 128, 1.0)",
          "dash": "solid",
          "shape": "linear",
          "width": 1.3
         },
         "marker": {
          "size": 2,
          "symbol": "circle"
         },
         "mode": "markers",
         "name": "D",
         "text": "",
         "type": "scatter",
         "x": [
          -1.940080026219166,
          1.247986255885124,
          0.005552480825121469,
          -1.0027143906099687,
          1.2817199630272835,
          0.6476225955696181,
          -0.47082217801973575,
          -0.7832385517451328,
          -0.03200880067877387,
          -1.7768059287110718,
          1.554472601034797,
          -0.5424463994084257,
          -0.6543854872054302,
          -0.11738188392573798,
          0.4472596966018866,
          0.9093536171517177,
          -1.2083688867665092,
          0.9646113134652564,
          -1.2816508421771076,
          0.21107539625334415,
          1.6477264512828698,
          -0.10189852530746328,
          0.40252833411893363,
          -0.09916223822923723,
          -0.4017650661321447,
          0.8487489560918642,
          0.43447876816581626,
          0.8597839810516802,
          -0.14736283054749616,
          -0.9783737935958959,
          2.2378199514306165,
          0.36734697202218997,
          1.451139684431283,
          -1.6859788511506248,
          0.8156220067880682,
          0.3636193503509781,
          0.33828766799380217,
          -0.6492731530581983,
          -2.8505206810637653,
          0.7693755173217187,
          0.1558705587486528,
          0.5465230891949352,
          0.15193705928030185,
          -1.826760068829946,
          -0.6431764080889432,
          -0.37872160024822626,
          0.21957155520063143,
          2.4220943729305358,
          0.5017857089929868,
          -1.1935585863968063,
          0.47459309666712834,
          0.7463595991333764,
          -1.0385638073567438,
          -2.3737232986666266,
          -1.0022689901390849,
          0.7571215212013698,
          0.9851483833519586,
          -0.6770938029644872,
          1.1955696275365801,
          -2.0258331094509665,
          -0.9855329381386819,
          0.9925207813085811,
          1.3443541412173972,
          0.13503474291828854,
          -0.4743272748816833,
          0.7481539445445763,
          -1.7348108003535843,
          -3.102177455400545,
          -1.867960929691828,
          -1.2183171880602917,
          0.39246813826290783,
          0.6284204223734368,
          1.8605513840343577,
          1.9154258112084859,
          -0.46697846254948916,
          1.5060756881486907,
          -1.1039222700653184,
          -0.7010077581019479,
          -1.8923727669450956,
          -0.7589049198697577,
          0.21997246180406196,
          -0.2527842438625434,
          -0.48854645727572715,
          1.146553248248512,
          2.6426699786080716,
          0.8951646903900001,
          -0.0710513488662732,
          -0.3578505923475407,
          -0.1634696762619168,
          0.06029513149636131,
          0.3497535135832744,
          0.2629004354778632,
          -1.6511333120143168,
          0.372438904621618,
          -0.18192482315461628,
          -1.437435952875453,
          0.11425385213665518,
          -1.311521797467715,
          -2.9587834307624434,
          1.0067860750661797
         ],
         "xaxis": "x13",
         "y": [
          0.9490400916768807,
          -0.5817897273674895,
          1.3751326279569862,
          0.6983409367427372,
          1.3202939266626874,
          -2.1122924451091443,
          0.43902726032111544,
          -0.41677279219379426,
          -0.001816133378014878,
          1.1169424370449708,
          0.7754906006179377,
          1.2045513331336668,
          2.5317969888883103,
          -2.0530174580656864,
          0.6771250835065221,
          2.3634608936636825,
          0.01177822932377076,
          -0.3685144136815486,
          1.1584754022868753,
          -1.0898068446037572,
          -1.3806654281690436,
          0.07898018369346362,
          1.2195519553515568,
          0.3621671325880041,
          0.2602924454464911,
          -0.8371518675810171,
          -2.051460467191315,
          1.2077628267165934,
          1.7300926948414181,
          -0.12215229425226767,
          0.015600656527953567,
          -2.7007811510391475,
          -0.6651607858419503,
          -0.9836342221342753,
          -0.48346027810829734,
          0.211035411043917,
          -0.7339929942961595,
          0.18654566154080726,
          -0.388435331357508,
          1.0659294758381517,
          -0.8174062451187262,
          -1.863360326008581,
          0.02170533465925002,
          -0.01078944749883684,
          0.06016298106968525,
          -1.3506139632491216,
          -0.4340002286809841,
          1.719268516512833,
          0.21234429273735916,
          -0.6986616473315558,
          0.7966966290727863,
          -0.6618447496087041,
          0.2435755910255371,
          -0.4563326163093973,
          0.14321395221847974,
          0.2660391223089322,
          0.6249164006717058,
          0.4800420323908928,
          1.718494558968777,
          0.9124543159605855,
          -1.0259207825585983,
          -0.8452326336250587,
          0.7123478150137652,
          0.7981789784440202,
          2.8146011813223746,
          -0.2949647053977815,
          -0.1507559569732962,
          -0.20540659515318394,
          0.6410944678793699,
          -0.2960177894447896,
          -0.5560618932264372,
          0.17390350811927277,
          -0.8051387497038169,
          2.2097935555873036,
          1.1803528557857363,
          -0.5717490950308154,
          -0.4107921815038685,
          -1.5250626088074613,
          0.07835070436859118,
          -1.4038796564605016,
          0.4101091951312039,
          -0.19345652696729357,
          -0.42175060892577465,
          0.3662908497155731,
          1.0609931116080076,
          -0.896251862637867,
          2.595577593718916,
          1.882590163124815,
          -0.1759344698152429,
          0.08004727605282297,
          -0.8289387751360255,
          -1.6452383201128569,
          -1.613980389485375,
          1.0741266464861978,
          -1.62241797380832,
          -0.3113238496656898,
          0.22659518168244436,
          0.1814922402909765,
          -0.10209471636154765,
          0.6284901743018841
         ],
         "yaxis": "y13"
        },
        {
         "line": {
          "color": "rgba(128, 128, 128, 1.0)",
          "dash": "solid",
          "shape": "linear",
          "width": 1.3
         },
         "marker": {
          "size": 2,
          "symbol": "circle"
         },
         "mode": "markers",
         "name": "D",
         "text": "",
         "type": "scatter",
         "x": [
          -0.8949939745562235,
          -0.10081740469638696,
          -0.5935067963171174,
          -0.39316865154173963,
          0.40530630884910174,
          0.4586602330973266,
          0.9834194539677105,
          1.0008170337160616,
          0.6030604319208548,
          -1.24108213598008,
          0.6689774898417429,
          -1.7462108536179457,
          -0.49760399092156954,
          -0.35549370576405054,
          -1.042569669464304,
          -0.0012514324728663954,
          -0.6000537686913945,
          -0.5448907056572506,
          1.5360712274734536,
          -0.6416666847641722,
          -0.23730111471320048,
          -1.9023180967798081,
          1.6179485129432796,
          0.14880660875385976,
          2.0441521792700987,
          0.3403729778944682,
          -0.508956726544393,
          1.1481932564207318,
          -0.3323660527558092,
          -0.19585493608830828,
          0.009222766308319844,
          1.3766369986117681,
          0.04719858580821799,
          -1.887111341025749,
          0.8190994981172213,
          -1.0882829136872194,
          1.713900352441491,
          1.6816712616821259,
          0.2640072561934476,
          0.04329219467970145,
          -1.2530505045188787,
          0.38814340584746565,
          -0.4434718283401896,
          0.12642724807207012,
          -2.4674451497537824,
          0.7687234852560618,
          0.36184772293800566,
          -0.1459995427596467,
          -2.374448822101066,
          -0.6903197788738283,
          -0.07681640573681076,
          1.5982843804729183,
          0.6574577228634556,
          -1.3313447710935715,
          -0.8526543736985225,
          -1.8452306890564831,
          -0.1514233262920145,
          -0.8633051326821842,
          -1.0017436343534927,
          -1.3299139838047351,
          0.5916940532051198,
          -0.8651375029310416,
          -0.32009101541491985,
          -0.3654722562092443,
          -1.433984143611732,
          0.046752121963915455,
          0.8182820699799663,
          2.13535371933534,
          0.2779020791211278,
          -0.22536633800848135,
          1.370298339387019,
          1.1804702035266532,
          -0.4798839956833346,
          0.1480843397175848,
          1.4503741015343206,
          0.2572218755942087,
          1.4656438725645362,
          1.1793718781619216,
          0.1405436064845857,
          -0.4499771793631353,
          0.2343228911286889,
          -0.5273323738992424,
          -0.5375462248038378,
          1.1351118569437255,
          0.20135904847445885,
          0.8642497522520891,
          -1.8006558173862532,
          -0.636753333865244,
          0.9364758180016151,
          -1.7859586833873624,
          0.5438744516541609,
          -0.3244573292684904,
          0.7979614454157512,
          0.3750242000269216,
          1.0765539082605646,
          -0.45588275285980817,
          -0.4020319590780695,
          0.2419633355288673,
          -0.995910690697996,
          0.5744258727357455
         ],
         "xaxis": "x14",
         "y": [
          0.9490400916768807,
          -0.5817897273674895,
          1.3751326279569862,
          0.6983409367427372,
          1.3202939266626874,
          -2.1122924451091443,
          0.43902726032111544,
          -0.41677279219379426,
          -0.001816133378014878,
          1.1169424370449708,
          0.7754906006179377,
          1.2045513331336668,
          2.5317969888883103,
          -2.0530174580656864,
          0.6771250835065221,
          2.3634608936636825,
          0.01177822932377076,
          -0.3685144136815486,
          1.1584754022868753,
          -1.0898068446037572,
          -1.3806654281690436,
          0.07898018369346362,
          1.2195519553515568,
          0.3621671325880041,
          0.2602924454464911,
          -0.8371518675810171,
          -2.051460467191315,
          1.2077628267165934,
          1.7300926948414181,
          -0.12215229425226767,
          0.015600656527953567,
          -2.7007811510391475,
          -0.6651607858419503,
          -0.9836342221342753,
          -0.48346027810829734,
          0.211035411043917,
          -0.7339929942961595,
          0.18654566154080726,
          -0.388435331357508,
          1.0659294758381517,
          -0.8174062451187262,
          -1.863360326008581,
          0.02170533465925002,
          -0.01078944749883684,
          0.06016298106968525,
          -1.3506139632491216,
          -0.4340002286809841,
          1.719268516512833,
          0.21234429273735916,
          -0.6986616473315558,
          0.7966966290727863,
          -0.6618447496087041,
          0.2435755910255371,
          -0.4563326163093973,
          0.14321395221847974,
          0.2660391223089322,
          0.6249164006717058,
          0.4800420323908928,
          1.718494558968777,
          0.9124543159605855,
          -1.0259207825585983,
          -0.8452326336250587,
          0.7123478150137652,
          0.7981789784440202,
          2.8146011813223746,
          -0.2949647053977815,
          -0.1507559569732962,
          -0.20540659515318394,
          0.6410944678793699,
          -0.2960177894447896,
          -0.5560618932264372,
          0.17390350811927277,
          -0.8051387497038169,
          2.2097935555873036,
          1.1803528557857363,
          -0.5717490950308154,
          -0.4107921815038685,
          -1.5250626088074613,
          0.07835070436859118,
          -1.4038796564605016,
          0.4101091951312039,
          -0.19345652696729357,
          -0.42175060892577465,
          0.3662908497155731,
          1.0609931116080076,
          -0.896251862637867,
          2.595577593718916,
          1.882590163124815,
          -0.1759344698152429,
          0.08004727605282297,
          -0.8289387751360255,
          -1.6452383201128569,
          -1.613980389485375,
          1.0741266464861978,
          -1.62241797380832,
          -0.3113238496656898,
          0.22659518168244436,
          0.1814922402909765,
          -0.10209471636154765,
          0.6284901743018841
         ],
         "yaxis": "y14"
        },
        {
         "line": {
          "color": "rgba(128, 128, 128, 1.0)",
          "dash": "solid",
          "shape": "linear",
          "width": 1.3
         },
         "marker": {
          "size": 2,
          "symbol": "circle"
         },
         "mode": "markers",
         "name": "D",
         "text": "",
         "type": "scatter",
         "x": [
          0.4182748825410248,
          -0.9501648839641642,
          1.9572492963869799,
          0.02955010329243198,
          1.7296421491846883,
          0.019190387326078417,
          -0.9976894399031897,
          -1.3557111860103779,
          -0.057551971505804614,
          0.866248825096721,
          0.918759257743273,
          -0.9409146519698833,
          -0.7870035138089374,
          -0.13667913819374114,
          -0.44589621585578565,
          -0.0548799787543895,
          -0.17328399716216347,
          0.08331166976769992,
          -1.0155324218630306,
          0.8243711338194766,
          -0.30909049862203186,
          -0.9026384873852197,
          -2.6338509905617276,
          -0.24615009881190622,
          -1.3563798714177406,
          -0.010712471424971334,
          -0.1792855346262717,
          -2.491021744492973,
          -1.65600761568296,
          -1.7851067513855936,
          -1.5116702746648862,
          -0.7224618344457004,
          1.3787904516843026,
          0.5955808196940751,
          -0.6814393623786672,
          -0.3512702827848224,
          0.22198871542588858,
          0.9203772614553052,
          1.1207861374512897,
          -0.1878891345491742,
          -2.134967330743993,
          -0.5315599708883078,
          1.2901321215101482,
          -0.9746638486265601,
          1.3504362423756195,
          0.22187567961617846,
          -1.036243850622043,
          0.21020169423694068,
          -0.8600490685844518,
          -0.11893757071178306,
          -0.6237110985162192,
          0.10272455274750575,
          -0.5527197266705707,
          -0.5966054850239472,
          -0.714544195505012,
          0.7558384084504671,
          0.47860199401754233,
          1.8529902206169564,
          0.011306827874762424,
          0.13006406421944774,
          -0.08385761955036325,
          0.36191495752762737,
          0.4570758730669866,
          0.549217036955326,
          0.32135746380447205,
          0.7805965647429625,
          0.06816024629788889,
          1.4089943527350002,
          0.2943525478707354,
          0.8187033318948898,
          -0.2052606524140683,
          0.5745409471241781,
          0.029596029294744437,
          -0.03156603275253228,
          0.41925625031964386,
          1.0417031198787077,
          -0.389468804939762,
          -0.2697654240245767,
          0.545721367873779,
          0.15247647528021352,
          -1.0307077267249567,
          -1.8853313028569152,
          -0.6188114214827979,
          -0.08332410061138514,
          0.2224378371476041,
          -0.36281046946289164,
          1.5393713738816264,
          -0.8344201975476349,
          0.4154912510662551,
          0.2735513764904384,
          -1.0365306483308943,
          -1.257434719307078,
          0.4438216409092564,
          0.6619848321591348,
          -0.4137242939260107,
          -0.14998028742236483,
          -0.2524841203481316,
          -1.5890457316394624,
          -0.3791513678882985,
          0.3514057168396319
         ],
         "xaxis": "x15",
         "y": [
          0.9490400916768807,
          -0.5817897273674895,
          1.3751326279569862,
          0.6983409367427372,
          1.3202939266626874,
          -2.1122924451091443,
          0.43902726032111544,
          -0.41677279219379426,
          -0.001816133378014878,
          1.1169424370449708,
          0.7754906006179377,
          1.2045513331336668,
          2.5317969888883103,
          -2.0530174580656864,
          0.6771250835065221,
          2.3634608936636825,
          0.01177822932377076,
          -0.3685144136815486,
          1.1584754022868753,
          -1.0898068446037572,
          -1.3806654281690436,
          0.07898018369346362,
          1.2195519553515568,
          0.3621671325880041,
          0.2602924454464911,
          -0.8371518675810171,
          -2.051460467191315,
          1.2077628267165934,
          1.7300926948414181,
          -0.12215229425226767,
          0.015600656527953567,
          -2.7007811510391475,
          -0.6651607858419503,
          -0.9836342221342753,
          -0.48346027810829734,
          0.211035411043917,
          -0.7339929942961595,
          0.18654566154080726,
          -0.388435331357508,
          1.0659294758381517,
          -0.8174062451187262,
          -1.863360326008581,
          0.02170533465925002,
          -0.01078944749883684,
          0.06016298106968525,
          -1.3506139632491216,
          -0.4340002286809841,
          1.719268516512833,
          0.21234429273735916,
          -0.6986616473315558,
          0.7966966290727863,
          -0.6618447496087041,
          0.2435755910255371,
          -0.4563326163093973,
          0.14321395221847974,
          0.2660391223089322,
          0.6249164006717058,
          0.4800420323908928,
          1.718494558968777,
          0.9124543159605855,
          -1.0259207825585983,
          -0.8452326336250587,
          0.7123478150137652,
          0.7981789784440202,
          2.8146011813223746,
          -0.2949647053977815,
          -0.1507559569732962,
          -0.20540659515318394,
          0.6410944678793699,
          -0.2960177894447896,
          -0.5560618932264372,
          0.17390350811927277,
          -0.8051387497038169,
          2.2097935555873036,
          1.1803528557857363,
          -0.5717490950308154,
          -0.4107921815038685,
          -1.5250626088074613,
          0.07835070436859118,
          -1.4038796564605016,
          0.4101091951312039,
          -0.19345652696729357,
          -0.42175060892577465,
          0.3662908497155731,
          1.0609931116080076,
          -0.896251862637867,
          2.595577593718916,
          1.882590163124815,
          -0.1759344698152429,
          0.08004727605282297,
          -0.8289387751360255,
          -1.6452383201128569,
          -1.613980389485375,
          1.0741266464861978,
          -1.62241797380832,
          -0.3113238496656898,
          0.22659518168244436,
          0.1814922402909765,
          -0.10209471636154765,
          0.6284901743018841
         ],
         "yaxis": "y15"
        },
        {
         "histfunc": "count",
         "histnorm": "",
         "marker": {
          "color": "rgba(128, 0, 128, 1.0)",
          "line": {
           "color": "#4D5663",
           "width": 1.3
          }
         },
         "name": "D",
         "nbinsx": 10,
         "opacity": 0.8,
         "orientation": "v",
         "type": "histogram",
         "x": [
          0.9490400916768807,
          -0.5817897273674895,
          1.3751326279569862,
          0.6983409367427372,
          1.3202939266626874,
          -2.1122924451091443,
          0.43902726032111544,
          -0.41677279219379426,
          -0.001816133378014878,
          1.1169424370449708,
          0.7754906006179377,
          1.2045513331336668,
          2.5317969888883103,
          -2.0530174580656864,
          0.6771250835065221,
          2.3634608936636825,
          0.01177822932377076,
          -0.3685144136815486,
          1.1584754022868753,
          -1.0898068446037572,
          -1.3806654281690436,
          0.07898018369346362,
          1.2195519553515568,
          0.3621671325880041,
          0.2602924454464911,
          -0.8371518675810171,
          -2.051460467191315,
          1.2077628267165934,
          1.7300926948414181,
          -0.12215229425226767,
          0.015600656527953567,
          -2.7007811510391475,
          -0.6651607858419503,
          -0.9836342221342753,
          -0.48346027810829734,
          0.211035411043917,
          -0.7339929942961595,
          0.18654566154080726,
          -0.388435331357508,
          1.0659294758381517,
          -0.8174062451187262,
          -1.863360326008581,
          0.02170533465925002,
          -0.01078944749883684,
          0.06016298106968525,
          -1.3506139632491216,
          -0.4340002286809841,
          1.719268516512833,
          0.21234429273735916,
          -0.6986616473315558,
          0.7966966290727863,
          -0.6618447496087041,
          0.2435755910255371,
          -0.4563326163093973,
          0.14321395221847974,
          0.2660391223089322,
          0.6249164006717058,
          0.4800420323908928,
          1.718494558968777,
          0.9124543159605855,
          -1.0259207825585983,
          -0.8452326336250587,
          0.7123478150137652,
          0.7981789784440202,
          2.8146011813223746,
          -0.2949647053977815,
          -0.1507559569732962,
          -0.20540659515318394,
          0.6410944678793699,
          -0.2960177894447896,
          -0.5560618932264372,
          0.17390350811927277,
          -0.8051387497038169,
          2.2097935555873036,
          1.1803528557857363,
          -0.5717490950308154,
          -0.4107921815038685,
          -1.5250626088074613,
          0.07835070436859118,
          -1.4038796564605016,
          0.4101091951312039,
          -0.19345652696729357,
          -0.42175060892577465,
          0.3662908497155731,
          1.0609931116080076,
          -0.896251862637867,
          2.595577593718916,
          1.882590163124815,
          -0.1759344698152429,
          0.08004727605282297,
          -0.8289387751360255,
          -1.6452383201128569,
          -1.613980389485375,
          1.0741266464861978,
          -1.62241797380832,
          -0.3113238496656898,
          0.22659518168244436,
          0.1814922402909765,
          -0.10209471636154765,
          0.6284901743018841
         ],
         "xaxis": "x16",
         "yaxis": "y16"
        }
       ],
       "layout": {
        "bargap": 0.02,
        "legend": {
         "bgcolor": "#F5F6F9",
         "font": {
          "color": "#4D5663"
         }
        },
        "paper_bgcolor": "#F5F6F9",
        "plot_bgcolor": "#F5F6F9",
        "showlegend": false,
        "template": {
         "data": {
          "bar": [
           {
            "error_x": {
             "color": "#2a3f5f"
            },
            "error_y": {
             "color": "#2a3f5f"
            },
            "marker": {
             "line": {
              "color": "#E5ECF6",
              "width": 0.5
             },
             "pattern": {
              "fillmode": "overlay",
              "size": 10,
              "solidity": 0.2
             }
            },
            "type": "bar"
           }
          ],
          "barpolar": [
           {
            "marker": {
             "line": {
              "color": "#E5ECF6",
              "width": 0.5
             },
             "pattern": {
              "fillmode": "overlay",
              "size": 10,
              "solidity": 0.2
             }
            },
            "type": "barpolar"
           }
          ],
          "carpet": [
           {
            "aaxis": {
             "endlinecolor": "#2a3f5f",
             "gridcolor": "white",
             "linecolor": "white",
             "minorgridcolor": "white",
             "startlinecolor": "#2a3f5f"
            },
            "baxis": {
             "endlinecolor": "#2a3f5f",
             "gridcolor": "white",
             "linecolor": "white",
             "minorgridcolor": "white",
             "startlinecolor": "#2a3f5f"
            },
            "type": "carpet"
           }
          ],
          "choropleth": [
           {
            "colorbar": {
             "outlinewidth": 0,
             "ticks": ""
            },
            "type": "choropleth"
           }
          ],
          "contour": [
           {
            "colorbar": {
             "outlinewidth": 0,
             "ticks": ""
            },
            "colorscale": [
             [
              0,
              "#0d0887"
             ],
             [
              0.1111111111111111,
              "#46039f"
             ],
             [
              0.2222222222222222,
              "#7201a8"
             ],
             [
              0.3333333333333333,
              "#9c179e"
             ],
             [
              0.4444444444444444,
              "#bd3786"
             ],
             [
              0.5555555555555556,
              "#d8576b"
             ],
             [
              0.6666666666666666,
              "#ed7953"
             ],
             [
              0.7777777777777778,
              "#fb9f3a"
             ],
             [
              0.8888888888888888,
              "#fdca26"
             ],
             [
              1,
              "#f0f921"
             ]
            ],
            "type": "contour"
           }
          ],
          "contourcarpet": [
           {
            "colorbar": {
             "outlinewidth": 0,
             "ticks": ""
            },
            "type": "contourcarpet"
           }
          ],
          "heatmap": [
           {
            "colorbar": {
             "outlinewidth": 0,
             "ticks": ""
            },
            "colorscale": [
             [
              0,
              "#0d0887"
             ],
             [
              0.1111111111111111,
              "#46039f"
             ],
             [
              0.2222222222222222,
              "#7201a8"
             ],
             [
              0.3333333333333333,
              "#9c179e"
             ],
             [
              0.4444444444444444,
              "#bd3786"
             ],
             [
              0.5555555555555556,
              "#d8576b"
             ],
             [
              0.6666666666666666,
              "#ed7953"
             ],
             [
              0.7777777777777778,
              "#fb9f3a"
             ],
             [
              0.8888888888888888,
              "#fdca26"
             ],
             [
              1,
              "#f0f921"
             ]
            ],
            "type": "heatmap"
           }
          ],
          "heatmapgl": [
           {
            "colorbar": {
             "outlinewidth": 0,
             "ticks": ""
            },
            "colorscale": [
             [
              0,
              "#0d0887"
             ],
             [
              0.1111111111111111,
              "#46039f"
             ],
             [
              0.2222222222222222,
              "#7201a8"
             ],
             [
              0.3333333333333333,
              "#9c179e"
             ],
             [
              0.4444444444444444,
              "#bd3786"
             ],
             [
              0.5555555555555556,
              "#d8576b"
             ],
             [
              0.6666666666666666,
              "#ed7953"
             ],
             [
              0.7777777777777778,
              "#fb9f3a"
             ],
             [
              0.8888888888888888,
              "#fdca26"
             ],
             [
              1,
              "#f0f921"
             ]
            ],
            "type": "heatmapgl"
           }
          ],
          "histogram": [
           {
            "marker": {
             "pattern": {
              "fillmode": "overlay",
              "size": 10,
              "solidity": 0.2
             }
            },
            "type": "histogram"
           }
          ],
          "histogram2d": [
           {
            "colorbar": {
             "outlinewidth": 0,
             "ticks": ""
            },
            "colorscale": [
             [
              0,
              "#0d0887"
             ],
             [
              0.1111111111111111,
              "#46039f"
             ],
             [
              0.2222222222222222,
              "#7201a8"
             ],
             [
              0.3333333333333333,
              "#9c179e"
             ],
             [
              0.4444444444444444,
              "#bd3786"
             ],
             [
              0.5555555555555556,
              "#d8576b"
             ],
             [
              0.6666666666666666,
              "#ed7953"
             ],
             [
              0.7777777777777778,
              "#fb9f3a"
             ],
             [
              0.8888888888888888,
              "#fdca26"
             ],
             [
              1,
              "#f0f921"
             ]
            ],
            "type": "histogram2d"
           }
          ],
          "histogram2dcontour": [
           {
            "colorbar": {
             "outlinewidth": 0,
             "ticks": ""
            },
            "colorscale": [
             [
              0,
              "#0d0887"
             ],
             [
              0.1111111111111111,
              "#46039f"
             ],
             [
              0.2222222222222222,
              "#7201a8"
             ],
             [
              0.3333333333333333,
              "#9c179e"
             ],
             [
              0.4444444444444444,
              "#bd3786"
             ],
             [
              0.5555555555555556,
              "#d8576b"
             ],
             [
              0.6666666666666666,
              "#ed7953"
             ],
             [
              0.7777777777777778,
              "#fb9f3a"
             ],
             [
              0.8888888888888888,
              "#fdca26"
             ],
             [
              1,
              "#f0f921"
             ]
            ],
            "type": "histogram2dcontour"
           }
          ],
          "mesh3d": [
           {
            "colorbar": {
             "outlinewidth": 0,
             "ticks": ""
            },
            "type": "mesh3d"
           }
          ],
          "parcoords": [
           {
            "line": {
             "colorbar": {
              "outlinewidth": 0,
              "ticks": ""
             }
            },
            "type": "parcoords"
           }
          ],
          "pie": [
           {
            "automargin": true,
            "type": "pie"
           }
          ],
          "scatter": [
           {
            "marker": {
             "colorbar": {
              "outlinewidth": 0,
              "ticks": ""
             }
            },
            "type": "scatter"
           }
          ],
          "scatter3d": [
           {
            "line": {
             "colorbar": {
              "outlinewidth": 0,
              "ticks": ""
             }
            },
            "marker": {
             "colorbar": {
              "outlinewidth": 0,
              "ticks": ""
             }
            },
            "type": "scatter3d"
           }
          ],
          "scattercarpet": [
           {
            "marker": {
             "colorbar": {
              "outlinewidth": 0,
              "ticks": ""
             }
            },
            "type": "scattercarpet"
           }
          ],
          "scattergeo": [
           {
            "marker": {
             "colorbar": {
              "outlinewidth": 0,
              "ticks": ""
             }
            },
            "type": "scattergeo"
           }
          ],
          "scattergl": [
           {
            "marker": {
             "colorbar": {
              "outlinewidth": 0,
              "ticks": ""
             }
            },
            "type": "scattergl"
           }
          ],
          "scattermapbox": [
           {
            "marker": {
             "colorbar": {
              "outlinewidth": 0,
              "ticks": ""
             }
            },
            "type": "scattermapbox"
           }
          ],
          "scatterpolar": [
           {
            "marker": {
             "colorbar": {
              "outlinewidth": 0,
              "ticks": ""
             }
            },
            "type": "scatterpolar"
           }
          ],
          "scatterpolargl": [
           {
            "marker": {
             "colorbar": {
              "outlinewidth": 0,
              "ticks": ""
             }
            },
            "type": "scatterpolargl"
           }
          ],
          "scatterternary": [
           {
            "marker": {
             "colorbar": {
              "outlinewidth": 0,
              "ticks": ""
             }
            },
            "type": "scatterternary"
           }
          ],
          "surface": [
           {
            "colorbar": {
             "outlinewidth": 0,
             "ticks": ""
            },
            "colorscale": [
             [
              0,
              "#0d0887"
             ],
             [
              0.1111111111111111,
              "#46039f"
             ],
             [
              0.2222222222222222,
              "#7201a8"
             ],
             [
              0.3333333333333333,
              "#9c179e"
             ],
             [
              0.4444444444444444,
              "#bd3786"
             ],
             [
              0.5555555555555556,
              "#d8576b"
             ],
             [
              0.6666666666666666,
              "#ed7953"
             ],
             [
              0.7777777777777778,
              "#fb9f3a"
             ],
             [
              0.8888888888888888,
              "#fdca26"
             ],
             [
              1,
              "#f0f921"
             ]
            ],
            "type": "surface"
           }
          ],
          "table": [
           {
            "cells": {
             "fill": {
              "color": "#EBF0F8"
             },
             "line": {
              "color": "white"
             }
            },
            "header": {
             "fill": {
              "color": "#C8D4E3"
             },
             "line": {
              "color": "white"
             }
            },
            "type": "table"
           }
          ]
         },
         "layout": {
          "annotationdefaults": {
           "arrowcolor": "#2a3f5f",
           "arrowhead": 0,
           "arrowwidth": 1
          },
          "autotypenumbers": "strict",
          "coloraxis": {
           "colorbar": {
            "outlinewidth": 0,
            "ticks": ""
           }
          },
          "colorscale": {
           "diverging": [
            [
             0,
             "#8e0152"
            ],
            [
             0.1,
             "#c51b7d"
            ],
            [
             0.2,
             "#de77ae"
            ],
            [
             0.3,
             "#f1b6da"
            ],
            [
             0.4,
             "#fde0ef"
            ],
            [
             0.5,
             "#f7f7f7"
            ],
            [
             0.6,
             "#e6f5d0"
            ],
            [
             0.7,
             "#b8e186"
            ],
            [
             0.8,
             "#7fbc41"
            ],
            [
             0.9,
             "#4d9221"
            ],
            [
             1,
             "#276419"
            ]
           ],
           "sequential": [
            [
             0,
             "#0d0887"
            ],
            [
             0.1111111111111111,
             "#46039f"
            ],
            [
             0.2222222222222222,
             "#7201a8"
            ],
            [
             0.3333333333333333,
             "#9c179e"
            ],
            [
             0.4444444444444444,
             "#bd3786"
            ],
            [
             0.5555555555555556,
             "#d8576b"
            ],
            [
             0.6666666666666666,
             "#ed7953"
            ],
            [
             0.7777777777777778,
             "#fb9f3a"
            ],
            [
             0.8888888888888888,
             "#fdca26"
            ],
            [
             1,
             "#f0f921"
            ]
           ],
           "sequentialminus": [
            [
             0,
             "#0d0887"
            ],
            [
             0.1111111111111111,
             "#46039f"
            ],
            [
             0.2222222222222222,
             "#7201a8"
            ],
            [
             0.3333333333333333,
             "#9c179e"
            ],
            [
             0.4444444444444444,
             "#bd3786"
            ],
            [
             0.5555555555555556,
             "#d8576b"
            ],
            [
             0.6666666666666666,
             "#ed7953"
            ],
            [
             0.7777777777777778,
             "#fb9f3a"
            ],
            [
             0.8888888888888888,
             "#fdca26"
            ],
            [
             1,
             "#f0f921"
            ]
           ]
          },
          "colorway": [
           "#636efa",
           "#EF553B",
           "#00cc96",
           "#ab63fa",
           "#FFA15A",
           "#19d3f3",
           "#FF6692",
           "#B6E880",
           "#FF97FF",
           "#FECB52"
          ],
          "font": {
           "color": "#2a3f5f"
          },
          "geo": {
           "bgcolor": "white",
           "lakecolor": "white",
           "landcolor": "#E5ECF6",
           "showlakes": true,
           "showland": true,
           "subunitcolor": "white"
          },
          "hoverlabel": {
           "align": "left"
          },
          "hovermode": "closest",
          "mapbox": {
           "style": "light"
          },
          "paper_bgcolor": "white",
          "plot_bgcolor": "#E5ECF6",
          "polar": {
           "angularaxis": {
            "gridcolor": "white",
            "linecolor": "white",
            "ticks": ""
           },
           "bgcolor": "#E5ECF6",
           "radialaxis": {
            "gridcolor": "white",
            "linecolor": "white",
            "ticks": ""
           }
          },
          "scene": {
           "xaxis": {
            "backgroundcolor": "#E5ECF6",
            "gridcolor": "white",
            "gridwidth": 2,
            "linecolor": "white",
            "showbackground": true,
            "ticks": "",
            "zerolinecolor": "white"
           },
           "yaxis": {
            "backgroundcolor": "#E5ECF6",
            "gridcolor": "white",
            "gridwidth": 2,
            "linecolor": "white",
            "showbackground": true,
            "ticks": "",
            "zerolinecolor": "white"
           },
           "zaxis": {
            "backgroundcolor": "#E5ECF6",
            "gridcolor": "white",
            "gridwidth": 2,
            "linecolor": "white",
            "showbackground": true,
            "ticks": "",
            "zerolinecolor": "white"
           }
          },
          "shapedefaults": {
           "line": {
            "color": "#2a3f5f"
           }
          },
          "ternary": {
           "aaxis": {
            "gridcolor": "white",
            "linecolor": "white",
            "ticks": ""
           },
           "baxis": {
            "gridcolor": "white",
            "linecolor": "white",
            "ticks": ""
           },
           "bgcolor": "#E5ECF6",
           "caxis": {
            "gridcolor": "white",
            "linecolor": "white",
            "ticks": ""
           }
          },
          "title": {
           "x": 0.05
          },
          "xaxis": {
           "automargin": true,
           "gridcolor": "white",
           "linecolor": "white",
           "ticks": "",
           "title": {
            "standoff": 15
           },
           "zerolinecolor": "white",
           "zerolinewidth": 2
          },
          "yaxis": {
           "automargin": true,
           "gridcolor": "white",
           "linecolor": "white",
           "ticks": "",
           "title": {
            "standoff": 15
           },
           "zerolinecolor": "white",
           "zerolinewidth": 2
          }
         }
        },
        "title": {
         "font": {
          "color": "#4D5663"
         }
        },
        "xaxis": {
         "anchor": "y",
         "domain": [
          0,
          0.2125
         ],
         "gridcolor": "#E1E5ED",
         "showgrid": false,
         "tickfont": {
          "color": "#4D5663"
         },
         "title": {
          "font": {
           "color": "#4D5663"
          },
          "text": ""
         },
         "zerolinecolor": "#E1E5ED"
        },
        "xaxis10": {
         "anchor": "y10",
         "domain": [
          0.2625,
          0.475
         ],
         "gridcolor": "#E1E5ED",
         "showgrid": false,
         "tickfont": {
          "color": "#4D5663"
         },
         "title": {
          "font": {
           "color": "#4D5663"
          },
          "text": ""
         },
         "zerolinecolor": "#E1E5ED"
        },
        "xaxis11": {
         "anchor": "y11",
         "domain": [
          0.525,
          0.7375
         ],
         "gridcolor": "#E1E5ED",
         "showgrid": false,
         "tickfont": {
          "color": "#4D5663"
         },
         "title": {
          "font": {
           "color": "#4D5663"
          },
          "text": ""
         },
         "zerolinecolor": "#E1E5ED"
        },
        "xaxis12": {
         "anchor": "y12",
         "domain": [
          0.7875,
          1
         ],
         "gridcolor": "#E1E5ED",
         "showgrid": false,
         "tickfont": {
          "color": "#4D5663"
         },
         "title": {
          "font": {
           "color": "#4D5663"
          },
          "text": ""
         },
         "zerolinecolor": "#E1E5ED"
        },
        "xaxis13": {
         "anchor": "y13",
         "domain": [
          0,
          0.2125
         ],
         "gridcolor": "#E1E5ED",
         "showgrid": false,
         "tickfont": {
          "color": "#4D5663"
         },
         "title": {
          "font": {
           "color": "#4D5663"
          },
          "text": ""
         },
         "zerolinecolor": "#E1E5ED"
        },
        "xaxis14": {
         "anchor": "y14",
         "domain": [
          0.2625,
          0.475
         ],
         "gridcolor": "#E1E5ED",
         "showgrid": false,
         "tickfont": {
          "color": "#4D5663"
         },
         "title": {
          "font": {
           "color": "#4D5663"
          },
          "text": ""
         },
         "zerolinecolor": "#E1E5ED"
        },
        "xaxis15": {
         "anchor": "y15",
         "domain": [
          0.525,
          0.7375
         ],
         "gridcolor": "#E1E5ED",
         "showgrid": false,
         "tickfont": {
          "color": "#4D5663"
         },
         "title": {
          "font": {
           "color": "#4D5663"
          },
          "text": ""
         },
         "zerolinecolor": "#E1E5ED"
        },
        "xaxis16": {
         "anchor": "y16",
         "domain": [
          0.7875,
          1
         ],
         "gridcolor": "#E1E5ED",
         "showgrid": false,
         "tickfont": {
          "color": "#4D5663"
         },
         "title": {
          "font": {
           "color": "#4D5663"
          },
          "text": ""
         },
         "zerolinecolor": "#E1E5ED"
        },
        "xaxis2": {
         "anchor": "y2",
         "domain": [
          0.2625,
          0.475
         ],
         "gridcolor": "#E1E5ED",
         "showgrid": false,
         "tickfont": {
          "color": "#4D5663"
         },
         "title": {
          "font": {
           "color": "#4D5663"
          },
          "text": ""
         },
         "zerolinecolor": "#E1E5ED"
        },
        "xaxis3": {
         "anchor": "y3",
         "domain": [
          0.525,
          0.7375
         ],
         "gridcolor": "#E1E5ED",
         "showgrid": false,
         "tickfont": {
          "color": "#4D5663"
         },
         "title": {
          "font": {
           "color": "#4D5663"
          },
          "text": ""
         },
         "zerolinecolor": "#E1E5ED"
        },
        "xaxis4": {
         "anchor": "y4",
         "domain": [
          0.7875,
          1
         ],
         "gridcolor": "#E1E5ED",
         "showgrid": false,
         "tickfont": {
          "color": "#4D5663"
         },
         "title": {
          "font": {
           "color": "#4D5663"
          },
          "text": ""
         },
         "zerolinecolor": "#E1E5ED"
        },
        "xaxis5": {
         "anchor": "y5",
         "domain": [
          0,
          0.2125
         ],
         "gridcolor": "#E1E5ED",
         "showgrid": false,
         "tickfont": {
          "color": "#4D5663"
         },
         "title": {
          "font": {
           "color": "#4D5663"
          },
          "text": ""
         },
         "zerolinecolor": "#E1E5ED"
        },
        "xaxis6": {
         "anchor": "y6",
         "domain": [
          0.2625,
          0.475
         ],
         "gridcolor": "#E1E5ED",
         "showgrid": false,
         "tickfont": {
          "color": "#4D5663"
         },
         "title": {
          "font": {
           "color": "#4D5663"
          },
          "text": ""
         },
         "zerolinecolor": "#E1E5ED"
        },
        "xaxis7": {
         "anchor": "y7",
         "domain": [
          0.525,
          0.7375
         ],
         "gridcolor": "#E1E5ED",
         "showgrid": false,
         "tickfont": {
          "color": "#4D5663"
         },
         "title": {
          "font": {
           "color": "#4D5663"
          },
          "text": ""
         },
         "zerolinecolor": "#E1E5ED"
        },
        "xaxis8": {
         "anchor": "y8",
         "domain": [
          0.7875,
          1
         ],
         "gridcolor": "#E1E5ED",
         "showgrid": false,
         "tickfont": {
          "color": "#4D5663"
         },
         "title": {
          "font": {
           "color": "#4D5663"
          },
          "text": ""
         },
         "zerolinecolor": "#E1E5ED"
        },
        "xaxis9": {
         "anchor": "y9",
         "domain": [
          0,
          0.2125
         ],
         "gridcolor": "#E1E5ED",
         "showgrid": false,
         "tickfont": {
          "color": "#4D5663"
         },
         "title": {
          "font": {
           "color": "#4D5663"
          },
          "text": ""
         },
         "zerolinecolor": "#E1E5ED"
        },
        "yaxis": {
         "anchor": "x",
         "domain": [
          0.8025,
          1
         ],
         "gridcolor": "#E1E5ED",
         "showgrid": false,
         "tickfont": {
          "color": "#4D5663"
         },
         "title": {
          "font": {
           "color": "#4D5663"
          },
          "text": ""
         },
         "zerolinecolor": "#E1E5ED"
        },
        "yaxis10": {
         "anchor": "x10",
         "domain": [
          0.2675,
          0.465
         ],
         "gridcolor": "#E1E5ED",
         "showgrid": false,
         "tickfont": {
          "color": "#4D5663"
         },
         "title": {
          "font": {
           "color": "#4D5663"
          },
          "text": ""
         },
         "zerolinecolor": "#E1E5ED"
        },
        "yaxis11": {
         "anchor": "x11",
         "domain": [
          0.2675,
          0.465
         ],
         "gridcolor": "#E1E5ED",
         "showgrid": false,
         "tickfont": {
          "color": "#4D5663"
         },
         "title": {
          "font": {
           "color": "#4D5663"
          },
          "text": ""
         },
         "zerolinecolor": "#E1E5ED"
        },
        "yaxis12": {
         "anchor": "x12",
         "domain": [
          0.2675,
          0.465
         ],
         "gridcolor": "#E1E5ED",
         "showgrid": false,
         "tickfont": {
          "color": "#4D5663"
         },
         "title": {
          "font": {
           "color": "#4D5663"
          },
          "text": ""
         },
         "zerolinecolor": "#E1E5ED"
        },
        "yaxis13": {
         "anchor": "x13",
         "domain": [
          0,
          0.1975
         ],
         "gridcolor": "#E1E5ED",
         "showgrid": false,
         "tickfont": {
          "color": "#4D5663"
         },
         "title": {
          "font": {
           "color": "#4D5663"
          },
          "text": ""
         },
         "zerolinecolor": "#E1E5ED"
        },
        "yaxis14": {
         "anchor": "x14",
         "domain": [
          0,
          0.1975
         ],
         "gridcolor": "#E1E5ED",
         "showgrid": false,
         "tickfont": {
          "color": "#4D5663"
         },
         "title": {
          "font": {
           "color": "#4D5663"
          },
          "text": ""
         },
         "zerolinecolor": "#E1E5ED"
        },
        "yaxis15": {
         "anchor": "x15",
         "domain": [
          0,
          0.1975
         ],
         "gridcolor": "#E1E5ED",
         "showgrid": false,
         "tickfont": {
          "color": "#4D5663"
         },
         "title": {
          "font": {
           "color": "#4D5663"
          },
          "text": ""
         },
         "zerolinecolor": "#E1E5ED"
        },
        "yaxis16": {
         "anchor": "x16",
         "domain": [
          0,
          0.1975
         ],
         "gridcolor": "#E1E5ED",
         "showgrid": false,
         "tickfont": {
          "color": "#4D5663"
         },
         "title": {
          "font": {
           "color": "#4D5663"
          },
          "text": ""
         },
         "zerolinecolor": "#E1E5ED"
        },
        "yaxis2": {
         "anchor": "x2",
         "domain": [
          0.8025,
          1
         ],
         "gridcolor": "#E1E5ED",
         "showgrid": false,
         "tickfont": {
          "color": "#4D5663"
         },
         "title": {
          "font": {
           "color": "#4D5663"
          },
          "text": ""
         },
         "zerolinecolor": "#E1E5ED"
        },
        "yaxis3": {
         "anchor": "x3",
         "domain": [
          0.8025,
          1
         ],
         "gridcolor": "#E1E5ED",
         "showgrid": false,
         "tickfont": {
          "color": "#4D5663"
         },
         "title": {
          "font": {
           "color": "#4D5663"
          },
          "text": ""
         },
         "zerolinecolor": "#E1E5ED"
        },
        "yaxis4": {
         "anchor": "x4",
         "domain": [
          0.8025,
          1
         ],
         "gridcolor": "#E1E5ED",
         "showgrid": false,
         "tickfont": {
          "color": "#4D5663"
         },
         "title": {
          "font": {
           "color": "#4D5663"
          },
          "text": ""
         },
         "zerolinecolor": "#E1E5ED"
        },
        "yaxis5": {
         "anchor": "x5",
         "domain": [
          0.535,
          0.7325
         ],
         "gridcolor": "#E1E5ED",
         "showgrid": false,
         "tickfont": {
          "color": "#4D5663"
         },
         "title": {
          "font": {
           "color": "#4D5663"
          },
          "text": ""
         },
         "zerolinecolor": "#E1E5ED"
        },
        "yaxis6": {
         "anchor": "x6",
         "domain": [
          0.535,
          0.7325
         ],
         "gridcolor": "#E1E5ED",
         "showgrid": false,
         "tickfont": {
          "color": "#4D5663"
         },
         "title": {
          "font": {
           "color": "#4D5663"
          },
          "text": ""
         },
         "zerolinecolor": "#E1E5ED"
        },
        "yaxis7": {
         "anchor": "x7",
         "domain": [
          0.535,
          0.7325
         ],
         "gridcolor": "#E1E5ED",
         "showgrid": false,
         "tickfont": {
          "color": "#4D5663"
         },
         "title": {
          "font": {
           "color": "#4D5663"
          },
          "text": ""
         },
         "zerolinecolor": "#E1E5ED"
        },
        "yaxis8": {
         "anchor": "x8",
         "domain": [
          0.535,
          0.7325
         ],
         "gridcolor": "#E1E5ED",
         "showgrid": false,
         "tickfont": {
          "color": "#4D5663"
         },
         "title": {
          "font": {
           "color": "#4D5663"
          },
          "text": ""
         },
         "zerolinecolor": "#E1E5ED"
        },
        "yaxis9": {
         "anchor": "x9",
         "domain": [
          0.2675,
          0.465
         ],
         "gridcolor": "#E1E5ED",
         "showgrid": false,
         "tickfont": {
          "color": "#4D5663"
         },
         "title": {
          "font": {
           "color": "#4D5663"
          },
          "text": ""
         },
         "zerolinecolor": "#E1E5ED"
        }
       }
      },
      "text/html": [
       "<div>                            <div id=\"679d8f2c-1e89-42c0-8d40-72d672049468\" class=\"plotly-graph-div\" style=\"height:525px; width:100%;\"></div>            <script type=\"text/javascript\">                require([\"plotly\"], function(Plotly) {                    window.PLOTLYENV=window.PLOTLYENV || {};\n",
       "                    window.PLOTLYENV.BASE_URL='https://plot.ly';                                    if (document.getElementById(\"679d8f2c-1e89-42c0-8d40-72d672049468\")) {                    Plotly.newPlot(                        \"679d8f2c-1e89-42c0-8d40-72d672049468\",                        [{\"histfunc\":\"count\",\"histnorm\":\"\",\"marker\":{\"color\":\"rgba(255, 153, 51, 1.0)\",\"line\":{\"color\":\"#4D5663\",\"width\":1.3}},\"name\":\"A\",\"nbinsx\":10,\"opacity\":0.8,\"orientation\":\"v\",\"x\":[-1.940080026219166,1.247986255885124,0.005552480825121469,-1.0027143906099687,1.2817199630272835,0.6476225955696181,-0.47082217801973575,-0.7832385517451328,-0.03200880067877387,-1.7768059287110718,1.554472601034797,-0.5424463994084257,-0.6543854872054302,-0.11738188392573798,0.4472596966018866,0.9093536171517177,-1.2083688867665092,0.9646113134652564,-1.2816508421771076,0.21107539625334415,1.6477264512828698,-0.10189852530746328,0.40252833411893363,-0.09916223822923723,-0.4017650661321447,0.8487489560918642,0.43447876816581626,0.8597839810516802,-0.14736283054749616,-0.9783737935958959,2.2378199514306165,0.36734697202218997,1.451139684431283,-1.6859788511506248,0.8156220067880682,0.3636193503509781,0.33828766799380217,-0.6492731530581983,-2.8505206810637653,0.7693755173217187,0.1558705587486528,0.5465230891949352,0.15193705928030185,-1.826760068829946,-0.6431764080889432,-0.37872160024822626,0.21957155520063143,2.4220943729305358,0.5017857089929868,-1.1935585863968063,0.47459309666712834,0.7463595991333764,-1.0385638073567438,-2.3737232986666266,-1.0022689901390849,0.7571215212013698,0.9851483833519586,-0.6770938029644872,1.1955696275365801,-2.0258331094509665,-0.9855329381386819,0.9925207813085811,1.3443541412173972,0.13503474291828854,-0.4743272748816833,0.7481539445445763,-1.7348108003535843,-3.102177455400545,-1.867960929691828,-1.2183171880602917,0.39246813826290783,0.6284204223734368,1.8605513840343577,1.9154258112084859,-0.46697846254948916,1.5060756881486907,-1.1039222700653184,-0.7010077581019479,-1.8923727669450956,-0.7589049198697577,0.21997246180406196,-0.2527842438625434,-0.48854645727572715,1.146553248248512,2.6426699786080716,0.8951646903900001,-0.0710513488662732,-0.3578505923475407,-0.1634696762619168,0.06029513149636131,0.3497535135832744,0.2629004354778632,-1.6511333120143168,0.372438904621618,-0.18192482315461628,-1.437435952875453,0.11425385213665518,-1.311521797467715,-2.9587834307624434,1.0067860750661797],\"xaxis\":\"x\",\"yaxis\":\"y\",\"type\":\"histogram\"},{\"line\":{\"color\":\"rgba(128, 128, 128, 1.0)\",\"dash\":\"solid\",\"shape\":\"linear\",\"width\":1.3},\"marker\":{\"size\":2,\"symbol\":\"circle\"},\"mode\":\"markers\",\"name\":\"A\",\"text\":\"\",\"x\":[-0.8949939745562235,-0.10081740469638696,-0.5935067963171174,-0.39316865154173963,0.40530630884910174,0.4586602330973266,0.9834194539677105,1.0008170337160616,0.6030604319208548,-1.24108213598008,0.6689774898417429,-1.7462108536179457,-0.49760399092156954,-0.35549370576405054,-1.042569669464304,-0.0012514324728663954,-0.6000537686913945,-0.5448907056572506,1.5360712274734536,-0.6416666847641722,-0.23730111471320048,-1.9023180967798081,1.6179485129432796,0.14880660875385976,2.0441521792700987,0.3403729778944682,-0.508956726544393,1.1481932564207318,-0.3323660527558092,-0.19585493608830828,0.009222766308319844,1.3766369986117681,0.04719858580821799,-1.887111341025749,0.8190994981172213,-1.0882829136872194,1.713900352441491,1.6816712616821259,0.2640072561934476,0.04329219467970145,-1.2530505045188787,0.38814340584746565,-0.4434718283401896,0.12642724807207012,-2.4674451497537824,0.7687234852560618,0.36184772293800566,-0.1459995427596467,-2.374448822101066,-0.6903197788738283,-0.07681640573681076,1.5982843804729183,0.6574577228634556,-1.3313447710935715,-0.8526543736985225,-1.8452306890564831,-0.1514233262920145,-0.8633051326821842,-1.0017436343534927,-1.3299139838047351,0.5916940532051198,-0.8651375029310416,-0.32009101541491985,-0.3654722562092443,-1.433984143611732,0.046752121963915455,0.8182820699799663,2.13535371933534,0.2779020791211278,-0.22536633800848135,1.370298339387019,1.1804702035266532,-0.4798839956833346,0.1480843397175848,1.4503741015343206,0.2572218755942087,1.4656438725645362,1.1793718781619216,0.1405436064845857,-0.4499771793631353,0.2343228911286889,-0.5273323738992424,-0.5375462248038378,1.1351118569437255,0.20135904847445885,0.8642497522520891,-1.8006558173862532,-0.636753333865244,0.9364758180016151,-1.7859586833873624,0.5438744516541609,-0.3244573292684904,0.7979614454157512,0.3750242000269216,1.0765539082605646,-0.45588275285980817,-0.4020319590780695,0.2419633355288673,-0.995910690697996,0.5744258727357455],\"xaxis\":\"x2\",\"y\":[-1.940080026219166,1.247986255885124,0.005552480825121469,-1.0027143906099687,1.2817199630272835,0.6476225955696181,-0.47082217801973575,-0.7832385517451328,-0.03200880067877387,-1.7768059287110718,1.554472601034797,-0.5424463994084257,-0.6543854872054302,-0.11738188392573798,0.4472596966018866,0.9093536171517177,-1.2083688867665092,0.9646113134652564,-1.2816508421771076,0.21107539625334415,1.6477264512828698,-0.10189852530746328,0.40252833411893363,-0.09916223822923723,-0.4017650661321447,0.8487489560918642,0.43447876816581626,0.8597839810516802,-0.14736283054749616,-0.9783737935958959,2.2378199514306165,0.36734697202218997,1.451139684431283,-1.6859788511506248,0.8156220067880682,0.3636193503509781,0.33828766799380217,-0.6492731530581983,-2.8505206810637653,0.7693755173217187,0.1558705587486528,0.5465230891949352,0.15193705928030185,-1.826760068829946,-0.6431764080889432,-0.37872160024822626,0.21957155520063143,2.4220943729305358,0.5017857089929868,-1.1935585863968063,0.47459309666712834,0.7463595991333764,-1.0385638073567438,-2.3737232986666266,-1.0022689901390849,0.7571215212013698,0.9851483833519586,-0.6770938029644872,1.1955696275365801,-2.0258331094509665,-0.9855329381386819,0.9925207813085811,1.3443541412173972,0.13503474291828854,-0.4743272748816833,0.7481539445445763,-1.7348108003535843,-3.102177455400545,-1.867960929691828,-1.2183171880602917,0.39246813826290783,0.6284204223734368,1.8605513840343577,1.9154258112084859,-0.46697846254948916,1.5060756881486907,-1.1039222700653184,-0.7010077581019479,-1.8923727669450956,-0.7589049198697577,0.21997246180406196,-0.2527842438625434,-0.48854645727572715,1.146553248248512,2.6426699786080716,0.8951646903900001,-0.0710513488662732,-0.3578505923475407,-0.1634696762619168,0.06029513149636131,0.3497535135832744,0.2629004354778632,-1.6511333120143168,0.372438904621618,-0.18192482315461628,-1.437435952875453,0.11425385213665518,-1.311521797467715,-2.9587834307624434,1.0067860750661797],\"yaxis\":\"y2\",\"type\":\"scatter\"},{\"line\":{\"color\":\"rgba(128, 128, 128, 1.0)\",\"dash\":\"solid\",\"shape\":\"linear\",\"width\":1.3},\"marker\":{\"size\":2,\"symbol\":\"circle\"},\"mode\":\"markers\",\"name\":\"A\",\"text\":\"\",\"x\":[0.4182748825410248,-0.9501648839641642,1.9572492963869799,0.02955010329243198,1.7296421491846883,0.019190387326078417,-0.9976894399031897,-1.3557111860103779,-0.057551971505804614,0.866248825096721,0.918759257743273,-0.9409146519698833,-0.7870035138089374,-0.13667913819374114,-0.44589621585578565,-0.0548799787543895,-0.17328399716216347,0.08331166976769992,-1.0155324218630306,0.8243711338194766,-0.30909049862203186,-0.9026384873852197,-2.6338509905617276,-0.24615009881190622,-1.3563798714177406,-0.010712471424971334,-0.1792855346262717,-2.491021744492973,-1.65600761568296,-1.7851067513855936,-1.5116702746648862,-0.7224618344457004,1.3787904516843026,0.5955808196940751,-0.6814393623786672,-0.3512702827848224,0.22198871542588858,0.9203772614553052,1.1207861374512897,-0.1878891345491742,-2.134967330743993,-0.5315599708883078,1.2901321215101482,-0.9746638486265601,1.3504362423756195,0.22187567961617846,-1.036243850622043,0.21020169423694068,-0.8600490685844518,-0.11893757071178306,-0.6237110985162192,0.10272455274750575,-0.5527197266705707,-0.5966054850239472,-0.714544195505012,0.7558384084504671,0.47860199401754233,1.8529902206169564,0.011306827874762424,0.13006406421944774,-0.08385761955036325,0.36191495752762737,0.4570758730669866,0.549217036955326,0.32135746380447205,0.7805965647429625,0.06816024629788889,1.4089943527350002,0.2943525478707354,0.8187033318948898,-0.2052606524140683,0.5745409471241781,0.029596029294744437,-0.03156603275253228,0.41925625031964386,1.0417031198787077,-0.389468804939762,-0.2697654240245767,0.545721367873779,0.15247647528021352,-1.0307077267249567,-1.8853313028569152,-0.6188114214827979,-0.08332410061138514,0.2224378371476041,-0.36281046946289164,1.5393713738816264,-0.8344201975476349,0.4154912510662551,0.2735513764904384,-1.0365306483308943,-1.257434719307078,0.4438216409092564,0.6619848321591348,-0.4137242939260107,-0.14998028742236483,-0.2524841203481316,-1.5890457316394624,-0.3791513678882985,0.3514057168396319],\"xaxis\":\"x3\",\"y\":[-1.940080026219166,1.247986255885124,0.005552480825121469,-1.0027143906099687,1.2817199630272835,0.6476225955696181,-0.47082217801973575,-0.7832385517451328,-0.03200880067877387,-1.7768059287110718,1.554472601034797,-0.5424463994084257,-0.6543854872054302,-0.11738188392573798,0.4472596966018866,0.9093536171517177,-1.2083688867665092,0.9646113134652564,-1.2816508421771076,0.21107539625334415,1.6477264512828698,-0.10189852530746328,0.40252833411893363,-0.09916223822923723,-0.4017650661321447,0.8487489560918642,0.43447876816581626,0.8597839810516802,-0.14736283054749616,-0.9783737935958959,2.2378199514306165,0.36734697202218997,1.451139684431283,-1.6859788511506248,0.8156220067880682,0.3636193503509781,0.33828766799380217,-0.6492731530581983,-2.8505206810637653,0.7693755173217187,0.1558705587486528,0.5465230891949352,0.15193705928030185,-1.826760068829946,-0.6431764080889432,-0.37872160024822626,0.21957155520063143,2.4220943729305358,0.5017857089929868,-1.1935585863968063,0.47459309666712834,0.7463595991333764,-1.0385638073567438,-2.3737232986666266,-1.0022689901390849,0.7571215212013698,0.9851483833519586,-0.6770938029644872,1.1955696275365801,-2.0258331094509665,-0.9855329381386819,0.9925207813085811,1.3443541412173972,0.13503474291828854,-0.4743272748816833,0.7481539445445763,-1.7348108003535843,-3.102177455400545,-1.867960929691828,-1.2183171880602917,0.39246813826290783,0.6284204223734368,1.8605513840343577,1.9154258112084859,-0.46697846254948916,1.5060756881486907,-1.1039222700653184,-0.7010077581019479,-1.8923727669450956,-0.7589049198697577,0.21997246180406196,-0.2527842438625434,-0.48854645727572715,1.146553248248512,2.6426699786080716,0.8951646903900001,-0.0710513488662732,-0.3578505923475407,-0.1634696762619168,0.06029513149636131,0.3497535135832744,0.2629004354778632,-1.6511333120143168,0.372438904621618,-0.18192482315461628,-1.437435952875453,0.11425385213665518,-1.311521797467715,-2.9587834307624434,1.0067860750661797],\"yaxis\":\"y3\",\"type\":\"scatter\"},{\"line\":{\"color\":\"rgba(128, 128, 128, 1.0)\",\"dash\":\"solid\",\"shape\":\"linear\",\"width\":1.3},\"marker\":{\"size\":2,\"symbol\":\"circle\"},\"mode\":\"markers\",\"name\":\"A\",\"text\":\"\",\"x\":[0.9490400916768807,-0.5817897273674895,1.3751326279569862,0.6983409367427372,1.3202939266626874,-2.1122924451091443,0.43902726032111544,-0.41677279219379426,-0.001816133378014878,1.1169424370449708,0.7754906006179377,1.2045513331336668,2.5317969888883103,-2.0530174580656864,0.6771250835065221,2.3634608936636825,0.01177822932377076,-0.3685144136815486,1.1584754022868753,-1.0898068446037572,-1.3806654281690436,0.07898018369346362,1.2195519553515568,0.3621671325880041,0.2602924454464911,-0.8371518675810171,-2.051460467191315,1.2077628267165934,1.7300926948414181,-0.12215229425226767,0.015600656527953567,-2.7007811510391475,-0.6651607858419503,-0.9836342221342753,-0.48346027810829734,0.211035411043917,-0.7339929942961595,0.18654566154080726,-0.388435331357508,1.0659294758381517,-0.8174062451187262,-1.863360326008581,0.02170533465925002,-0.01078944749883684,0.06016298106968525,-1.3506139632491216,-0.4340002286809841,1.719268516512833,0.21234429273735916,-0.6986616473315558,0.7966966290727863,-0.6618447496087041,0.2435755910255371,-0.4563326163093973,0.14321395221847974,0.2660391223089322,0.6249164006717058,0.4800420323908928,1.718494558968777,0.9124543159605855,-1.0259207825585983,-0.8452326336250587,0.7123478150137652,0.7981789784440202,2.8146011813223746,-0.2949647053977815,-0.1507559569732962,-0.20540659515318394,0.6410944678793699,-0.2960177894447896,-0.5560618932264372,0.17390350811927277,-0.8051387497038169,2.2097935555873036,1.1803528557857363,-0.5717490950308154,-0.4107921815038685,-1.5250626088074613,0.07835070436859118,-1.4038796564605016,0.4101091951312039,-0.19345652696729357,-0.42175060892577465,0.3662908497155731,1.0609931116080076,-0.896251862637867,2.595577593718916,1.882590163124815,-0.1759344698152429,0.08004727605282297,-0.8289387751360255,-1.6452383201128569,-1.613980389485375,1.0741266464861978,-1.62241797380832,-0.3113238496656898,0.22659518168244436,0.1814922402909765,-0.10209471636154765,0.6284901743018841],\"xaxis\":\"x4\",\"y\":[-1.940080026219166,1.247986255885124,0.005552480825121469,-1.0027143906099687,1.2817199630272835,0.6476225955696181,-0.47082217801973575,-0.7832385517451328,-0.03200880067877387,-1.7768059287110718,1.554472601034797,-0.5424463994084257,-0.6543854872054302,-0.11738188392573798,0.4472596966018866,0.9093536171517177,-1.2083688867665092,0.9646113134652564,-1.2816508421771076,0.21107539625334415,1.6477264512828698,-0.10189852530746328,0.40252833411893363,-0.09916223822923723,-0.4017650661321447,0.8487489560918642,0.43447876816581626,0.8597839810516802,-0.14736283054749616,-0.9783737935958959,2.2378199514306165,0.36734697202218997,1.451139684431283,-1.6859788511506248,0.8156220067880682,0.3636193503509781,0.33828766799380217,-0.6492731530581983,-2.8505206810637653,0.7693755173217187,0.1558705587486528,0.5465230891949352,0.15193705928030185,-1.826760068829946,-0.6431764080889432,-0.37872160024822626,0.21957155520063143,2.4220943729305358,0.5017857089929868,-1.1935585863968063,0.47459309666712834,0.7463595991333764,-1.0385638073567438,-2.3737232986666266,-1.0022689901390849,0.7571215212013698,0.9851483833519586,-0.6770938029644872,1.1955696275365801,-2.0258331094509665,-0.9855329381386819,0.9925207813085811,1.3443541412173972,0.13503474291828854,-0.4743272748816833,0.7481539445445763,-1.7348108003535843,-3.102177455400545,-1.867960929691828,-1.2183171880602917,0.39246813826290783,0.6284204223734368,1.8605513840343577,1.9154258112084859,-0.46697846254948916,1.5060756881486907,-1.1039222700653184,-0.7010077581019479,-1.8923727669450956,-0.7589049198697577,0.21997246180406196,-0.2527842438625434,-0.48854645727572715,1.146553248248512,2.6426699786080716,0.8951646903900001,-0.0710513488662732,-0.3578505923475407,-0.1634696762619168,0.06029513149636131,0.3497535135832744,0.2629004354778632,-1.6511333120143168,0.372438904621618,-0.18192482315461628,-1.437435952875453,0.11425385213665518,-1.311521797467715,-2.9587834307624434,1.0067860750661797],\"yaxis\":\"y4\",\"type\":\"scatter\"},{\"line\":{\"color\":\"rgba(128, 128, 128, 1.0)\",\"dash\":\"solid\",\"shape\":\"linear\",\"width\":1.3},\"marker\":{\"size\":2,\"symbol\":\"circle\"},\"mode\":\"markers\",\"name\":\"B\",\"text\":\"\",\"x\":[-1.940080026219166,1.247986255885124,0.005552480825121469,-1.0027143906099687,1.2817199630272835,0.6476225955696181,-0.47082217801973575,-0.7832385517451328,-0.03200880067877387,-1.7768059287110718,1.554472601034797,-0.5424463994084257,-0.6543854872054302,-0.11738188392573798,0.4472596966018866,0.9093536171517177,-1.2083688867665092,0.9646113134652564,-1.2816508421771076,0.21107539625334415,1.6477264512828698,-0.10189852530746328,0.40252833411893363,-0.09916223822923723,-0.4017650661321447,0.8487489560918642,0.43447876816581626,0.8597839810516802,-0.14736283054749616,-0.9783737935958959,2.2378199514306165,0.36734697202218997,1.451139684431283,-1.6859788511506248,0.8156220067880682,0.3636193503509781,0.33828766799380217,-0.6492731530581983,-2.8505206810637653,0.7693755173217187,0.1558705587486528,0.5465230891949352,0.15193705928030185,-1.826760068829946,-0.6431764080889432,-0.37872160024822626,0.21957155520063143,2.4220943729305358,0.5017857089929868,-1.1935585863968063,0.47459309666712834,0.7463595991333764,-1.0385638073567438,-2.3737232986666266,-1.0022689901390849,0.7571215212013698,0.9851483833519586,-0.6770938029644872,1.1955696275365801,-2.0258331094509665,-0.9855329381386819,0.9925207813085811,1.3443541412173972,0.13503474291828854,-0.4743272748816833,0.7481539445445763,-1.7348108003535843,-3.102177455400545,-1.867960929691828,-1.2183171880602917,0.39246813826290783,0.6284204223734368,1.8605513840343577,1.9154258112084859,-0.46697846254948916,1.5060756881486907,-1.1039222700653184,-0.7010077581019479,-1.8923727669450956,-0.7589049198697577,0.21997246180406196,-0.2527842438625434,-0.48854645727572715,1.146553248248512,2.6426699786080716,0.8951646903900001,-0.0710513488662732,-0.3578505923475407,-0.1634696762619168,0.06029513149636131,0.3497535135832744,0.2629004354778632,-1.6511333120143168,0.372438904621618,-0.18192482315461628,-1.437435952875453,0.11425385213665518,-1.311521797467715,-2.9587834307624434,1.0067860750661797],\"xaxis\":\"x5\",\"y\":[-0.8949939745562235,-0.10081740469638696,-0.5935067963171174,-0.39316865154173963,0.40530630884910174,0.4586602330973266,0.9834194539677105,1.0008170337160616,0.6030604319208548,-1.24108213598008,0.6689774898417429,-1.7462108536179457,-0.49760399092156954,-0.35549370576405054,-1.042569669464304,-0.0012514324728663954,-0.6000537686913945,-0.5448907056572506,1.5360712274734536,-0.6416666847641722,-0.23730111471320048,-1.9023180967798081,1.6179485129432796,0.14880660875385976,2.0441521792700987,0.3403729778944682,-0.508956726544393,1.1481932564207318,-0.3323660527558092,-0.19585493608830828,0.009222766308319844,1.3766369986117681,0.04719858580821799,-1.887111341025749,0.8190994981172213,-1.0882829136872194,1.713900352441491,1.6816712616821259,0.2640072561934476,0.04329219467970145,-1.2530505045188787,0.38814340584746565,-0.4434718283401896,0.12642724807207012,-2.4674451497537824,0.7687234852560618,0.36184772293800566,-0.1459995427596467,-2.374448822101066,-0.6903197788738283,-0.07681640573681076,1.5982843804729183,0.6574577228634556,-1.3313447710935715,-0.8526543736985225,-1.8452306890564831,-0.1514233262920145,-0.8633051326821842,-1.0017436343534927,-1.3299139838047351,0.5916940532051198,-0.8651375029310416,-0.32009101541491985,-0.3654722562092443,-1.433984143611732,0.046752121963915455,0.8182820699799663,2.13535371933534,0.2779020791211278,-0.22536633800848135,1.370298339387019,1.1804702035266532,-0.4798839956833346,0.1480843397175848,1.4503741015343206,0.2572218755942087,1.4656438725645362,1.1793718781619216,0.1405436064845857,-0.4499771793631353,0.2343228911286889,-0.5273323738992424,-0.5375462248038378,1.1351118569437255,0.20135904847445885,0.8642497522520891,-1.8006558173862532,-0.636753333865244,0.9364758180016151,-1.7859586833873624,0.5438744516541609,-0.3244573292684904,0.7979614454157512,0.3750242000269216,1.0765539082605646,-0.45588275285980817,-0.4020319590780695,0.2419633355288673,-0.995910690697996,0.5744258727357455],\"yaxis\":\"y5\",\"type\":\"scatter\"},{\"histfunc\":\"count\",\"histnorm\":\"\",\"marker\":{\"color\":\"rgba(55, 128, 191, 1.0)\",\"line\":{\"color\":\"#4D5663\",\"width\":1.3}},\"name\":\"B\",\"nbinsx\":10,\"opacity\":0.8,\"orientation\":\"v\",\"x\":[-0.8949939745562235,-0.10081740469638696,-0.5935067963171174,-0.39316865154173963,0.40530630884910174,0.4586602330973266,0.9834194539677105,1.0008170337160616,0.6030604319208548,-1.24108213598008,0.6689774898417429,-1.7462108536179457,-0.49760399092156954,-0.35549370576405054,-1.042569669464304,-0.0012514324728663954,-0.6000537686913945,-0.5448907056572506,1.5360712274734536,-0.6416666847641722,-0.23730111471320048,-1.9023180967798081,1.6179485129432796,0.14880660875385976,2.0441521792700987,0.3403729778944682,-0.508956726544393,1.1481932564207318,-0.3323660527558092,-0.19585493608830828,0.009222766308319844,1.3766369986117681,0.04719858580821799,-1.887111341025749,0.8190994981172213,-1.0882829136872194,1.713900352441491,1.6816712616821259,0.2640072561934476,0.04329219467970145,-1.2530505045188787,0.38814340584746565,-0.4434718283401896,0.12642724807207012,-2.4674451497537824,0.7687234852560618,0.36184772293800566,-0.1459995427596467,-2.374448822101066,-0.6903197788738283,-0.07681640573681076,1.5982843804729183,0.6574577228634556,-1.3313447710935715,-0.8526543736985225,-1.8452306890564831,-0.1514233262920145,-0.8633051326821842,-1.0017436343534927,-1.3299139838047351,0.5916940532051198,-0.8651375029310416,-0.32009101541491985,-0.3654722562092443,-1.433984143611732,0.046752121963915455,0.8182820699799663,2.13535371933534,0.2779020791211278,-0.22536633800848135,1.370298339387019,1.1804702035266532,-0.4798839956833346,0.1480843397175848,1.4503741015343206,0.2572218755942087,1.4656438725645362,1.1793718781619216,0.1405436064845857,-0.4499771793631353,0.2343228911286889,-0.5273323738992424,-0.5375462248038378,1.1351118569437255,0.20135904847445885,0.8642497522520891,-1.8006558173862532,-0.636753333865244,0.9364758180016151,-1.7859586833873624,0.5438744516541609,-0.3244573292684904,0.7979614454157512,0.3750242000269216,1.0765539082605646,-0.45588275285980817,-0.4020319590780695,0.2419633355288673,-0.995910690697996,0.5744258727357455],\"xaxis\":\"x6\",\"yaxis\":\"y6\",\"type\":\"histogram\"},{\"line\":{\"color\":\"rgba(128, 128, 128, 1.0)\",\"dash\":\"solid\",\"shape\":\"linear\",\"width\":1.3},\"marker\":{\"size\":2,\"symbol\":\"circle\"},\"mode\":\"markers\",\"name\":\"B\",\"text\":\"\",\"x\":[0.4182748825410248,-0.9501648839641642,1.9572492963869799,0.02955010329243198,1.7296421491846883,0.019190387326078417,-0.9976894399031897,-1.3557111860103779,-0.057551971505804614,0.866248825096721,0.918759257743273,-0.9409146519698833,-0.7870035138089374,-0.13667913819374114,-0.44589621585578565,-0.0548799787543895,-0.17328399716216347,0.08331166976769992,-1.0155324218630306,0.8243711338194766,-0.30909049862203186,-0.9026384873852197,-2.6338509905617276,-0.24615009881190622,-1.3563798714177406,-0.010712471424971334,-0.1792855346262717,-2.491021744492973,-1.65600761568296,-1.7851067513855936,-1.5116702746648862,-0.7224618344457004,1.3787904516843026,0.5955808196940751,-0.6814393623786672,-0.3512702827848224,0.22198871542588858,0.9203772614553052,1.1207861374512897,-0.1878891345491742,-2.134967330743993,-0.5315599708883078,1.2901321215101482,-0.9746638486265601,1.3504362423756195,0.22187567961617846,-1.036243850622043,0.21020169423694068,-0.8600490685844518,-0.11893757071178306,-0.6237110985162192,0.10272455274750575,-0.5527197266705707,-0.5966054850239472,-0.714544195505012,0.7558384084504671,0.47860199401754233,1.8529902206169564,0.011306827874762424,0.13006406421944774,-0.08385761955036325,0.36191495752762737,0.4570758730669866,0.549217036955326,0.32135746380447205,0.7805965647429625,0.06816024629788889,1.4089943527350002,0.2943525478707354,0.8187033318948898,-0.2052606524140683,0.5745409471241781,0.029596029294744437,-0.03156603275253228,0.41925625031964386,1.0417031198787077,-0.389468804939762,-0.2697654240245767,0.545721367873779,0.15247647528021352,-1.0307077267249567,-1.8853313028569152,-0.6188114214827979,-0.08332410061138514,0.2224378371476041,-0.36281046946289164,1.5393713738816264,-0.8344201975476349,0.4154912510662551,0.2735513764904384,-1.0365306483308943,-1.257434719307078,0.4438216409092564,0.6619848321591348,-0.4137242939260107,-0.14998028742236483,-0.2524841203481316,-1.5890457316394624,-0.3791513678882985,0.3514057168396319],\"xaxis\":\"x7\",\"y\":[-0.8949939745562235,-0.10081740469638696,-0.5935067963171174,-0.39316865154173963,0.40530630884910174,0.4586602330973266,0.9834194539677105,1.0008170337160616,0.6030604319208548,-1.24108213598008,0.6689774898417429,-1.7462108536179457,-0.49760399092156954,-0.35549370576405054,-1.042569669464304,-0.0012514324728663954,-0.6000537686913945,-0.5448907056572506,1.5360712274734536,-0.6416666847641722,-0.23730111471320048,-1.9023180967798081,1.6179485129432796,0.14880660875385976,2.0441521792700987,0.3403729778944682,-0.508956726544393,1.1481932564207318,-0.3323660527558092,-0.19585493608830828,0.009222766308319844,1.3766369986117681,0.04719858580821799,-1.887111341025749,0.8190994981172213,-1.0882829136872194,1.713900352441491,1.6816712616821259,0.2640072561934476,0.04329219467970145,-1.2530505045188787,0.38814340584746565,-0.4434718283401896,0.12642724807207012,-2.4674451497537824,0.7687234852560618,0.36184772293800566,-0.1459995427596467,-2.374448822101066,-0.6903197788738283,-0.07681640573681076,1.5982843804729183,0.6574577228634556,-1.3313447710935715,-0.8526543736985225,-1.8452306890564831,-0.1514233262920145,-0.8633051326821842,-1.0017436343534927,-1.3299139838047351,0.5916940532051198,-0.8651375029310416,-0.32009101541491985,-0.3654722562092443,-1.433984143611732,0.046752121963915455,0.8182820699799663,2.13535371933534,0.2779020791211278,-0.22536633800848135,1.370298339387019,1.1804702035266532,-0.4798839956833346,0.1480843397175848,1.4503741015343206,0.2572218755942087,1.4656438725645362,1.1793718781619216,0.1405436064845857,-0.4499771793631353,0.2343228911286889,-0.5273323738992424,-0.5375462248038378,1.1351118569437255,0.20135904847445885,0.8642497522520891,-1.8006558173862532,-0.636753333865244,0.9364758180016151,-1.7859586833873624,0.5438744516541609,-0.3244573292684904,0.7979614454157512,0.3750242000269216,1.0765539082605646,-0.45588275285980817,-0.4020319590780695,0.2419633355288673,-0.995910690697996,0.5744258727357455],\"yaxis\":\"y7\",\"type\":\"scatter\"},{\"line\":{\"color\":\"rgba(128, 128, 128, 1.0)\",\"dash\":\"solid\",\"shape\":\"linear\",\"width\":1.3},\"marker\":{\"size\":2,\"symbol\":\"circle\"},\"mode\":\"markers\",\"name\":\"B\",\"text\":\"\",\"x\":[0.9490400916768807,-0.5817897273674895,1.3751326279569862,0.6983409367427372,1.3202939266626874,-2.1122924451091443,0.43902726032111544,-0.41677279219379426,-0.001816133378014878,1.1169424370449708,0.7754906006179377,1.2045513331336668,2.5317969888883103,-2.0530174580656864,0.6771250835065221,2.3634608936636825,0.01177822932377076,-0.3685144136815486,1.1584754022868753,-1.0898068446037572,-1.3806654281690436,0.07898018369346362,1.2195519553515568,0.3621671325880041,0.2602924454464911,-0.8371518675810171,-2.051460467191315,1.2077628267165934,1.7300926948414181,-0.12215229425226767,0.015600656527953567,-2.7007811510391475,-0.6651607858419503,-0.9836342221342753,-0.48346027810829734,0.211035411043917,-0.7339929942961595,0.18654566154080726,-0.388435331357508,1.0659294758381517,-0.8174062451187262,-1.863360326008581,0.02170533465925002,-0.01078944749883684,0.06016298106968525,-1.3506139632491216,-0.4340002286809841,1.719268516512833,0.21234429273735916,-0.6986616473315558,0.7966966290727863,-0.6618447496087041,0.2435755910255371,-0.4563326163093973,0.14321395221847974,0.2660391223089322,0.6249164006717058,0.4800420323908928,1.718494558968777,0.9124543159605855,-1.0259207825585983,-0.8452326336250587,0.7123478150137652,0.7981789784440202,2.8146011813223746,-0.2949647053977815,-0.1507559569732962,-0.20540659515318394,0.6410944678793699,-0.2960177894447896,-0.5560618932264372,0.17390350811927277,-0.8051387497038169,2.2097935555873036,1.1803528557857363,-0.5717490950308154,-0.4107921815038685,-1.5250626088074613,0.07835070436859118,-1.4038796564605016,0.4101091951312039,-0.19345652696729357,-0.42175060892577465,0.3662908497155731,1.0609931116080076,-0.896251862637867,2.595577593718916,1.882590163124815,-0.1759344698152429,0.08004727605282297,-0.8289387751360255,-1.6452383201128569,-1.613980389485375,1.0741266464861978,-1.62241797380832,-0.3113238496656898,0.22659518168244436,0.1814922402909765,-0.10209471636154765,0.6284901743018841],\"xaxis\":\"x8\",\"y\":[-0.8949939745562235,-0.10081740469638696,-0.5935067963171174,-0.39316865154173963,0.40530630884910174,0.4586602330973266,0.9834194539677105,1.0008170337160616,0.6030604319208548,-1.24108213598008,0.6689774898417429,-1.7462108536179457,-0.49760399092156954,-0.35549370576405054,-1.042569669464304,-0.0012514324728663954,-0.6000537686913945,-0.5448907056572506,1.5360712274734536,-0.6416666847641722,-0.23730111471320048,-1.9023180967798081,1.6179485129432796,0.14880660875385976,2.0441521792700987,0.3403729778944682,-0.508956726544393,1.1481932564207318,-0.3323660527558092,-0.19585493608830828,0.009222766308319844,1.3766369986117681,0.04719858580821799,-1.887111341025749,0.8190994981172213,-1.0882829136872194,1.713900352441491,1.6816712616821259,0.2640072561934476,0.04329219467970145,-1.2530505045188787,0.38814340584746565,-0.4434718283401896,0.12642724807207012,-2.4674451497537824,0.7687234852560618,0.36184772293800566,-0.1459995427596467,-2.374448822101066,-0.6903197788738283,-0.07681640573681076,1.5982843804729183,0.6574577228634556,-1.3313447710935715,-0.8526543736985225,-1.8452306890564831,-0.1514233262920145,-0.8633051326821842,-1.0017436343534927,-1.3299139838047351,0.5916940532051198,-0.8651375029310416,-0.32009101541491985,-0.3654722562092443,-1.433984143611732,0.046752121963915455,0.8182820699799663,2.13535371933534,0.2779020791211278,-0.22536633800848135,1.370298339387019,1.1804702035266532,-0.4798839956833346,0.1480843397175848,1.4503741015343206,0.2572218755942087,1.4656438725645362,1.1793718781619216,0.1405436064845857,-0.4499771793631353,0.2343228911286889,-0.5273323738992424,-0.5375462248038378,1.1351118569437255,0.20135904847445885,0.8642497522520891,-1.8006558173862532,-0.636753333865244,0.9364758180016151,-1.7859586833873624,0.5438744516541609,-0.3244573292684904,0.7979614454157512,0.3750242000269216,1.0765539082605646,-0.45588275285980817,-0.4020319590780695,0.2419633355288673,-0.995910690697996,0.5744258727357455],\"yaxis\":\"y8\",\"type\":\"scatter\"},{\"line\":{\"color\":\"rgba(128, 128, 128, 1.0)\",\"dash\":\"solid\",\"shape\":\"linear\",\"width\":1.3},\"marker\":{\"size\":2,\"symbol\":\"circle\"},\"mode\":\"markers\",\"name\":\"C\",\"text\":\"\",\"x\":[-1.940080026219166,1.247986255885124,0.005552480825121469,-1.0027143906099687,1.2817199630272835,0.6476225955696181,-0.47082217801973575,-0.7832385517451328,-0.03200880067877387,-1.7768059287110718,1.554472601034797,-0.5424463994084257,-0.6543854872054302,-0.11738188392573798,0.4472596966018866,0.9093536171517177,-1.2083688867665092,0.9646113134652564,-1.2816508421771076,0.21107539625334415,1.6477264512828698,-0.10189852530746328,0.40252833411893363,-0.09916223822923723,-0.4017650661321447,0.8487489560918642,0.43447876816581626,0.8597839810516802,-0.14736283054749616,-0.9783737935958959,2.2378199514306165,0.36734697202218997,1.451139684431283,-1.6859788511506248,0.8156220067880682,0.3636193503509781,0.33828766799380217,-0.6492731530581983,-2.8505206810637653,0.7693755173217187,0.1558705587486528,0.5465230891949352,0.15193705928030185,-1.826760068829946,-0.6431764080889432,-0.37872160024822626,0.21957155520063143,2.4220943729305358,0.5017857089929868,-1.1935585863968063,0.47459309666712834,0.7463595991333764,-1.0385638073567438,-2.3737232986666266,-1.0022689901390849,0.7571215212013698,0.9851483833519586,-0.6770938029644872,1.1955696275365801,-2.0258331094509665,-0.9855329381386819,0.9925207813085811,1.3443541412173972,0.13503474291828854,-0.4743272748816833,0.7481539445445763,-1.7348108003535843,-3.102177455400545,-1.867960929691828,-1.2183171880602917,0.39246813826290783,0.6284204223734368,1.8605513840343577,1.9154258112084859,-0.46697846254948916,1.5060756881486907,-1.1039222700653184,-0.7010077581019479,-1.8923727669450956,-0.7589049198697577,0.21997246180406196,-0.2527842438625434,-0.48854645727572715,1.146553248248512,2.6426699786080716,0.8951646903900001,-0.0710513488662732,-0.3578505923475407,-0.1634696762619168,0.06029513149636131,0.3497535135832744,0.2629004354778632,-1.6511333120143168,0.372438904621618,-0.18192482315461628,-1.437435952875453,0.11425385213665518,-1.311521797467715,-2.9587834307624434,1.0067860750661797],\"xaxis\":\"x9\",\"y\":[0.4182748825410248,-0.9501648839641642,1.9572492963869799,0.02955010329243198,1.7296421491846883,0.019190387326078417,-0.9976894399031897,-1.3557111860103779,-0.057551971505804614,0.866248825096721,0.918759257743273,-0.9409146519698833,-0.7870035138089374,-0.13667913819374114,-0.44589621585578565,-0.0548799787543895,-0.17328399716216347,0.08331166976769992,-1.0155324218630306,0.8243711338194766,-0.30909049862203186,-0.9026384873852197,-2.6338509905617276,-0.24615009881190622,-1.3563798714177406,-0.010712471424971334,-0.1792855346262717,-2.491021744492973,-1.65600761568296,-1.7851067513855936,-1.5116702746648862,-0.7224618344457004,1.3787904516843026,0.5955808196940751,-0.6814393623786672,-0.3512702827848224,0.22198871542588858,0.9203772614553052,1.1207861374512897,-0.1878891345491742,-2.134967330743993,-0.5315599708883078,1.2901321215101482,-0.9746638486265601,1.3504362423756195,0.22187567961617846,-1.036243850622043,0.21020169423694068,-0.8600490685844518,-0.11893757071178306,-0.6237110985162192,0.10272455274750575,-0.5527197266705707,-0.5966054850239472,-0.714544195505012,0.7558384084504671,0.47860199401754233,1.8529902206169564,0.011306827874762424,0.13006406421944774,-0.08385761955036325,0.36191495752762737,0.4570758730669866,0.549217036955326,0.32135746380447205,0.7805965647429625,0.06816024629788889,1.4089943527350002,0.2943525478707354,0.8187033318948898,-0.2052606524140683,0.5745409471241781,0.029596029294744437,-0.03156603275253228,0.41925625031964386,1.0417031198787077,-0.389468804939762,-0.2697654240245767,0.545721367873779,0.15247647528021352,-1.0307077267249567,-1.8853313028569152,-0.6188114214827979,-0.08332410061138514,0.2224378371476041,-0.36281046946289164,1.5393713738816264,-0.8344201975476349,0.4154912510662551,0.2735513764904384,-1.0365306483308943,-1.257434719307078,0.4438216409092564,0.6619848321591348,-0.4137242939260107,-0.14998028742236483,-0.2524841203481316,-1.5890457316394624,-0.3791513678882985,0.3514057168396319],\"yaxis\":\"y9\",\"type\":\"scatter\"},{\"line\":{\"color\":\"rgba(128, 128, 128, 1.0)\",\"dash\":\"solid\",\"shape\":\"linear\",\"width\":1.3},\"marker\":{\"size\":2,\"symbol\":\"circle\"},\"mode\":\"markers\",\"name\":\"C\",\"text\":\"\",\"x\":[-0.8949939745562235,-0.10081740469638696,-0.5935067963171174,-0.39316865154173963,0.40530630884910174,0.4586602330973266,0.9834194539677105,1.0008170337160616,0.6030604319208548,-1.24108213598008,0.6689774898417429,-1.7462108536179457,-0.49760399092156954,-0.35549370576405054,-1.042569669464304,-0.0012514324728663954,-0.6000537686913945,-0.5448907056572506,1.5360712274734536,-0.6416666847641722,-0.23730111471320048,-1.9023180967798081,1.6179485129432796,0.14880660875385976,2.0441521792700987,0.3403729778944682,-0.508956726544393,1.1481932564207318,-0.3323660527558092,-0.19585493608830828,0.009222766308319844,1.3766369986117681,0.04719858580821799,-1.887111341025749,0.8190994981172213,-1.0882829136872194,1.713900352441491,1.6816712616821259,0.2640072561934476,0.04329219467970145,-1.2530505045188787,0.38814340584746565,-0.4434718283401896,0.12642724807207012,-2.4674451497537824,0.7687234852560618,0.36184772293800566,-0.1459995427596467,-2.374448822101066,-0.6903197788738283,-0.07681640573681076,1.5982843804729183,0.6574577228634556,-1.3313447710935715,-0.8526543736985225,-1.8452306890564831,-0.1514233262920145,-0.8633051326821842,-1.0017436343534927,-1.3299139838047351,0.5916940532051198,-0.8651375029310416,-0.32009101541491985,-0.3654722562092443,-1.433984143611732,0.046752121963915455,0.8182820699799663,2.13535371933534,0.2779020791211278,-0.22536633800848135,1.370298339387019,1.1804702035266532,-0.4798839956833346,0.1480843397175848,1.4503741015343206,0.2572218755942087,1.4656438725645362,1.1793718781619216,0.1405436064845857,-0.4499771793631353,0.2343228911286889,-0.5273323738992424,-0.5375462248038378,1.1351118569437255,0.20135904847445885,0.8642497522520891,-1.8006558173862532,-0.636753333865244,0.9364758180016151,-1.7859586833873624,0.5438744516541609,-0.3244573292684904,0.7979614454157512,0.3750242000269216,1.0765539082605646,-0.45588275285980817,-0.4020319590780695,0.2419633355288673,-0.995910690697996,0.5744258727357455],\"xaxis\":\"x10\",\"y\":[0.4182748825410248,-0.9501648839641642,1.9572492963869799,0.02955010329243198,1.7296421491846883,0.019190387326078417,-0.9976894399031897,-1.3557111860103779,-0.057551971505804614,0.866248825096721,0.918759257743273,-0.9409146519698833,-0.7870035138089374,-0.13667913819374114,-0.44589621585578565,-0.0548799787543895,-0.17328399716216347,0.08331166976769992,-1.0155324218630306,0.8243711338194766,-0.30909049862203186,-0.9026384873852197,-2.6338509905617276,-0.24615009881190622,-1.3563798714177406,-0.010712471424971334,-0.1792855346262717,-2.491021744492973,-1.65600761568296,-1.7851067513855936,-1.5116702746648862,-0.7224618344457004,1.3787904516843026,0.5955808196940751,-0.6814393623786672,-0.3512702827848224,0.22198871542588858,0.9203772614553052,1.1207861374512897,-0.1878891345491742,-2.134967330743993,-0.5315599708883078,1.2901321215101482,-0.9746638486265601,1.3504362423756195,0.22187567961617846,-1.036243850622043,0.21020169423694068,-0.8600490685844518,-0.11893757071178306,-0.6237110985162192,0.10272455274750575,-0.5527197266705707,-0.5966054850239472,-0.714544195505012,0.7558384084504671,0.47860199401754233,1.8529902206169564,0.011306827874762424,0.13006406421944774,-0.08385761955036325,0.36191495752762737,0.4570758730669866,0.549217036955326,0.32135746380447205,0.7805965647429625,0.06816024629788889,1.4089943527350002,0.2943525478707354,0.8187033318948898,-0.2052606524140683,0.5745409471241781,0.029596029294744437,-0.03156603275253228,0.41925625031964386,1.0417031198787077,-0.389468804939762,-0.2697654240245767,0.545721367873779,0.15247647528021352,-1.0307077267249567,-1.8853313028569152,-0.6188114214827979,-0.08332410061138514,0.2224378371476041,-0.36281046946289164,1.5393713738816264,-0.8344201975476349,0.4154912510662551,0.2735513764904384,-1.0365306483308943,-1.257434719307078,0.4438216409092564,0.6619848321591348,-0.4137242939260107,-0.14998028742236483,-0.2524841203481316,-1.5890457316394624,-0.3791513678882985,0.3514057168396319],\"yaxis\":\"y10\",\"type\":\"scatter\"},{\"histfunc\":\"count\",\"histnorm\":\"\",\"marker\":{\"color\":\"rgba(50, 171, 96, 1.0)\",\"line\":{\"color\":\"#4D5663\",\"width\":1.3}},\"name\":\"C\",\"nbinsx\":10,\"opacity\":0.8,\"orientation\":\"v\",\"x\":[0.4182748825410248,-0.9501648839641642,1.9572492963869799,0.02955010329243198,1.7296421491846883,0.019190387326078417,-0.9976894399031897,-1.3557111860103779,-0.057551971505804614,0.866248825096721,0.918759257743273,-0.9409146519698833,-0.7870035138089374,-0.13667913819374114,-0.44589621585578565,-0.0548799787543895,-0.17328399716216347,0.08331166976769992,-1.0155324218630306,0.8243711338194766,-0.30909049862203186,-0.9026384873852197,-2.6338509905617276,-0.24615009881190622,-1.3563798714177406,-0.010712471424971334,-0.1792855346262717,-2.491021744492973,-1.65600761568296,-1.7851067513855936,-1.5116702746648862,-0.7224618344457004,1.3787904516843026,0.5955808196940751,-0.6814393623786672,-0.3512702827848224,0.22198871542588858,0.9203772614553052,1.1207861374512897,-0.1878891345491742,-2.134967330743993,-0.5315599708883078,1.2901321215101482,-0.9746638486265601,1.3504362423756195,0.22187567961617846,-1.036243850622043,0.21020169423694068,-0.8600490685844518,-0.11893757071178306,-0.6237110985162192,0.10272455274750575,-0.5527197266705707,-0.5966054850239472,-0.714544195505012,0.7558384084504671,0.47860199401754233,1.8529902206169564,0.011306827874762424,0.13006406421944774,-0.08385761955036325,0.36191495752762737,0.4570758730669866,0.549217036955326,0.32135746380447205,0.7805965647429625,0.06816024629788889,1.4089943527350002,0.2943525478707354,0.8187033318948898,-0.2052606524140683,0.5745409471241781,0.029596029294744437,-0.03156603275253228,0.41925625031964386,1.0417031198787077,-0.389468804939762,-0.2697654240245767,0.545721367873779,0.15247647528021352,-1.0307077267249567,-1.8853313028569152,-0.6188114214827979,-0.08332410061138514,0.2224378371476041,-0.36281046946289164,1.5393713738816264,-0.8344201975476349,0.4154912510662551,0.2735513764904384,-1.0365306483308943,-1.257434719307078,0.4438216409092564,0.6619848321591348,-0.4137242939260107,-0.14998028742236483,-0.2524841203481316,-1.5890457316394624,-0.3791513678882985,0.3514057168396319],\"xaxis\":\"x11\",\"yaxis\":\"y11\",\"type\":\"histogram\"},{\"line\":{\"color\":\"rgba(128, 128, 128, 1.0)\",\"dash\":\"solid\",\"shape\":\"linear\",\"width\":1.3},\"marker\":{\"size\":2,\"symbol\":\"circle\"},\"mode\":\"markers\",\"name\":\"C\",\"text\":\"\",\"x\":[0.9490400916768807,-0.5817897273674895,1.3751326279569862,0.6983409367427372,1.3202939266626874,-2.1122924451091443,0.43902726032111544,-0.41677279219379426,-0.001816133378014878,1.1169424370449708,0.7754906006179377,1.2045513331336668,2.5317969888883103,-2.0530174580656864,0.6771250835065221,2.3634608936636825,0.01177822932377076,-0.3685144136815486,1.1584754022868753,-1.0898068446037572,-1.3806654281690436,0.07898018369346362,1.2195519553515568,0.3621671325880041,0.2602924454464911,-0.8371518675810171,-2.051460467191315,1.2077628267165934,1.7300926948414181,-0.12215229425226767,0.015600656527953567,-2.7007811510391475,-0.6651607858419503,-0.9836342221342753,-0.48346027810829734,0.211035411043917,-0.7339929942961595,0.18654566154080726,-0.388435331357508,1.0659294758381517,-0.8174062451187262,-1.863360326008581,0.02170533465925002,-0.01078944749883684,0.06016298106968525,-1.3506139632491216,-0.4340002286809841,1.719268516512833,0.21234429273735916,-0.6986616473315558,0.7966966290727863,-0.6618447496087041,0.2435755910255371,-0.4563326163093973,0.14321395221847974,0.2660391223089322,0.6249164006717058,0.4800420323908928,1.718494558968777,0.9124543159605855,-1.0259207825585983,-0.8452326336250587,0.7123478150137652,0.7981789784440202,2.8146011813223746,-0.2949647053977815,-0.1507559569732962,-0.20540659515318394,0.6410944678793699,-0.2960177894447896,-0.5560618932264372,0.17390350811927277,-0.8051387497038169,2.2097935555873036,1.1803528557857363,-0.5717490950308154,-0.4107921815038685,-1.5250626088074613,0.07835070436859118,-1.4038796564605016,0.4101091951312039,-0.19345652696729357,-0.42175060892577465,0.3662908497155731,1.0609931116080076,-0.896251862637867,2.595577593718916,1.882590163124815,-0.1759344698152429,0.08004727605282297,-0.8289387751360255,-1.6452383201128569,-1.613980389485375,1.0741266464861978,-1.62241797380832,-0.3113238496656898,0.22659518168244436,0.1814922402909765,-0.10209471636154765,0.6284901743018841],\"xaxis\":\"x12\",\"y\":[0.4182748825410248,-0.9501648839641642,1.9572492963869799,0.02955010329243198,1.7296421491846883,0.019190387326078417,-0.9976894399031897,-1.3557111860103779,-0.057551971505804614,0.866248825096721,0.918759257743273,-0.9409146519698833,-0.7870035138089374,-0.13667913819374114,-0.44589621585578565,-0.0548799787543895,-0.17328399716216347,0.08331166976769992,-1.0155324218630306,0.8243711338194766,-0.30909049862203186,-0.9026384873852197,-2.6338509905617276,-0.24615009881190622,-1.3563798714177406,-0.010712471424971334,-0.1792855346262717,-2.491021744492973,-1.65600761568296,-1.7851067513855936,-1.5116702746648862,-0.7224618344457004,1.3787904516843026,0.5955808196940751,-0.6814393623786672,-0.3512702827848224,0.22198871542588858,0.9203772614553052,1.1207861374512897,-0.1878891345491742,-2.134967330743993,-0.5315599708883078,1.2901321215101482,-0.9746638486265601,1.3504362423756195,0.22187567961617846,-1.036243850622043,0.21020169423694068,-0.8600490685844518,-0.11893757071178306,-0.6237110985162192,0.10272455274750575,-0.5527197266705707,-0.5966054850239472,-0.714544195505012,0.7558384084504671,0.47860199401754233,1.8529902206169564,0.011306827874762424,0.13006406421944774,-0.08385761955036325,0.36191495752762737,0.4570758730669866,0.549217036955326,0.32135746380447205,0.7805965647429625,0.06816024629788889,1.4089943527350002,0.2943525478707354,0.8187033318948898,-0.2052606524140683,0.5745409471241781,0.029596029294744437,-0.03156603275253228,0.41925625031964386,1.0417031198787077,-0.389468804939762,-0.2697654240245767,0.545721367873779,0.15247647528021352,-1.0307077267249567,-1.8853313028569152,-0.6188114214827979,-0.08332410061138514,0.2224378371476041,-0.36281046946289164,1.5393713738816264,-0.8344201975476349,0.4154912510662551,0.2735513764904384,-1.0365306483308943,-1.257434719307078,0.4438216409092564,0.6619848321591348,-0.4137242939260107,-0.14998028742236483,-0.2524841203481316,-1.5890457316394624,-0.3791513678882985,0.3514057168396319],\"yaxis\":\"y12\",\"type\":\"scatter\"},{\"line\":{\"color\":\"rgba(128, 128, 128, 1.0)\",\"dash\":\"solid\",\"shape\":\"linear\",\"width\":1.3},\"marker\":{\"size\":2,\"symbol\":\"circle\"},\"mode\":\"markers\",\"name\":\"D\",\"text\":\"\",\"x\":[-1.940080026219166,1.247986255885124,0.005552480825121469,-1.0027143906099687,1.2817199630272835,0.6476225955696181,-0.47082217801973575,-0.7832385517451328,-0.03200880067877387,-1.7768059287110718,1.554472601034797,-0.5424463994084257,-0.6543854872054302,-0.11738188392573798,0.4472596966018866,0.9093536171517177,-1.2083688867665092,0.9646113134652564,-1.2816508421771076,0.21107539625334415,1.6477264512828698,-0.10189852530746328,0.40252833411893363,-0.09916223822923723,-0.4017650661321447,0.8487489560918642,0.43447876816581626,0.8597839810516802,-0.14736283054749616,-0.9783737935958959,2.2378199514306165,0.36734697202218997,1.451139684431283,-1.6859788511506248,0.8156220067880682,0.3636193503509781,0.33828766799380217,-0.6492731530581983,-2.8505206810637653,0.7693755173217187,0.1558705587486528,0.5465230891949352,0.15193705928030185,-1.826760068829946,-0.6431764080889432,-0.37872160024822626,0.21957155520063143,2.4220943729305358,0.5017857089929868,-1.1935585863968063,0.47459309666712834,0.7463595991333764,-1.0385638073567438,-2.3737232986666266,-1.0022689901390849,0.7571215212013698,0.9851483833519586,-0.6770938029644872,1.1955696275365801,-2.0258331094509665,-0.9855329381386819,0.9925207813085811,1.3443541412173972,0.13503474291828854,-0.4743272748816833,0.7481539445445763,-1.7348108003535843,-3.102177455400545,-1.867960929691828,-1.2183171880602917,0.39246813826290783,0.6284204223734368,1.8605513840343577,1.9154258112084859,-0.46697846254948916,1.5060756881486907,-1.1039222700653184,-0.7010077581019479,-1.8923727669450956,-0.7589049198697577,0.21997246180406196,-0.2527842438625434,-0.48854645727572715,1.146553248248512,2.6426699786080716,0.8951646903900001,-0.0710513488662732,-0.3578505923475407,-0.1634696762619168,0.06029513149636131,0.3497535135832744,0.2629004354778632,-1.6511333120143168,0.372438904621618,-0.18192482315461628,-1.437435952875453,0.11425385213665518,-1.311521797467715,-2.9587834307624434,1.0067860750661797],\"xaxis\":\"x13\",\"y\":[0.9490400916768807,-0.5817897273674895,1.3751326279569862,0.6983409367427372,1.3202939266626874,-2.1122924451091443,0.43902726032111544,-0.41677279219379426,-0.001816133378014878,1.1169424370449708,0.7754906006179377,1.2045513331336668,2.5317969888883103,-2.0530174580656864,0.6771250835065221,2.3634608936636825,0.01177822932377076,-0.3685144136815486,1.1584754022868753,-1.0898068446037572,-1.3806654281690436,0.07898018369346362,1.2195519553515568,0.3621671325880041,0.2602924454464911,-0.8371518675810171,-2.051460467191315,1.2077628267165934,1.7300926948414181,-0.12215229425226767,0.015600656527953567,-2.7007811510391475,-0.6651607858419503,-0.9836342221342753,-0.48346027810829734,0.211035411043917,-0.7339929942961595,0.18654566154080726,-0.388435331357508,1.0659294758381517,-0.8174062451187262,-1.863360326008581,0.02170533465925002,-0.01078944749883684,0.06016298106968525,-1.3506139632491216,-0.4340002286809841,1.719268516512833,0.21234429273735916,-0.6986616473315558,0.7966966290727863,-0.6618447496087041,0.2435755910255371,-0.4563326163093973,0.14321395221847974,0.2660391223089322,0.6249164006717058,0.4800420323908928,1.718494558968777,0.9124543159605855,-1.0259207825585983,-0.8452326336250587,0.7123478150137652,0.7981789784440202,2.8146011813223746,-0.2949647053977815,-0.1507559569732962,-0.20540659515318394,0.6410944678793699,-0.2960177894447896,-0.5560618932264372,0.17390350811927277,-0.8051387497038169,2.2097935555873036,1.1803528557857363,-0.5717490950308154,-0.4107921815038685,-1.5250626088074613,0.07835070436859118,-1.4038796564605016,0.4101091951312039,-0.19345652696729357,-0.42175060892577465,0.3662908497155731,1.0609931116080076,-0.896251862637867,2.595577593718916,1.882590163124815,-0.1759344698152429,0.08004727605282297,-0.8289387751360255,-1.6452383201128569,-1.613980389485375,1.0741266464861978,-1.62241797380832,-0.3113238496656898,0.22659518168244436,0.1814922402909765,-0.10209471636154765,0.6284901743018841],\"yaxis\":\"y13\",\"type\":\"scatter\"},{\"line\":{\"color\":\"rgba(128, 128, 128, 1.0)\",\"dash\":\"solid\",\"shape\":\"linear\",\"width\":1.3},\"marker\":{\"size\":2,\"symbol\":\"circle\"},\"mode\":\"markers\",\"name\":\"D\",\"text\":\"\",\"x\":[-0.8949939745562235,-0.10081740469638696,-0.5935067963171174,-0.39316865154173963,0.40530630884910174,0.4586602330973266,0.9834194539677105,1.0008170337160616,0.6030604319208548,-1.24108213598008,0.6689774898417429,-1.7462108536179457,-0.49760399092156954,-0.35549370576405054,-1.042569669464304,-0.0012514324728663954,-0.6000537686913945,-0.5448907056572506,1.5360712274734536,-0.6416666847641722,-0.23730111471320048,-1.9023180967798081,1.6179485129432796,0.14880660875385976,2.0441521792700987,0.3403729778944682,-0.508956726544393,1.1481932564207318,-0.3323660527558092,-0.19585493608830828,0.009222766308319844,1.3766369986117681,0.04719858580821799,-1.887111341025749,0.8190994981172213,-1.0882829136872194,1.713900352441491,1.6816712616821259,0.2640072561934476,0.04329219467970145,-1.2530505045188787,0.38814340584746565,-0.4434718283401896,0.12642724807207012,-2.4674451497537824,0.7687234852560618,0.36184772293800566,-0.1459995427596467,-2.374448822101066,-0.6903197788738283,-0.07681640573681076,1.5982843804729183,0.6574577228634556,-1.3313447710935715,-0.8526543736985225,-1.8452306890564831,-0.1514233262920145,-0.8633051326821842,-1.0017436343534927,-1.3299139838047351,0.5916940532051198,-0.8651375029310416,-0.32009101541491985,-0.3654722562092443,-1.433984143611732,0.046752121963915455,0.8182820699799663,2.13535371933534,0.2779020791211278,-0.22536633800848135,1.370298339387019,1.1804702035266532,-0.4798839956833346,0.1480843397175848,1.4503741015343206,0.2572218755942087,1.4656438725645362,1.1793718781619216,0.1405436064845857,-0.4499771793631353,0.2343228911286889,-0.5273323738992424,-0.5375462248038378,1.1351118569437255,0.20135904847445885,0.8642497522520891,-1.8006558173862532,-0.636753333865244,0.9364758180016151,-1.7859586833873624,0.5438744516541609,-0.3244573292684904,0.7979614454157512,0.3750242000269216,1.0765539082605646,-0.45588275285980817,-0.4020319590780695,0.2419633355288673,-0.995910690697996,0.5744258727357455],\"xaxis\":\"x14\",\"y\":[0.9490400916768807,-0.5817897273674895,1.3751326279569862,0.6983409367427372,1.3202939266626874,-2.1122924451091443,0.43902726032111544,-0.41677279219379426,-0.001816133378014878,1.1169424370449708,0.7754906006179377,1.2045513331336668,2.5317969888883103,-2.0530174580656864,0.6771250835065221,2.3634608936636825,0.01177822932377076,-0.3685144136815486,1.1584754022868753,-1.0898068446037572,-1.3806654281690436,0.07898018369346362,1.2195519553515568,0.3621671325880041,0.2602924454464911,-0.8371518675810171,-2.051460467191315,1.2077628267165934,1.7300926948414181,-0.12215229425226767,0.015600656527953567,-2.7007811510391475,-0.6651607858419503,-0.9836342221342753,-0.48346027810829734,0.211035411043917,-0.7339929942961595,0.18654566154080726,-0.388435331357508,1.0659294758381517,-0.8174062451187262,-1.863360326008581,0.02170533465925002,-0.01078944749883684,0.06016298106968525,-1.3506139632491216,-0.4340002286809841,1.719268516512833,0.21234429273735916,-0.6986616473315558,0.7966966290727863,-0.6618447496087041,0.2435755910255371,-0.4563326163093973,0.14321395221847974,0.2660391223089322,0.6249164006717058,0.4800420323908928,1.718494558968777,0.9124543159605855,-1.0259207825585983,-0.8452326336250587,0.7123478150137652,0.7981789784440202,2.8146011813223746,-0.2949647053977815,-0.1507559569732962,-0.20540659515318394,0.6410944678793699,-0.2960177894447896,-0.5560618932264372,0.17390350811927277,-0.8051387497038169,2.2097935555873036,1.1803528557857363,-0.5717490950308154,-0.4107921815038685,-1.5250626088074613,0.07835070436859118,-1.4038796564605016,0.4101091951312039,-0.19345652696729357,-0.42175060892577465,0.3662908497155731,1.0609931116080076,-0.896251862637867,2.595577593718916,1.882590163124815,-0.1759344698152429,0.08004727605282297,-0.8289387751360255,-1.6452383201128569,-1.613980389485375,1.0741266464861978,-1.62241797380832,-0.3113238496656898,0.22659518168244436,0.1814922402909765,-0.10209471636154765,0.6284901743018841],\"yaxis\":\"y14\",\"type\":\"scatter\"},{\"line\":{\"color\":\"rgba(128, 128, 128, 1.0)\",\"dash\":\"solid\",\"shape\":\"linear\",\"width\":1.3},\"marker\":{\"size\":2,\"symbol\":\"circle\"},\"mode\":\"markers\",\"name\":\"D\",\"text\":\"\",\"x\":[0.4182748825410248,-0.9501648839641642,1.9572492963869799,0.02955010329243198,1.7296421491846883,0.019190387326078417,-0.9976894399031897,-1.3557111860103779,-0.057551971505804614,0.866248825096721,0.918759257743273,-0.9409146519698833,-0.7870035138089374,-0.13667913819374114,-0.44589621585578565,-0.0548799787543895,-0.17328399716216347,0.08331166976769992,-1.0155324218630306,0.8243711338194766,-0.30909049862203186,-0.9026384873852197,-2.6338509905617276,-0.24615009881190622,-1.3563798714177406,-0.010712471424971334,-0.1792855346262717,-2.491021744492973,-1.65600761568296,-1.7851067513855936,-1.5116702746648862,-0.7224618344457004,1.3787904516843026,0.5955808196940751,-0.6814393623786672,-0.3512702827848224,0.22198871542588858,0.9203772614553052,1.1207861374512897,-0.1878891345491742,-2.134967330743993,-0.5315599708883078,1.2901321215101482,-0.9746638486265601,1.3504362423756195,0.22187567961617846,-1.036243850622043,0.21020169423694068,-0.8600490685844518,-0.11893757071178306,-0.6237110985162192,0.10272455274750575,-0.5527197266705707,-0.5966054850239472,-0.714544195505012,0.7558384084504671,0.47860199401754233,1.8529902206169564,0.011306827874762424,0.13006406421944774,-0.08385761955036325,0.36191495752762737,0.4570758730669866,0.549217036955326,0.32135746380447205,0.7805965647429625,0.06816024629788889,1.4089943527350002,0.2943525478707354,0.8187033318948898,-0.2052606524140683,0.5745409471241781,0.029596029294744437,-0.03156603275253228,0.41925625031964386,1.0417031198787077,-0.389468804939762,-0.2697654240245767,0.545721367873779,0.15247647528021352,-1.0307077267249567,-1.8853313028569152,-0.6188114214827979,-0.08332410061138514,0.2224378371476041,-0.36281046946289164,1.5393713738816264,-0.8344201975476349,0.4154912510662551,0.2735513764904384,-1.0365306483308943,-1.257434719307078,0.4438216409092564,0.6619848321591348,-0.4137242939260107,-0.14998028742236483,-0.2524841203481316,-1.5890457316394624,-0.3791513678882985,0.3514057168396319],\"xaxis\":\"x15\",\"y\":[0.9490400916768807,-0.5817897273674895,1.3751326279569862,0.6983409367427372,1.3202939266626874,-2.1122924451091443,0.43902726032111544,-0.41677279219379426,-0.001816133378014878,1.1169424370449708,0.7754906006179377,1.2045513331336668,2.5317969888883103,-2.0530174580656864,0.6771250835065221,2.3634608936636825,0.01177822932377076,-0.3685144136815486,1.1584754022868753,-1.0898068446037572,-1.3806654281690436,0.07898018369346362,1.2195519553515568,0.3621671325880041,0.2602924454464911,-0.8371518675810171,-2.051460467191315,1.2077628267165934,1.7300926948414181,-0.12215229425226767,0.015600656527953567,-2.7007811510391475,-0.6651607858419503,-0.9836342221342753,-0.48346027810829734,0.211035411043917,-0.7339929942961595,0.18654566154080726,-0.388435331357508,1.0659294758381517,-0.8174062451187262,-1.863360326008581,0.02170533465925002,-0.01078944749883684,0.06016298106968525,-1.3506139632491216,-0.4340002286809841,1.719268516512833,0.21234429273735916,-0.6986616473315558,0.7966966290727863,-0.6618447496087041,0.2435755910255371,-0.4563326163093973,0.14321395221847974,0.2660391223089322,0.6249164006717058,0.4800420323908928,1.718494558968777,0.9124543159605855,-1.0259207825585983,-0.8452326336250587,0.7123478150137652,0.7981789784440202,2.8146011813223746,-0.2949647053977815,-0.1507559569732962,-0.20540659515318394,0.6410944678793699,-0.2960177894447896,-0.5560618932264372,0.17390350811927277,-0.8051387497038169,2.2097935555873036,1.1803528557857363,-0.5717490950308154,-0.4107921815038685,-1.5250626088074613,0.07835070436859118,-1.4038796564605016,0.4101091951312039,-0.19345652696729357,-0.42175060892577465,0.3662908497155731,1.0609931116080076,-0.896251862637867,2.595577593718916,1.882590163124815,-0.1759344698152429,0.08004727605282297,-0.8289387751360255,-1.6452383201128569,-1.613980389485375,1.0741266464861978,-1.62241797380832,-0.3113238496656898,0.22659518168244436,0.1814922402909765,-0.10209471636154765,0.6284901743018841],\"yaxis\":\"y15\",\"type\":\"scatter\"},{\"histfunc\":\"count\",\"histnorm\":\"\",\"marker\":{\"color\":\"rgba(128, 0, 128, 1.0)\",\"line\":{\"color\":\"#4D5663\",\"width\":1.3}},\"name\":\"D\",\"nbinsx\":10,\"opacity\":0.8,\"orientation\":\"v\",\"x\":[0.9490400916768807,-0.5817897273674895,1.3751326279569862,0.6983409367427372,1.3202939266626874,-2.1122924451091443,0.43902726032111544,-0.41677279219379426,-0.001816133378014878,1.1169424370449708,0.7754906006179377,1.2045513331336668,2.5317969888883103,-2.0530174580656864,0.6771250835065221,2.3634608936636825,0.01177822932377076,-0.3685144136815486,1.1584754022868753,-1.0898068446037572,-1.3806654281690436,0.07898018369346362,1.2195519553515568,0.3621671325880041,0.2602924454464911,-0.8371518675810171,-2.051460467191315,1.2077628267165934,1.7300926948414181,-0.12215229425226767,0.015600656527953567,-2.7007811510391475,-0.6651607858419503,-0.9836342221342753,-0.48346027810829734,0.211035411043917,-0.7339929942961595,0.18654566154080726,-0.388435331357508,1.0659294758381517,-0.8174062451187262,-1.863360326008581,0.02170533465925002,-0.01078944749883684,0.06016298106968525,-1.3506139632491216,-0.4340002286809841,1.719268516512833,0.21234429273735916,-0.6986616473315558,0.7966966290727863,-0.6618447496087041,0.2435755910255371,-0.4563326163093973,0.14321395221847974,0.2660391223089322,0.6249164006717058,0.4800420323908928,1.718494558968777,0.9124543159605855,-1.0259207825585983,-0.8452326336250587,0.7123478150137652,0.7981789784440202,2.8146011813223746,-0.2949647053977815,-0.1507559569732962,-0.20540659515318394,0.6410944678793699,-0.2960177894447896,-0.5560618932264372,0.17390350811927277,-0.8051387497038169,2.2097935555873036,1.1803528557857363,-0.5717490950308154,-0.4107921815038685,-1.5250626088074613,0.07835070436859118,-1.4038796564605016,0.4101091951312039,-0.19345652696729357,-0.42175060892577465,0.3662908497155731,1.0609931116080076,-0.896251862637867,2.595577593718916,1.882590163124815,-0.1759344698152429,0.08004727605282297,-0.8289387751360255,-1.6452383201128569,-1.613980389485375,1.0741266464861978,-1.62241797380832,-0.3113238496656898,0.22659518168244436,0.1814922402909765,-0.10209471636154765,0.6284901743018841],\"xaxis\":\"x16\",\"yaxis\":\"y16\",\"type\":\"histogram\"}],                        {\"bargap\":0.02,\"legend\":{\"bgcolor\":\"#F5F6F9\",\"font\":{\"color\":\"#4D5663\"}},\"paper_bgcolor\":\"#F5F6F9\",\"plot_bgcolor\":\"#F5F6F9\",\"showlegend\":false,\"template\":{\"data\":{\"barpolar\":[{\"marker\":{\"line\":{\"color\":\"#E5ECF6\",\"width\":0.5},\"pattern\":{\"fillmode\":\"overlay\",\"size\":10,\"solidity\":0.2}},\"type\":\"barpolar\"}],\"bar\":[{\"error_x\":{\"color\":\"#2a3f5f\"},\"error_y\":{\"color\":\"#2a3f5f\"},\"marker\":{\"line\":{\"color\":\"#E5ECF6\",\"width\":0.5},\"pattern\":{\"fillmode\":\"overlay\",\"size\":10,\"solidity\":0.2}},\"type\":\"bar\"}],\"carpet\":[{\"aaxis\":{\"endlinecolor\":\"#2a3f5f\",\"gridcolor\":\"white\",\"linecolor\":\"white\",\"minorgridcolor\":\"white\",\"startlinecolor\":\"#2a3f5f\"},\"baxis\":{\"endlinecolor\":\"#2a3f5f\",\"gridcolor\":\"white\",\"linecolor\":\"white\",\"minorgridcolor\":\"white\",\"startlinecolor\":\"#2a3f5f\"},\"type\":\"carpet\"}],\"choropleth\":[{\"colorbar\":{\"outlinewidth\":0,\"ticks\":\"\"},\"type\":\"choropleth\"}],\"contourcarpet\":[{\"colorbar\":{\"outlinewidth\":0,\"ticks\":\"\"},\"type\":\"contourcarpet\"}],\"contour\":[{\"colorbar\":{\"outlinewidth\":0,\"ticks\":\"\"},\"colorscale\":[[0.0,\"#0d0887\"],[0.1111111111111111,\"#46039f\"],[0.2222222222222222,\"#7201a8\"],[0.3333333333333333,\"#9c179e\"],[0.4444444444444444,\"#bd3786\"],[0.5555555555555556,\"#d8576b\"],[0.6666666666666666,\"#ed7953\"],[0.7777777777777778,\"#fb9f3a\"],[0.8888888888888888,\"#fdca26\"],[1.0,\"#f0f921\"]],\"type\":\"contour\"}],\"heatmapgl\":[{\"colorbar\":{\"outlinewidth\":0,\"ticks\":\"\"},\"colorscale\":[[0.0,\"#0d0887\"],[0.1111111111111111,\"#46039f\"],[0.2222222222222222,\"#7201a8\"],[0.3333333333333333,\"#9c179e\"],[0.4444444444444444,\"#bd3786\"],[0.5555555555555556,\"#d8576b\"],[0.6666666666666666,\"#ed7953\"],[0.7777777777777778,\"#fb9f3a\"],[0.8888888888888888,\"#fdca26\"],[1.0,\"#f0f921\"]],\"type\":\"heatmapgl\"}],\"heatmap\":[{\"colorbar\":{\"outlinewidth\":0,\"ticks\":\"\"},\"colorscale\":[[0.0,\"#0d0887\"],[0.1111111111111111,\"#46039f\"],[0.2222222222222222,\"#7201a8\"],[0.3333333333333333,\"#9c179e\"],[0.4444444444444444,\"#bd3786\"],[0.5555555555555556,\"#d8576b\"],[0.6666666666666666,\"#ed7953\"],[0.7777777777777778,\"#fb9f3a\"],[0.8888888888888888,\"#fdca26\"],[1.0,\"#f0f921\"]],\"type\":\"heatmap\"}],\"histogram2dcontour\":[{\"colorbar\":{\"outlinewidth\":0,\"ticks\":\"\"},\"colorscale\":[[0.0,\"#0d0887\"],[0.1111111111111111,\"#46039f\"],[0.2222222222222222,\"#7201a8\"],[0.3333333333333333,\"#9c179e\"],[0.4444444444444444,\"#bd3786\"],[0.5555555555555556,\"#d8576b\"],[0.6666666666666666,\"#ed7953\"],[0.7777777777777778,\"#fb9f3a\"],[0.8888888888888888,\"#fdca26\"],[1.0,\"#f0f921\"]],\"type\":\"histogram2dcontour\"}],\"histogram2d\":[{\"colorbar\":{\"outlinewidth\":0,\"ticks\":\"\"},\"colorscale\":[[0.0,\"#0d0887\"],[0.1111111111111111,\"#46039f\"],[0.2222222222222222,\"#7201a8\"],[0.3333333333333333,\"#9c179e\"],[0.4444444444444444,\"#bd3786\"],[0.5555555555555556,\"#d8576b\"],[0.6666666666666666,\"#ed7953\"],[0.7777777777777778,\"#fb9f3a\"],[0.8888888888888888,\"#fdca26\"],[1.0,\"#f0f921\"]],\"type\":\"histogram2d\"}],\"histogram\":[{\"marker\":{\"pattern\":{\"fillmode\":\"overlay\",\"size\":10,\"solidity\":0.2}},\"type\":\"histogram\"}],\"mesh3d\":[{\"colorbar\":{\"outlinewidth\":0,\"ticks\":\"\"},\"type\":\"mesh3d\"}],\"parcoords\":[{\"line\":{\"colorbar\":{\"outlinewidth\":0,\"ticks\":\"\"}},\"type\":\"parcoords\"}],\"pie\":[{\"automargin\":true,\"type\":\"pie\"}],\"scatter3d\":[{\"line\":{\"colorbar\":{\"outlinewidth\":0,\"ticks\":\"\"}},\"marker\":{\"colorbar\":{\"outlinewidth\":0,\"ticks\":\"\"}},\"type\":\"scatter3d\"}],\"scattercarpet\":[{\"marker\":{\"colorbar\":{\"outlinewidth\":0,\"ticks\":\"\"}},\"type\":\"scattercarpet\"}],\"scattergeo\":[{\"marker\":{\"colorbar\":{\"outlinewidth\":0,\"ticks\":\"\"}},\"type\":\"scattergeo\"}],\"scattergl\":[{\"marker\":{\"colorbar\":{\"outlinewidth\":0,\"ticks\":\"\"}},\"type\":\"scattergl\"}],\"scattermapbox\":[{\"marker\":{\"colorbar\":{\"outlinewidth\":0,\"ticks\":\"\"}},\"type\":\"scattermapbox\"}],\"scatterpolargl\":[{\"marker\":{\"colorbar\":{\"outlinewidth\":0,\"ticks\":\"\"}},\"type\":\"scatterpolargl\"}],\"scatterpolar\":[{\"marker\":{\"colorbar\":{\"outlinewidth\":0,\"ticks\":\"\"}},\"type\":\"scatterpolar\"}],\"scatter\":[{\"marker\":{\"colorbar\":{\"outlinewidth\":0,\"ticks\":\"\"}},\"type\":\"scatter\"}],\"scatterternary\":[{\"marker\":{\"colorbar\":{\"outlinewidth\":0,\"ticks\":\"\"}},\"type\":\"scatterternary\"}],\"surface\":[{\"colorbar\":{\"outlinewidth\":0,\"ticks\":\"\"},\"colorscale\":[[0.0,\"#0d0887\"],[0.1111111111111111,\"#46039f\"],[0.2222222222222222,\"#7201a8\"],[0.3333333333333333,\"#9c179e\"],[0.4444444444444444,\"#bd3786\"],[0.5555555555555556,\"#d8576b\"],[0.6666666666666666,\"#ed7953\"],[0.7777777777777778,\"#fb9f3a\"],[0.8888888888888888,\"#fdca26\"],[1.0,\"#f0f921\"]],\"type\":\"surface\"}],\"table\":[{\"cells\":{\"fill\":{\"color\":\"#EBF0F8\"},\"line\":{\"color\":\"white\"}},\"header\":{\"fill\":{\"color\":\"#C8D4E3\"},\"line\":{\"color\":\"white\"}},\"type\":\"table\"}]},\"layout\":{\"annotationdefaults\":{\"arrowcolor\":\"#2a3f5f\",\"arrowhead\":0,\"arrowwidth\":1},\"autotypenumbers\":\"strict\",\"coloraxis\":{\"colorbar\":{\"outlinewidth\":0,\"ticks\":\"\"}},\"colorscale\":{\"diverging\":[[0,\"#8e0152\"],[0.1,\"#c51b7d\"],[0.2,\"#de77ae\"],[0.3,\"#f1b6da\"],[0.4,\"#fde0ef\"],[0.5,\"#f7f7f7\"],[0.6,\"#e6f5d0\"],[0.7,\"#b8e186\"],[0.8,\"#7fbc41\"],[0.9,\"#4d9221\"],[1,\"#276419\"]],\"sequential\":[[0.0,\"#0d0887\"],[0.1111111111111111,\"#46039f\"],[0.2222222222222222,\"#7201a8\"],[0.3333333333333333,\"#9c179e\"],[0.4444444444444444,\"#bd3786\"],[0.5555555555555556,\"#d8576b\"],[0.6666666666666666,\"#ed7953\"],[0.7777777777777778,\"#fb9f3a\"],[0.8888888888888888,\"#fdca26\"],[1.0,\"#f0f921\"]],\"sequentialminus\":[[0.0,\"#0d0887\"],[0.1111111111111111,\"#46039f\"],[0.2222222222222222,\"#7201a8\"],[0.3333333333333333,\"#9c179e\"],[0.4444444444444444,\"#bd3786\"],[0.5555555555555556,\"#d8576b\"],[0.6666666666666666,\"#ed7953\"],[0.7777777777777778,\"#fb9f3a\"],[0.8888888888888888,\"#fdca26\"],[1.0,\"#f0f921\"]]},\"colorway\":[\"#636efa\",\"#EF553B\",\"#00cc96\",\"#ab63fa\",\"#FFA15A\",\"#19d3f3\",\"#FF6692\",\"#B6E880\",\"#FF97FF\",\"#FECB52\"],\"font\":{\"color\":\"#2a3f5f\"},\"geo\":{\"bgcolor\":\"white\",\"lakecolor\":\"white\",\"landcolor\":\"#E5ECF6\",\"showlakes\":true,\"showland\":true,\"subunitcolor\":\"white\"},\"hoverlabel\":{\"align\":\"left\"},\"hovermode\":\"closest\",\"mapbox\":{\"style\":\"light\"},\"paper_bgcolor\":\"white\",\"plot_bgcolor\":\"#E5ECF6\",\"polar\":{\"angularaxis\":{\"gridcolor\":\"white\",\"linecolor\":\"white\",\"ticks\":\"\"},\"bgcolor\":\"#E5ECF6\",\"radialaxis\":{\"gridcolor\":\"white\",\"linecolor\":\"white\",\"ticks\":\"\"}},\"scene\":{\"xaxis\":{\"backgroundcolor\":\"#E5ECF6\",\"gridcolor\":\"white\",\"gridwidth\":2,\"linecolor\":\"white\",\"showbackground\":true,\"ticks\":\"\",\"zerolinecolor\":\"white\"},\"yaxis\":{\"backgroundcolor\":\"#E5ECF6\",\"gridcolor\":\"white\",\"gridwidth\":2,\"linecolor\":\"white\",\"showbackground\":true,\"ticks\":\"\",\"zerolinecolor\":\"white\"},\"zaxis\":{\"backgroundcolor\":\"#E5ECF6\",\"gridcolor\":\"white\",\"gridwidth\":2,\"linecolor\":\"white\",\"showbackground\":true,\"ticks\":\"\",\"zerolinecolor\":\"white\"}},\"shapedefaults\":{\"line\":{\"color\":\"#2a3f5f\"}},\"ternary\":{\"aaxis\":{\"gridcolor\":\"white\",\"linecolor\":\"white\",\"ticks\":\"\"},\"baxis\":{\"gridcolor\":\"white\",\"linecolor\":\"white\",\"ticks\":\"\"},\"bgcolor\":\"#E5ECF6\",\"caxis\":{\"gridcolor\":\"white\",\"linecolor\":\"white\",\"ticks\":\"\"}},\"title\":{\"x\":0.05},\"xaxis\":{\"automargin\":true,\"gridcolor\":\"white\",\"linecolor\":\"white\",\"ticks\":\"\",\"title\":{\"standoff\":15},\"zerolinecolor\":\"white\",\"zerolinewidth\":2},\"yaxis\":{\"automargin\":true,\"gridcolor\":\"white\",\"linecolor\":\"white\",\"ticks\":\"\",\"title\":{\"standoff\":15},\"zerolinecolor\":\"white\",\"zerolinewidth\":2}}},\"title\":{\"font\":{\"color\":\"#4D5663\"}},\"xaxis\":{\"anchor\":\"y\",\"domain\":[0.0,0.2125],\"gridcolor\":\"#E1E5ED\",\"showgrid\":false,\"tickfont\":{\"color\":\"#4D5663\"},\"title\":{\"font\":{\"color\":\"#4D5663\"},\"text\":\"\"},\"zerolinecolor\":\"#E1E5ED\"},\"yaxis\":{\"anchor\":\"x\",\"domain\":[0.8025,1.0],\"gridcolor\":\"#E1E5ED\",\"showgrid\":false,\"tickfont\":{\"color\":\"#4D5663\"},\"title\":{\"font\":{\"color\":\"#4D5663\"},\"text\":\"\"},\"zerolinecolor\":\"#E1E5ED\"},\"xaxis2\":{\"anchor\":\"y2\",\"domain\":[0.2625,0.475],\"gridcolor\":\"#E1E5ED\",\"showgrid\":false,\"tickfont\":{\"color\":\"#4D5663\"},\"title\":{\"font\":{\"color\":\"#4D5663\"},\"text\":\"\"},\"zerolinecolor\":\"#E1E5ED\"},\"yaxis2\":{\"anchor\":\"x2\",\"domain\":[0.8025,1.0],\"gridcolor\":\"#E1E5ED\",\"showgrid\":false,\"tickfont\":{\"color\":\"#4D5663\"},\"title\":{\"font\":{\"color\":\"#4D5663\"},\"text\":\"\"},\"zerolinecolor\":\"#E1E5ED\"},\"xaxis3\":{\"anchor\":\"y3\",\"domain\":[0.525,0.7375],\"gridcolor\":\"#E1E5ED\",\"showgrid\":false,\"tickfont\":{\"color\":\"#4D5663\"},\"title\":{\"font\":{\"color\":\"#4D5663\"},\"text\":\"\"},\"zerolinecolor\":\"#E1E5ED\"},\"yaxis3\":{\"anchor\":\"x3\",\"domain\":[0.8025,1.0],\"gridcolor\":\"#E1E5ED\",\"showgrid\":false,\"tickfont\":{\"color\":\"#4D5663\"},\"title\":{\"font\":{\"color\":\"#4D5663\"},\"text\":\"\"},\"zerolinecolor\":\"#E1E5ED\"},\"xaxis4\":{\"anchor\":\"y4\",\"domain\":[0.7875,1.0],\"gridcolor\":\"#E1E5ED\",\"showgrid\":false,\"tickfont\":{\"color\":\"#4D5663\"},\"title\":{\"font\":{\"color\":\"#4D5663\"},\"text\":\"\"},\"zerolinecolor\":\"#E1E5ED\"},\"yaxis4\":{\"anchor\":\"x4\",\"domain\":[0.8025,1.0],\"gridcolor\":\"#E1E5ED\",\"showgrid\":false,\"tickfont\":{\"color\":\"#4D5663\"},\"title\":{\"font\":{\"color\":\"#4D5663\"},\"text\":\"\"},\"zerolinecolor\":\"#E1E5ED\"},\"xaxis5\":{\"anchor\":\"y5\",\"domain\":[0.0,0.2125],\"gridcolor\":\"#E1E5ED\",\"showgrid\":false,\"tickfont\":{\"color\":\"#4D5663\"},\"title\":{\"font\":{\"color\":\"#4D5663\"},\"text\":\"\"},\"zerolinecolor\":\"#E1E5ED\"},\"yaxis5\":{\"anchor\":\"x5\",\"domain\":[0.535,0.7325],\"gridcolor\":\"#E1E5ED\",\"showgrid\":false,\"tickfont\":{\"color\":\"#4D5663\"},\"title\":{\"font\":{\"color\":\"#4D5663\"},\"text\":\"\"},\"zerolinecolor\":\"#E1E5ED\"},\"xaxis6\":{\"anchor\":\"y6\",\"domain\":[0.2625,0.475],\"gridcolor\":\"#E1E5ED\",\"showgrid\":false,\"tickfont\":{\"color\":\"#4D5663\"},\"title\":{\"font\":{\"color\":\"#4D5663\"},\"text\":\"\"},\"zerolinecolor\":\"#E1E5ED\"},\"yaxis6\":{\"anchor\":\"x6\",\"domain\":[0.535,0.7325],\"gridcolor\":\"#E1E5ED\",\"showgrid\":false,\"tickfont\":{\"color\":\"#4D5663\"},\"title\":{\"font\":{\"color\":\"#4D5663\"},\"text\":\"\"},\"zerolinecolor\":\"#E1E5ED\"},\"xaxis7\":{\"anchor\":\"y7\",\"domain\":[0.525,0.7375],\"gridcolor\":\"#E1E5ED\",\"showgrid\":false,\"tickfont\":{\"color\":\"#4D5663\"},\"title\":{\"font\":{\"color\":\"#4D5663\"},\"text\":\"\"},\"zerolinecolor\":\"#E1E5ED\"},\"yaxis7\":{\"anchor\":\"x7\",\"domain\":[0.535,0.7325],\"gridcolor\":\"#E1E5ED\",\"showgrid\":false,\"tickfont\":{\"color\":\"#4D5663\"},\"title\":{\"font\":{\"color\":\"#4D5663\"},\"text\":\"\"},\"zerolinecolor\":\"#E1E5ED\"},\"xaxis8\":{\"anchor\":\"y8\",\"domain\":[0.7875,1.0],\"gridcolor\":\"#E1E5ED\",\"showgrid\":false,\"tickfont\":{\"color\":\"#4D5663\"},\"title\":{\"font\":{\"color\":\"#4D5663\"},\"text\":\"\"},\"zerolinecolor\":\"#E1E5ED\"},\"yaxis8\":{\"anchor\":\"x8\",\"domain\":[0.535,0.7325],\"gridcolor\":\"#E1E5ED\",\"showgrid\":false,\"tickfont\":{\"color\":\"#4D5663\"},\"title\":{\"font\":{\"color\":\"#4D5663\"},\"text\":\"\"},\"zerolinecolor\":\"#E1E5ED\"},\"xaxis9\":{\"anchor\":\"y9\",\"domain\":[0.0,0.2125],\"gridcolor\":\"#E1E5ED\",\"showgrid\":false,\"tickfont\":{\"color\":\"#4D5663\"},\"title\":{\"font\":{\"color\":\"#4D5663\"},\"text\":\"\"},\"zerolinecolor\":\"#E1E5ED\"},\"yaxis9\":{\"anchor\":\"x9\",\"domain\":[0.2675,0.465],\"gridcolor\":\"#E1E5ED\",\"showgrid\":false,\"tickfont\":{\"color\":\"#4D5663\"},\"title\":{\"font\":{\"color\":\"#4D5663\"},\"text\":\"\"},\"zerolinecolor\":\"#E1E5ED\"},\"xaxis10\":{\"anchor\":\"y10\",\"domain\":[0.2625,0.475],\"gridcolor\":\"#E1E5ED\",\"showgrid\":false,\"tickfont\":{\"color\":\"#4D5663\"},\"title\":{\"font\":{\"color\":\"#4D5663\"},\"text\":\"\"},\"zerolinecolor\":\"#E1E5ED\"},\"yaxis10\":{\"anchor\":\"x10\",\"domain\":[0.2675,0.465],\"gridcolor\":\"#E1E5ED\",\"showgrid\":false,\"tickfont\":{\"color\":\"#4D5663\"},\"title\":{\"font\":{\"color\":\"#4D5663\"},\"text\":\"\"},\"zerolinecolor\":\"#E1E5ED\"},\"xaxis11\":{\"anchor\":\"y11\",\"domain\":[0.525,0.7375],\"gridcolor\":\"#E1E5ED\",\"showgrid\":false,\"tickfont\":{\"color\":\"#4D5663\"},\"title\":{\"font\":{\"color\":\"#4D5663\"},\"text\":\"\"},\"zerolinecolor\":\"#E1E5ED\"},\"yaxis11\":{\"anchor\":\"x11\",\"domain\":[0.2675,0.465],\"gridcolor\":\"#E1E5ED\",\"showgrid\":false,\"tickfont\":{\"color\":\"#4D5663\"},\"title\":{\"font\":{\"color\":\"#4D5663\"},\"text\":\"\"},\"zerolinecolor\":\"#E1E5ED\"},\"xaxis12\":{\"anchor\":\"y12\",\"domain\":[0.7875,1.0],\"gridcolor\":\"#E1E5ED\",\"showgrid\":false,\"tickfont\":{\"color\":\"#4D5663\"},\"title\":{\"font\":{\"color\":\"#4D5663\"},\"text\":\"\"},\"zerolinecolor\":\"#E1E5ED\"},\"yaxis12\":{\"anchor\":\"x12\",\"domain\":[0.2675,0.465],\"gridcolor\":\"#E1E5ED\",\"showgrid\":false,\"tickfont\":{\"color\":\"#4D5663\"},\"title\":{\"font\":{\"color\":\"#4D5663\"},\"text\":\"\"},\"zerolinecolor\":\"#E1E5ED\"},\"xaxis13\":{\"anchor\":\"y13\",\"domain\":[0.0,0.2125],\"gridcolor\":\"#E1E5ED\",\"showgrid\":false,\"tickfont\":{\"color\":\"#4D5663\"},\"title\":{\"font\":{\"color\":\"#4D5663\"},\"text\":\"\"},\"zerolinecolor\":\"#E1E5ED\"},\"yaxis13\":{\"anchor\":\"x13\",\"domain\":[0.0,0.1975],\"gridcolor\":\"#E1E5ED\",\"showgrid\":false,\"tickfont\":{\"color\":\"#4D5663\"},\"title\":{\"font\":{\"color\":\"#4D5663\"},\"text\":\"\"},\"zerolinecolor\":\"#E1E5ED\"},\"xaxis14\":{\"anchor\":\"y14\",\"domain\":[0.2625,0.475],\"gridcolor\":\"#E1E5ED\",\"showgrid\":false,\"tickfont\":{\"color\":\"#4D5663\"},\"title\":{\"font\":{\"color\":\"#4D5663\"},\"text\":\"\"},\"zerolinecolor\":\"#E1E5ED\"},\"yaxis14\":{\"anchor\":\"x14\",\"domain\":[0.0,0.1975],\"gridcolor\":\"#E1E5ED\",\"showgrid\":false,\"tickfont\":{\"color\":\"#4D5663\"},\"title\":{\"font\":{\"color\":\"#4D5663\"},\"text\":\"\"},\"zerolinecolor\":\"#E1E5ED\"},\"xaxis15\":{\"anchor\":\"y15\",\"domain\":[0.525,0.7375],\"gridcolor\":\"#E1E5ED\",\"showgrid\":false,\"tickfont\":{\"color\":\"#4D5663\"},\"title\":{\"font\":{\"color\":\"#4D5663\"},\"text\":\"\"},\"zerolinecolor\":\"#E1E5ED\"},\"yaxis15\":{\"anchor\":\"x15\",\"domain\":[0.0,0.1975],\"gridcolor\":\"#E1E5ED\",\"showgrid\":false,\"tickfont\":{\"color\":\"#4D5663\"},\"title\":{\"font\":{\"color\":\"#4D5663\"},\"text\":\"\"},\"zerolinecolor\":\"#E1E5ED\"},\"xaxis16\":{\"anchor\":\"y16\",\"domain\":[0.7875,1.0],\"gridcolor\":\"#E1E5ED\",\"showgrid\":false,\"tickfont\":{\"color\":\"#4D5663\"},\"title\":{\"font\":{\"color\":\"#4D5663\"},\"text\":\"\"},\"zerolinecolor\":\"#E1E5ED\"},\"yaxis16\":{\"anchor\":\"x16\",\"domain\":[0.0,0.1975],\"gridcolor\":\"#E1E5ED\",\"showgrid\":false,\"tickfont\":{\"color\":\"#4D5663\"},\"title\":{\"font\":{\"color\":\"#4D5663\"},\"text\":\"\"},\"zerolinecolor\":\"#E1E5ED\"}},                        {\"showLink\": true, \"linkText\": \"Export to plot.ly\", \"plotlyServerURL\": \"https://plot.ly\", \"responsive\": true}                    ).then(function(){\n",
       "                            \n",
       "var gd = document.getElementById('679d8f2c-1e89-42c0-8d40-72d672049468');\n",
       "var x = new MutationObserver(function (mutations, observer) {{\n",
       "        var display = window.getComputedStyle(gd).display;\n",
       "        if (!display || display === 'none') {{\n",
       "            console.log([gd, 'removed!']);\n",
       "            Plotly.purge(gd);\n",
       "            observer.disconnect();\n",
       "        }}\n",
       "}});\n",
       "\n",
       "// Listen for the removal of the full notebook cells\n",
       "var notebookContainer = gd.closest('#notebook-container');\n",
       "if (notebookContainer) {{\n",
       "    x.observe(notebookContainer, {childList: true});\n",
       "}}\n",
       "\n",
       "// Listen for the clearing of the current output cell\n",
       "var outputEl = gd.closest('.output');\n",
       "if (outputEl) {{\n",
       "    x.observe(outputEl, {childList: true});\n",
       "}}\n",
       "\n",
       "                        })                };                });            </script>        </div>"
      ]
     },
     "metadata": {},
     "output_type": "display_data"
    }
   ],
   "source": [
    "df.scatter_matrix()"
   ]
  },
  {
   "cell_type": "markdown",
   "metadata": {
    "collapsed": true
   },
   "source": [
    "# Great Job!"
   ]
  }
 ],
 "metadata": {
  "kernelspec": {
   "display_name": "Python 3 (ipykernel)",
   "language": "python",
   "name": "python3"
  },
  "language_info": {
   "codemirror_mode": {
    "name": "ipython",
    "version": 3
   },
   "file_extension": ".py",
   "mimetype": "text/x-python",
   "name": "python",
   "nbconvert_exporter": "python",
   "pygments_lexer": "ipython3",
   "version": "3.8.8"
  }
 },
 "nbformat": 4,
 "nbformat_minor": 1
}
